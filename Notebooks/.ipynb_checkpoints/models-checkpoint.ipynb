{
 "cells": [
  {
   "cell_type": "markdown",
   "metadata": {
    "id": "qZMicFVemSTr"
   },
   "source": [
    "# Introdução.\n",
    "\n",
    "* A Rossmann opera mais de 3.000 drogarias em 7 países europeus. Atualmente, os gerentes de loja da Rossmann têm a tarefa de prever suas vendas diárias com até seis semanas de antecedência. As vendas da loja são influenciadas por muitos fatores, incluindo promoções, competição, feriados escolares e estaduais, sazonalidade e localidade. Com milhares de gerentes individuais prevendo vendas com base em suas circunstâncias únicas, a precisão dos resultados pode ser bastante variada."
   ]
  },
  {
   "cell_type": "markdown",
   "metadata": {
    "id": "-6PeQjj_71UH"
   },
   "source": [
    "# Descrição do projeto\n",
    " \n",
    "  * Após a exclusão e modificação de algumas variáveis, foi visto que o desempenho do modelo padrão de machine learning passou de um MAPE de 5.86092 Std: 0.96943 Erro: 0.43354  para um de 5.79653 Std: 0.93450 Erro: 0.41792. E o número de variáveis foi de 32 para 20.\n",
    "\n",
    "* Logo, nessa parte deste trabalho será visto o turing dos parâmetros de diversos modelos de machine learning.\n",
    " \n",
    "* A estratégia utilizada para realizar o que foi proposto, segue os seguintes passos:\n",
    " * Separação dos dados em Teste e Validação. \n",
    "   * Validação: 2013/01/01 - 2015/06/18.\n",
    "   * Teste: 2015/06/19 - 2015/07/31.\n",
    "   * A Validação será feita para tunar os modelos de machine learning e ela será feita método prequential Expanding.\n",
    "* Os modelos serão avaliados nas seguintes métricas:\n",
    "   * MAPE - Erro médio Absoluto Percentual.\n",
    "   * RMSLE - Raiz do erro médio quadrático considerando o log.\n",
    "   * RMSE - Raiz do erro médio quadrático.\n",
    " * Modelos utilizados:\n",
    "   * Random Forest.\n",
    "   * LGBM.\n",
    "   * XGBM\n",
    " \n",
    " \n",
    "--- \n",
    "   * **Os dados de teste serão utilizados para simular o ambiente real no qual o modelo de machine learning será aplicado. (Parte final para decidir qual o melhor modelo)**\n",
    "--- \n",
    " \n",
    " "
   ]
  },
  {
   "cell_type": "markdown",
   "metadata": {
    "id": "3BOYHf-57muv"
   },
   "source": [
    "# Descrição dos dados."
   ]
  },
  {
   "cell_type": "markdown",
   "metadata": {
    "id": "liFd78zRmSVo"
   },
   "source": [
    "* Os dados foram obtidos do kaggle: \n",
    "  * https://www.kaggle.com/c/rossmann-store-sales\n",
    "\n",
    "\n",
    "* Descrição dos arquivos utilizados :\n",
    " \n",
    " * **train.csv** - historical data including Sales\n",
    " * **test.csv** - historical data excluding Sales\n",
    " * **store.csv** - supplemental information about the stores\n",
    " \n",
    "* **Os dados utilizados veio do tratamento feito nos arquivos train,test,store**. \n",
    "\n",
    "* Legenda:\n",
    "  * **[T]** - Dados veio do arquivo Train.\n",
    "  * **[S]** - Dados veio do arquivo do Store.\n",
    "  * **[C]** - Criado pelo notebook Tratamento dos dados.\n",
    "  * **[D]** - Criado pelo notebook Descrição dos dados.\n",
    "  * **[M]** - Criado pelo notebook Modification dataset\n",
    "  * **[CD]** - Criado pelo notebook Codification dataset  \n",
    "\n",
    "* Descrição dos dados.\n",
    " \n",
    " * **day_of_week [T]** - Day of week. \n",
    " * **date [T]** - days the data was acquired. \n",
    " * **store [T]** - a unique Id for each store \n",
    " * **sales [T]** - the turnover for any given day (this is what you are predicting)  \n",
    " * **customers [T]** - the number of customers on a given day\n",
    " * **store_type_a [M]** - store models a. \n",
    " * **store_type_b [M]** - store models b. \n",
    " * **store_type_c [M]** - store models c.  \n",
    " * **competition_distance [S]** - distance in meters to the nearest competitor store.\n",
    " * **competition_open_since_year [S]** - gives the approximate year of the time the nearest competitor was opened.\n",
    " * **Promo [T]** - indicates whether a store is running a promo on that day\n",
    " * **Promo2 [S]** - Promo2 is a continuing and consecutive promotion for some stores: 0 = store is not participating, 1 = store is participating.\n",
    " * **promo2_since_year [S]** - describes the year  when the store started participating in Promo2.\n",
    " * **year [C]** - year the data died. \n",
    " * **week_year [C]**  - calendar week  the data died.\n",
    " * **without_competition [C]** - Store has competition. \n",
    " * **promo_time_week [C]** - Time the store works without the promotion.\n",
    " * **Total_dias [CD]** - Vccumulated days.\n",
    " * **day_cos [CD]** - Day variable transformed into cosine sign.\n",
    " * **holiday [CD]** - The day is a holiday or not. Where 1 is a holiday and 0 is a day that is not.\n",
    " * **assortment [CD]** - Describe assortment level the store. 1 - > Extended, 2 ->  Estra, 3 -> basic.\n"
   ]
  },
  {
   "cell_type": "markdown",
   "metadata": {
    "id": "3-mJLYYIZFI1"
   },
   "source": [
    "# Importando bibliotecas."
   ]
  },
  {
   "cell_type": "code",
   "execution_count": 1,
   "metadata": {
    "colab": {
     "base_uri": "https://localhost:8080/"
    },
    "executionInfo": {
     "elapsed": 382,
     "status": "ok",
     "timestamp": 1648049379965,
     "user": {
      "displayName": "Antonio Junior",
      "photoUrl": "https://lh3.googleusercontent.com/a/default-user=s64",
      "userId": "09175545212585676126"
     },
     "user_tz": 180
    },
    "id": "bRYObRy9ohH1",
    "outputId": "ab795314-f462-40c9-beb5-eda5f64a9187"
   },
   "outputs": [
    {
     "name": "stdout",
     "output_type": "stream",
     "text": [
      "/usr/bin/sh: 1: Syntax error: EOF in backquote substitution\r\n"
     ]
    }
   ],
   "source": [
    "!pip install git+git://github.com/Hvass-Labs/scikit-optimize.git@dd7433da068b5a2509ef4ea4e5195458393e6555`"
   ]
  },
  {
   "cell_type": "code",
   "execution_count": 2,
   "metadata": {
    "colab": {
     "base_uri": "https://localhost:8080/"
    },
    "executionInfo": {
     "elapsed": 6721,
     "status": "ok",
     "timestamp": 1648049386682,
     "user": {
      "displayName": "Antonio Junior",
      "photoUrl": "https://lh3.googleusercontent.com/a/default-user=s64",
      "userId": "09175545212585676126"
     },
     "user_tz": 180
    },
    "id": "GFu91lZMBUA9",
    "outputId": "620a3bb5-b1fe-417c-aad0-dad0a6784a76"
   },
   "outputs": [
    {
     "name": "stdout",
     "output_type": "stream",
     "text": [
      "Collecting scikit-optimize\n",
      "  Downloading scikit_optimize-0.9.0-py2.py3-none-any.whl (100 kB)\n",
      "\u001b[K     |████████████████████████████████| 100 kB 681 kB/s ta 0:00:01\n",
      "\u001b[?25hRequirement already satisfied: scipy>=0.19.1 in /home/antoniojunior/anaconda3/lib/python3.7/site-packages (from scikit-optimize) (1.4.1)\n",
      "Requirement already satisfied: numpy>=1.13.3 in /home/antoniojunior/anaconda3/lib/python3.7/site-packages (from scikit-optimize) (1.18.1)\n",
      "Requirement already satisfied: scikit-learn>=0.20.0 in /home/antoniojunior/anaconda3/lib/python3.7/site-packages (from scikit-optimize) (1.0.2)\n",
      "Collecting pyaml>=16.9\n",
      "  Downloading pyaml-21.10.1-py2.py3-none-any.whl (24 kB)\n",
      "Requirement already satisfied: joblib>=0.11 in /home/antoniojunior/anaconda3/lib/python3.7/site-packages (from scikit-optimize) (0.14.1)\n",
      "Requirement already satisfied: threadpoolctl>=2.0.0 in /home/antoniojunior/anaconda3/lib/python3.7/site-packages (from scikit-learn>=0.20.0->scikit-optimize) (3.1.0)\n",
      "Requirement already satisfied: PyYAML in /home/antoniojunior/anaconda3/lib/python3.7/site-packages (from pyaml>=16.9->scikit-optimize) (5.3)\n",
      "Installing collected packages: pyaml, scikit-optimize\n",
      "Successfully installed pyaml-21.10.1 scikit-optimize-0.9.0\n"
     ]
    }
   ],
   "source": [
    "!pip install scikit-optimize"
   ]
  },
  {
   "cell_type": "markdown",
   "metadata": {
    "id": "88tAI0gMp5jS"
   },
   "source": [
    "# Funções"
   ]
  },
  {
   "cell_type": "code",
   "execution_count": null,
   "metadata": {
    "id": "r6jPx_NDp8bB"
   },
   "outputs": [],
   "source": [
    "def MAPE(y_pred,Y_teste):\n",
    "  return np.mean(100*np.abs(y_pred - Y_teste)/np.abs(Y_teste))\n",
    "\n",
    "def label_encoder(d,col):\n",
    "  enc      = LabelEncoder()\n",
    "  enc      = enc.fit(d[col])\n",
    "  inteiros = enc.fit_transform(d[col])\n",
    "  d[col]   = inteiros\n",
    "  return d\n",
    "\n",
    "def dummies_var(dados,coluna):\n",
    "  df_aux = dados\n",
    "  df_aux = df_aux.join(pd.get_dummies(df_aux[coluna], prefix=coluna))\n",
    "  df_aux = df_aux.drop(columns=coluna)\n",
    "  return df_aux\n",
    "\n",
    "\n",
    "def validation(X,Y,coluna,flag,Date,model):\n",
    "  vetor_MAPE = np.zeros(5) \n",
    "  vetor_MSLR = np.zeros(5)\n",
    "  vetor_RMSE = np.zeros(5)\n",
    "  Y_pred = []\n",
    "  Y_val  = []\n",
    "  for i in range(5):\n",
    "    # Dados de treinamento\n",
    " \n",
    "    X_t = X[X['Total_dias']  < 689 + 6*7*i]\n",
    "    y_t = Y[coluna][Y['Total_dias']  < 689 + 6*7*i]\n",
    "    X_t = X_t.drop(columns = ['Total_dias'])\n",
    "    \n",
    "    # Dados de validação\n",
    "    X_v = X[(X['Total_dias'] >= 689 + 6*7*i) & (X['Total_dias'] <= 689 + 6*7*(i+1))]\n",
    "    y_v = Y[coluna][(Y['Total_dias'] >= 689 + 6*7*i) & (Y['Total_dias'] <= 689 + 6*7*(i+1))]\n",
    "    X_v = X_v.drop(columns = ['Total_dias'])\n",
    "    \n",
    "    md        = model.fit(X_t, y_t)\n",
    "    y_pred    = md.predict(X_v)\n",
    "    \n",
    "    if flag == 'log':\n",
    "      y_pred = np.round(10**y_pred - 1)  # eliminar o ruído provocado pelo computados atravez dou round\n",
    "      y_v    = np.round(10**y_v - 1)\n",
    "    if flag == 'sqrt':\n",
    "      y_pred = np.round(y_pred**2)\n",
    "      y_v    = np.round(y_v**2)\n",
    "    if flag == 'normal':\n",
    "      y_pred = y_pred\n",
    "      y_v    = y_v\n",
    "    \n",
    "  \n",
    "    \n",
    "    mape = MAPE(y_v,y_pred)\n",
    "    mslr = mean_squared_log_error(y_v,y_pred)\n",
    "    rmse = mean_squared_error(y_v,y_pred,squared =False)\n",
    "    \n",
    "  \n",
    "  return np.mean(mape)\n",
    "\n",
    "\n",
    "def validation(X,Y,coluna,flag,Date):\n",
    "  vetor_MAPE = np.zeros(5) \n",
    "  vetor_MSLR = np.zeros(5)\n",
    "  vetor_RMSE = np.zeros(5)\n",
    "  Y_pred = []\n",
    "  Y_val  = []\n",
    "  for i in range(5):\n",
    "    # Dados de treinamento\n",
    "    print('Data do inicio do treinamento:', Date[X['Total_dias'] < 731 + 6*7*i].dt.date.values[0],\n",
    "          'Data do final do treinamento :',Date[X['Total_dias'] < 731 + 6*7*i].dt.date.values[-1])\n",
    "  \n",
    "    \n",
    "    X_t = X[X['Total_dias']  < 731 + 6*7*i]\n",
    "    y_t = Y[coluna][Y['Total_dias']  < 731 + 6*7*i]\n",
    "    X_t = X_t.drop(columns = ['Total_dias'])\n",
    "    \n",
    "    # Dados de validação\n",
    "    print('Data do inicio do Validação  :', Date[(X['Total_dias'] >= 731 + 6*7*i) & (X['Total_dias'] <= 731 + 6*7*(i+1))].dt.date.values[0],\n",
    "          'Data do final do Validação   :',Date[(X['Total_dias'] >= 731 + 6*7*i) & (X['Total_dias'] <= 731 + 6*7*(i+1))].dt.date.values[-1])\n",
    "\n",
    "    X_v = X[(X['Total_dias'] >= 731 + 6*7*i) & (X['Total_dias'] <= 731 + 6*7*(i+1))]\n",
    "    y_v = Y[coluna][(Y['Total_dias'] >= 731 + 6*7*i) & (Y['Total_dias'] <= 731 + 6*7*(i+1))]\n",
    "    X_v = X_v.drop(columns = ['Total_dias'])\n",
    "    \n",
    "    md        = model.fit(X_t, y_t)\n",
    "    y_pred    = md.predict(X_v)\n",
    "    \n",
    "    if flag == 'log':\n",
    "      y_pred = np.round(10**y_pred - 1)  # eliminar o ruído provocado pelo computados atravez dou round\n",
    "      y_v    = np.round(10**y_v - 1)\n",
    "    if flag == 'sqrt':\n",
    "      y_pred = np.round(y_pred**2)\n",
    "      y_v    = np.round(y_v**2)\n",
    "    if flag == 'normal':\n",
    "      y_pred = y_pred\n",
    "      y_v    = y_v\n",
    "    \n",
    "  \n",
    "    \n",
    "    mape = MAPE(y_v,y_pred)\n",
    "    mslr = mean_squared_log_error(y_v,y_pred)\n",
    "    rmse = mean_squared_error(y_v,y_pred,squared =False)\n",
    "    vetor_MAPE[i] = mape\n",
    "    vetor_MSLR[i] = mslr\n",
    "    vetor_RMSE[i] = rmse\n",
    "  \n",
    "\n",
    "  return \n",
    "\n",
    "\n",
    "def Tuning_RF(params):\n",
    "  max_depth = params[0]\n",
    "  n_estimators = params[1]  \n",
    "  model = RandomForestRegressor(n_estimators = n_estimators,max_depth=max_depth,random_state = 10) # modelo padrão\n",
    "  mape = validation(X,Y,'sales','normal',Date,model)\n",
    "  return mape\n",
    "\n",
    "\n",
    "def Tuning_LGBM(params):\n",
    "  lr = params[0]\n",
    "  max_depth = params[1]\n",
    "  n_estimators = params[2]\n",
    "\n",
    "  print('lr:',params[0])\n",
    "  print('max_depth:',params[1])\n",
    "  print('n_estimators:',params[2])\n",
    "  \n",
    "  model = LGBMRegressor(learning_rate=lr, num_leaves=2 ** max_depth, max_depth=max_depth, \n",
    "                         n_estimators=n_estimators, random_state=40, \n",
    "                         n_jobs=6)\n",
    "\n",
    "  mape = validation(X,Y,'sales','normal',Date,model)\n",
    "  return mape\n",
    "\n",
    "\n",
    "\n",
    "\n",
    "def Tuning_XGBR(params):\n",
    "  lr = params[0]\n",
    "  max_depth = params[1]\n",
    "  n_estimators = 100\n",
    "  colsample_bytree = params[2]\n",
    "\n",
    "\n",
    "\n",
    "  print('lr:',params[0])\n",
    "  print('max_depth:',params[1])\n",
    "  print('colsample_bytree:',params[2])\n",
    "  \n",
    "  model = XBGB.XGBRegressor(objective='reg:squarederror',colsample_bytree = colsample_bytree, learning_rate = lr,\n",
    "                       max_depth = max_depth, n_estimators = n_estimators,random_state=40)\n",
    "  mape = validation(X,Y,'sales','normal',Date,model)\n",
    "  return mape"
   ]
  },
  {
   "cell_type": "markdown",
   "metadata": {
    "id": "a823mMjFp17R"
   },
   "source": [
    "# Biblioteca"
   ]
  },
  {
   "cell_type": "code",
   "execution_count": null,
   "metadata": {
    "colab": {
     "base_uri": "https://localhost:8080/"
    },
    "executionInfo": {
     "elapsed": 28638,
     "status": "ok",
     "timestamp": 1648049416498,
     "user": {
      "displayName": "Antonio Junior",
      "photoUrl": "https://lh3.googleusercontent.com/a/default-user=s64",
      "userId": "09175545212585676126"
     },
     "user_tz": 180
    },
    "id": "9EyI47h3mJyD",
    "outputId": "5c6a79c1-0f4d-4c67-e714-352e939bef7f"
   },
   "outputs": [
    {
     "name": "stdout",
     "output_type": "stream",
     "text": [
      "Mounted at /content/drive\n"
     ]
    },
    {
     "name": "stderr",
     "output_type": "stream",
     "text": [
      "/usr/local/lib/python3.7/dist-packages/statsmodels/tools/_testing.py:19: FutureWarning: pandas.util.testing is deprecated. Use the functions in the public API at pandas.testing instead.\n",
      "  import pandas.util.testing as tm\n"
     ]
    }
   ],
   "source": [
    "import pandas as pd\n",
    "from google.colab import drive\n",
    "drive.mount('/content/drive')\n",
    "import numpy as np\n",
    "import matplotlib.pyplot as plt\n",
    "import seaborn as sns\n",
    "sns.set_style(\"whitegrid\")\n",
    "import statsmodels.api as sm\n",
    "from sklearn.preprocessing import LabelEncoder\n",
    "from sklearn.ensemble import RandomForestRegressor\n",
    "from sklearn.metrics import mean_squared_log_error,mean_squared_error\n",
    "import skopt\n",
    "from skopt import gp_minimize, forest_minimize\n",
    "from lightgbm import LGBMRegressor\n",
    "from sklearn.preprocessing import LabelEncoder\n",
    "import xgboost as XBGB\n"
   ]
  },
  {
   "cell_type": "markdown",
   "metadata": {
    "id": "UE20E-wpqDU2"
   },
   "source": [
    "# Importando os dados."
   ]
  },
  {
   "cell_type": "code",
   "execution_count": null,
   "metadata": {
    "id": "8_UsiKO4qCPp"
   },
   "outputs": [],
   "source": [
    "df = pd.read_csv('/content/drive/My Drive/dados/time series/dados_novos3.csv')"
   ]
  },
  {
   "cell_type": "code",
   "execution_count": null,
   "metadata": {
    "colab": {
     "base_uri": "https://localhost:8080/",
     "height": 404
    },
    "executionInfo": {
     "elapsed": 20,
     "status": "ok",
     "timestamp": 1648049421089,
     "user": {
      "displayName": "Antonio Junior",
      "photoUrl": "https://lh3.googleusercontent.com/a/default-user=s64",
      "userId": "09175545212585676126"
     },
     "user_tz": 180
    },
    "id": "KWxKSgeTTmaO",
    "outputId": "73ea982a-0ac4-4136-9498-e759acfdf4f5"
   },
   "outputs": [
    {
     "data": {
      "text/html": [
       "\n",
       "  <div id=\"df-72358712-d988-480b-8694-e7f856bb492a\">\n",
       "    <div class=\"colab-df-container\">\n",
       "      <div>\n",
       "<style scoped>\n",
       "    .dataframe tbody tr th:only-of-type {\n",
       "        vertical-align: middle;\n",
       "    }\n",
       "\n",
       "    .dataframe tbody tr th {\n",
       "        vertical-align: top;\n",
       "    }\n",
       "\n",
       "    .dataframe thead th {\n",
       "        text-align: right;\n",
       "    }\n",
       "</style>\n",
       "<table border=\"1\" class=\"dataframe\">\n",
       "  <thead>\n",
       "    <tr style=\"text-align: right;\">\n",
       "      <th></th>\n",
       "      <th>Unnamed: 0</th>\n",
       "      <th>store</th>\n",
       "      <th>day_of_week</th>\n",
       "      <th>date</th>\n",
       "      <th>sales</th>\n",
       "      <th>customers</th>\n",
       "      <th>promo</th>\n",
       "      <th>competition_distance</th>\n",
       "      <th>competition_open_since_year</th>\n",
       "      <th>promo2</th>\n",
       "      <th>...</th>\n",
       "      <th>year</th>\n",
       "      <th>week_year</th>\n",
       "      <th>promo_time_week</th>\n",
       "      <th>Total_dias</th>\n",
       "      <th>store_type_a</th>\n",
       "      <th>store_type_b</th>\n",
       "      <th>store_type_c</th>\n",
       "      <th>day_cos</th>\n",
       "      <th>holiday</th>\n",
       "      <th>assortment</th>\n",
       "    </tr>\n",
       "  </thead>\n",
       "  <tbody>\n",
       "    <tr>\n",
       "      <th>0</th>\n",
       "      <td>0</td>\n",
       "      <td>1115</td>\n",
       "      <td>4</td>\n",
       "      <td>2013-01-03</td>\n",
       "      <td>4297</td>\n",
       "      <td>300</td>\n",
       "      <td>0</td>\n",
       "      <td>5350.0</td>\n",
       "      <td>2013</td>\n",
       "      <td>1</td>\n",
       "      <td>...</td>\n",
       "      <td>2013</td>\n",
       "      <td>1</td>\n",
       "      <td>32</td>\n",
       "      <td>3.0</td>\n",
       "      <td>0</td>\n",
       "      <td>0</td>\n",
       "      <td>0</td>\n",
       "      <td>0.809017</td>\n",
       "      <td>0.0</td>\n",
       "      <td>1.0</td>\n",
       "    </tr>\n",
       "    <tr>\n",
       "      <th>1</th>\n",
       "      <td>1</td>\n",
       "      <td>1114</td>\n",
       "      <td>4</td>\n",
       "      <td>2013-01-03</td>\n",
       "      <td>18463</td>\n",
       "      <td>3211</td>\n",
       "      <td>0</td>\n",
       "      <td>870.0</td>\n",
       "      <td>2013</td>\n",
       "      <td>0</td>\n",
       "      <td>...</td>\n",
       "      <td>2013</td>\n",
       "      <td>1</td>\n",
       "      <td>0</td>\n",
       "      <td>3.0</td>\n",
       "      <td>1</td>\n",
       "      <td>0</td>\n",
       "      <td>0</td>\n",
       "      <td>0.809017</td>\n",
       "      <td>0.0</td>\n",
       "      <td>1.0</td>\n",
       "    </tr>\n",
       "    <tr>\n",
       "      <th>2</th>\n",
       "      <td>2</td>\n",
       "      <td>1113</td>\n",
       "      <td>4</td>\n",
       "      <td>2013-01-03</td>\n",
       "      <td>5563</td>\n",
       "      <td>718</td>\n",
       "      <td>0</td>\n",
       "      <td>9260.0</td>\n",
       "      <td>2013</td>\n",
       "      <td>0</td>\n",
       "      <td>...</td>\n",
       "      <td>2013</td>\n",
       "      <td>1</td>\n",
       "      <td>0</td>\n",
       "      <td>3.0</td>\n",
       "      <td>1</td>\n",
       "      <td>0</td>\n",
       "      <td>0</td>\n",
       "      <td>0.809017</td>\n",
       "      <td>0.0</td>\n",
       "      <td>1.0</td>\n",
       "    </tr>\n",
       "    <tr>\n",
       "      <th>3</th>\n",
       "      <td>3</td>\n",
       "      <td>1112</td>\n",
       "      <td>4</td>\n",
       "      <td>2013-01-03</td>\n",
       "      <td>8716</td>\n",
       "      <td>809</td>\n",
       "      <td>0</td>\n",
       "      <td>1880.0</td>\n",
       "      <td>2006</td>\n",
       "      <td>0</td>\n",
       "      <td>...</td>\n",
       "      <td>2013</td>\n",
       "      <td>1</td>\n",
       "      <td>0</td>\n",
       "      <td>3.0</td>\n",
       "      <td>0</td>\n",
       "      <td>0</td>\n",
       "      <td>1</td>\n",
       "      <td>0.809017</td>\n",
       "      <td>0.0</td>\n",
       "      <td>1.0</td>\n",
       "    </tr>\n",
       "    <tr>\n",
       "      <th>4</th>\n",
       "      <td>4</td>\n",
       "      <td>1111</td>\n",
       "      <td>4</td>\n",
       "      <td>2013-01-03</td>\n",
       "      <td>4579</td>\n",
       "      <td>444</td>\n",
       "      <td>0</td>\n",
       "      <td>1900.0</td>\n",
       "      <td>2014</td>\n",
       "      <td>1</td>\n",
       "      <td>...</td>\n",
       "      <td>2013</td>\n",
       "      <td>1</td>\n",
       "      <td>-30</td>\n",
       "      <td>3.0</td>\n",
       "      <td>1</td>\n",
       "      <td>0</td>\n",
       "      <td>0</td>\n",
       "      <td>0.809017</td>\n",
       "      <td>0.0</td>\n",
       "      <td>0.0</td>\n",
       "    </tr>\n",
       "  </tbody>\n",
       "</table>\n",
       "<p>5 rows × 22 columns</p>\n",
       "</div>\n",
       "      <button class=\"colab-df-convert\" onclick=\"convertToInteractive('df-72358712-d988-480b-8694-e7f856bb492a')\"\n",
       "              title=\"Convert this dataframe to an interactive table.\"\n",
       "              style=\"display:none;\">\n",
       "        \n",
       "  <svg xmlns=\"http://www.w3.org/2000/svg\" height=\"24px\"viewBox=\"0 0 24 24\"\n",
       "       width=\"24px\">\n",
       "    <path d=\"M0 0h24v24H0V0z\" fill=\"none\"/>\n",
       "    <path d=\"M18.56 5.44l.94 2.06.94-2.06 2.06-.94-2.06-.94-.94-2.06-.94 2.06-2.06.94zm-11 1L8.5 8.5l.94-2.06 2.06-.94-2.06-.94L8.5 2.5l-.94 2.06-2.06.94zm10 10l.94 2.06.94-2.06 2.06-.94-2.06-.94-.94-2.06-.94 2.06-2.06.94z\"/><path d=\"M17.41 7.96l-1.37-1.37c-.4-.4-.92-.59-1.43-.59-.52 0-1.04.2-1.43.59L10.3 9.45l-7.72 7.72c-.78.78-.78 2.05 0 2.83L4 21.41c.39.39.9.59 1.41.59.51 0 1.02-.2 1.41-.59l7.78-7.78 2.81-2.81c.8-.78.8-2.07 0-2.86zM5.41 20L4 18.59l7.72-7.72 1.47 1.35L5.41 20z\"/>\n",
       "  </svg>\n",
       "      </button>\n",
       "      \n",
       "  <style>\n",
       "    .colab-df-container {\n",
       "      display:flex;\n",
       "      flex-wrap:wrap;\n",
       "      gap: 12px;\n",
       "    }\n",
       "\n",
       "    .colab-df-convert {\n",
       "      background-color: #E8F0FE;\n",
       "      border: none;\n",
       "      border-radius: 50%;\n",
       "      cursor: pointer;\n",
       "      display: none;\n",
       "      fill: #1967D2;\n",
       "      height: 32px;\n",
       "      padding: 0 0 0 0;\n",
       "      width: 32px;\n",
       "    }\n",
       "\n",
       "    .colab-df-convert:hover {\n",
       "      background-color: #E2EBFA;\n",
       "      box-shadow: 0px 1px 2px rgba(60, 64, 67, 0.3), 0px 1px 3px 1px rgba(60, 64, 67, 0.15);\n",
       "      fill: #174EA6;\n",
       "    }\n",
       "\n",
       "    [theme=dark] .colab-df-convert {\n",
       "      background-color: #3B4455;\n",
       "      fill: #D2E3FC;\n",
       "    }\n",
       "\n",
       "    [theme=dark] .colab-df-convert:hover {\n",
       "      background-color: #434B5C;\n",
       "      box-shadow: 0px 1px 3px 1px rgba(0, 0, 0, 0.15);\n",
       "      filter: drop-shadow(0px 1px 2px rgba(0, 0, 0, 0.3));\n",
       "      fill: #FFFFFF;\n",
       "    }\n",
       "  </style>\n",
       "\n",
       "      <script>\n",
       "        const buttonEl =\n",
       "          document.querySelector('#df-72358712-d988-480b-8694-e7f856bb492a button.colab-df-convert');\n",
       "        buttonEl.style.display =\n",
       "          google.colab.kernel.accessAllowed ? 'block' : 'none';\n",
       "\n",
       "        async function convertToInteractive(key) {\n",
       "          const element = document.querySelector('#df-72358712-d988-480b-8694-e7f856bb492a');\n",
       "          const dataTable =\n",
       "            await google.colab.kernel.invokeFunction('convertToInteractive',\n",
       "                                                     [key], {});\n",
       "          if (!dataTable) return;\n",
       "\n",
       "          const docLinkHtml = 'Like what you see? Visit the ' +\n",
       "            '<a target=\"_blank\" href=https://colab.research.google.com/notebooks/data_table.ipynb>data table notebook</a>'\n",
       "            + ' to learn more about interactive tables.';\n",
       "          element.innerHTML = '';\n",
       "          dataTable['output_type'] = 'display_data';\n",
       "          await google.colab.output.renderOutput(dataTable, element);\n",
       "          const docLink = document.createElement('div');\n",
       "          docLink.innerHTML = docLinkHtml;\n",
       "          element.appendChild(docLink);\n",
       "        }\n",
       "      </script>\n",
       "    </div>\n",
       "  </div>\n",
       "  "
      ],
      "text/plain": [
       "   Unnamed: 0  store  day_of_week        date  sales  customers  promo  \\\n",
       "0           0   1115            4  2013-01-03   4297        300      0   \n",
       "1           1   1114            4  2013-01-03  18463       3211      0   \n",
       "2           2   1113            4  2013-01-03   5563        718      0   \n",
       "3           3   1112            4  2013-01-03   8716        809      0   \n",
       "4           4   1111            4  2013-01-03   4579        444      0   \n",
       "\n",
       "   competition_distance  competition_open_since_year  promo2  ...  year  \\\n",
       "0                5350.0                         2013       1  ...  2013   \n",
       "1                 870.0                         2013       0  ...  2013   \n",
       "2                9260.0                         2013       0  ...  2013   \n",
       "3                1880.0                         2006       0  ...  2013   \n",
       "4                1900.0                         2014       1  ...  2013   \n",
       "\n",
       "   week_year  promo_time_week  Total_dias  store_type_a  store_type_b  \\\n",
       "0          1               32         3.0             0             0   \n",
       "1          1                0         3.0             1             0   \n",
       "2          1                0         3.0             1             0   \n",
       "3          1                0         3.0             0             0   \n",
       "4          1              -30         3.0             1             0   \n",
       "\n",
       "   store_type_c   day_cos  holiday  assortment  \n",
       "0             0  0.809017      0.0         1.0  \n",
       "1             0  0.809017      0.0         1.0  \n",
       "2             0  0.809017      0.0         1.0  \n",
       "3             1  0.809017      0.0         1.0  \n",
       "4             0  0.809017      0.0         0.0  \n",
       "\n",
       "[5 rows x 22 columns]"
      ]
     },
     "execution_count": 6,
     "metadata": {},
     "output_type": "execute_result"
    }
   ],
   "source": [
    "df.head() # vendo os dados"
   ]
  },
  {
   "cell_type": "code",
   "execution_count": null,
   "metadata": {
    "id": "AVu4WZfRq4BH"
   },
   "outputs": [],
   "source": [
    "df = df.drop(columns = ['Unnamed: 0'])"
   ]
  },
  {
   "cell_type": "code",
   "execution_count": null,
   "metadata": {
    "colab": {
     "base_uri": "https://localhost:8080/",
     "height": 386
    },
    "executionInfo": {
     "elapsed": 19,
     "status": "ok",
     "timestamp": 1648049421092,
     "user": {
      "displayName": "Antonio Junior",
      "photoUrl": "https://lh3.googleusercontent.com/a/default-user=s64",
      "userId": "09175545212585676126"
     },
     "user_tz": 180
    },
    "id": "Ie9KTJgwq81Q",
    "outputId": "5e86f868-7198-4af1-b8fe-0c746a16d506"
   },
   "outputs": [
    {
     "data": {
      "text/html": [
       "\n",
       "  <div id=\"df-2fe63193-02f8-453f-91e9-aca7ff3329ad\">\n",
       "    <div class=\"colab-df-container\">\n",
       "      <div>\n",
       "<style scoped>\n",
       "    .dataframe tbody tr th:only-of-type {\n",
       "        vertical-align: middle;\n",
       "    }\n",
       "\n",
       "    .dataframe tbody tr th {\n",
       "        vertical-align: top;\n",
       "    }\n",
       "\n",
       "    .dataframe thead th {\n",
       "        text-align: right;\n",
       "    }\n",
       "</style>\n",
       "<table border=\"1\" class=\"dataframe\">\n",
       "  <thead>\n",
       "    <tr style=\"text-align: right;\">\n",
       "      <th></th>\n",
       "      <th>store</th>\n",
       "      <th>day_of_week</th>\n",
       "      <th>date</th>\n",
       "      <th>sales</th>\n",
       "      <th>customers</th>\n",
       "      <th>promo</th>\n",
       "      <th>competition_distance</th>\n",
       "      <th>competition_open_since_year</th>\n",
       "      <th>promo2</th>\n",
       "      <th>promo2_since_year</th>\n",
       "      <th>...</th>\n",
       "      <th>year</th>\n",
       "      <th>week_year</th>\n",
       "      <th>promo_time_week</th>\n",
       "      <th>Total_dias</th>\n",
       "      <th>store_type_a</th>\n",
       "      <th>store_type_b</th>\n",
       "      <th>store_type_c</th>\n",
       "      <th>day_cos</th>\n",
       "      <th>holiday</th>\n",
       "      <th>assortment</th>\n",
       "    </tr>\n",
       "  </thead>\n",
       "  <tbody>\n",
       "    <tr>\n",
       "      <th>0</th>\n",
       "      <td>1115</td>\n",
       "      <td>4</td>\n",
       "      <td>2013-01-03</td>\n",
       "      <td>4297</td>\n",
       "      <td>300</td>\n",
       "      <td>0</td>\n",
       "      <td>5350.0</td>\n",
       "      <td>2013</td>\n",
       "      <td>1</td>\n",
       "      <td>2012</td>\n",
       "      <td>...</td>\n",
       "      <td>2013</td>\n",
       "      <td>1</td>\n",
       "      <td>32</td>\n",
       "      <td>3.0</td>\n",
       "      <td>0</td>\n",
       "      <td>0</td>\n",
       "      <td>0</td>\n",
       "      <td>0.809017</td>\n",
       "      <td>0.0</td>\n",
       "      <td>1.0</td>\n",
       "    </tr>\n",
       "    <tr>\n",
       "      <th>1</th>\n",
       "      <td>1114</td>\n",
       "      <td>4</td>\n",
       "      <td>2013-01-03</td>\n",
       "      <td>18463</td>\n",
       "      <td>3211</td>\n",
       "      <td>0</td>\n",
       "      <td>870.0</td>\n",
       "      <td>2013</td>\n",
       "      <td>0</td>\n",
       "      <td>2013</td>\n",
       "      <td>...</td>\n",
       "      <td>2013</td>\n",
       "      <td>1</td>\n",
       "      <td>0</td>\n",
       "      <td>3.0</td>\n",
       "      <td>1</td>\n",
       "      <td>0</td>\n",
       "      <td>0</td>\n",
       "      <td>0.809017</td>\n",
       "      <td>0.0</td>\n",
       "      <td>1.0</td>\n",
       "    </tr>\n",
       "    <tr>\n",
       "      <th>2</th>\n",
       "      <td>1113</td>\n",
       "      <td>4</td>\n",
       "      <td>2013-01-03</td>\n",
       "      <td>5563</td>\n",
       "      <td>718</td>\n",
       "      <td>0</td>\n",
       "      <td>9260.0</td>\n",
       "      <td>2013</td>\n",
       "      <td>0</td>\n",
       "      <td>2013</td>\n",
       "      <td>...</td>\n",
       "      <td>2013</td>\n",
       "      <td>1</td>\n",
       "      <td>0</td>\n",
       "      <td>3.0</td>\n",
       "      <td>1</td>\n",
       "      <td>0</td>\n",
       "      <td>0</td>\n",
       "      <td>0.809017</td>\n",
       "      <td>0.0</td>\n",
       "      <td>1.0</td>\n",
       "    </tr>\n",
       "    <tr>\n",
       "      <th>3</th>\n",
       "      <td>1112</td>\n",
       "      <td>4</td>\n",
       "      <td>2013-01-03</td>\n",
       "      <td>8716</td>\n",
       "      <td>809</td>\n",
       "      <td>0</td>\n",
       "      <td>1880.0</td>\n",
       "      <td>2006</td>\n",
       "      <td>0</td>\n",
       "      <td>2013</td>\n",
       "      <td>...</td>\n",
       "      <td>2013</td>\n",
       "      <td>1</td>\n",
       "      <td>0</td>\n",
       "      <td>3.0</td>\n",
       "      <td>0</td>\n",
       "      <td>0</td>\n",
       "      <td>1</td>\n",
       "      <td>0.809017</td>\n",
       "      <td>0.0</td>\n",
       "      <td>1.0</td>\n",
       "    </tr>\n",
       "    <tr>\n",
       "      <th>4</th>\n",
       "      <td>1111</td>\n",
       "      <td>4</td>\n",
       "      <td>2013-01-03</td>\n",
       "      <td>4579</td>\n",
       "      <td>444</td>\n",
       "      <td>0</td>\n",
       "      <td>1900.0</td>\n",
       "      <td>2014</td>\n",
       "      <td>1</td>\n",
       "      <td>2013</td>\n",
       "      <td>...</td>\n",
       "      <td>2013</td>\n",
       "      <td>1</td>\n",
       "      <td>-30</td>\n",
       "      <td>3.0</td>\n",
       "      <td>1</td>\n",
       "      <td>0</td>\n",
       "      <td>0</td>\n",
       "      <td>0.809017</td>\n",
       "      <td>0.0</td>\n",
       "      <td>0.0</td>\n",
       "    </tr>\n",
       "  </tbody>\n",
       "</table>\n",
       "<p>5 rows × 21 columns</p>\n",
       "</div>\n",
       "      <button class=\"colab-df-convert\" onclick=\"convertToInteractive('df-2fe63193-02f8-453f-91e9-aca7ff3329ad')\"\n",
       "              title=\"Convert this dataframe to an interactive table.\"\n",
       "              style=\"display:none;\">\n",
       "        \n",
       "  <svg xmlns=\"http://www.w3.org/2000/svg\" height=\"24px\"viewBox=\"0 0 24 24\"\n",
       "       width=\"24px\">\n",
       "    <path d=\"M0 0h24v24H0V0z\" fill=\"none\"/>\n",
       "    <path d=\"M18.56 5.44l.94 2.06.94-2.06 2.06-.94-2.06-.94-.94-2.06-.94 2.06-2.06.94zm-11 1L8.5 8.5l.94-2.06 2.06-.94-2.06-.94L8.5 2.5l-.94 2.06-2.06.94zm10 10l.94 2.06.94-2.06 2.06-.94-2.06-.94-.94-2.06-.94 2.06-2.06.94z\"/><path d=\"M17.41 7.96l-1.37-1.37c-.4-.4-.92-.59-1.43-.59-.52 0-1.04.2-1.43.59L10.3 9.45l-7.72 7.72c-.78.78-.78 2.05 0 2.83L4 21.41c.39.39.9.59 1.41.59.51 0 1.02-.2 1.41-.59l7.78-7.78 2.81-2.81c.8-.78.8-2.07 0-2.86zM5.41 20L4 18.59l7.72-7.72 1.47 1.35L5.41 20z\"/>\n",
       "  </svg>\n",
       "      </button>\n",
       "      \n",
       "  <style>\n",
       "    .colab-df-container {\n",
       "      display:flex;\n",
       "      flex-wrap:wrap;\n",
       "      gap: 12px;\n",
       "    }\n",
       "\n",
       "    .colab-df-convert {\n",
       "      background-color: #E8F0FE;\n",
       "      border: none;\n",
       "      border-radius: 50%;\n",
       "      cursor: pointer;\n",
       "      display: none;\n",
       "      fill: #1967D2;\n",
       "      height: 32px;\n",
       "      padding: 0 0 0 0;\n",
       "      width: 32px;\n",
       "    }\n",
       "\n",
       "    .colab-df-convert:hover {\n",
       "      background-color: #E2EBFA;\n",
       "      box-shadow: 0px 1px 2px rgba(60, 64, 67, 0.3), 0px 1px 3px 1px rgba(60, 64, 67, 0.15);\n",
       "      fill: #174EA6;\n",
       "    }\n",
       "\n",
       "    [theme=dark] .colab-df-convert {\n",
       "      background-color: #3B4455;\n",
       "      fill: #D2E3FC;\n",
       "    }\n",
       "\n",
       "    [theme=dark] .colab-df-convert:hover {\n",
       "      background-color: #434B5C;\n",
       "      box-shadow: 0px 1px 3px 1px rgba(0, 0, 0, 0.15);\n",
       "      filter: drop-shadow(0px 1px 2px rgba(0, 0, 0, 0.3));\n",
       "      fill: #FFFFFF;\n",
       "    }\n",
       "  </style>\n",
       "\n",
       "      <script>\n",
       "        const buttonEl =\n",
       "          document.querySelector('#df-2fe63193-02f8-453f-91e9-aca7ff3329ad button.colab-df-convert');\n",
       "        buttonEl.style.display =\n",
       "          google.colab.kernel.accessAllowed ? 'block' : 'none';\n",
       "\n",
       "        async function convertToInteractive(key) {\n",
       "          const element = document.querySelector('#df-2fe63193-02f8-453f-91e9-aca7ff3329ad');\n",
       "          const dataTable =\n",
       "            await google.colab.kernel.invokeFunction('convertToInteractive',\n",
       "                                                     [key], {});\n",
       "          if (!dataTable) return;\n",
       "\n",
       "          const docLinkHtml = 'Like what you see? Visit the ' +\n",
       "            '<a target=\"_blank\" href=https://colab.research.google.com/notebooks/data_table.ipynb>data table notebook</a>'\n",
       "            + ' to learn more about interactive tables.';\n",
       "          element.innerHTML = '';\n",
       "          dataTable['output_type'] = 'display_data';\n",
       "          await google.colab.output.renderOutput(dataTable, element);\n",
       "          const docLink = document.createElement('div');\n",
       "          docLink.innerHTML = docLinkHtml;\n",
       "          element.appendChild(docLink);\n",
       "        }\n",
       "      </script>\n",
       "    </div>\n",
       "  </div>\n",
       "  "
      ],
      "text/plain": [
       "   store  day_of_week        date  sales  customers  promo  \\\n",
       "0   1115            4  2013-01-03   4297        300      0   \n",
       "1   1114            4  2013-01-03  18463       3211      0   \n",
       "2   1113            4  2013-01-03   5563        718      0   \n",
       "3   1112            4  2013-01-03   8716        809      0   \n",
       "4   1111            4  2013-01-03   4579        444      0   \n",
       "\n",
       "   competition_distance  competition_open_since_year  promo2  \\\n",
       "0                5350.0                         2013       1   \n",
       "1                 870.0                         2013       0   \n",
       "2                9260.0                         2013       0   \n",
       "3                1880.0                         2006       0   \n",
       "4                1900.0                         2014       1   \n",
       "\n",
       "   promo2_since_year  ...  year  week_year  promo_time_week  Total_dias  \\\n",
       "0               2012  ...  2013          1               32         3.0   \n",
       "1               2013  ...  2013          1                0         3.0   \n",
       "2               2013  ...  2013          1                0         3.0   \n",
       "3               2013  ...  2013          1                0         3.0   \n",
       "4               2013  ...  2013          1              -30         3.0   \n",
       "\n",
       "   store_type_a  store_type_b  store_type_c   day_cos  holiday  assortment  \n",
       "0             0             0             0  0.809017      0.0         1.0  \n",
       "1             1             0             0  0.809017      0.0         1.0  \n",
       "2             1             0             0  0.809017      0.0         1.0  \n",
       "3             0             0             1  0.809017      0.0         1.0  \n",
       "4             1             0             0  0.809017      0.0         0.0  \n",
       "\n",
       "[5 rows x 21 columns]"
      ]
     },
     "execution_count": 8,
     "metadata": {},
     "output_type": "execute_result"
    }
   ],
   "source": [
    "df.head()"
   ]
  },
  {
   "cell_type": "code",
   "execution_count": null,
   "metadata": {
    "id": "juxjBe6-jf1P"
   },
   "outputs": [],
   "source": [
    "df['date'] = pd.to_datetime(df['date'])"
   ]
  },
  {
   "cell_type": "code",
   "execution_count": null,
   "metadata": {
    "id": "RAZj74nSBSAA"
   },
   "outputs": [],
   "source": [
    "df.index = np.arange(df.shape[0])"
   ]
  },
  {
   "cell_type": "markdown",
   "metadata": {
    "id": "XLFzZ8ArpU5j"
   },
   "source": [
    "# Valor MAPE do modelo padrão"
   ]
  },
  {
   "cell_type": "code",
   "execution_count": null,
   "metadata": {
    "id": "kM2w_hr3qh_v"
   },
   "outputs": [],
   "source": [
    "model    = RandomForestRegressor(n_estimators = 10,random_state = 10) "
   ]
  },
  {
   "cell_type": "code",
   "execution_count": null,
   "metadata": {
    "id": "cSpNIXULpcD5"
   },
   "outputs": [],
   "source": [
    "X ,Y,Date = dados_teste_val(df)"
   ]
  },
  {
   "cell_type": "code",
   "execution_count": null,
   "metadata": {
    "colab": {
     "base_uri": "https://localhost:8080/"
    },
    "executionInfo": {
     "elapsed": 228938,
     "status": "ok",
     "timestamp": 1647302388337,
     "user": {
      "displayName": "Antonio Junior",
      "photoUrl": "https://lh3.googleusercontent.com/a/default-user=s64",
      "userId": "09175545212585676126"
     },
     "user_tz": 180
    },
    "id": "ImEj8rgSqIlf",
    "outputId": "bc5692b4-fadc-4259-87fd-1ce78dea3c4c"
   },
   "outputs": [
    {
     "data": {
      "text/plain": [
       "5.252405531438305"
      ]
     },
     "execution_count": 13,
     "metadata": {},
     "output_type": "execute_result"
    }
   ],
   "source": [
    "validation(X,Y,'sales','normal',Date,model)"
   ]
  },
  {
   "cell_type": "markdown",
   "metadata": {
    "id": "n0fNfHUXp8A_"
   },
   "source": [
    "# Tunig dos modelos\n",
    "\n"
   ]
  },
  {
   "cell_type": "markdown",
   "metadata": {
    "id": "_uyMWsWmRuix"
   },
   "source": [
    "### Random Forest."
   ]
  },
  {
   "cell_type": "code",
   "execution_count": null,
   "metadata": {
    "id": "SW3PyEK7BkKa"
   },
   "outputs": [],
   "source": [
    "X ,Y,Date = dados_teste_val(df)"
   ]
  },
  {
   "cell_type": "code",
   "execution_count": null,
   "metadata": {
    "id": "suJSrvw5kGVx"
   },
   "outputs": [],
   "source": [
    "space = [(1,5), # max_depth\n",
    "        (10,200)] #n_estimator\n"
   ]
  },
  {
   "cell_type": "code",
   "execution_count": null,
   "metadata": {
    "colab": {
     "base_uri": "https://localhost:8080/"
    },
    "executionInfo": {
     "elapsed": 5372999,
     "status": "ok",
     "timestamp": 1646781785817,
     "user": {
      "displayName": "Antonio Junior",
      "photoUrl": "https://lh3.googleusercontent.com/a/default-user=s64",
      "userId": "09175545212585676126"
     },
     "user_tz": 180
    },
    "id": "kES5dSfukjlv",
    "outputId": "a9685e89-353b-470a-b034-f45059725a86"
   },
   "outputs": [
    {
     "name": "stdout",
     "output_type": "stream",
     "text": [
      "Iteration No: 1 started. Evaluating function at random point.\n",
      "Iteration No: 1 ended. Evaluation done at random point.\n",
      "Time taken: 169.6368\n",
      "Function value obtained: 16.4864\n",
      "Current minimum: 16.4864\n",
      "Iteration No: 2 started. Evaluating function at random point.\n",
      "Iteration No: 2 ended. Evaluation done at random point.\n",
      "Time taken: 205.1362\n",
      "Function value obtained: 16.4948\n",
      "Current minimum: 16.4864\n",
      "Iteration No: 3 started. Evaluating function at random point.\n",
      "Iteration No: 3 ended. Evaluation done at random point.\n",
      "Time taken: 143.4735\n",
      "Function value obtained: 18.2471\n",
      "Current minimum: 16.4864\n",
      "Iteration No: 4 started. Evaluating function at random point.\n",
      "Iteration No: 4 ended. Evaluation done at random point.\n",
      "Time taken: 493.5343\n",
      "Function value obtained: 20.5514\n",
      "Current minimum: 16.4864\n",
      "Iteration No: 5 started. Evaluating function at random point.\n",
      "Iteration No: 5 ended. Evaluation done at random point.\n",
      "Time taken: 144.6421\n",
      "Function value obtained: 25.5717\n",
      "Current minimum: 16.4864\n",
      "Iteration No: 6 started. Evaluating function at random point.\n",
      "Iteration No: 6 ended. Evaluation done at random point.\n",
      "Time taken: 685.1380\n",
      "Function value obtained: 18.2918\n",
      "Current minimum: 16.4864\n",
      "Iteration No: 7 started. Evaluating function at random point.\n",
      "Iteration No: 7 ended. Evaluation done at random point.\n",
      "Time taken: 256.7527\n",
      "Function value obtained: 18.2679\n",
      "Current minimum: 16.4864\n",
      "Iteration No: 8 started. Evaluating function at random point.\n",
      "Iteration No: 8 ended. Evaluation done at random point.\n",
      "Time taken: 233.1372\n",
      "Function value obtained: 20.5441\n",
      "Current minimum: 16.4864\n",
      "Iteration No: 9 started. Evaluating function at random point.\n",
      "Iteration No: 9 ended. Evaluation done at random point.\n",
      "Time taken: 1114.2264\n",
      "Function value obtained: 14.8124\n",
      "Current minimum: 14.8124\n",
      "Iteration No: 10 started. Evaluating function at random point.\n",
      "Iteration No: 10 ended. Evaluation done at random point.\n",
      "Time taken: 478.4090\n",
      "Function value obtained: 16.5347\n",
      "Current minimum: 14.8124\n",
      "Iteration No: 11 started. Searching for the next optimal point.\n",
      "Iteration No: 11 ended. Search finished for the next optimal point.\n",
      "Time taken: 65.0805\n",
      "Function value obtained: 14.8602\n",
      "Current minimum: 14.8124\n",
      "Iteration No: 12 started. Searching for the next optimal point.\n",
      "Iteration No: 12 ended. Search finished for the next optimal point.\n",
      "Time taken: 1383.2981\n",
      "Function value obtained: 14.8073\n",
      "Current minimum: 14.8073\n"
     ]
    }
   ],
   "source": [
    "res1 = gp_minimize(Tuning_RF, space, random_state=40, n_calls=12, verbose=1)"
   ]
  },
  {
   "cell_type": "code",
   "execution_count": null,
   "metadata": {
    "colab": {
     "base_uri": "https://localhost:8080/"
    },
    "executionInfo": {
     "elapsed": 462,
     "status": "ok",
     "timestamp": 1646781813718,
     "user": {
      "displayName": "Antonio Junior",
      "photoUrl": "https://lh3.googleusercontent.com/a/default-user=s64",
      "userId": "09175545212585676126"
     },
     "user_tz": 180
    },
    "id": "2iQd4UrVmMxC",
    "outputId": "2fa46bf0-2206-4971-ba58-425a4f1cf943"
   },
   "outputs": [
    {
     "name": "stdout",
     "output_type": "stream",
     "text": [
      "Best Value: 14.807342241344754\n",
      "Parâmetros: [5, 200]\n"
     ]
    }
   ],
   "source": [
    "print('Best Value:',res1.fun)\n",
    "print('Parâmetros:',res1.x)"
   ]
  },
  {
   "cell_type": "markdown",
   "metadata": {
    "id": "hq3A1EFHIxFO"
   },
   "source": [
    "* Claramente o resultado não melhora com os parâmetros utilizados, logo será usado o modelo padrão."
   ]
  },
  {
   "cell_type": "code",
   "execution_count": null,
   "metadata": {
    "colab": {
     "base_uri": "https://localhost:8080/"
    },
    "executionInfo": {
     "elapsed": 266850,
     "status": "ok",
     "timestamp": 1646846534849,
     "user": {
      "displayName": "Antonio Junior",
      "photoUrl": "https://lh3.googleusercontent.com/a/default-user=s64",
      "userId": "09175545212585676126"
     },
     "user_tz": 180
    },
    "id": "uhIJqg3EruRY",
    "outputId": "7ea253a5-75e6-4f1c-9da3-b7fb66b82836"
   },
   "outputs": [
    {
     "name": "stdout",
     "output_type": "stream",
     "text": [
      "Data do inicio do treinamento: 2013-01-03 Data do final do treinamento : 2014-11-19\n",
      "Data do inicio do Validação  : 2014-11-20 Data do final do Validação   : 2015-01-01\n",
      "MAPE:  7.57403\n",
      "RMSLE: 0.00917\n",
      "RMSE:  869.85343\n",
      "Data do inicio do treinamento: 2013-01-03 Data do final do treinamento : 2014-12-31\n",
      "Data do inicio do Validação  : 2015-01-01 Data do final do Validação   : 2015-02-12\n",
      "MAPE:  5.43410\n",
      "RMSLE: 0.0053\n",
      "RMSE:  521.80776\n",
      "Data do inicio do treinamento: 2013-01-03 Data do final do treinamento : 2015-02-11\n",
      "Data do inicio do Validação  : 2015-02-12 Data do final do Validação   : 2015-03-26\n",
      "MAPE:  4.9137\n",
      "RMSLE: 0.00403\n",
      "RMSE:  417.50414\n",
      "Data do inicio do treinamento: 2013-01-03 Data do final do treinamento : 2015-03-25\n",
      "Data do inicio do Validação  : 2015-03-26 Data do final do Validação   : 2015-05-07\n",
      "MAPE:  5.80843\n",
      "RMSLE: 0.00569\n",
      "RMSE:  665.5795\n",
      "Data do inicio do treinamento: 2013-01-03 Data do final do treinamento : 2015-05-06\n",
      "Data do inicio do Validação  : 2015-05-07 Data do final do Validação   : 2015-06-18\n",
      "MAPE:  5.25241\n",
      "RMSLE: 0.00453\n",
      "RMSE:  511.41188\n",
      "Mape Geral:  5.79653 Std: 0.93450 Erro: 0.41792\n",
      "Rmsle Geral: 0.00574 Std: 0.00181 Erro: 0.00081\n",
      "Rmse Geral:  597.23134 Std: 157.70215 Erro: 70.52655\n"
     ]
    }
   ],
   "source": [
    "model                                = RandomForestRegressor(n_estimators = 10,random_state = 10) \n",
    "vetor_MAPE1,vetor_MSLR1,vetor_RMSE1  = validation1(X,Y,'sales','normal',Date,model)"
   ]
  },
  {
   "cell_type": "markdown",
   "metadata": {
    "id": "nEiflhEEr0um"
   },
   "source": [
    "### LGBM"
   ]
  },
  {
   "cell_type": "code",
   "execution_count": null,
   "metadata": {
    "colab": {
     "base_uri": "https://localhost:8080/"
    },
    "executionInfo": {
     "elapsed": 2991135,
     "status": "ok",
     "timestamp": 1646764459525,
     "user": {
      "displayName": "Antonio Junior",
      "photoUrl": "https://lh3.googleusercontent.com/a/default-user=s64",
      "userId": "09175545212585676126"
     },
     "user_tz": 180
    },
    "id": "efFl68ehmMy1",
    "outputId": "92b934b2-6840-4b8a-93db-d3c7a3fa4a79"
   },
   "outputs": [
    {
     "name": "stdout",
     "output_type": "stream",
     "text": [
      "Iteration No: 1 started. Evaluating function at random point.\n",
      "lr: 0.05969161720427683\n",
      "max_depth: 9\n",
      "n_estimators: 173\n",
      "Iteration No: 1 ended. Evaluation done at random point.\n",
      "Time taken: 174.5611\n",
      "Function value obtained: 5.9183\n",
      "Current minimum: 5.9183\n",
      "Iteration No: 2 started. Evaluating function at random point.\n",
      "lr: 0.08487792213962844\n",
      "max_depth: 7\n",
      "n_estimators: 83\n",
      "Iteration No: 2 ended. Evaluation done at random point.\n",
      "Time taken: 47.3640\n",
      "Function value obtained: 8.6099\n",
      "Current minimum: 5.9183\n",
      "Iteration No: 3 started. Evaluating function at random point.\n",
      "lr: 0.030455926047902763\n",
      "max_depth: 2\n",
      "n_estimators: 62\n",
      "Iteration No: 3 ended. Evaluation done at random point.\n",
      "Time taken: 14.1581\n",
      "Function value obtained: 17.2142\n",
      "Current minimum: 5.9183\n",
      "Iteration No: 4 started. Evaluating function at random point.\n",
      "lr: 0.04828884661481365\n",
      "max_depth: 8\n",
      "n_estimators: 101\n",
      "Iteration No: 4 ended. Evaluation done at random point.\n",
      "Time taken: 81.5705\n",
      "Function value obtained: 8.6717\n",
      "Current minimum: 5.9183\n",
      "Iteration No: 5 started. Evaluating function at random point.\n",
      "lr: 0.03988569481398216\n",
      "max_depth: 9\n",
      "n_estimators: 74\n",
      "Iteration No: 5 ended. Evaluation done at random point.\n",
      "Time taken: 93.5130\n",
      "Function value obtained: 9.1414\n",
      "Current minimum: 5.9183\n",
      "Iteration No: 6 started. Evaluating function at random point.\n",
      "lr: 0.06516901533306854\n",
      "max_depth: 4\n",
      "n_estimators: 192\n",
      "Iteration No: 6 ended. Evaluation done at random point.\n",
      "Time taken: 48.3598\n",
      "Function value obtained: 9.9598\n",
      "Current minimum: 5.9183\n",
      "Iteration No: 7 started. Evaluating function at random point.\n",
      "lr: 0.014894727260851875\n",
      "max_depth: 9\n",
      "n_estimators: 100\n",
      "Iteration No: 7 ended. Evaluation done at random point.\n",
      "Time taken: 131.9338\n",
      "Function value obtained: 12.5375\n",
      "Current minimum: 5.9183\n",
      "Iteration No: 8 started. Evaluating function at random point.\n",
      "lr: 0.0802901644459848\n",
      "max_depth: 6\n",
      "n_estimators: 139\n",
      "Iteration No: 8 ended. Evaluation done at random point.\n",
      "Time taken: 55.4843\n",
      "Function value obtained: 8.2340\n",
      "Current minimum: 5.9183\n",
      "Iteration No: 9 started. Evaluating function at random point.\n",
      "lr: 0.07234263281786578\n",
      "max_depth: 6\n",
      "n_estimators: 112\n",
      "Iteration No: 9 ended. Evaluation done at random point.\n",
      "Time taken: 47.0325\n",
      "Function value obtained: 9.0601\n",
      "Current minimum: 5.9183\n",
      "Iteration No: 10 started. Evaluating function at random point.\n",
      "lr: 0.0761029468079134\n",
      "max_depth: 2\n",
      "n_estimators: 100\n",
      "Iteration No: 10 ended. Evaluation done at random point.\n",
      "Time taken: 17.8467\n",
      "Function value obtained: 12.8000\n",
      "Current minimum: 5.9183\n",
      "Iteration No: 11 started. Searching for the next optimal point.\n",
      "lr: 0.1\n",
      "max_depth: 10\n",
      "n_estimators: 200\n",
      "Iteration No: 11 ended. Search finished for the next optimal point.\n",
      "Time taken: 235.0470\n",
      "Function value obtained: 4.7629\n",
      "Current minimum: 4.7629\n",
      "Iteration No: 12 started. Searching for the next optimal point.\n",
      "lr: 0.07942217749354621\n",
      "max_depth: 10\n",
      "n_estimators: 200\n",
      "Iteration No: 12 ended. Search finished for the next optimal point.\n",
      "Time taken: 255.1250\n",
      "Function value obtained: 4.9269\n",
      "Current minimum: 4.7629\n",
      "Iteration No: 13 started. Searching for the next optimal point.\n",
      "lr: 0.06527893754436484\n",
      "max_depth: 10\n",
      "n_estimators: 200\n",
      "Iteration No: 13 ended. Search finished for the next optimal point.\n",
      "Time taken: 258.6721\n",
      "Function value obtained: 5.0624\n",
      "Current minimum: 4.7629\n",
      "Iteration No: 14 started. Searching for the next optimal point.\n",
      "lr: 0.1\n",
      "max_depth: 10\n",
      "n_estimators: 200\n"
     ]
    },
    {
     "name": "stderr",
     "output_type": "stream",
     "text": [
      "/usr/local/lib/python3.7/dist-packages/skopt/optimizer/optimizer.py:449: UserWarning: The objective has been evaluated at this point before.\n",
      "  warnings.warn(\"The objective has been evaluated \"\n"
     ]
    },
    {
     "name": "stdout",
     "output_type": "stream",
     "text": [
      "Iteration No: 14 ended. Search finished for the next optimal point.\n",
      "Time taken: 244.1916\n",
      "Function value obtained: 4.7629\n",
      "Current minimum: 4.7629\n",
      "Iteration No: 15 started. Searching for the next optimal point.\n",
      "lr: 0.1\n",
      "max_depth: 9\n",
      "n_estimators: 200\n",
      "Iteration No: 15 ended. Search finished for the next optimal point.\n",
      "Time taken: 171.8895\n",
      "Function value obtained: 4.9459\n",
      "Current minimum: 4.7629\n",
      "Iteration No: 16 started. Searching for the next optimal point.\n",
      "lr: 0.09497877675572056\n",
      "max_depth: 10\n",
      "n_estimators: 200\n",
      "Iteration No: 16 ended. Search finished for the next optimal point.\n",
      "Time taken: 240.1811\n",
      "Function value obtained: 4.7493\n",
      "Current minimum: 4.7493\n",
      "Iteration No: 17 started. Searching for the next optimal point.\n",
      "lr: 0.1\n",
      "max_depth: 10\n",
      "n_estimators: 174\n",
      "Iteration No: 17 ended. Search finished for the next optimal point.\n",
      "Time taken: 208.3994\n",
      "Function value obtained: 4.8337\n",
      "Current minimum: 4.7493\n",
      "Iteration No: 18 started. Searching for the next optimal point.\n",
      "lr: 0.07404617325563582\n",
      "max_depth: 10\n",
      "n_estimators: 151\n",
      "Iteration No: 18 ended. Search finished for the next optimal point.\n",
      "Time taken: 198.1683\n",
      "Function value obtained: 5.2518\n",
      "Current minimum: 4.7493\n",
      "Iteration No: 19 started. Searching for the next optimal point.\n",
      "lr: 0.0960098244608108\n",
      "max_depth: 10\n",
      "n_estimators: 200\n",
      "Iteration No: 19 ended. Search finished for the next optimal point.\n",
      "Time taken: 235.0666\n",
      "Function value obtained: 4.7752\n",
      "Current minimum: 4.7493\n",
      "Iteration No: 20 started. Searching for the next optimal point.\n",
      "lr: 0.1\n",
      "max_depth: 10\n",
      "n_estimators: 200\n"
     ]
    },
    {
     "name": "stderr",
     "output_type": "stream",
     "text": [
      "/usr/local/lib/python3.7/dist-packages/skopt/optimizer/optimizer.py:449: UserWarning: The objective has been evaluated at this point before.\n",
      "  warnings.warn(\"The objective has been evaluated \"\n"
     ]
    },
    {
     "name": "stdout",
     "output_type": "stream",
     "text": [
      "Iteration No: 20 ended. Search finished for the next optimal point.\n",
      "Time taken: 231.9099\n",
      "Function value obtained: 4.7629\n",
      "Current minimum: 4.7493\n"
     ]
    }
   ],
   "source": [
    "space = [(1e-3, 1e-1), # lr\n",
    "          (1, 10), # max_depth\n",
    "          (10,200), # n_estimators\n",
    "          ]\n",
    "\n",
    "res2 = gp_minimize(Tuning_LGBM, space, random_state=0, n_calls=20, verbose=1)\n"
   ]
  },
  {
   "cell_type": "code",
   "execution_count": null,
   "metadata": {
    "colab": {
     "base_uri": "https://localhost:8080/"
    },
    "executionInfo": {
     "elapsed": 16,
     "status": "ok",
     "timestamp": 1646764459526,
     "user": {
      "displayName": "Antonio Junior",
      "photoUrl": "https://lh3.googleusercontent.com/a/default-user=s64",
      "userId": "09175545212585676126"
     },
     "user_tz": 180
    },
    "id": "5xszG_jAqj88",
    "outputId": "68e6234f-4de4-4da9-92a7-d772da057526"
   },
   "outputs": [
    {
     "name": "stdout",
     "output_type": "stream",
     "text": [
      "Best Value: 4.7492534135776605\n",
      "Parâmetros: [0.09497877675572056, 10, 200]\n"
     ]
    }
   ],
   "source": [
    "print('Best Value:',res2.fun)\n",
    "print('Parâmetros:',res2.x)"
   ]
  },
  {
   "cell_type": "code",
   "execution_count": null,
   "metadata": {
    "colab": {
     "base_uri": "https://localhost:8080/"
    },
    "executionInfo": {
     "elapsed": 238039,
     "status": "ok",
     "timestamp": 1646846774195,
     "user": {
      "displayName": "Antonio Junior",
      "photoUrl": "https://lh3.googleusercontent.com/a/default-user=s64",
      "userId": "09175545212585676126"
     },
     "user_tz": 180
    },
    "id": "m6VmV2XK6vNU",
    "outputId": "c29038a3-38e0-4d18-8c18-1bc29c09e24f"
   },
   "outputs": [
    {
     "name": "stdout",
     "output_type": "stream",
     "text": [
      "Data do inicio do treinamento: 2013-01-03 Data do final do treinamento : 2014-11-19\n",
      "Data do inicio do Validação  : 2014-11-20 Data do final do Validação   : 2015-01-01\n",
      "MAPE:  5.48774\n",
      "RMSLE: 0.00529\n",
      "RMSE:  607.41473\n",
      "Data do inicio do treinamento: 2013-01-03 Data do final do treinamento : 2014-12-31\n",
      "Data do inicio do Validação  : 2015-01-01 Data do final do Validação   : 2015-02-12\n",
      "MAPE:  5.13677\n",
      "RMSLE: 0.00465\n",
      "RMSE:  472.49775\n",
      "Data do inicio do treinamento: 2013-01-03 Data do final do treinamento : 2015-02-11\n",
      "Data do inicio do Validação  : 2015-02-12 Data do final do Validação   : 2015-03-26\n",
      "MAPE:  4.89987\n",
      "RMSLE: 0.00387\n",
      "RMSE:  408.78426\n",
      "Data do inicio do treinamento: 2013-01-03 Data do final do treinamento : 2015-03-25\n",
      "Data do inicio do Validação  : 2015-03-26 Data do final do Validação   : 2015-05-07\n",
      "MAPE:  5.31197\n",
      "RMSLE: 0.00490\n",
      "RMSE:  601.07882\n",
      "Data do inicio do treinamento: 2013-01-03 Data do final do treinamento : 2015-05-06\n",
      "Data do inicio do Validação  : 2015-05-07 Data do final do Validação   : 2015-06-18\n",
      "MAPE:  4.74925\n",
      "RMSLE: 0.00379\n",
      "RMSE:  459.41336\n",
      "Mape Geral:  5.11712 Std: 0.26767 Erro: 0.11971\n",
      "Rmsle Geral: 0.00450 Std: 0.00059 Erro: 0.00026\n",
      "Rmse Geral:  509.83778 Std: 79.99363 Erro: 35.77424\n"
     ]
    }
   ],
   "source": [
    "lr = 0.09497877675572056\n",
    "max_depth = 10\n",
    "n_estimators = 200\n",
    "  \n",
    "model = LGBMRegressor(learning_rate=lr, num_leaves=2 ** max_depth, max_depth=max_depth, \n",
    "                         n_estimators=n_estimators, random_state=40, \n",
    "                         n_jobs=6)\n",
    "\n",
    "vetor_MAPE2,vetor_MSLR2,vetor_RMSE2  = validation1(X,Y,'sales','normal',Date,model)"
   ]
  },
  {
   "cell_type": "code",
   "execution_count": null,
   "metadata": {
    "colab": {
     "base_uri": "https://localhost:8080/"
    },
    "executionInfo": {
     "elapsed": 326209,
     "status": "ok",
     "timestamp": 1646847100385,
     "user": {
      "displayName": "Antonio Junior",
      "photoUrl": "https://lh3.googleusercontent.com/a/default-user=s64",
      "userId": "09175545212585676126"
     },
     "user_tz": 180
    },
    "id": "0LZAqvDD6vSg",
    "outputId": "19e58029-e7c9-4dd1-b81c-560ce752e086"
   },
   "outputs": [
    {
     "name": "stdout",
     "output_type": "stream",
     "text": [
      "Data do inicio do treinamento: 2013-01-03 Data do final do treinamento : 2014-11-19\n",
      "Data do inicio do Validação  : 2014-11-20 Data do final do Validação   : 2015-01-01\n",
      "MAPE:  5.28658\n",
      "RMSLE: 0.00493\n",
      "RMSE:  583.13793\n",
      "Data do inicio do treinamento: 2013-01-03 Data do final do treinamento : 2014-12-31\n",
      "Data do inicio do Validação  : 2015-01-01 Data do final do Validação   : 2015-02-12\n",
      "MAPE:  5.00707\n",
      "RMSLE: 0.00444\n",
      "RMSE:  460.61198\n",
      "Data do inicio do treinamento: 2013-01-03 Data do final do treinamento : 2015-02-11\n",
      "Data do inicio do Validação  : 2015-02-12 Data do final do Validação   : 2015-03-26\n",
      "MAPE:  4.80146\n",
      "RMSLE: 0.00372\n",
      "RMSE:  398.61651\n",
      "Data do inicio do treinamento: 2013-01-03 Data do final do treinamento : 2015-03-25\n",
      "Data do inicio do Validação  : 2015-03-26 Data do final do Validação   : 2015-05-07\n",
      "MAPE:  5.19266\n",
      "RMSLE: 0.00472\n",
      "RMSE:  589.19082\n",
      "Data do inicio do treinamento: 2013-01-03 Data do final do treinamento : 2015-05-06\n",
      "Data do inicio do Validação  : 2015-05-07 Data do final do Validação   : 2015-06-18\n",
      "MAPE:  4.60992\n",
      "RMSLE: 0.0036\n",
      "RMSE:  444.39936\n",
      "Mape Geral:  4.97954 Std: 0.24851 Erro: 0.11114\n",
      "Rmsle Geral: 0.00428 Std: 0.00053 Erro: 0.00024\n",
      "Rmse Geral:  495.19132 Std: 77.03605 Erro: 34.45157\n"
     ]
    }
   ],
   "source": [
    "lr = 0.09497877675572056\n",
    "max_depth = 10\n",
    "n_estimators = 300\n",
    "  \n",
    "model = LGBMRegressor(learning_rate=lr, num_leaves=2 ** max_depth, max_depth=max_depth, \n",
    "                         n_estimators=n_estimators, random_state=40, \n",
    "                         n_jobs=6)\n",
    "\n",
    "vetor_MAPE3,vetor_MSLR3,vetor_RMSE3  = validation1(X,Y,'sales','normal',Date,model)"
   ]
  },
  {
   "cell_type": "code",
   "execution_count": null,
   "metadata": {
    "colab": {
     "base_uri": "https://localhost:8080/"
    },
    "executionInfo": {
     "elapsed": 484409,
     "status": "ok",
     "timestamp": 1646847584778,
     "user": {
      "displayName": "Antonio Junior",
      "photoUrl": "https://lh3.googleusercontent.com/a/default-user=s64",
      "userId": "09175545212585676126"
     },
     "user_tz": 180
    },
    "id": "SHqbDX8I6vT_",
    "outputId": "2bac1c40-f9f3-4d3c-ef68-9dc2a8174809"
   },
   "outputs": [
    {
     "name": "stdout",
     "output_type": "stream",
     "text": [
      "Data do inicio do treinamento: 2013-01-03 Data do final do treinamento : 2014-11-19\n",
      "Data do inicio do Validação  : 2014-11-20 Data do final do Validação   : 2015-01-01\n",
      "MAPE:  5.15841\n",
      "RMSLE: 0.00472\n",
      "RMSE:  566.2268\n",
      "Data do inicio do treinamento: 2013-01-03 Data do final do treinamento : 2014-12-31\n",
      "Data do inicio do Validação  : 2015-01-01 Data do final do Validação   : 2015-02-12\n",
      "MAPE:  4.93851\n",
      "RMSLE: 0.00433\n",
      "RMSE:  455.10026\n",
      "Data do inicio do treinamento: 2013-01-03 Data do final do treinamento : 2015-02-11\n",
      "Data do inicio do Validação  : 2015-02-12 Data do final do Validação   : 2015-03-26\n",
      "MAPE:  4.72546\n",
      "RMSLE: 0.00361\n",
      "RMSE:  391.1488\n",
      "Data do inicio do treinamento: 2013-01-03 Data do final do treinamento : 2015-03-25\n",
      "Data do inicio do Validação  : 2015-03-26 Data do final do Validação   : 2015-05-07\n",
      "MAPE:  5.10793\n",
      "RMSLE: 0.00459\n",
      "RMSE:  579.69636\n",
      "Data do inicio do treinamento: 2013-01-03 Data do final do treinamento : 2015-05-06\n",
      "Data do inicio do Validação  : 2015-05-07 Data do final do Validação   : 2015-06-18\n",
      "MAPE:  4.55462\n",
      "RMSLE: 0.00352\n",
      "RMSE:  436.52538\n",
      "Mape Geral:  4.89699 Std: 0.22856 Erro: 0.10221\n",
      "Rmsle Geral: 0.00415 Std: 0.0005 Erro: 0.00022\n",
      "Rmse Geral:  485.73952 Std: 74.31593 Erro: 33.2351\n"
     ]
    }
   ],
   "source": [
    "lr = 0.09497877675572056\n",
    "max_depth = 10\n",
    "n_estimators = 500\n",
    "  \n",
    "model = LGBMRegressor(learning_rate=lr, num_leaves=2 ** max_depth, max_depth=max_depth, \n",
    "                         n_estimators=n_estimators, random_state=40, \n",
    "                         n_jobs=6)\n",
    "\n",
    "vetor_MAPE4,vetor_MSLR4,vetor_RMSE4  = validation1(X,Y,'sales','normal',Date,model)"
   ]
  },
  {
   "cell_type": "code",
   "execution_count": null,
   "metadata": {
    "colab": {
     "base_uri": "https://localhost:8080/"
    },
    "executionInfo": {
     "elapsed": 633035,
     "status": "ok",
     "timestamp": 1646848217799,
     "user": {
      "displayName": "Antonio Junior",
      "photoUrl": "https://lh3.googleusercontent.com/a/default-user=s64",
      "userId": "09175545212585676126"
     },
     "user_tz": 180
    },
    "id": "pzLxzsNp6vXA",
    "outputId": "d416d68f-b13f-44ea-cf98-bc738ff6a8c6"
   },
   "outputs": [
    {
     "name": "stdout",
     "output_type": "stream",
     "text": [
      "Data do inicio do treinamento: 2013-01-03 Data do final do treinamento : 2014-11-19\n",
      "Data do inicio do Validação  : 2014-11-20 Data do final do Validação   : 2015-01-01\n",
      "MAPE:  5.10415\n",
      "RMSLE: 0.00462\n",
      "RMSE:  559.07464\n",
      "Data do inicio do treinamento: 2013-01-03 Data do final do treinamento : 2014-12-31\n",
      "Data do inicio do Validação  : 2015-01-01 Data do final do Validação   : 2015-02-12\n",
      "MAPE:  4.93234\n",
      "RMSLE: 0.00433\n",
      "RMSE:  455.16337\n",
      "Data do inicio do treinamento: 2013-01-03 Data do final do treinamento : 2015-02-11\n",
      "Data do inicio do Validação  : 2015-02-12 Data do final do Validação   : 2015-03-26\n",
      "MAPE:  4.6956\n",
      "RMSLE: 0.00356\n",
      "RMSE:  388.31351\n",
      "Data do inicio do treinamento: 2013-01-03 Data do final do treinamento : 2015-03-25\n",
      "Data do inicio do Validação  : 2015-03-26 Data do final do Validação   : 2015-05-07\n",
      "MAPE:  5.07734\n",
      "RMSLE: 0.00454\n",
      "RMSE:  576.14794\n",
      "Data do inicio do treinamento: 2013-01-03 Data do final do treinamento : 2015-05-06\n",
      "Data do inicio do Validação  : 2015-05-07 Data do final do Validação   : 2015-06-18\n",
      "MAPE:  4.52387\n",
      "RMSLE: 0.00347\n",
      "RMSE:  433.50908\n",
      "Mape Geral:  4.86666 Std: 0.22444 Erro: 0.10037\n",
      "Rmsle Geral: 0.00411 Std: 0.00049 Erro: 0.00022\n",
      "Rmse Geral:  482.44171 Std: 73.00971 Erro: 32.65094\n"
     ]
    }
   ],
   "source": [
    "lr = 0.09497877675572056\n",
    "max_depth = 10\n",
    "n_estimators = 700\n",
    "  \n",
    "model = LGBMRegressor(learning_rate=lr, num_leaves=2 ** max_depth, max_depth=max_depth, \n",
    "                         n_estimators=n_estimators, random_state=40, \n",
    "                         n_jobs=6)\n",
    "\n",
    "vetor_MAPE5,vetor_MSLR5,vetor_RMSE5  = validation1(X,Y,'sales','normal',Date,model)"
   ]
  },
  {
   "cell_type": "code",
   "execution_count": null,
   "metadata": {
    "colab": {
     "base_uri": "https://localhost:8080/"
    },
    "executionInfo": {
     "elapsed": 927843,
     "status": "ok",
     "timestamp": 1646849145622,
     "user": {
      "displayName": "Antonio Junior",
      "photoUrl": "https://lh3.googleusercontent.com/a/default-user=s64",
      "userId": "09175545212585676126"
     },
     "user_tz": 180
    },
    "id": "W77pWXPWsXjg",
    "outputId": "ea5004ce-20ed-4783-a80e-1d0c3b1cf04a"
   },
   "outputs": [
    {
     "name": "stdout",
     "output_type": "stream",
     "text": [
      "Data do inicio do treinamento: 2013-01-03 Data do final do treinamento : 2014-11-19\n",
      "Data do inicio do Validação  : 2014-11-20 Data do final do Validação   : 2015-01-01\n",
      "MAPE:  5.09218\n",
      "RMSLE: 0.00460\n",
      "RMSE:  555.60563\n",
      "Data do inicio do treinamento: 2013-01-03 Data do final do treinamento : 2014-12-31\n",
      "Data do inicio do Validação  : 2015-01-01 Data do final do Validação   : 2015-02-12\n",
      "MAPE:  4.90634\n",
      "RMSLE: 0.00431\n",
      "RMSE:  455.00644\n",
      "Data do inicio do treinamento: 2013-01-03 Data do final do treinamento : 2015-02-11\n",
      "Data do inicio do Validação  : 2015-02-12 Data do final do Validação   : 2015-03-26\n",
      "MAPE:  4.67818\n",
      "RMSLE: 0.00354\n",
      "RMSE:  386.65837\n",
      "Data do inicio do treinamento: 2013-01-03 Data do final do treinamento : 2015-03-25\n",
      "Data do inicio do Validação  : 2015-03-26 Data do final do Validação   : 2015-05-07\n",
      "MAPE:  5.07254\n",
      "RMSLE: 0.00454\n",
      "RMSE:  576.08135\n",
      "Data do inicio do treinamento: 2013-01-03 Data do final do treinamento : 2015-05-06\n",
      "Data do inicio do Validação  : 2015-05-07 Data do final do Validação   : 2015-06-18\n",
      "MAPE:  4.51403\n",
      "RMSLE: 0.00345\n",
      "RMSE:  431.89331\n",
      "Mape Geral:  4.85265 Std: 0.22526 Erro: 0.10074\n",
      "Rmsle Geral: 0.00409 Std: 0.0005 Erro: 0.00022\n",
      "Rmse Geral:  481.04902 Std: 72.93000 Erro: 32.61529\n"
     ]
    }
   ],
   "source": [
    "lr = 0.09497877675572056\n",
    "max_depth = 10\n",
    "n_estimators = 1000\n",
    "  \n",
    "model = LGBMRegressor(learning_rate=lr, num_leaves=2 ** max_depth, max_depth=max_depth, \n",
    "                         n_estimators=n_estimators, random_state=40, \n",
    "                         n_jobs=6)\n",
    "\n",
    "vetor_MAPE6,vetor_MSLR6,vetor_RMSE6  = validation1(X,Y,'sales','normal',Date,model)"
   ]
  },
  {
   "cell_type": "markdown",
   "metadata": {
    "id": "qlS-ehYLXt41"
   },
   "source": [
    "### XGBost"
   ]
  },
  {
   "cell_type": "code",
   "execution_count": null,
   "metadata": {
    "colab": {
     "base_uri": "https://localhost:8080/"
    },
    "executionInfo": {
     "elapsed": 11019656,
     "status": "ok",
     "timestamp": 1647895242673,
     "user": {
      "displayName": "Antonio Junior",
      "photoUrl": "https://lh3.googleusercontent.com/a/default-user=s64",
      "userId": "09175545212585676126"
     },
     "user_tz": 180
    },
    "id": "3Z9VhhKCXuh4",
    "outputId": "babc2dc6-fa51-42cc-cf32-3790838a32e4"
   },
   "outputs": [
    {
     "name": "stdout",
     "output_type": "stream",
     "text": [
      "Iteration No: 1 started. Evaluating function at random point.\n",
      "lr: 0.05969161720427683\n",
      "max_depth: 9\n",
      "colsample_bytree: 1\n",
      "Iteration No: 1 ended. Evaluation done at random point.\n",
      "Time taken: 757.1285\n",
      "Function value obtained: 7.3108\n",
      "Current minimum: 7.3108\n",
      "Iteration No: 2 started. Evaluating function at random point.\n",
      "lr: 0.08487792213962844\n",
      "max_depth: 7\n",
      "colsample_bytree: 0\n",
      "Iteration No: 2 ended. Evaluation done at random point.\n",
      "Time taken: 105.7165\n",
      "Function value obtained: 23.3404\n",
      "Current minimum: 7.3108\n",
      "Iteration No: 3 started. Evaluating function at random point.\n",
      "lr: 0.030455926047902763\n",
      "max_depth: 2\n",
      "colsample_bytree: 0\n",
      "Iteration No: 3 ended. Evaluation done at random point.\n",
      "Time taken: 80.3500\n",
      "Function value obtained: 30.4115\n",
      "Current minimum: 7.3108\n",
      "Iteration No: 4 started. Evaluating function at random point.\n",
      "lr: 0.04828884661481365\n",
      "max_depth: 8\n",
      "colsample_bytree: 0\n",
      "Iteration No: 4 ended. Evaluation done at random point.\n",
      "Time taken: 108.7582\n",
      "Function value obtained: 25.4480\n",
      "Current minimum: 7.3108\n",
      "Iteration No: 5 started. Evaluating function at random point.\n",
      "lr: 0.03988569481398216\n",
      "max_depth: 9\n",
      "colsample_bytree: 0\n",
      "Iteration No: 5 ended. Evaluation done at random point.\n",
      "Time taken: 112.8017\n",
      "Function value obtained: 26.0306\n",
      "Current minimum: 7.3108\n",
      "Iteration No: 6 started. Evaluating function at random point.\n",
      "lr: 0.06516901533306854\n",
      "max_depth: 4\n",
      "colsample_bytree: 1\n",
      "Iteration No: 6 ended. Evaluation done at random point.\n",
      "Time taken: 277.9733\n",
      "Function value obtained: 11.0904\n",
      "Current minimum: 7.3108\n",
      "Iteration No: 7 started. Evaluating function at random point.\n",
      "lr: 0.014894727260851875\n",
      "max_depth: 9\n",
      "colsample_bytree: 0\n",
      "Iteration No: 7 ended. Evaluation done at random point.\n",
      "Time taken: 111.2643\n",
      "Function value obtained: 43.0259\n",
      "Current minimum: 7.3108\n",
      "Iteration No: 8 started. Evaluating function at random point.\n",
      "lr: 0.0802901644459848\n",
      "max_depth: 6\n",
      "colsample_bytree: 1\n",
      "Iteration No: 8 ended. Evaluation done at random point.\n",
      "Time taken: 420.8735\n",
      "Function value obtained: 9.0432\n",
      "Current minimum: 7.3108\n",
      "Iteration No: 9 started. Evaluating function at random point.\n",
      "lr: 0.07234263281786578\n",
      "max_depth: 6\n",
      "colsample_bytree: 1\n",
      "Iteration No: 9 ended. Evaluation done at random point.\n",
      "Time taken: 421.0301\n",
      "Function value obtained: 9.3464\n",
      "Current minimum: 7.3108\n",
      "Iteration No: 10 started. Evaluating function at random point.\n",
      "lr: 0.0761029468079134\n",
      "max_depth: 2\n",
      "colsample_bytree: 0\n",
      "Iteration No: 10 ended. Evaluation done at random point.\n",
      "Time taken: 80.2346\n",
      "Function value obtained: 26.3094\n",
      "Current minimum: 7.3108\n",
      "Iteration No: 11 started. Searching for the next optimal point.\n",
      "lr: 0.004530460675425101\n",
      "max_depth: 10\n",
      "colsample_bytree: 1\n",
      "Iteration No: 11 ended. Search finished for the next optimal point.\n",
      "Time taken: 844.5135\n",
      "Function value obtained: 184.5432\n",
      "Current minimum: 7.3108\n",
      "Iteration No: 12 started. Searching for the next optimal point.\n",
      "lr: 0.05941580114662849\n",
      "max_depth: 10\n",
      "colsample_bytree: 1\n",
      "Iteration No: 12 ended. Search finished for the next optimal point.\n",
      "Time taken: 858.2491\n",
      "Function value obtained: 6.6068\n",
      "Current minimum: 6.6068\n",
      "Iteration No: 13 started. Searching for the next optimal point.\n",
      "lr: 0.06075286840903818\n",
      "max_depth: 10\n",
      "colsample_bytree: 1\n",
      "Iteration No: 13 ended. Search finished for the next optimal point.\n",
      "Time taken: 899.1852\n",
      "Function value obtained: 6.5600\n",
      "Current minimum: 6.5600\n",
      "Iteration No: 14 started. Searching for the next optimal point.\n",
      "lr: 0.0771874211057129\n",
      "max_depth: 10\n",
      "colsample_bytree: 1\n",
      "Iteration No: 14 ended. Search finished for the next optimal point.\n",
      "Time taken: 880.8919\n",
      "Function value obtained: 5.8981\n",
      "Current minimum: 5.8981\n",
      "Iteration No: 15 started. Searching for the next optimal point.\n",
      "lr: 0.07910956755519988\n",
      "max_depth: 10\n",
      "colsample_bytree: 1\n",
      "Iteration No: 15 ended. Search finished for the next optimal point.\n",
      "Time taken: 860.6484\n",
      "Function value obtained: 5.7794\n",
      "Current minimum: 5.7794\n",
      "Iteration No: 16 started. Searching for the next optimal point.\n",
      "lr: 0.08216703365118469\n",
      "max_depth: 10\n",
      "colsample_bytree: 1\n",
      "Iteration No: 16 ended. Search finished for the next optimal point.\n",
      "Time taken: 847.2352\n",
      "Function value obtained: 5.7653\n",
      "Current minimum: 5.7653\n",
      "Iteration No: 17 started. Searching for the next optimal point.\n",
      "lr: 0.0830515001865234\n",
      "max_depth: 10\n",
      "colsample_bytree: 1\n",
      "Iteration No: 17 ended. Search finished for the next optimal point.\n",
      "Time taken: 849.7201\n",
      "Function value obtained: 5.7500\n",
      "Current minimum: 5.7500\n",
      "Iteration No: 18 started. Searching for the next optimal point.\n",
      "lr: 0.08533885418537873\n",
      "max_depth: 10\n",
      "colsample_bytree: 1\n",
      "Iteration No: 18 ended. Search finished for the next optimal point.\n",
      "Time taken: 841.4902\n",
      "Function value obtained: 5.6530\n",
      "Current minimum: 5.6530\n",
      "Iteration No: 19 started. Searching for the next optimal point.\n",
      "lr: 0.08962344504864192\n",
      "max_depth: 10\n",
      "colsample_bytree: 1\n",
      "Iteration No: 19 ended. Search finished for the next optimal point.\n",
      "Time taken: 829.4055\n",
      "Function value obtained: 5.6290\n",
      "Current minimum: 5.6290\n",
      "Iteration No: 20 started. Searching for the next optimal point.\n",
      "lr: 0.0918271089146542\n",
      "max_depth: 10\n",
      "colsample_bytree: 1\n",
      "Iteration No: 20 ended. Search finished for the next optimal point.\n",
      "Time taken: 831.9570\n",
      "Function value obtained: 5.4888\n",
      "Current minimum: 5.4888\n"
     ]
    }
   ],
   "source": [
    "space = [(1e-3, 1e-1), # lr\n",
    "          (1, 10),  # max_depth\n",
    "          (0,1)]    # colsample_bytree\n",
    "\n",
    "\n",
    "res3 = gp_minimize(Tuning_XGBR, space, random_state=0, n_calls=20, verbose=1)\n"
   ]
  },
  {
   "cell_type": "code",
   "execution_count": null,
   "metadata": {
    "colab": {
     "base_uri": "https://localhost:8080/"
    },
    "executionInfo": {
     "elapsed": 273,
     "status": "ok",
     "timestamp": 1647895624955,
     "user": {
      "displayName": "Antonio Junior",
      "photoUrl": "https://lh3.googleusercontent.com/a/default-user=s64",
      "userId": "09175545212585676126"
     },
     "user_tz": 180
    },
    "id": "_xTxwW5nO6FB",
    "outputId": "47a25799-5488-4061-90ef-1a4aaa3a307d"
   },
   "outputs": [
    {
     "name": "stdout",
     "output_type": "stream",
     "text": [
      "Best Value: 5.48875362875029\n",
      "Parâmetros: [0.0918271089146542, 10, 1]\n"
     ]
    }
   ],
   "source": [
    "print('Best Value:',res3.fun)\n",
    "print('Parâmetros:',res3.x)"
   ]
  },
  {
   "cell_type": "code",
   "execution_count": null,
   "metadata": {
    "colab": {
     "base_uri": "https://localhost:8080/"
    },
    "executionInfo": {
     "elapsed": 1615545,
     "status": "ok",
     "timestamp": 1647897319828,
     "user": {
      "displayName": "Antonio Junior",
      "photoUrl": "https://lh3.googleusercontent.com/a/default-user=s64",
      "userId": "09175545212585676126"
     },
     "user_tz": 180
    },
    "id": "z_J80cKMO6Gy",
    "outputId": "cba15d0d-1ce8-4e93-ffa7-00181dbba90c"
   },
   "outputs": [
    {
     "name": "stdout",
     "output_type": "stream",
     "text": [
      "Data do inicio do treinamento: 2013-01-03 Data do final do treinamento : 2014-11-19\n",
      "Data do inicio do Validação  : 2014-11-20 Data do final do Validação   : 2015-01-01\n",
      "MAPE:  5.47427\n",
      "RMSLE: 0.00508\n",
      "RMSE:  592.54712\n",
      "Data do inicio do treinamento: 2013-01-03 Data do final do treinamento : 2014-12-31\n",
      "Data do inicio do Validação  : 2015-01-01 Data do final do Validação   : 2015-02-12\n",
      "MAPE:  5.06357\n",
      "RMSLE: 0.00438\n",
      "RMSE:  467.88952\n",
      "Data do inicio do treinamento: 2013-01-03 Data do final do treinamento : 2015-02-11\n",
      "Data do inicio do Validação  : 2015-02-12 Data do final do Validação   : 2015-03-26\n",
      "MAPE:  4.77676\n",
      "RMSLE: 0.00365\n",
      "RMSE:  398.95769\n",
      "Data do inicio do treinamento: 2013-01-03 Data do final do treinamento : 2015-03-25\n",
      "Data do inicio do Validação  : 2015-03-26 Data do final do Validação   : 2015-05-07\n",
      "MAPE:  5.22686\n",
      "RMSLE: 0.00461\n",
      "RMSE:  581.24396\n",
      "Data do inicio do treinamento: 2013-01-03 Data do final do treinamento : 2015-05-06\n",
      "Data do inicio do Validação  : 2015-05-07 Data do final do Validação   : 2015-06-18\n",
      "MAPE:  4.75049\n",
      "RMSLE: 0.00378\n",
      "RMSE:  451.36280\n",
      "Mape Geral:  5.05839 Std: 0.27403 Erro: 0.12255\n",
      "Rmsle Geral: 0.00430 Std: 0.00053 Erro: 0.00024\n",
      "Rmse Geral:  498.40022 Std: 75.84057 Erro: 33.91694\n"
     ]
    }
   ],
   "source": [
    "model = XBGB.XGBRegressor(objective='reg:squarederror',colsample_bytree = 1, learning_rate = 0.0918271089146542,\n",
    "                       max_depth = 10, n_estimators = 200,random_state=40)\n",
    "\n",
    "vetor_MAPE7,vetor_MSLR7,vetor_RMSE7  = validation1(X,Y,'sales','normal',Date,model)"
   ]
  },
  {
   "cell_type": "code",
   "execution_count": null,
   "metadata": {
    "colab": {
     "base_uri": "https://localhost:8080/"
    },
    "executionInfo": {
     "elapsed": 3701331,
     "status": "ok",
     "timestamp": 1647901577621,
     "user": {
      "displayName": "Antonio Junior",
      "photoUrl": "https://lh3.googleusercontent.com/a/default-user=s64",
      "userId": "09175545212585676126"
     },
     "user_tz": 180
    },
    "id": "Q0FmYY6zXZVh",
    "outputId": "4cff8cb0-7ae7-426e-8305-21e5d7211d6f"
   },
   "outputs": [
    {
     "name": "stdout",
     "output_type": "stream",
     "text": [
      "Data do inicio do treinamento: 2013-01-03 Data do final do treinamento : 2014-11-19\n",
      "Data do inicio do Validação  : 2014-11-20 Data do final do Validação   : 2015-01-01\n",
      "MAPE:  5.17800\n",
      "RMSLE: 0.00457\n",
      "RMSE:  559.0076\n",
      "Data do inicio do treinamento: 2013-01-03 Data do final do treinamento : 2014-12-31\n",
      "Data do inicio do Validação  : 2015-01-01 Data do final do Validação   : 2015-02-12\n",
      "MAPE:  4.91466\n",
      "RMSLE: 0.00414\n",
      "RMSE:  457.28666\n",
      "Data do inicio do treinamento: 2013-01-03 Data do final do treinamento : 2015-02-11\n",
      "Data do inicio do Validação  : 2015-02-12 Data do final do Validação   : 2015-03-26\n",
      "MAPE:  4.57356\n",
      "RMSLE: 0.00335\n",
      "RMSE:  379.09106\n",
      "Data do inicio do treinamento: 2013-01-03 Data do final do treinamento : 2015-03-25\n",
      "Data do inicio do Validação  : 2015-03-26 Data do final do Validação   : 2015-05-07\n",
      "MAPE:  5.01938\n",
      "RMSLE: 0.00430\n",
      "RMSE:  561.34450\n",
      "Data do inicio do treinamento: 2013-01-03 Data do final do treinamento : 2015-05-06\n",
      "Data do inicio do Validação  : 2015-05-07 Data do final do Validação   : 2015-06-18\n",
      "MAPE:  4.46313\n",
      "RMSLE: 0.00339\n",
      "RMSE:  423.31398\n",
      "Mape Geral:  4.82975 Std: 0.27 Erro: 0.12075\n",
      "Rmsle Geral: 0.00395 Std: 0.0005 Erro: 0.00022\n",
      "Rmse Geral:  476.00876 Std: 73.06339 Erro: 32.67494\n"
     ]
    }
   ],
   "source": [
    "model = XBGB.XGBRegressor(objective='reg:squarederror',colsample_bytree = 1, learning_rate = 0.0918271089146542,\n",
    "                       max_depth = 10, n_estimators = 500,random_state=40)\n",
    "\n",
    "vetor_MAPE8,vetor_MSLR8,vetor_RMSE8  = validation1(X,Y,'sales','normal',Date,model)"
   ]
  },
  {
   "cell_type": "code",
   "execution_count": null,
   "metadata": {
    "colab": {
     "base_uri": "https://localhost:8080/"
    },
    "executionInfo": {
     "elapsed": 5211978,
     "status": "ok",
     "timestamp": 1647907830899,
     "user": {
      "displayName": "Antonio Junior",
      "photoUrl": "https://lh3.googleusercontent.com/a/default-user=s64",
      "userId": "09175545212585676126"
     },
     "user_tz": 180
    },
    "id": "D2TxAYEQpk8i",
    "outputId": "0d47c3d1-ab65-4fa9-d1dd-0f1f6b85224b"
   },
   "outputs": [
    {
     "name": "stdout",
     "output_type": "stream",
     "text": [
      "Data do inicio do treinamento: 2013-01-03 Data do final do treinamento : 2014-11-19\n",
      "Data do inicio do Validação  : 2014-11-20 Data do final do Validação   : 2015-01-01\n",
      "MAPE:  5.12765\n",
      "RMSLE: 0.00449\n",
      "RMSE:  552.66964\n",
      "Data do inicio do treinamento: 2013-01-03 Data do final do treinamento : 2014-12-31\n",
      "Data do inicio do Validação  : 2015-01-01 Data do final do Validação   : 2015-02-12\n",
      "MAPE:  4.89109\n",
      "RMSLE: 0.00411\n",
      "RMSE:  455.21768\n",
      "Data do inicio do treinamento: 2013-01-03 Data do final do treinamento : 2015-02-11\n",
      "Data do inicio do Validação  : 2015-02-12 Data do final do Validação   : 2015-03-26\n",
      "MAPE:  4.54546\n",
      "RMSLE: 0.00332\n",
      "RMSE:  375.9859\n",
      "Data do inicio do treinamento: 2013-01-03 Data do final do treinamento : 2015-03-25\n",
      "Data do inicio do Validação  : 2015-03-26 Data do final do Validação   : 2015-05-07\n",
      "MAPE:  4.98977\n",
      "RMSLE: 0.00426\n",
      "RMSE:  558.91560\n",
      "Data do inicio do treinamento: 2013-01-03 Data do final do treinamento : 2015-05-06\n",
      "Data do inicio do Validação  : 2015-05-07 Data do final do Validação   : 2015-06-18\n",
      "MAPE:  4.44660\n",
      "RMSLE: 0.00337\n",
      "RMSE:  421.75094\n",
      "Mape Geral:  4.80011 Std: 0.26128 Erro: 0.11685\n",
      "Rmsle Geral: 0.00391 Std: 0.00048 Erro: 0.00021\n",
      "Rmse Geral:  472.90795 Std: 72.22619 Erro: 32.30053\n"
     ]
    }
   ],
   "source": [
    "model = XBGB.XGBRegressor(objective='reg:squarederror',colsample_bytree = 1, learning_rate = 0.0918271089146542,\n",
    "                       max_depth = 10, n_estimators = 700,random_state=40)\n",
    "\n",
    "vetor_MAPE8,vetor_MSLR8,vetor_RMSE8  = validation1(X,Y,'sales','normal',Date,model)"
   ]
  },
  {
   "cell_type": "code",
   "execution_count": null,
   "metadata": {
    "colab": {
     "base_uri": "https://localhost:8080/"
    },
    "executionInfo": {
     "elapsed": 7468288,
     "status": "ok",
     "timestamp": 1647915524703,
     "user": {
      "displayName": "Antonio Junior",
      "photoUrl": "https://lh3.googleusercontent.com/a/default-user=s64",
      "userId": "09175545212585676126"
     },
     "user_tz": 180
    },
    "id": "fbLiRe---VLA",
    "outputId": "4f9b4ef9-0fb8-4401-efbb-604eacbd2cef"
   },
   "outputs": [
    {
     "name": "stdout",
     "output_type": "stream",
     "text": [
      "Data do inicio do treinamento: 2013-01-03 Data do final do treinamento : 2014-11-19\n",
      "Data do inicio do Validação  : 2014-11-20 Data do final do Validação   : 2015-01-01\n",
      "MAPE:  5.13151\n",
      "RMSLE: 0.00451\n",
      "RMSE:  551.03691\n",
      "Data do inicio do treinamento: 2013-01-03 Data do final do treinamento : 2014-12-31\n",
      "Data do inicio do Validação  : 2015-01-01 Data do final do Validação   : 2015-02-12\n",
      "MAPE:  4.88024\n",
      "RMSLE: 0.00409\n",
      "RMSE:  454.64032\n",
      "Data do inicio do treinamento: 2013-01-03 Data do final do treinamento : 2015-02-11\n",
      "Data do inicio do Validação  : 2015-02-12 Data do final do Validação   : 2015-03-26\n",
      "MAPE:  4.53388\n",
      "RMSLE: 0.0033\n",
      "RMSE:  374.80602\n",
      "Data do inicio do treinamento: 2013-01-03 Data do final do treinamento : 2015-03-25\n",
      "Data do inicio do Validação  : 2015-03-26 Data do final do Validação   : 2015-05-07\n",
      "MAPE:  4.97894\n",
      "RMSLE: 0.00426\n",
      "RMSE:  558.94829\n",
      "Data do inicio do treinamento: 2013-01-03 Data do final do treinamento : 2015-05-06\n",
      "Data do inicio do Validação  : 2015-05-07 Data do final do Validação   : 2015-06-18\n",
      "MAPE:  4.42158\n",
      "RMSLE: 0.00333\n",
      "RMSE:  419.29387\n",
      "Mape Geral:  4.78923 Std: 0.269 Erro: 0.1203\n",
      "Rmsle Geral: 0.0039 Std: 0.00049 Erro: 0.00022\n",
      "Rmse Geral:  471.74508 Std: 72.57063 Erro: 32.45457\n"
     ]
    }
   ],
   "source": [
    "model = XBGB.XGBRegressor(objective='reg:squarederror',colsample_bytree = 1, learning_rate = 0.0918271089146542,\n",
    "                       max_depth = 10, n_estimators = 1000,random_state=40)\n",
    "\n",
    "vetor_MAPE8,vetor_MSLR8,vetor_RMSE8  = validation1(X,Y,'sales','normal',Date,model)"
   ]
  },
  {
   "cell_type": "markdown",
   "metadata": {
    "id": "Q9_9cuk7zqtg"
   },
   "source": [
    "# Avaliando os melhores resultados\n"
   ]
  },
  {
   "cell_type": "markdown",
   "metadata": {
    "id": "sBGPTJX-zpmV"
   },
   "source": [
    "### Avaliando os valores gerais\n",
    "* Legenda:\n",
    "  * v0 -> Random Forest.\n",
    "  * v1 -> Lgbm\n",
    "  * v2 -> Xgbm\n",
    "---\n",
    "---\n",
    "* Mape Geral v0:  5.79653 Std: 0.93450 Erro: 0.41792\n",
    "* Mape Geral v1:  4.86666 Std: 0.22444 Erro: 0.10037\n",
    "* Mape Geral v2:  4.82975 Std: 0.27000 Erro: 0.12075\n",
    "---\n",
    "---\n",
    "* Rmsle Geral v0:  0.00574 Std: 0.00181 Erro: 0.00081\n",
    "* Rmsle Geral v1:  0.00411 Std: 0.00049 Erro: 0.00022\n",
    "* Rmsle Geral v2:  0.00395 Std: 0.00050 Erro: 0.00022\n",
    "---\n",
    "---\n",
    "* Rmse Geral v0: 597.23134 Std: 157.7021 Erro: 70.52655\n",
    "* Rmse Geral v1: 482.44171 Std: 73.00971 Erro: 32.65094\n",
    "* Rmse Geral v2: 476.00876 Std: 73.06339 Erro: 32.67494\n",
    "---\n",
    "---\n",
    "\n"
   ]
  },
  {
   "cell_type": "markdown",
   "metadata": {
    "id": "D3S-6IUwn0cv"
   },
   "source": [
    "### Conclusão.\n",
    " \n",
    "* Nessa etapa foi treinado e validado o modelo Random Forest, XGBM e LGBM. Entre as suas performances com os dados de validação os valores de MAPE obtidos foram os seguintes:\n",
    " * Random forest:   5.79653 % Std: 0.93450 % Error: 0.41792 %\n",
    " * LGBM:            4.86666 % Std: 0.22444 % Error: 0.10037 %\n",
    " * XGBM:            4.82975 % Std: 0.27000 % Error: 0.12075 %\n",
    " \n",
    "* Nas outras métricas o modelo XGBM também apresentou o melhor resultado. Mas ao observar a medida de erro de todas as medidas é visto que o desempenho do XGBM e LGBM são bem próximos. No caso essa diferença pode estar acontecendo por causa da flutuação estatística.\n"
   ]
  },
  {
   "cell_type": "code",
   "execution_count": null,
   "metadata": {
    "id": "d2ExeBjYqxKg"
   },
   "outputs": [],
   "source": []
  }
 ],
 "metadata": {
  "colab": {
   "authorship_tag": "ABX9TyOAGOD8oJ6JaTpMz2JlmzSt",
   "collapsed_sections": [],
   "name": "models.ipynb",
   "provenance": [],
   "toc_visible": true
  },
  "kernelspec": {
   "display_name": "Python 3 (ipykernel)",
   "language": "python",
   "name": "python3"
  },
  "language_info": {
   "codemirror_mode": {
    "name": "ipython",
    "version": 3
   },
   "file_extension": ".py",
   "mimetype": "text/x-python",
   "name": "python",
   "nbconvert_exporter": "python",
   "pygments_lexer": "ipython3",
   "version": "3.7.6"
  }
 },
 "nbformat": 4,
 "nbformat_minor": 1
}
