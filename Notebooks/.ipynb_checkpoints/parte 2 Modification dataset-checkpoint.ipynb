{
 "cells": [
  {
   "cell_type": "markdown",
   "metadata": {
    "id": "qZMicFVemSTr"
   },
   "source": [
    "# Introdução.\n",
    "\n",
    "* A Rossmann opera mais de 3.000 drogarias em 7 países europeus. Atualmente, os gerentes de loja da Rossmann têm a tarefa de prever suas vendas diárias com até seis semanas de antecedência. As vendas da loja são influenciadas por muitos fatores, incluindo promoções, competição, feriados escolares e estaduais, sazonalidade e localidade. Com milhares de gerentes individuais prevendo vendas com base em suas circunstâncias únicas, a precisão dos resultados pode ser bastante variada."
   ]
  },
  {
   "cell_type": "markdown",
   "metadata": {
    "id": "7zqnbQqLKbzc"
   },
   "source": [
    "# Descrição do projeto\n",
    " "
   ]
  },
  {
   "cell_type": "markdown",
   "metadata": {
    "id": "-6PeQjj_71UH"
   },
   "source": [
    "* Continuação das análises feitas no notebook parte 1 Modification dataset. "
   ]
  },
  {
   "cell_type": "markdown",
   "metadata": {
    "id": "3BOYHf-57muv"
   },
   "source": [
    "# Descrição dos dados."
   ]
  },
  {
   "cell_type": "markdown",
   "metadata": {
    "id": "liFd78zRmSVo"
   },
   "source": [
    "* Os dados foram obtidos do kaggle: \n",
    "  * https://www.kaggle.com/c/rossmann-store-sales\n",
    "\n",
    "\n",
    "* Descrição dos arquivos utilizados :\n",
    " \n",
    " * **train.csv** - historical data including Sales\n",
    " * **test.csv** - historical data excluding Sales\n",
    " * **store.csv** - supplemental information about the stores\n",
    " \n",
    "* **Os dados utilizados veio do tratamento feito nos arquivos train,test,store**. \n",
    "\n",
    "* Legenda:\n",
    "  * **[T]** - Dados veio do arquivo Train.\n",
    "  * **[S]** - Dados veio do arquivo do Store.\n",
    "  * **[C]** - Criado pelo notebook Tratamento dos dados.\n",
    "  * **[D]** - Criado pelo notebook pela Descrição dos dados.\n",
    "  * **[M]** - Criado pelo notebook pala Modification dataset\n",
    "\n",
    "* Descrição dos dados.\n",
    " \n",
    " * **day_of_week [T]** - Day of week.\n",
    " * **date [T]** - days the data was acquired. \n",
    " * **store [T]** - a unique Id for each store\n",
    " * **sales [T]** - the turnover for any given day (this is what you are predicting)\n",
    " * **customers [T]** - the number of customers on a given day\n",
    " * **state_holiday [T]** - indicates a state holiday. Normally all stores, with few exceptions, are closed on state holidays. Note that all schools are closed on public holidays and weekends. a = public holiday, b = Easter holiday, c = Christmas, 0 = None\n",
    " * **school_holiday [T]** - indicates if the (Store, Date) was affected by the closure of public schools\n",
    " * **store_type_a [M]** - store models a.\n",
    " * **store_type_b [M]** - store models b.\n",
    " * **store_type_c [M]** - store models c.\n",
    " * **store_type_d [M]** - store models d.\n",
    " * **assortment_basic [M]** - describes an assortment level basic.\n",
    " * **assortment_extra [M]** - describes an assortment level extra.\n",
    " * **assortment_extended [M]** - describes an assortment level extended. \n",
    " * **competition_distance [S]** - distance in meters to the nearest competitor store\n",
    " * **competition_open_since_month [S]** - gives the approximate month of the time the nearest competitor was opened.\n",
    " * **competition_open_since_year [S]** - gives the approximate year of the time the nearest competitor was opened\n",
    " * **Promo [T]** - indicates whether a store is running a promo on that day\n",
    " * **Promo2 [S]** - Promo2 is a continuing and consecutive promotion for some stores: 0 = store is not participating, 1 = store is participating\n",
    " * **promo2_since_week [S]** - describes the calendar week when the store started participating in Promo2.\n",
    "\n",
    " * **promo2_since_year [S]** - describes the year  when the store started participating in Promo2.\n",
    "\n",
    " * **is_promo [S]** - describes the consecutive intervals Promo2 is started, naming the months the promotion is started anew. E.g. \"Feb,May,Aug,Nov\" means each round starts in February, May, August, November of any given year for that store.\n",
    " * **year [C]** - year the data died.\n",
    " * **day [C]**  - day the data died.\n",
    " * **week_year [C]**  - calendar week  the data died.\n",
    " * **without_competition [C]** - Store has competition.\n",
    " * **promo_time_week [C]** - Time the store works without the promotion.\n"
   ]
  },
  {
   "cell_type": "markdown",
   "metadata": {
    "id": "cIKMmRbjBP86"
   },
   "source": [
    "# Importando biblioteca"
   ]
  },
  {
   "cell_type": "code",
   "execution_count": 2,
   "metadata": {
    "colab": {
     "base_uri": "https://localhost:8080/"
    },
    "executionInfo": {
     "elapsed": 3074,
     "status": "ok",
     "timestamp": 1649996557533,
     "user": {
      "displayName": "Antonio Junior",
      "userId": "09175545212585676126"
     },
     "user_tz": 180
    },
    "id": "GFu91lZMBUA9",
    "outputId": "64f6c523-3254-484c-9131-2e5bb71d5af3"
   },
   "outputs": [],
   "source": [
    "#!pip install category_encoders"
   ]
  },
  {
   "cell_type": "markdown",
   "metadata": {
    "id": "88tAI0gMp5jS"
   },
   "source": [
    "# Funções"
   ]
  },
  {
   "cell_type": "code",
   "execution_count": 3,
   "metadata": {
    "executionInfo": {
     "elapsed": 454,
     "status": "ok",
     "timestamp": 1649996557980,
     "user": {
      "displayName": "Antonio Junior",
      "userId": "09175545212585676126"
     },
     "user_tz": 180
    },
    "id": "r6jPx_NDp8bB"
   },
   "outputs": [],
   "source": [
    "def MAPE(y_pred,Y_teste):\n",
    "  return np.mean(100*np.abs(y_pred - Y_teste)/np.abs(Y_teste))\n",
    "\n",
    "def label_encoder(d,col):\n",
    "  enc      = LabelEncoder()\n",
    "  enc      = enc.fit(d[col])\n",
    "  inteiros = enc.fit_transform(d[col])\n",
    "  d[col]   = inteiros\n",
    "  return d\n",
    "\n",
    "def dummies_var(dados,coluna):\n",
    "  df_aux = dados\n",
    "  df_aux = df_aux.join(pd.get_dummies(df_aux[coluna], prefix=coluna))\n",
    "  df_aux = df_aux.drop(columns=coluna)\n",
    "  return df_aux\n",
    "\n",
    "\n",
    "def validation(X,Y,coluna,flag,Date):\n",
    "  vetor_MAPE = np.zeros(5) \n",
    "  vetor_MSLR = np.zeros(5)\n",
    "  vetor_RMSE = np.zeros(5)\n",
    "  Y_pred = []\n",
    "  Y_val  = []\n",
    "  for i in range(5):\n",
    "    # Dados de treinamento\n",
    "    print('Data do inicio do treinamento:', Date[X['Total_dias'] < 689 + 6*7*i].dt.date.values[0],\n",
    "          'Data do final do treinamento :',Date[X['Total_dias'] < 689 + 6*7*i].dt.date.values[-1])\n",
    "  \n",
    "    \n",
    "    X_t = X[X['Total_dias']  < 689 + 6*7*i]\n",
    "    y_t = Y[coluna][Y['Total_dias']  < 689 + 6*7*i]\n",
    "    X_t = X_t.drop(columns = ['Total_dias'])\n",
    "    \n",
    "    # Dados de validação\n",
    "    print('Data do inicio do Validação  :', Date[(X['Total_dias'] >= 689 + 6*7*i) & (X['Total_dias'] <= 689 + 6*7*(i+1))].dt.date.values[0],\n",
    "          'Data do final do Validação   :',Date[(X['Total_dias'] >= 689 + 6*7*i) & (X['Total_dias'] <= 689 + 6*7*(i+1))].dt.date.values[-1])\n",
    "\n",
    "    X_v = X[(X['Total_dias'] >= 689 + 6*7*i) & (X['Total_dias'] <= 689 + 6*7*(i+1))]\n",
    "    y_v = Y[coluna][(Y['Total_dias'] >= 689 + 6*7*i) & (Y['Total_dias'] <= 689 + 6*7*(i+1))]\n",
    "    X_v = X_v.drop(columns = ['Total_dias'])\n",
    "    \n",
    "    md        = model.fit(X_t, y_t)\n",
    "    y_pred    = md.predict(X_v)\n",
    "    \n",
    "    if flag == 'log':\n",
    "      y_pred = np.round(10**y_pred - 1)  # eliminar o ruído provocado pelo computados atravez dou round\n",
    "      y_v    = np.round(10**y_v - 1)\n",
    "    if flag == 'sqrt':\n",
    "      y_pred = np.round(y_pred**2)\n",
    "      y_v    = np.round(y_v**2)\n",
    "    if flag == 'normal':\n",
    "      y_pred = y_pred\n",
    "      y_v    = y_v\n",
    "    \n",
    "  \n",
    "    \n",
    "    mape = MAPE(y_v,y_pred)\n",
    "    mslr = mean_squared_log_error(y_v,y_pred)\n",
    "    rmse = mean_squared_error(y_v,y_pred,squared =False)\n",
    "    vetor_MAPE[i] = mape\n",
    "    vetor_MSLR[i] = mslr\n",
    "    vetor_RMSE[i] = rmse\n",
    "  \n",
    "    print('MAPE: ',np.format_float_positional(mape,5))\n",
    "    print('RMSLE:',np.format_float_positional(mslr,5))\n",
    "    print('RMSE: ',np.format_float_positional(rmse,5))\n",
    "     \n",
    "   \n",
    "  print('Mape Geral: ',np.format_float_positional(np.mean(vetor_MAPE),5),'Std:',np.format_float_positional(np.std(vetor_MAPE),5),'Erro:',np.format_float_positional(np.std(vetor_MAPE)/np.sqrt(5),5))\n",
    "  print('Rmsle Geral:',np.format_float_positional(np.mean(vetor_MSLR),5),'Std:',np.format_float_positional(np.std(vetor_MSLR),5),'Erro:',np.format_float_positional(np.std(vetor_MSLR)/np.sqrt(5),5))\n",
    "  print('Rmse Geral: ',np.format_float_positional(np.mean(vetor_RMSE),5),'Std:',np.format_float_positional(np.std(vetor_RMSE),5),'Erro:',np.format_float_positional(np.std(vetor_RMSE)/np.sqrt(5),5))\n",
    "  return vetor_MAPE,vetor_MSLR,vetor_RMSE\n",
    "\n",
    "\n",
    "def dados_teste_val(df):\n",
    "  val   = df.copy()\n",
    "  test  = df.copy()\n",
    "  \n",
    "  val  = val[val['date'] < '2015-06-19']     # Dados de validação\n",
    "  test = test[test['date'] >= '2015-06-19']  # Dados de teste\n",
    "  Date = val['date']\n",
    "  df.index = np.arange(df.shape[0])\n",
    "  X = val.drop(columns = ['date','sales'])\n",
    "  Y = val[['sales','Total_dias']]\n",
    "\n",
    "  return X,Y,Date\n",
    "\n",
    "def validation_target_encoder(X,y,coluna,cati,Date):\n",
    "  vetor_MAPE = np.zeros(5) \n",
    "  vetor_MSLR = np.zeros(5)\n",
    "  vetor_RMSE = np.zeros(5)\n",
    "\n",
    "  for i in range(5):\n",
    "    X_t = X[X['Total_dias']  < 689 + 6*7*i]\n",
    "    y_t = y[coluna][y['Total_dias']  < 689 + 6*7*i]\n",
    "    X_t = X_t.drop(columns = ['Total_dias'])\n",
    "        \n",
    "\n",
    "    X_v = X[(X['Total_dias'] >= 689 + 6*7*i) & (X['Total_dias'] <= 689 + 6*7*(i+1))]\n",
    "    y_v = y[coluna][(y['Total_dias'] >= 689 + 6*7*i) & (y['Total_dias'] <= 689 + 6*7*(i+1))]\n",
    "    X_v = X_v.drop(columns = ['Total_dias'])\n",
    "\n",
    "    print('Data do inicio do treinamento:', Date[X['Total_dias'] < 689 + 6*7*i].dt.date.values[0],\n",
    "          'Data do final do treinamento :',Date[X['Total_dias'] < 689 + 6*7*i].dt.date.values[-1])\n",
    "    \n",
    "    print('Data do inicio do Validação  :', Date[(X['Total_dias'] >= 689 + 6*7*i) & (X['Total_dias'] <= 689 + 6*7*(i+1))].dt.date.values[0],\n",
    "          'Data do final do Validação   :',Date[(X['Total_dias'] >= 689 + 6*7*i) & (X['Total_dias'] <= 689 + 6*7*(i+1))].dt.date.values[-1])\n",
    "    \n",
    "    for j in range(len(cati)):\n",
    "      tenc = TargetEncoder()\n",
    "      X_t['TGT_{}'.format(cati)] = tenc.fit_transform(X_t[cati[j]],y_t)\n",
    "      X_v['TGT_{}'.format(cati)] = tenc.transform(X_v[cati[j]])\n",
    "      X_t = X_t.drop(columns =cati[j])\n",
    "      X_v = X_v.drop(columns =cati[j])\n",
    "\n",
    "    md        = model.fit(X_t, y_t)\n",
    "    y_pred    = md.predict(X_v)\n",
    "\n",
    "    mape = MAPE(y_v,y_pred)\n",
    "    mslr = mean_squared_log_error(y_v,y_pred)\n",
    "    rmse = mean_squared_error(y_v,y_pred,squared =False)\n",
    "\n",
    "    vetor_MAPE[i] = mape\n",
    "    vetor_MSLR[i] = mslr\n",
    "    vetor_RMSE[i] = rmse\n",
    "\n",
    "    print('MAPE: ',np.format_float_positional(mape,5))\n",
    "    print('RMSLE:',np.format_float_positional(mslr,5))\n",
    "    print('RMSE: ',np.format_float_positional(rmse,5))\n",
    "      \n",
    "\n",
    "  print('Mape Geral: ',np.format_float_positional(np.mean(vetor_MAPE),5),'Std:',np.format_float_positional(np.std(vetor_MAPE),5),'Erro:',np.format_float_positional(np.std(vetor_MAPE)/np.sqrt(5),5))\n",
    "  print('Rmsle Geral:',np.format_float_positional(np.mean(vetor_MSLR),5),'Std:',np.format_float_positional(np.std(vetor_MSLR),5),'Erro:',np.format_float_positional(np.std(vetor_MSLR)/np.sqrt(5),5))\n",
    "  print('Rmse Geral: ',np.format_float_positional(np.mean(vetor_RMSE),5),'Std:',np.format_float_positional(np.std(vetor_RMSE),5),'Erro:',np.format_float_positional(np.std(vetor_RMSE)/np.sqrt(5),5))\n",
    "\n",
    "  return vetor_MAPE,vetor_MSLR,vetor_RMSE"
   ]
  },
  {
   "cell_type": "markdown",
   "metadata": {
    "id": "a823mMjFp17R"
   },
   "source": [
    "# Biblioteca"
   ]
  },
  {
   "cell_type": "code",
   "execution_count": 4,
   "metadata": {
    "colab": {
     "base_uri": "https://localhost:8080/"
    },
    "executionInfo": {
     "elapsed": 3074,
     "status": "ok",
     "timestamp": 1649996561047,
     "user": {
      "displayName": "Antonio Junior",
      "userId": "09175545212585676126"
     },
     "user_tz": 180
    },
    "id": "9EyI47h3mJyD",
    "outputId": "811a1344-ae05-4c52-bd19-7f44c7302763"
   },
   "outputs": [],
   "source": [
    "import pandas as pd\n",
    "#from google.colab import drive\n",
    "#drive.mount('/content/drive')\n",
    "import numpy as np\n",
    "import matplotlib.pyplot as plt\n",
    "import seaborn as sns\n",
    "sns.set_style(\"whitegrid\")\n",
    "import statsmodels.api as sm\n",
    "from sklearn.preprocessing import LabelEncoder\n",
    "from sklearn.ensemble import RandomForestRegressor\n",
    "from sklearn.metrics import mean_squared_log_error,mean_squared_error\n",
    "from category_encoders import TargetEncoder"
   ]
  },
  {
   "cell_type": "markdown",
   "metadata": {
    "id": "UE20E-wpqDU2"
   },
   "source": [
    "# Importando os dados."
   ]
  },
  {
   "cell_type": "code",
   "execution_count": 5,
   "metadata": {
    "executionInfo": {
     "elapsed": 4968,
     "status": "ok",
     "timestamp": 1649996573339,
     "user": {
      "displayName": "Antonio Junior",
      "userId": "09175545212585676126"
     },
     "user_tz": 180
    },
    "id": "8_UsiKO4qCPp"
   },
   "outputs": [],
   "source": [
    "df = pd.read_csv('dados_novos2.csv')"
   ]
  },
  {
   "cell_type": "code",
   "execution_count": 6,
   "metadata": {
    "colab": {
     "base_uri": "https://localhost:8080/",
     "height": 403
    },
    "executionInfo": {
     "elapsed": 26,
     "status": "ok",
     "timestamp": 1649996573344,
     "user": {
      "displayName": "Antonio Junior",
      "userId": "09175545212585676126"
     },
     "user_tz": 180
    },
    "id": "KWxKSgeTTmaO",
    "outputId": "45d5c380-c521-4c76-c477-9c88b6c89c4d"
   },
   "outputs": [
    {
     "data": {
      "text/html": [
       "<div>\n",
       "<style scoped>\n",
       "    .dataframe tbody tr th:only-of-type {\n",
       "        vertical-align: middle;\n",
       "    }\n",
       "\n",
       "    .dataframe tbody tr th {\n",
       "        vertical-align: top;\n",
       "    }\n",
       "\n",
       "    .dataframe thead th {\n",
       "        text-align: right;\n",
       "    }\n",
       "</style>\n",
       "<table border=\"1\" class=\"dataframe\">\n",
       "  <thead>\n",
       "    <tr style=\"text-align: right;\">\n",
       "      <th></th>\n",
       "      <th>Unnamed: 0</th>\n",
       "      <th>store</th>\n",
       "      <th>day_of_week</th>\n",
       "      <th>date</th>\n",
       "      <th>sales</th>\n",
       "      <th>customers</th>\n",
       "      <th>promo</th>\n",
       "      <th>school_holiday</th>\n",
       "      <th>competition_distance</th>\n",
       "      <th>competition_open_since_month</th>\n",
       "      <th>...</th>\n",
       "      <th>state_holiday_easter_holiday</th>\n",
       "      <th>state_holiday_public_holiday</th>\n",
       "      <th>state_holiday_regular_day</th>\n",
       "      <th>store_type_a</th>\n",
       "      <th>store_type_b</th>\n",
       "      <th>store_type_c</th>\n",
       "      <th>store_type_d</th>\n",
       "      <th>assortment_basic</th>\n",
       "      <th>assortment_extended</th>\n",
       "      <th>assortment_extra</th>\n",
       "    </tr>\n",
       "  </thead>\n",
       "  <tbody>\n",
       "    <tr>\n",
       "      <th>0</th>\n",
       "      <td>0</td>\n",
       "      <td>1115</td>\n",
       "      <td>4</td>\n",
       "      <td>2013-01-03</td>\n",
       "      <td>4297</td>\n",
       "      <td>300</td>\n",
       "      <td>0</td>\n",
       "      <td>1</td>\n",
       "      <td>5350.0</td>\n",
       "      <td>1</td>\n",
       "      <td>...</td>\n",
       "      <td>0</td>\n",
       "      <td>0</td>\n",
       "      <td>1</td>\n",
       "      <td>0</td>\n",
       "      <td>0</td>\n",
       "      <td>0</td>\n",
       "      <td>1</td>\n",
       "      <td>0</td>\n",
       "      <td>1</td>\n",
       "      <td>0</td>\n",
       "    </tr>\n",
       "    <tr>\n",
       "      <th>1</th>\n",
       "      <td>1</td>\n",
       "      <td>1114</td>\n",
       "      <td>4</td>\n",
       "      <td>2013-01-03</td>\n",
       "      <td>18463</td>\n",
       "      <td>3211</td>\n",
       "      <td>0</td>\n",
       "      <td>1</td>\n",
       "      <td>870.0</td>\n",
       "      <td>1</td>\n",
       "      <td>...</td>\n",
       "      <td>0</td>\n",
       "      <td>0</td>\n",
       "      <td>1</td>\n",
       "      <td>1</td>\n",
       "      <td>0</td>\n",
       "      <td>0</td>\n",
       "      <td>0</td>\n",
       "      <td>0</td>\n",
       "      <td>1</td>\n",
       "      <td>0</td>\n",
       "    </tr>\n",
       "    <tr>\n",
       "      <th>2</th>\n",
       "      <td>2</td>\n",
       "      <td>1113</td>\n",
       "      <td>4</td>\n",
       "      <td>2013-01-03</td>\n",
       "      <td>5563</td>\n",
       "      <td>718</td>\n",
       "      <td>0</td>\n",
       "      <td>1</td>\n",
       "      <td>9260.0</td>\n",
       "      <td>1</td>\n",
       "      <td>...</td>\n",
       "      <td>0</td>\n",
       "      <td>0</td>\n",
       "      <td>1</td>\n",
       "      <td>1</td>\n",
       "      <td>0</td>\n",
       "      <td>0</td>\n",
       "      <td>0</td>\n",
       "      <td>0</td>\n",
       "      <td>1</td>\n",
       "      <td>0</td>\n",
       "    </tr>\n",
       "    <tr>\n",
       "      <th>3</th>\n",
       "      <td>3</td>\n",
       "      <td>1112</td>\n",
       "      <td>4</td>\n",
       "      <td>2013-01-03</td>\n",
       "      <td>8716</td>\n",
       "      <td>809</td>\n",
       "      <td>0</td>\n",
       "      <td>1</td>\n",
       "      <td>1880.0</td>\n",
       "      <td>4</td>\n",
       "      <td>...</td>\n",
       "      <td>0</td>\n",
       "      <td>0</td>\n",
       "      <td>1</td>\n",
       "      <td>0</td>\n",
       "      <td>0</td>\n",
       "      <td>1</td>\n",
       "      <td>0</td>\n",
       "      <td>0</td>\n",
       "      <td>1</td>\n",
       "      <td>0</td>\n",
       "    </tr>\n",
       "    <tr>\n",
       "      <th>4</th>\n",
       "      <td>4</td>\n",
       "      <td>1111</td>\n",
       "      <td>4</td>\n",
       "      <td>2013-01-03</td>\n",
       "      <td>4579</td>\n",
       "      <td>444</td>\n",
       "      <td>0</td>\n",
       "      <td>1</td>\n",
       "      <td>1900.0</td>\n",
       "      <td>6</td>\n",
       "      <td>...</td>\n",
       "      <td>0</td>\n",
       "      <td>0</td>\n",
       "      <td>1</td>\n",
       "      <td>1</td>\n",
       "      <td>0</td>\n",
       "      <td>0</td>\n",
       "      <td>0</td>\n",
       "      <td>1</td>\n",
       "      <td>0</td>\n",
       "      <td>0</td>\n",
       "    </tr>\n",
       "  </tbody>\n",
       "</table>\n",
       "<p>5 rows × 32 columns</p>\n",
       "</div>"
      ],
      "text/plain": [
       "   Unnamed: 0  store  day_of_week        date  sales  customers  promo  \\\n",
       "0           0   1115            4  2013-01-03   4297        300      0   \n",
       "1           1   1114            4  2013-01-03  18463       3211      0   \n",
       "2           2   1113            4  2013-01-03   5563        718      0   \n",
       "3           3   1112            4  2013-01-03   8716        809      0   \n",
       "4           4   1111            4  2013-01-03   4579        444      0   \n",
       "\n",
       "   school_holiday  competition_distance  competition_open_since_month  ...  \\\n",
       "0               1                5350.0                             1  ...   \n",
       "1               1                 870.0                             1  ...   \n",
       "2               1                9260.0                             1  ...   \n",
       "3               1                1880.0                             4  ...   \n",
       "4               1                1900.0                             6  ...   \n",
       "\n",
       "   state_holiday_easter_holiday  state_holiday_public_holiday  \\\n",
       "0                             0                             0   \n",
       "1                             0                             0   \n",
       "2                             0                             0   \n",
       "3                             0                             0   \n",
       "4                             0                             0   \n",
       "\n",
       "   state_holiday_regular_day  store_type_a  store_type_b  store_type_c  \\\n",
       "0                          1             0             0             0   \n",
       "1                          1             1             0             0   \n",
       "2                          1             1             0             0   \n",
       "3                          1             0             0             1   \n",
       "4                          1             1             0             0   \n",
       "\n",
       "   store_type_d  assortment_basic  assortment_extended  assortment_extra  \n",
       "0             1                 0                    1                 0  \n",
       "1             0                 0                    1                 0  \n",
       "2             0                 0                    1                 0  \n",
       "3             0                 0                    1                 0  \n",
       "4             0                 1                    0                 0  \n",
       "\n",
       "[5 rows x 32 columns]"
      ]
     },
     "execution_count": 6,
     "metadata": {},
     "output_type": "execute_result"
    }
   ],
   "source": [
    "df.head() # vendo os dados"
   ]
  },
  {
   "cell_type": "code",
   "execution_count": 9,
   "metadata": {
    "executionInfo": {
     "elapsed": 22,
     "status": "ok",
     "timestamp": 1649996573345,
     "user": {
      "displayName": "Antonio Junior",
      "userId": "09175545212585676126"
     },
     "user_tz": 180
    },
    "id": "AVu4WZfRq4BH"
   },
   "outputs": [],
   "source": [
    "df = df.drop(columns = ['Unnamed: 0'])"
   ]
  },
  {
   "cell_type": "code",
   "execution_count": 10,
   "metadata": {
    "colab": {
     "base_uri": "https://localhost:8080/",
     "height": 386
    },
    "executionInfo": {
     "elapsed": 22,
     "status": "ok",
     "timestamp": 1649996573346,
     "user": {
      "displayName": "Antonio Junior",
      "userId": "09175545212585676126"
     },
     "user_tz": 180
    },
    "id": "Ie9KTJgwq81Q",
    "outputId": "f85aa6ee-2334-43b7-d616-5ae27c1b768e"
   },
   "outputs": [
    {
     "data": {
      "text/html": [
       "\n",
       "  <div id=\"df-3e960cd6-881f-4485-9af7-b0942b1716c4\">\n",
       "    <div class=\"colab-df-container\">\n",
       "      <div>\n",
       "<style scoped>\n",
       "    .dataframe tbody tr th:only-of-type {\n",
       "        vertical-align: middle;\n",
       "    }\n",
       "\n",
       "    .dataframe tbody tr th {\n",
       "        vertical-align: top;\n",
       "    }\n",
       "\n",
       "    .dataframe thead th {\n",
       "        text-align: right;\n",
       "    }\n",
       "</style>\n",
       "<table border=\"1\" class=\"dataframe\">\n",
       "  <thead>\n",
       "    <tr style=\"text-align: right;\">\n",
       "      <th></th>\n",
       "      <th>store</th>\n",
       "      <th>day_of_week</th>\n",
       "      <th>date</th>\n",
       "      <th>sales</th>\n",
       "      <th>customers</th>\n",
       "      <th>promo</th>\n",
       "      <th>school_holiday</th>\n",
       "      <th>competition_distance</th>\n",
       "      <th>competition_open_since_month</th>\n",
       "      <th>competition_open_since_year</th>\n",
       "      <th>...</th>\n",
       "      <th>state_holiday_easter_holiday</th>\n",
       "      <th>state_holiday_public_holiday</th>\n",
       "      <th>state_holiday_regular_day</th>\n",
       "      <th>store_type_a</th>\n",
       "      <th>store_type_b</th>\n",
       "      <th>store_type_c</th>\n",
       "      <th>store_type_d</th>\n",
       "      <th>assortment_basic</th>\n",
       "      <th>assortment_extended</th>\n",
       "      <th>assortment_extra</th>\n",
       "    </tr>\n",
       "  </thead>\n",
       "  <tbody>\n",
       "    <tr>\n",
       "      <th>0</th>\n",
       "      <td>1115</td>\n",
       "      <td>4</td>\n",
       "      <td>2013-01-03</td>\n",
       "      <td>4297</td>\n",
       "      <td>300</td>\n",
       "      <td>0</td>\n",
       "      <td>1</td>\n",
       "      <td>5350.0</td>\n",
       "      <td>1</td>\n",
       "      <td>2013</td>\n",
       "      <td>...</td>\n",
       "      <td>0</td>\n",
       "      <td>0</td>\n",
       "      <td>1</td>\n",
       "      <td>0</td>\n",
       "      <td>0</td>\n",
       "      <td>0</td>\n",
       "      <td>1</td>\n",
       "      <td>0</td>\n",
       "      <td>1</td>\n",
       "      <td>0</td>\n",
       "    </tr>\n",
       "    <tr>\n",
       "      <th>1</th>\n",
       "      <td>1114</td>\n",
       "      <td>4</td>\n",
       "      <td>2013-01-03</td>\n",
       "      <td>18463</td>\n",
       "      <td>3211</td>\n",
       "      <td>0</td>\n",
       "      <td>1</td>\n",
       "      <td>870.0</td>\n",
       "      <td>1</td>\n",
       "      <td>2013</td>\n",
       "      <td>...</td>\n",
       "      <td>0</td>\n",
       "      <td>0</td>\n",
       "      <td>1</td>\n",
       "      <td>1</td>\n",
       "      <td>0</td>\n",
       "      <td>0</td>\n",
       "      <td>0</td>\n",
       "      <td>0</td>\n",
       "      <td>1</td>\n",
       "      <td>0</td>\n",
       "    </tr>\n",
       "    <tr>\n",
       "      <th>2</th>\n",
       "      <td>1113</td>\n",
       "      <td>4</td>\n",
       "      <td>2013-01-03</td>\n",
       "      <td>5563</td>\n",
       "      <td>718</td>\n",
       "      <td>0</td>\n",
       "      <td>1</td>\n",
       "      <td>9260.0</td>\n",
       "      <td>1</td>\n",
       "      <td>2013</td>\n",
       "      <td>...</td>\n",
       "      <td>0</td>\n",
       "      <td>0</td>\n",
       "      <td>1</td>\n",
       "      <td>1</td>\n",
       "      <td>0</td>\n",
       "      <td>0</td>\n",
       "      <td>0</td>\n",
       "      <td>0</td>\n",
       "      <td>1</td>\n",
       "      <td>0</td>\n",
       "    </tr>\n",
       "    <tr>\n",
       "      <th>3</th>\n",
       "      <td>1112</td>\n",
       "      <td>4</td>\n",
       "      <td>2013-01-03</td>\n",
       "      <td>8716</td>\n",
       "      <td>809</td>\n",
       "      <td>0</td>\n",
       "      <td>1</td>\n",
       "      <td>1880.0</td>\n",
       "      <td>4</td>\n",
       "      <td>2006</td>\n",
       "      <td>...</td>\n",
       "      <td>0</td>\n",
       "      <td>0</td>\n",
       "      <td>1</td>\n",
       "      <td>0</td>\n",
       "      <td>0</td>\n",
       "      <td>1</td>\n",
       "      <td>0</td>\n",
       "      <td>0</td>\n",
       "      <td>1</td>\n",
       "      <td>0</td>\n",
       "    </tr>\n",
       "    <tr>\n",
       "      <th>4</th>\n",
       "      <td>1111</td>\n",
       "      <td>4</td>\n",
       "      <td>2013-01-03</td>\n",
       "      <td>4579</td>\n",
       "      <td>444</td>\n",
       "      <td>0</td>\n",
       "      <td>1</td>\n",
       "      <td>1900.0</td>\n",
       "      <td>6</td>\n",
       "      <td>2014</td>\n",
       "      <td>...</td>\n",
       "      <td>0</td>\n",
       "      <td>0</td>\n",
       "      <td>1</td>\n",
       "      <td>1</td>\n",
       "      <td>0</td>\n",
       "      <td>0</td>\n",
       "      <td>0</td>\n",
       "      <td>1</td>\n",
       "      <td>0</td>\n",
       "      <td>0</td>\n",
       "    </tr>\n",
       "  </tbody>\n",
       "</table>\n",
       "<p>5 rows × 31 columns</p>\n",
       "</div>\n",
       "      <button class=\"colab-df-convert\" onclick=\"convertToInteractive('df-3e960cd6-881f-4485-9af7-b0942b1716c4')\"\n",
       "              title=\"Convert this dataframe to an interactive table.\"\n",
       "              style=\"display:none;\">\n",
       "        \n",
       "  <svg xmlns=\"http://www.w3.org/2000/svg\" height=\"24px\"viewBox=\"0 0 24 24\"\n",
       "       width=\"24px\">\n",
       "    <path d=\"M0 0h24v24H0V0z\" fill=\"none\"/>\n",
       "    <path d=\"M18.56 5.44l.94 2.06.94-2.06 2.06-.94-2.06-.94-.94-2.06-.94 2.06-2.06.94zm-11 1L8.5 8.5l.94-2.06 2.06-.94-2.06-.94L8.5 2.5l-.94 2.06-2.06.94zm10 10l.94 2.06.94-2.06 2.06-.94-2.06-.94-.94-2.06-.94 2.06-2.06.94z\"/><path d=\"M17.41 7.96l-1.37-1.37c-.4-.4-.92-.59-1.43-.59-.52 0-1.04.2-1.43.59L10.3 9.45l-7.72 7.72c-.78.78-.78 2.05 0 2.83L4 21.41c.39.39.9.59 1.41.59.51 0 1.02-.2 1.41-.59l7.78-7.78 2.81-2.81c.8-.78.8-2.07 0-2.86zM5.41 20L4 18.59l7.72-7.72 1.47 1.35L5.41 20z\"/>\n",
       "  </svg>\n",
       "      </button>\n",
       "      \n",
       "  <style>\n",
       "    .colab-df-container {\n",
       "      display:flex;\n",
       "      flex-wrap:wrap;\n",
       "      gap: 12px;\n",
       "    }\n",
       "\n",
       "    .colab-df-convert {\n",
       "      background-color: #E8F0FE;\n",
       "      border: none;\n",
       "      border-radius: 50%;\n",
       "      cursor: pointer;\n",
       "      display: none;\n",
       "      fill: #1967D2;\n",
       "      height: 32px;\n",
       "      padding: 0 0 0 0;\n",
       "      width: 32px;\n",
       "    }\n",
       "\n",
       "    .colab-df-convert:hover {\n",
       "      background-color: #E2EBFA;\n",
       "      box-shadow: 0px 1px 2px rgba(60, 64, 67, 0.3), 0px 1px 3px 1px rgba(60, 64, 67, 0.15);\n",
       "      fill: #174EA6;\n",
       "    }\n",
       "\n",
       "    [theme=dark] .colab-df-convert {\n",
       "      background-color: #3B4455;\n",
       "      fill: #D2E3FC;\n",
       "    }\n",
       "\n",
       "    [theme=dark] .colab-df-convert:hover {\n",
       "      background-color: #434B5C;\n",
       "      box-shadow: 0px 1px 3px 1px rgba(0, 0, 0, 0.15);\n",
       "      filter: drop-shadow(0px 1px 2px rgba(0, 0, 0, 0.3));\n",
       "      fill: #FFFFFF;\n",
       "    }\n",
       "  </style>\n",
       "\n",
       "      <script>\n",
       "        const buttonEl =\n",
       "          document.querySelector('#df-3e960cd6-881f-4485-9af7-b0942b1716c4 button.colab-df-convert');\n",
       "        buttonEl.style.display =\n",
       "          google.colab.kernel.accessAllowed ? 'block' : 'none';\n",
       "\n",
       "        async function convertToInteractive(key) {\n",
       "          const element = document.querySelector('#df-3e960cd6-881f-4485-9af7-b0942b1716c4');\n",
       "          const dataTable =\n",
       "            await google.colab.kernel.invokeFunction('convertToInteractive',\n",
       "                                                     [key], {});\n",
       "          if (!dataTable) return;\n",
       "\n",
       "          const docLinkHtml = 'Like what you see? Visit the ' +\n",
       "            '<a target=\"_blank\" href=https://colab.research.google.com/notebooks/data_table.ipynb>data table notebook</a>'\n",
       "            + ' to learn more about interactive tables.';\n",
       "          element.innerHTML = '';\n",
       "          dataTable['output_type'] = 'display_data';\n",
       "          await google.colab.output.renderOutput(dataTable, element);\n",
       "          const docLink = document.createElement('div');\n",
       "          docLink.innerHTML = docLinkHtml;\n",
       "          element.appendChild(docLink);\n",
       "        }\n",
       "      </script>\n",
       "    </div>\n",
       "  </div>\n",
       "  "
      ],
      "text/plain": [
       "   store  day_of_week        date  sales  customers  promo  school_holiday  \\\n",
       "0   1115            4  2013-01-03   4297        300      0               1   \n",
       "1   1114            4  2013-01-03  18463       3211      0               1   \n",
       "2   1113            4  2013-01-03   5563        718      0               1   \n",
       "3   1112            4  2013-01-03   8716        809      0               1   \n",
       "4   1111            4  2013-01-03   4579        444      0               1   \n",
       "\n",
       "   competition_distance  competition_open_since_month  \\\n",
       "0                5350.0                             1   \n",
       "1                 870.0                             1   \n",
       "2                9260.0                             1   \n",
       "3                1880.0                             4   \n",
       "4                1900.0                             6   \n",
       "\n",
       "   competition_open_since_year  ...  state_holiday_easter_holiday  \\\n",
       "0                         2013  ...                             0   \n",
       "1                         2013  ...                             0   \n",
       "2                         2013  ...                             0   \n",
       "3                         2006  ...                             0   \n",
       "4                         2014  ...                             0   \n",
       "\n",
       "   state_holiday_public_holiday  state_holiday_regular_day  store_type_a  \\\n",
       "0                             0                          1             0   \n",
       "1                             0                          1             1   \n",
       "2                             0                          1             1   \n",
       "3                             0                          1             0   \n",
       "4                             0                          1             1   \n",
       "\n",
       "   store_type_b  store_type_c  store_type_d  assortment_basic  \\\n",
       "0             0             0             1                 0   \n",
       "1             0             0             0                 0   \n",
       "2             0             0             0                 0   \n",
       "3             0             1             0                 0   \n",
       "4             0             0             0                 1   \n",
       "\n",
       "   assortment_extended  assortment_extra  \n",
       "0                    1                 0  \n",
       "1                    1                 0  \n",
       "2                    1                 0  \n",
       "3                    1                 0  \n",
       "4                    0                 0  \n",
       "\n",
       "[5 rows x 31 columns]"
      ]
     },
     "execution_count": 10,
     "metadata": {},
     "output_type": "execute_result"
    }
   ],
   "source": [
    "df.head()"
   ]
  },
  {
   "cell_type": "code",
   "execution_count": 11,
   "metadata": {
    "colab": {
     "base_uri": "https://localhost:8080/"
    },
    "executionInfo": {
     "elapsed": 22,
     "status": "ok",
     "timestamp": 1649996573347,
     "user": {
      "displayName": "Antonio Junior",
      "userId": "09175545212585676126"
     },
     "user_tz": 180
    },
    "id": "LPhLA5eqgXZq",
    "outputId": "8b067ba9-6225-494d-a3e2-bdd30f31c54e"
   },
   "outputs": [
    {
     "name": "stdout",
     "output_type": "stream",
     "text": [
      "Número de colunas dos dados novos 31\n"
     ]
    }
   ],
   "source": [
    "print('Número de colunas dos dados novos',df.shape[1])"
   ]
  },
  {
   "cell_type": "code",
   "execution_count": 12,
   "metadata": {
    "colab": {
     "base_uri": "https://localhost:8080/"
    },
    "executionInfo": {
     "elapsed": 18,
     "status": "ok",
     "timestamp": 1649996573348,
     "user": {
      "displayName": "Antonio Junior",
      "userId": "09175545212585676126"
     },
     "user_tz": 180
    },
    "id": "TiGby3w9jfzv",
    "outputId": "e07330df-a841-4515-b042-19658127ca7f"
   },
   "outputs": [
    {
     "name": "stdout",
     "output_type": "stream",
     "text": [
      "Colunas Index(['store', 'day_of_week', 'date', 'sales', 'customers', 'promo',\n",
      "       'school_holiday', 'competition_distance',\n",
      "       'competition_open_since_month', 'competition_open_since_year', 'promo2',\n",
      "       'promo2_since_week', 'promo2_since_year', 'without_competition',\n",
      "       'is_promo', 'year', 'day', 'week_year', 'promo_time_week', 'Total_dias',\n",
      "       'state_holiday_christmas', 'state_holiday_easter_holiday',\n",
      "       'state_holiday_public_holiday', 'state_holiday_regular_day',\n",
      "       'store_type_a', 'store_type_b', 'store_type_c', 'store_type_d',\n",
      "       'assortment_basic', 'assortment_extended', 'assortment_extra'],\n",
      "      dtype='object')\n"
     ]
    }
   ],
   "source": [
    "print('Colunas',df.columns)"
   ]
  },
  {
   "cell_type": "code",
   "execution_count": 13,
   "metadata": {
    "executionInfo": {
     "elapsed": 5,
     "status": "ok",
     "timestamp": 1649996573738,
     "user": {
      "displayName": "Antonio Junior",
      "userId": "09175545212585676126"
     },
     "user_tz": 180
    },
    "id": "juxjBe6-jf1P"
   },
   "outputs": [],
   "source": [
    "df['date'] = pd.to_datetime(df['date'])\n",
    "\n",
    "#dias_mes = []\n",
    "#for i in range(1,13):\n",
    "#  dias_mes.append(np.max(df['date'].dt.day[df['date'].dt.month == i]))\n",
    "\n",
    "#soma_dias = []\n",
    "\n",
    "#for i in range(1,13):\n",
    "#  soma_dias.append(np.sum(dias_mes[:i]))\n",
    "\n",
    "#vetor = np.zeros(df.shape[0])\n",
    "\n",
    "#for i in range(2,13):\n",
    "#  vetor[df['date'].dt.month == i] = soma_dias[i -2]\n",
    "\n",
    "#df['Total_dias']= vetor + df['date'].dt.day \n",
    "\n",
    "#df['Total_dias'][df['year'] == 2014] = df['Total_dias'][df['year'] == 2014] +  df['Total_dias'][df['year'] == 2013].unique()[0]\n",
    "#df['Total_dias'][df['year'] == 2015] = df['Total_dias'][df['year'] == 2015] +   df['Total_dias'][df['year'] == 2014].unique()[0]"
   ]
  },
  {
   "cell_type": "code",
   "execution_count": 14,
   "metadata": {
    "colab": {
     "base_uri": "https://localhost:8080/"
    },
    "executionInfo": {
     "elapsed": 503,
     "status": "ok",
     "timestamp": 1649996577708,
     "user": {
      "displayName": "Antonio Junior",
      "userId": "09175545212585676126"
     },
     "user_tz": 180
    },
    "id": "1FO9kpGyP97N",
    "outputId": "8a4fd7cb-c0e8-4811-e0c6-6e0e93bb865c"
   },
   "outputs": [
    {
     "data": {
      "text/plain": [
       "(731432, 31)"
      ]
     },
     "execution_count": 14,
     "metadata": {},
     "output_type": "execute_result"
    }
   ],
   "source": [
    "df.shape"
   ]
  },
  {
   "cell_type": "code",
   "execution_count": 15,
   "metadata": {
    "executionInfo": {
     "elapsed": 3,
     "status": "ok",
     "timestamp": 1649996577983,
     "user": {
      "displayName": "Antonio Junior",
      "userId": "09175545212585676126"
     },
     "user_tz": 180
    },
    "id": "RAZj74nSBSAA"
   },
   "outputs": [],
   "source": [
    "df.index = np.arange(df.shape[0])"
   ]
  },
  {
   "cell_type": "markdown",
   "metadata": {
    "id": "n0fNfHUXp8A_"
   },
   "source": [
    "# Resultado base"
   ]
  },
  {
   "cell_type": "code",
   "execution_count": null,
   "metadata": {
    "id": "SW3PyEK7BkKa"
   },
   "outputs": [],
   "source": [
    "X1n ,Y1n,Date = dados_teste_val(df)"
   ]
  },
  {
   "cell_type": "code",
   "execution_count": null,
   "metadata": {
    "id": "suJSrvw5kGVx"
   },
   "outputs": [],
   "source": [
    "#X1n"
   ]
  },
  {
   "cell_type": "code",
   "execution_count": null,
   "metadata": {
    "id": "kES5dSfukjlv"
   },
   "outputs": [],
   "source": [
    "#X1n['Total_dias'] "
   ]
  },
  {
   "cell_type": "code",
   "execution_count": null,
   "metadata": {
    "id": "2iQd4UrVmMxC"
   },
   "outputs": [],
   "source": [
    "#X1n.shape"
   ]
  },
  {
   "cell_type": "code",
   "execution_count": null,
   "metadata": {
    "id": "efFl68ehmMy1"
   },
   "outputs": [],
   "source": [
    "#Date"
   ]
  },
  {
   "cell_type": "code",
   "execution_count": null,
   "metadata": {
    "id": "5xszG_jAqj88"
   },
   "outputs": [],
   "source": [
    "# Modelo padrão\n",
    "model    = RandomForestRegressor(n_estimators = 10,random_state = 10) "
   ]
  },
  {
   "cell_type": "code",
   "execution_count": null,
   "metadata": {
    "colab": {
     "base_uri": "https://localhost:8080/"
    },
    "executionInfo": {
     "elapsed": 309872,
     "status": "ok",
     "timestamp": 1649261805447,
     "user": {
      "displayName": "Antonio Junior",
      "userId": "09175545212585676126"
     },
     "user_tz": 180
    },
    "id": "SpExcOlJ6FH3",
    "outputId": "09b344ea-5938-4057-f52c-cd5037285984"
   },
   "outputs": [
    {
     "name": "stdout",
     "output_type": "stream",
     "text": [
      "target Normal\n",
      "Data do inicio do treinamento: 2013-01-03 Data do final do treinamento : 2014-11-19\n",
      "Data do inicio do Validação  : 2014-11-20 Data do final do Validação   : 2015-01-01\n",
      "MAPE:  7.69532\n",
      "RMSLE: 0.00935\n",
      "RMSE:  873.09006\n",
      "Data do inicio do treinamento: 2013-01-03 Data do final do treinamento : 2014-12-31\n",
      "Data do inicio do Validação  : 2015-01-01 Data do final do Validação   : 2015-02-12\n",
      "MAPE:  5.49674\n",
      "RMSLE: 0.00534\n",
      "RMSE:  522.02559\n",
      "Data do inicio do treinamento: 2013-01-03 Data do final do treinamento : 2015-02-11\n",
      "Data do inicio do Validação  : 2015-02-12 Data do final do Validação   : 2015-03-26\n",
      "MAPE:  4.94108\n",
      "RMSLE: 0.00405\n",
      "RMSE:  418.54035\n",
      "Data do inicio do treinamento: 2013-01-03 Data do final do treinamento : 2015-03-25\n",
      "Data do inicio do Validação  : 2015-03-26 Data do final do Validação   : 2015-05-07\n",
      "MAPE:  5.90489\n",
      "RMSLE: 0.00586\n",
      "RMSE:  677.13069\n",
      "Data do inicio do treinamento: 2013-01-03 Data do final do treinamento : 2015-05-06\n",
      "Data do inicio do Validação  : 2015-05-07 Data do final do Validação   : 2015-06-18\n",
      "MAPE:  5.26655\n",
      "RMSLE: 0.00455\n",
      "RMSE:  510.13481\n",
      "Mape Geral:  5.86092 Std: 0.96943 Erro: 0.43354\n",
      "Rmsle Geral: 0.00583 Std: 0.00187 Erro: 0.00084\n",
      "Rmse Geral:  600.18430 Std: 159.75639 Erro: 71.44523\n"
     ]
    }
   ],
   "source": [
    "print('target Normal')\n",
    "vetor_MAPE1_n,vetor_MSLR1_n,vetor_RMSE1_n = validation(X1n,Y1n,'sales','normal',Date)"
   ]
  },
  {
   "cell_type": "markdown",
   "metadata": {
    "id": "lQmHUXIzAhmE"
   },
   "source": [
    "# Mudando a representação das variáveis temporais\n",
    "* As variáveis temporais geralmente são utilizadas para representar a sazonalidade de uma série temporal. Uma maneira de escrever ela foi através de um seno ou cosseno. \n",
    " \n",
    " \n",
    " \n"
   ]
  },
  {
   "cell_type": "code",
   "execution_count": 16,
   "metadata": {
    "executionInfo": {
     "elapsed": 373,
     "status": "ok",
     "timestamp": 1649996585515,
     "user": {
      "displayName": "Antonio Junior",
      "userId": "09175545212585676126"
     },
     "user_tz": 180
    },
    "id": "O8F2WluRCAtG"
   },
   "outputs": [],
   "source": [
    "df1 = df.copy()"
   ]
  },
  {
   "cell_type": "code",
   "execution_count": 16,
   "metadata": {
    "executionInfo": {
     "elapsed": 3,
     "status": "ok",
     "timestamp": 1649996585850,
     "user": {
      "displayName": "Antonio Junior",
      "userId": "09175545212585676126"
     },
     "user_tz": 180
    },
    "id": "8SxpV2hcHJSX"
   },
   "outputs": [],
   "source": []
  },
  {
   "cell_type": "code",
   "execution_count": 17,
   "metadata": {
    "executionInfo": {
     "elapsed": 6422,
     "status": "ok",
     "timestamp": 1649996592547,
     "user": {
      "displayName": "Antonio Junior",
      "userId": "09175545212585676126"
     },
     "user_tz": 180
    },
    "id": "aukW09ZpBKiy"
   },
   "outputs": [],
   "source": [
    "# Representando os dias da semana por combinação de seno e cosseno\n",
    "df1['day_of_week_sin'] = df['day_of_week'].apply(lambda x: np.sin( x * (2. * np.pi/7)))\n",
    "df1['day_of_week_cos'] = df['day_of_week'].apply(lambda x: np.cos( x * (2. * np.pi/7)))\n",
    "\n",
    "\n",
    "# day \n",
    "df1['day_sin'] = df1['day'].apply(lambda x: np.sin(x * (2. * np.pi/30)))\n",
    "df1['day_cos'] = df1['day'].apply(lambda x: np.cos(x * (2. * np.pi/30)))\n",
    "\n",
    "# week of year\n",
    "df1['week_year_sin'] = df1['week_year'].apply(lambda x: np.sin(x * (2. * np.pi/52)))\n",
    "df1['week_year_cos'] = df1['week_year'].apply(lambda x: np.cos(x * (2. * np.pi/52)))"
   ]
  },
  {
   "cell_type": "code",
   "execution_count": 18,
   "metadata": {
    "colab": {
     "base_uri": "https://localhost:8080/"
    },
    "executionInfo": {
     "elapsed": 12,
     "status": "ok",
     "timestamp": 1649996592548,
     "user": {
      "displayName": "Antonio Junior",
      "userId": "09175545212585676126"
     },
     "user_tz": 180
    },
    "id": "ZDt-lF3LhlII",
    "outputId": "16931f8a-f9b9-4586-f166-c8ccddeb9839"
   },
   "outputs": [
    {
     "data": {
      "text/plain": [
       "(731432, 37)"
      ]
     },
     "execution_count": 18,
     "metadata": {},
     "output_type": "execute_result"
    }
   ],
   "source": [
    "df1.shape"
   ]
  },
  {
   "cell_type": "code",
   "execution_count": 19,
   "metadata": {
    "executionInfo": {
     "elapsed": 9,
     "status": "ok",
     "timestamp": 1649996592548,
     "user": {
      "displayName": "Antonio Junior",
      "userId": "09175545212585676126"
     },
     "user_tz": 180
    },
    "id": "2keJ9rjqCgSC"
   },
   "outputs": [],
   "source": [
    "df1 = df1.drop(columns = ['day_of_week','week_year','day'])"
   ]
  },
  {
   "cell_type": "code",
   "execution_count": 20,
   "metadata": {
    "colab": {
     "base_uri": "https://localhost:8080/"
    },
    "executionInfo": {
     "elapsed": 9,
     "status": "ok",
     "timestamp": 1649996592549,
     "user": {
      "displayName": "Antonio Junior",
      "userId": "09175545212585676126"
     },
     "user_tz": 180
    },
    "id": "IV8JvCJLheGU",
    "outputId": "1f9ea094-df38-4956-892f-8e29ace1c281"
   },
   "outputs": [
    {
     "data": {
      "text/plain": [
       "(731432, 34)"
      ]
     },
     "execution_count": 20,
     "metadata": {},
     "output_type": "execute_result"
    }
   ],
   "source": [
    "df1.shape"
   ]
  },
  {
   "cell_type": "code",
   "execution_count": null,
   "metadata": {
    "id": "VWmpNezyHhiU"
   },
   "outputs": [],
   "source": [
    "X1t ,Y1_nt,Date = dados_teste_val(df1)"
   ]
  },
  {
   "cell_type": "code",
   "execution_count": null,
   "metadata": {
    "colab": {
     "base_uri": "https://localhost:8080/"
    },
    "executionInfo": {
     "elapsed": 353105,
     "status": "ok",
     "timestamp": 1649262165415,
     "user": {
      "displayName": "Antonio Junior",
      "userId": "09175545212585676126"
     },
     "user_tz": 180
    },
    "id": "Zy6HuDiXxois",
    "outputId": "523a361a-20d9-4dc6-b42c-81fc903eb9bf"
   },
   "outputs": [
    {
     "name": "stdout",
     "output_type": "stream",
     "text": [
      "Data do inicio do treinamento: 2013-01-03 Data do final do treinamento : 2014-11-19\n",
      "Data do inicio do Validação  : 2014-11-20 Data do final do Validação   : 2015-01-01\n",
      "MAPE:  7.65322\n",
      "RMSLE: 0.00922\n",
      "RMSE:  866.78238\n",
      "Data do inicio do treinamento: 2013-01-03 Data do final do treinamento : 2014-12-31\n",
      "Data do inicio do Validação  : 2015-01-01 Data do final do Validação   : 2015-02-12\n",
      "MAPE:  5.58169\n",
      "RMSLE: 0.00556\n",
      "RMSE:  537.21097\n",
      "Data do inicio do treinamento: 2013-01-03 Data do final do treinamento : 2015-02-11\n",
      "Data do inicio do Validação  : 2015-02-12 Data do final do Validação   : 2015-03-26\n",
      "MAPE:  5.06326\n",
      "RMSLE: 0.00420\n",
      "RMSE:  429.53577\n",
      "Data do inicio do treinamento: 2013-01-03 Data do final do treinamento : 2015-03-25\n",
      "Data do inicio do Validação  : 2015-03-26 Data do final do Validação   : 2015-05-07\n",
      "MAPE:  5.89637\n",
      "RMSLE: 0.00585\n",
      "RMSE:  670.58555\n",
      "Data do inicio do treinamento: 2013-01-03 Data do final do treinamento : 2015-05-06\n",
      "Data do inicio do Validação  : 2015-05-07 Data do final do Validação   : 2015-06-18\n",
      "MAPE:  5.32251\n",
      "RMSLE: 0.00465\n",
      "RMSE:  517.32127\n",
      "Mape Geral:  5.90341 Std: 0.91746 Erro: 0.41030\n",
      "Rmsle Geral: 0.0059 Std: 0.00177 Erro: 0.00079\n",
      "Rmse Geral:  604.28719 Std: 152.2495 Erro: 68.08804\n",
      "\n",
      "\n"
     ]
    }
   ],
   "source": [
    "vetor_MAPEt,vetor_MSLRt,vetor_RMSEt = validation(X1t,Y1_nt,'sales','normal',Date)\n",
    "print('\\n')"
   ]
  },
  {
   "cell_type": "code",
   "execution_count": null,
   "metadata": {
    "id": "f9QehbgtL6fB"
   },
   "outputs": [],
   "source": []
  },
  {
   "cell_type": "markdown",
   "metadata": {
    "id": "TYGVJ0RwL14l"
   },
   "source": [
    "### Avaliando os valores\n",
    "\n",
    "---\n",
    "---\n",
    "* Mape Geral v0:  5.86092 Std: 0.96943 Erro: 0.43354\n",
    "* Mape Geral tT:  5.90341 Std: 0.91746 Erro: 0.41030\n",
    "\n",
    "---\n",
    "---\n",
    "* Rmsle Geral v0:  0.00583 Std: 0.00187 Erro: 0.00084\n",
    "* Rmsle Geral tT:  0.00590 Std: 0.00177 Erro: 0.00079\n",
    "\n",
    "---\n",
    "---\n",
    "* Rmse Geral v0: 600.18430 Std: 159.75639 Erro: 71.44523\n",
    "* Rmse Geral tT: 604.28719 Std: 152.24950 Erro: 68.08804\n",
    "---\n",
    "---\n",
    "\n",
    "\n",
    "\n",
    "\n",
    "\n"
   ]
  },
  {
   "cell_type": "markdown",
   "metadata": {
    "id": "oBZgQ9TvJLV_"
   },
   "source": [
    "* Vendo qual seno ou cosseno que melhor representa a sazonalidade."
   ]
  },
  {
   "cell_type": "code",
   "execution_count": 21,
   "metadata": {
    "executionInfo": {
     "elapsed": 656,
     "status": "ok",
     "timestamp": 1649996605878,
     "user": {
      "displayName": "Antonio Junior",
      "userId": "09175545212585676126"
     },
     "user_tz": 180
    },
    "id": "yqhhtc3Cx5-q"
   },
   "outputs": [],
   "source": [
    "col1 = ['day_of_week_sin','day_of_week_cos']\n",
    "col2 = ['day_sin','day_cos']\n",
    "col3 = ['week_year_sin','week_year_cos']"
   ]
  },
  {
   "cell_type": "code",
   "execution_count": null,
   "metadata": {
    "colab": {
     "base_uri": "https://localhost:8080/"
    },
    "executionInfo": {
     "elapsed": 694864,
     "status": "ok",
     "timestamp": 1649262860253,
     "user": {
      "displayName": "Antonio Junior",
      "userId": "09175545212585676126"
     },
     "user_tz": 180
    },
    "id": "p3BekRllyFjc",
    "outputId": "b2c7b578-a486-46bc-91fe-5ac44f3c2d18"
   },
   "outputs": [
    {
     "name": "stdout",
     "output_type": "stream",
     "text": [
      "Coluna removida: day_of_week_sin\n",
      "Data do inicio do treinamento: 2013-01-03 Data do final do treinamento : 2014-11-19\n",
      "Data do inicio do Validação  : 2014-11-20 Data do final do Validação   : 2015-01-01\n",
      "MAPE:  7.47829\n",
      "RMSLE: 0.00888\n",
      "RMSE:  850.23478\n",
      "Data do inicio do treinamento: 2013-01-03 Data do final do treinamento : 2014-12-31\n",
      "Data do inicio do Validação  : 2015-01-01 Data do final do Validação   : 2015-02-12\n",
      "MAPE:  5.66313\n",
      "RMSLE: 0.0057\n",
      "RMSE:  544.56057\n",
      "Data do inicio do treinamento: 2013-01-03 Data do final do treinamento : 2015-02-11\n",
      "Data do inicio do Validação  : 2015-02-12 Data do final do Validação   : 2015-03-26\n",
      "MAPE:  5.20150\n",
      "RMSLE: 0.00443\n",
      "RMSE:  440.65207\n",
      "Data do inicio do treinamento: 2013-01-03 Data do final do treinamento : 2015-03-25\n",
      "Data do inicio do Validação  : 2015-03-26 Data do final do Validação   : 2015-05-07\n",
      "MAPE:  6.03197\n",
      "RMSLE: 0.00606\n",
      "RMSE:  680.88028\n",
      "Data do inicio do treinamento: 2013-01-03 Data do final do treinamento : 2015-05-06\n",
      "Data do inicio do Validação  : 2015-05-07 Data do final do Validação   : 2015-06-18\n",
      "MAPE:  5.33777\n",
      "RMSLE: 0.00466\n",
      "RMSE:  520.10509\n",
      "Mape Geral:  5.94254 Std: 0.81969 Erro: 0.36658\n",
      "Rmsle Geral: 0.00595 Std: 0.00159 Erro: 0.00071\n",
      "Rmse Geral:  607.28656 Std: 144.04311 Erro: 64.41804\n",
      "\n",
      "\n",
      "Coluna removida: day_of_week_cos\n",
      "Data do inicio do treinamento: 2013-01-03 Data do final do treinamento : 2014-11-19\n",
      "Data do inicio do Validação  : 2014-11-20 Data do final do Validação   : 2015-01-01\n",
      "MAPE:  7.71349\n",
      "RMSLE: 0.00936\n",
      "RMSE:  872.22584\n",
      "Data do inicio do treinamento: 2013-01-03 Data do final do treinamento : 2014-12-31\n",
      "Data do inicio do Validação  : 2015-01-01 Data do final do Validação   : 2015-02-12\n",
      "MAPE:  5.62577\n",
      "RMSLE: 0.00569\n",
      "RMSE:  544.43879\n",
      "Data do inicio do treinamento: 2013-01-03 Data do final do treinamento : 2015-02-11\n",
      "Data do inicio do Validação  : 2015-02-12 Data do final do Validação   : 2015-03-26\n",
      "MAPE:  5.07202\n",
      "RMSLE: 0.00424\n",
      "RMSE:  432.01489\n",
      "Data do inicio do treinamento: 2013-01-03 Data do final do treinamento : 2015-03-25\n",
      "Data do inicio do Validação  : 2015-03-26 Data do final do Validação   : 2015-05-07\n",
      "MAPE:  5.90309\n",
      "RMSLE: 0.00581\n",
      "RMSE:  667.0906\n",
      "Data do inicio do treinamento: 2013-01-03 Data do final do treinamento : 2015-05-06\n",
      "Data do inicio do Validação  : 2015-05-07 Data do final do Validação   : 2015-06-18\n",
      "MAPE:  5.32511\n",
      "RMSLE: 0.00467\n",
      "RMSE:  520.68272\n",
      "Mape Geral:  5.9279 Std: 0.93553 Erro: 0.41838\n",
      "Rmsle Geral: 0.00596 Std: 0.00180 Erro: 0.00081\n",
      "Rmse Geral:  607.29057 Std: 152.27578 Erro: 68.0998\n",
      "\n",
      "\n"
     ]
    }
   ],
   "source": [
    "for i in range(len(col1)):\n",
    "  X1_c =X1t.copy() \n",
    "  print('Coluna removida:',col1[i])\n",
    "  vetor_MAPE1_n_r,vetor_MSLR1_n_r,vetor_RMSE1_n_r = validation(X1_c.drop(columns = col1[i]),Y1_nt,'sales','normal',Date)\n",
    "  print('\\n')\n",
    "  del X1_c"
   ]
  },
  {
   "cell_type": "code",
   "execution_count": null,
   "metadata": {
    "id": "DFMBL-uA-aJ3"
   },
   "outputs": [],
   "source": []
  },
  {
   "cell_type": "markdown",
   "metadata": {
    "id": "EjrWoRp7M8D1"
   },
   "source": [
    "### Avaliando os valores\n",
    "\n",
    "\n",
    "---\n",
    "---\n",
    "* Mape Geral v0:  5.86092 Std: 0.96943 Erro: 0.43354\n",
    "* Mape Geral tT:  5.90341 Std: 0.91746 Erro: 0.41030\n",
    "* Mape Geral t1:  5.94254 Std: 0.81969 Erro: 0.36658\n",
    "* Mape Geral t2:  5.9279 Std: 0.93553 Erro: 0.41838\n",
    "---\n",
    "---\n",
    "* Rmsle Geral v0:  0.00583 Std: 0.00187 Erro: 0.00084\n",
    "* Rmsle Geral tT:  0.00590 Std: 0.00177 Erro: 0.00079\n",
    "* Rmsle Geral t1:  0.00595 Std: 0.00159 Erro: 0.00071\n",
    "* Rmsle Geral t2:  0.00596 Std: 0.00180 Erro: 0.00081\n",
    "---\n",
    "---\n",
    "* Rmse Geral v0: 600.18430 Std: 159.75639 Erro: 71.44523\n",
    "* Rmse Geral tT: 604.28719 Std: 152.24950 Erro: 68.08804\n",
    "* Rmse Geral t1: 607.28656 Std: 144.04311 Erro: 64.41804\n",
    "* Rmse Geral t2: 607.29057 Std: 152.27578 Erro: 68.0998\n",
    "---\n",
    "---\n",
    "\n",
    "\n",
    "\n",
    "\n",
    "\n",
    "\n",
    "\n",
    "\n",
    "\n",
    "\n"
   ]
  },
  {
   "cell_type": "code",
   "execution_count": null,
   "metadata": {
    "colab": {
     "base_uri": "https://localhost:8080/"
    },
    "executionInfo": {
     "elapsed": 650266,
     "status": "ok",
     "timestamp": 1649263510515,
     "user": {
      "displayName": "Antonio Junior",
      "userId": "09175545212585676126"
     },
     "user_tz": 180
    },
    "id": "8ZAc8mhI_rrX",
    "outputId": "4130e4fa-07e5-4e73-86af-c32ef477211e"
   },
   "outputs": [
    {
     "name": "stdout",
     "output_type": "stream",
     "text": [
      "Coluna removida: day_sin\n",
      "Data do inicio do treinamento: 2013-01-03 Data do final do treinamento : 2014-11-19\n",
      "Data do inicio do Validação  : 2014-11-20 Data do final do Validação   : 2015-01-01\n",
      "MAPE:  7.57228\n",
      "RMSLE: 0.00908\n",
      "RMSE:  862.76692\n",
      "Data do inicio do treinamento: 2013-01-03 Data do final do treinamento : 2014-12-31\n",
      "Data do inicio do Validação  : 2015-01-01 Data do final do Validação   : 2015-02-12\n",
      "MAPE:  5.55561\n",
      "RMSLE: 0.00550\n",
      "RMSE:  531.69026\n",
      "Data do inicio do treinamento: 2013-01-03 Data do final do treinamento : 2015-02-11\n",
      "Data do inicio do Validação  : 2015-02-12 Data do final do Validação   : 2015-03-26\n",
      "MAPE:  5.02945\n",
      "RMSLE: 0.00416\n",
      "RMSE:  426.93079\n",
      "Data do inicio do treinamento: 2013-01-03 Data do final do treinamento : 2015-03-25\n",
      "Data do inicio do Validação  : 2015-03-26 Data do final do Validação   : 2015-05-07\n",
      "MAPE:  5.90653\n",
      "RMSLE: 0.00582\n",
      "RMSE:  668.86498\n",
      "Data do inicio do treinamento: 2013-01-03 Data do final do treinamento : 2015-05-06\n",
      "Data do inicio do Validação  : 2015-05-07 Data do final do Validação   : 2015-06-18\n",
      "MAPE:  5.32328\n",
      "RMSLE: 0.00466\n",
      "RMSE:  517.99541\n",
      "Mape Geral:  5.87743 Std: 0.89477 Erro: 0.40015\n",
      "Rmsle Geral: 0.00584 Std: 0.00172 Erro: 0.00077\n",
      "Rmse Geral:  601.64967 Std: 151.73606 Erro: 67.85843\n",
      "\n",
      "\n",
      "Coluna removida: day_cos\n",
      "Data do inicio do treinamento: 2013-01-03 Data do final do treinamento : 2014-11-19\n",
      "Data do inicio do Validação  : 2014-11-20 Data do final do Validação   : 2015-01-01\n",
      "MAPE:  7.60345\n",
      "RMSLE: 0.00906\n",
      "RMSE:  857.60174\n",
      "Data do inicio do treinamento: 2013-01-03 Data do final do treinamento : 2014-12-31\n",
      "Data do inicio do Validação  : 2015-01-01 Data do final do Validação   : 2015-02-12\n",
      "MAPE:  5.60448\n",
      "RMSLE: 0.00561\n",
      "RMSE:  539.52416\n",
      "Data do inicio do treinamento: 2013-01-03 Data do final do treinamento : 2015-02-11\n",
      "Data do inicio do Validação  : 2015-02-12 Data do final do Validação   : 2015-03-26\n",
      "MAPE:  5.01597\n",
      "RMSLE: 0.00416\n",
      "RMSE:  425.35611\n",
      "Data do inicio do treinamento: 2013-01-03 Data do final do treinamento : 2015-03-25\n",
      "Data do inicio do Validação  : 2015-03-26 Data do final do Validação   : 2015-05-07\n",
      "MAPE:  5.96677\n",
      "RMSLE: 0.00594\n",
      "RMSE:  676.45186\n",
      "Data do inicio do treinamento: 2013-01-03 Data do final do treinamento : 2015-05-06\n",
      "Data do inicio do Validação  : 2015-05-07 Data do final do Validação   : 2015-06-18\n",
      "MAPE:  5.27100\n",
      "RMSLE: 0.00461\n",
      "RMSE:  511.77906\n",
      "Mape Geral:  5.89233 Std: 0.91328 Erro: 0.40843\n",
      "Rmsle Geral: 0.00588 Std: 0.00172 Erro: 0.00077\n",
      "Rmse Geral:  602.14259 Std: 151.07703 Erro: 67.5637\n",
      "\n",
      "\n"
     ]
    }
   ],
   "source": [
    "for i in range(len(col2)):\n",
    "  X1_c =X1t.copy() \n",
    "  print('Coluna removida:',col2[i])\n",
    "  vetor_MAPE1_n_r,vetor_MSLR1_n_r,vetor_RMSE1_n_r = validation(X1_c.drop(columns = col2[i]),Y1_nt,'sales','normal',Date)\n",
    "  print('\\n')\n",
    "  del X1_c"
   ]
  },
  {
   "cell_type": "code",
   "execution_count": null,
   "metadata": {
    "id": "A0nSMKV4OTRy"
   },
   "outputs": [],
   "source": []
  },
  {
   "cell_type": "markdown",
   "metadata": {
    "id": "3gymGqbSQNZv"
   },
   "source": [
    "### Avaliando os valores\n",
    "\n",
    "\n",
    "---\n",
    "---\n",
    "* Mape Geral v0:  5.86092 Std: 0.96943 Erro: 0.43354\n",
    "* Mape Geral tT:  5.90341 Std: 0.91746 Erro: 0.41030\n",
    "* Mape Geral t1:  5.94254 Std: 0.81969 Erro: 0.36658\n",
    "* Mape Geral t2:  5.92790 Std: 0.93553 Erro: 0.41838\n",
    "* Mape Geral t3:  5.87743 Std: 0.89477 Erro: 0.40015\n",
    "* Mape Geral t4:  5.87743 Std: 0.89477 Erro: 0.40015\n",
    "---\n",
    "---\n",
    "* Rmsle Geral v0:  0.00583 Std: 0.00187 Erro: 0.00084\n",
    "* Rmsle Geral tT:  0.00590 Std: 0.00177 Erro: 0.00079\n",
    "* Rmsle Geral t1:  0.00595 Std: 0.00159 Erro: 0.00071\n",
    "* Rmsle Geral t2:  0.00596 Std: 0.00180 Erro: 0.00081\n",
    "* Rmsle Geral t3:  0.00584 Std: 0.00172 Erro: 0.00077\n",
    "* Rmsle Geral t4:  0.00592 Std: 0.00172 Erro: 0.00077\n",
    "---\n",
    "---\n",
    "* Rmse Geral v0: 600.18430 Std: 159.75639 Erro: 71.44523\n",
    "* Rmse Geral tT: 604.28719 Std: 152.24950 Erro: 68.08804\n",
    "* Rmse Geral t1: 607.28656 Std: 144.04311 Erro: 64.41804\n",
    "* Rmse Geral t2: 607.29057 Std: 152.27578 Erro: 68.09980\n",
    "* Rmse Geral t3: 601.64967 Std: 151.73606 Erro: 67.85843\n",
    "* Rmse Geral t4: 602.86198 Std: 152.19446 Erro: 68.06343\n",
    "---\n",
    "---\n",
    "\n",
    "\n",
    "\n",
    "\n",
    "\n",
    "\n",
    "\n",
    "\n",
    "\n",
    "\n"
   ]
  },
  {
   "cell_type": "code",
   "execution_count": null,
   "metadata": {
    "colab": {
     "base_uri": "https://localhost:8080/"
    },
    "executionInfo": {
     "elapsed": 651471,
     "status": "ok",
     "timestamp": 1649264161972,
     "user": {
      "displayName": "Antonio Junior",
      "userId": "09175545212585676126"
     },
     "user_tz": 180
    },
    "id": "G6ajD2yYQy4-",
    "outputId": "9a05eea9-dbb2-4b04-b1bf-028fb084ea8c"
   },
   "outputs": [
    {
     "name": "stdout",
     "output_type": "stream",
     "text": [
      "Coluna removida: week_year_sin\n",
      "Data do inicio do treinamento: 2013-01-03 Data do final do treinamento : 2014-11-19\n",
      "Data do inicio do Validação  : 2014-11-20 Data do final do Validação   : 2015-01-01\n",
      "MAPE:  7.73559\n",
      "RMSLE: 0.00935\n",
      "RMSE:  870.85175\n",
      "Data do inicio do treinamento: 2013-01-03 Data do final do treinamento : 2014-12-31\n",
      "Data do inicio do Validação  : 2015-01-01 Data do final do Validação   : 2015-02-12\n",
      "MAPE:  5.59119\n",
      "RMSLE: 0.00561\n",
      "RMSE:  540.87084\n",
      "Data do inicio do treinamento: 2013-01-03 Data do final do treinamento : 2015-02-11\n",
      "Data do inicio do Validação  : 2015-02-12 Data do final do Validação   : 2015-03-26\n",
      "MAPE:  5.01511\n",
      "RMSLE: 0.00412\n",
      "RMSE:  423.56655\n",
      "Data do inicio do treinamento: 2013-01-03 Data do final do treinamento : 2015-03-25\n",
      "Data do inicio do Validação  : 2015-03-26 Data do final do Validação   : 2015-05-07\n",
      "MAPE:  5.88429\n",
      "RMSLE: 0.00582\n",
      "RMSE:  666.23381\n",
      "Data do inicio do treinamento: 2013-01-03 Data do final do treinamento : 2015-05-06\n",
      "Data do inicio do Validação  : 2015-05-07 Data do final do Validação   : 2015-06-18\n",
      "MAPE:  5.31846\n",
      "RMSLE: 0.00466\n",
      "RMSE:  517.48089\n",
      "Mape Geral:  5.90893 Std: 0.95769 Erro: 0.42829\n",
      "Rmsle Geral: 0.00591 Std: 0.00183 Erro: 0.00082\n",
      "Rmse Geral:  603.80077 Std: 154.34363 Erro: 69.02457\n",
      "\n",
      "\n",
      "Coluna removida: week_year_cos\n",
      "Data do inicio do treinamento: 2013-01-03 Data do final do treinamento : 2014-11-19\n",
      "Data do inicio do Validação  : 2014-11-20 Data do final do Validação   : 2015-01-01\n",
      "MAPE:  7.89651\n",
      "RMSLE: 0.00967\n",
      "RMSE:  886.95073\n",
      "Data do inicio do treinamento: 2013-01-03 Data do final do treinamento : 2014-12-31\n",
      "Data do inicio do Validação  : 2015-01-01 Data do final do Validação   : 2015-02-12\n",
      "MAPE:  5.53183\n",
      "RMSLE: 0.00548\n",
      "RMSE:  528.75835\n",
      "Data do inicio do treinamento: 2013-01-03 Data do final do treinamento : 2015-02-11\n",
      "Data do inicio do Validação  : 2015-02-12 Data do final do Validação   : 2015-03-26\n",
      "MAPE:  5.02813\n",
      "RMSLE: 0.00419\n",
      "RMSE:  429.59101\n",
      "Data do inicio do treinamento: 2013-01-03 Data do final do treinamento : 2015-03-25\n",
      "Data do inicio do Validação  : 2015-03-26 Data do final do Validação   : 2015-05-07\n",
      "MAPE:  5.77783\n",
      "RMSLE: 0.00563\n",
      "RMSE:  653.79093\n",
      "Data do inicio do treinamento: 2013-01-03 Data do final do treinamento : 2015-05-06\n",
      "Data do inicio do Validação  : 2015-05-07 Data do final do Validação   : 2015-06-18\n",
      "MAPE:  5.23396\n",
      "RMSLE: 0.00456\n",
      "RMSE:  509.91288\n",
      "Mape Geral:  5.89365 Std: 1.03345 Erro: 0.46217\n",
      "Rmsle Geral: 0.00590 Std: 0.00196 Erro: 0.00088\n",
      "Rmse Geral:  601.80078 Std: 159.65479 Erro: 71.39979\n",
      "\n",
      "\n"
     ]
    }
   ],
   "source": [
    "for i in range(len(col3)):\n",
    "  X1_c =X1t.copy() \n",
    "  print('Coluna removida:',col3[i])\n",
    "  vetor_MAPE1_n_r,vetor_MSLR1_n_r,vetor_RMSE1_n_r = validation(X1_c.drop(columns = col3[i]),Y1_nt,'sales','normal',Date)\n",
    "  print('\\n')\n",
    "  del X1_c"
   ]
  },
  {
   "cell_type": "code",
   "execution_count": null,
   "metadata": {
    "id": "dJEtoDleZElg"
   },
   "outputs": [],
   "source": []
  },
  {
   "cell_type": "markdown",
   "metadata": {
    "id": "S3G6iDTXSdp5"
   },
   "source": [
    "### Avaliando os valores\n",
    "\n",
    "\n",
    "---\n",
    "---\n",
    "* Mape Geral v0:  5.86092 Std: 0.96943 Erro: 0.43354\n",
    "* Mape Geral tT:  5.90341 Std: 0.91746 Erro: 0.41030\n",
    "* Mape Geral t1:  5.94254 Std: 0.81969 Erro: 0.36658\n",
    "* Mape Geral t2:  5.92790 Std: 0.93553 Erro: 0.41838\n",
    "* Mape Geral t3:  5.87743 Std: 0.89477 Erro: 0.40015\n",
    "* Mape Geral t4:  5.87743 Std: 0.89477 Erro: 0.40015\n",
    "* Mape Geral t5:  5.90893 Std: 0.95769 Erro: 0.42829\n",
    "* Mape Geral t6:  5.89365 Std: 1.03345 Erro: 0.46217\n",
    "---\n",
    "---\n",
    "* Rmsle Geral v0:  0.00583 Std: 0.00187 Erro: 0.00084\n",
    "* Rmsle Geral tT:  0.00590 Std: 0.00177 Erro: 0.00079\n",
    "* Rmsle Geral t1:  0.00595 Std: 0.00159 Erro: 0.00071\n",
    "* Rmsle Geral t2:  0.00596 Std: 0.00180 Erro: 0.00081\n",
    "* Rmsle Geral t3:  0.00584 Std: 0.00172 Erro: 0.00077\n",
    "* Rmsle Geral t4:  0.00592 Std: 0.00172 Erro: 0.00077\n",
    "* Rmsle Geral t5:  0.00591 Std: 0.00183 Erro: 0.00082\n",
    "* Rmsle Geral t6:  0.00590 Std: 0.00196 Erro: 0.00088\n",
    "---\n",
    "---\n",
    "* Rmse Geral v0: 600.18430 Std: 159.75639 Erro: 71.44523\n",
    "* Rmse Geral tT: 604.28719 Std: 152.24950 Erro: 68.08804\n",
    "* Rmse Geral t1: 607.28656 Std: 144.04311 Erro: 64.41804\n",
    "* Rmse Geral t2: 607.29057 Std: 152.27578 Erro: 68.09980\n",
    "* Rmse Geral t3: 601.64967 Std: 151.73606 Erro: 67.85843\n",
    "* Rmse Geral t4: 602.86198 Std: 152.19446 Erro: 68.06343\n",
    "* Rmse Geral t5: 603.80077 Std: 154.34363 Erro: 69.02457\n",
    "* Rmse Geral t6: 601.80078 Std: 159.65479 Erro: 71.39979\n",
    "---\n",
    "---\n",
    "\n",
    "\n",
    "\n",
    "\n",
    "\n",
    "\n",
    "\n",
    "\n",
    "\n",
    "\n"
   ]
  },
  {
   "cell_type": "markdown",
   "metadata": {
    "id": "5v-D13z7ZfWY"
   },
   "source": [
    "* Claramente os resultados mostram que não houve nenhuma melhora quando as variáveis de tempo são convertidas para um seno e cosseno.\n",
    "* Agora será testado outras variáveis temporais sendo representado por um seno ou cosseno. \n",
    " \n",
    " \n"
   ]
  },
  {
   "cell_type": "markdown",
   "metadata": {
    "id": "jYpt8N11aLJJ"
   },
   "source": [
    "### Segunda combinação das variáveis temporais\n",
    " \n"
   ]
  },
  {
   "cell_type": "code",
   "execution_count": 22,
   "metadata": {
    "executionInfo": {
     "elapsed": 351,
     "status": "ok",
     "timestamp": 1649996634898,
     "user": {
      "displayName": "Antonio Junior",
      "userId": "09175545212585676126"
     },
     "user_tz": 180
    },
    "id": "Jh_OHjNcaPyr"
   },
   "outputs": [],
   "source": [
    "del df1"
   ]
  },
  {
   "cell_type": "code",
   "execution_count": 23,
   "metadata": {
    "executionInfo": {
     "elapsed": 2261,
     "status": "ok",
     "timestamp": 1649996637423,
     "user": {
      "displayName": "Antonio Junior",
      "userId": "09175545212585676126"
     },
     "user_tz": 180
    },
    "id": "6adSq10FSVCO"
   },
   "outputs": [],
   "source": [
    "df2 = df.copy()\n",
    "\n",
    "# Representando os dias da semana por combinação de seno e cosseno\n",
    "df2['day_of_week_sin'] = df['day_of_week'].apply(lambda x: np.sin( x * (2. * np.pi/7)))\n",
    "df2['day_of_week_cos'] = df['day_of_week'].apply(lambda x: np.cos( x * (2. * np.pi/7)))\n",
    "\n",
    "\n"
   ]
  },
  {
   "cell_type": "code",
   "execution_count": null,
   "metadata": {
    "id": "DJYaAkGblJJT"
   },
   "outputs": [],
   "source": [
    "X1t ,Y1_nt,Date = dados_teste_val(df2.drop(columns = 'day_of_week'))"
   ]
  },
  {
   "cell_type": "code",
   "execution_count": null,
   "metadata": {
    "executionInfo": {
     "elapsed": 6,
     "status": "ok",
     "timestamp": 1649993394234,
     "user": {
      "displayName": "Antonio Junior",
      "userId": "09175545212585676126"
     },
     "user_tz": 180
    },
    "id": "R0feApYmlW9G"
   },
   "outputs": [],
   "source": []
  },
  {
   "cell_type": "code",
   "execution_count": null,
   "metadata": {
    "colab": {
     "base_uri": "https://localhost:8080/"
    },
    "executionInfo": {
     "elapsed": 305417,
     "status": "ok",
     "timestamp": 1649264470569,
     "user": {
      "displayName": "Antonio Junior",
      "userId": "09175545212585676126"
     },
     "user_tz": 180
    },
    "id": "7J4VcNG2a8Jz",
    "outputId": "0a013fa2-f7da-42ac-9620-93eac9f57456"
   },
   "outputs": [
    {
     "name": "stdout",
     "output_type": "stream",
     "text": [
      "Data do inicio do treinamento: 2013-01-03 Data do final do treinamento : 2014-11-19\n",
      "Data do inicio do Validação  : 2014-11-20 Data do final do Validação   : 2015-01-01\n",
      "MAPE:  7.72831\n",
      "RMSLE: 0.00947\n",
      "RMSE:  874.94058\n",
      "Data do inicio do treinamento: 2013-01-03 Data do final do treinamento : 2014-12-31\n",
      "Data do inicio do Validação  : 2015-01-01 Data do final do Validação   : 2015-02-12\n",
      "MAPE:  5.49699\n",
      "RMSLE: 0.00535\n",
      "RMSE:  522.31643\n",
      "Data do inicio do treinamento: 2013-01-03 Data do final do treinamento : 2015-02-11\n",
      "Data do inicio do Validação  : 2015-02-12 Data do final do Validação   : 2015-03-26\n",
      "MAPE:  4.93233\n",
      "RMSLE: 0.00405\n",
      "RMSE:  419.80972\n",
      "Data do inicio do treinamento: 2013-01-03 Data do final do treinamento : 2015-03-25\n",
      "Data do inicio do Validação  : 2015-03-26 Data do final do Validação   : 2015-05-07\n",
      "MAPE:  5.93150\n",
      "RMSLE: 0.00592\n",
      "RMSE:  680.151\n",
      "Data do inicio do treinamento: 2013-01-03 Data do final do treinamento : 2015-05-06\n",
      "Data do inicio do Validação  : 2015-05-07 Data do final do Validação   : 2015-06-18\n",
      "MAPE:  5.28536\n",
      "RMSLE: 0.00457\n",
      "RMSE:  509.99332\n",
      "Mape Geral:  5.8749 Std: 0.98154 Erro: 0.43896\n",
      "Rmsle Geral: 0.00587 Std: 0.00191 Erro: 0.00085\n",
      "Rmse Geral:  601.44221 Std: 160.38116 Erro: 71.72464\n"
     ]
    }
   ],
   "source": [
    "vetor_MAPE1_n_r,vetor_MSLR1_n_r,vetor_RMSE1_n_r = validation(X1t,Y1_nt,'sales','normal',Date)"
   ]
  },
  {
   "cell_type": "code",
   "execution_count": null,
   "metadata": {
    "colab": {
     "base_uri": "https://localhost:8080/"
    },
    "executionInfo": {
     "elapsed": 599907,
     "status": "ok",
     "timestamp": 1649265070463,
     "user": {
      "displayName": "Antonio Junior",
      "userId": "09175545212585676126"
     },
     "user_tz": 180
    },
    "id": "2bi4CoOUag9I",
    "outputId": "0107c552-2dc7-4c71-edb1-6ac1a0c7ce06"
   },
   "outputs": [
    {
     "name": "stdout",
     "output_type": "stream",
     "text": [
      "Coluna removida: day_of_week_sin\n",
      "Data do inicio do treinamento: 2013-01-03 Data do final do treinamento : 2014-11-19\n",
      "Data do inicio do Validação  : 2014-11-20 Data do final do Validação   : 2015-01-01\n",
      "MAPE:  7.56679\n",
      "RMSLE: 0.00905\n",
      "RMSE:  857.79769\n",
      "Data do inicio do treinamento: 2013-01-03 Data do final do treinamento : 2014-12-31\n",
      "Data do inicio do Validação  : 2015-01-01 Data do final do Validação   : 2015-02-12\n",
      "MAPE:  5.57126\n",
      "RMSLE: 0.00546\n",
      "RMSE:  528.02466\n",
      "Data do inicio do treinamento: 2013-01-03 Data do final do treinamento : 2015-02-11\n",
      "Data do inicio do Validação  : 2015-02-12 Data do final do Validação   : 2015-03-26\n",
      "MAPE:  5.11466\n",
      "RMSLE: 0.00431\n",
      "RMSE:  433.37696\n",
      "Data do inicio do treinamento: 2013-01-03 Data do final do treinamento : 2015-03-25\n",
      "Data do inicio do Validação  : 2015-03-26 Data do final do Validação   : 2015-05-07\n",
      "MAPE:  6.08423\n",
      "RMSLE: 0.00615\n",
      "RMSE:  690.08836\n",
      "Data do inicio do treinamento: 2013-01-03 Data do final do treinamento : 2015-05-06\n",
      "Data do inicio do Validação  : 2015-05-07 Data do final do Validação   : 2015-06-18\n",
      "MAPE:  5.33565\n",
      "RMSLE: 0.00466\n",
      "RMSE:  516.20273\n",
      "Mape Geral:  5.93452 Std: 0.87744 Erro: 0.39240\n",
      "Rmsle Geral: 0.00593 Std: 0.00169 Erro: 0.00075\n",
      "Rmse Geral:  605.09808 Std: 151.26882 Erro: 67.64947\n",
      "\n",
      "\n",
      "Coluna removida: day_of_week_cos\n",
      "Data do inicio do treinamento: 2013-01-03 Data do final do treinamento : 2014-11-19\n",
      "Data do inicio do Validação  : 2014-11-20 Data do final do Validação   : 2015-01-01\n",
      "MAPE:  7.76435\n",
      "RMSLE: 0.00948\n",
      "RMSE:  879.39455\n",
      "Data do inicio do treinamento: 2013-01-03 Data do final do treinamento : 2014-12-31\n",
      "Data do inicio do Validação  : 2015-01-01 Data do final do Validação   : 2015-02-12\n",
      "MAPE:  5.54135\n",
      "RMSLE: 0.00541\n",
      "RMSE:  527.95417\n",
      "Data do inicio do treinamento: 2013-01-03 Data do final do treinamento : 2015-02-11\n",
      "Data do inicio do Validação  : 2015-02-12 Data do final do Validação   : 2015-03-26\n",
      "MAPE:  4.94556\n",
      "RMSLE: 0.00407\n",
      "RMSE:  422.4882\n",
      "Data do inicio do treinamento: 2013-01-03 Data do final do treinamento : 2015-03-25\n",
      "Data do inicio do Validação  : 2015-03-26 Data do final do Validação   : 2015-05-07\n",
      "MAPE:  5.95976\n",
      "RMSLE: 0.00598\n",
      "RMSE:  682.32771\n",
      "Data do inicio do treinamento: 2013-01-03 Data do final do treinamento : 2015-05-06\n",
      "Data do inicio do Validação  : 2015-05-07 Data do final do Validação   : 2015-06-18\n",
      "MAPE:  5.28847\n",
      "RMSLE: 0.00456\n",
      "RMSE:  512.99742\n",
      "Mape Geral:  5.8999 Std: 0.98924 Erro: 0.44240\n",
      "Rmsle Geral: 0.0059 Std: 0.00191 Erro: 0.00085\n",
      "Rmse Geral:  605.03241 Std: 160.61322 Erro: 71.82842\n",
      "\n",
      "\n"
     ]
    }
   ],
   "source": [
    "for i in range(len(col1)):\n",
    "  X1_c =X1t.copy() \n",
    "  print('Coluna removida:',col1[i])\n",
    "  vetor_MAPE1_n_r,vetor_MSLR1_n_r,vetor_RMSE1_n_r = validation(X1_c.drop(columns = col1[i]),Y1_nt,'sales','normal',Date)\n",
    "  print('\\n')\n",
    "  del X1_c"
   ]
  },
  {
   "cell_type": "code",
   "execution_count": null,
   "metadata": {
    "id": "BAwxGtx0ahHM"
   },
   "outputs": [],
   "source": []
  },
  {
   "cell_type": "markdown",
   "metadata": {
    "id": "bx_-k-E269IO"
   },
   "source": [
    "### Avaliando os valores\n",
    "\n",
    "---\n",
    "---\n",
    "* Mape Geral v0:  5.86092 Std: 0.96943 Erro: 0.43354\n",
    "* Mape Geral T1:  5.87490 Std: 0.98154 Erro: 0.43896\n",
    "* Mape Geral T2:  5.93452 Std: 0.87744 Erro: 0.39240\n",
    "* Mape Geral T3:  5.89990 Std: 0.98924 Erro: 0.44240\n",
    "---\n",
    "---\n",
    "* Rmsle Geral v0: 0.00583 Std: 0.00187 Erro: 0.00084\n",
    "* Rmsle Geral T1: 0.00587 Std: 0.00191 Erro: 0.00085\n",
    "* Rmsle Geral T2: 0.00593 Std: 0.00169 Erro: 0.00075\n",
    "* Rmsle Geral T3: 0.00590 Std: 0.00191 Erro: 0.00085\n",
    "---\n",
    "---\n",
    "* Rmse Geral v0: 600.18430 Std: 159.75639 Erro: 71.44523\n",
    "* Rmse Geral T1: 601.44221 Std: 160.38116 Erro: 71.72464\n",
    "* Rmse Geral T2: 605.09808 Std: 151.26882 Erro: 67.64947\n",
    "* Rmse Geral T3: 605.03241 Std: 160.61322 Erro: 71.82842\n",
    "---\n",
    "---\n",
    "\n",
    "\n",
    "\n",
    "\n",
    "\n"
   ]
  },
  {
   "cell_type": "code",
   "execution_count": null,
   "metadata": {
    "id": "Jw369ylU7Zcm"
   },
   "outputs": [],
   "source": [
    "#df2 = df2.drop(columns= ['day_of_week_sin'])"
   ]
  },
  {
   "cell_type": "code",
   "execution_count": 24,
   "metadata": {
    "executionInfo": {
     "elapsed": 264,
     "status": "ok",
     "timestamp": 1649996645076,
     "user": {
      "displayName": "Antonio Junior",
      "userId": "09175545212585676126"
     },
     "user_tz": 180
    },
    "id": "rGp4k6DTgvGb"
   },
   "outputs": [],
   "source": [
    "del df2"
   ]
  },
  {
   "cell_type": "code",
   "execution_count": 25,
   "metadata": {
    "executionInfo": {
     "elapsed": 2685,
     "status": "ok",
     "timestamp": 1649996648034,
     "user": {
      "displayName": "Antonio Junior",
      "userId": "09175545212585676126"
     },
     "user_tz": 180
    },
    "id": "zyT0NKfbgvQz"
   },
   "outputs": [],
   "source": [
    "df3 = df.copy()\n",
    "\n",
    "# day \n",
    "df3['day_sin'] = df['day'].apply(lambda x: np.sin(x * (2. * np.pi/30)))\n",
    "df3['day_cos'] = df['day'].apply(lambda x: np.cos(x * (2. * np.pi/30)))\n",
    "\n",
    "X1t ,Y1_nt,Date = dados_teste_val(df3.drop(columns ='day'))"
   ]
  },
  {
   "cell_type": "code",
   "execution_count": 25,
   "metadata": {
    "executionInfo": {
     "elapsed": 3,
     "status": "ok",
     "timestamp": 1649996648957,
     "user": {
      "displayName": "Antonio Junior",
      "userId": "09175545212585676126"
     },
     "user_tz": 180
    },
    "id": "aLmuf2ttuR9E"
   },
   "outputs": [],
   "source": []
  },
  {
   "cell_type": "code",
   "execution_count": null,
   "metadata": {
    "colab": {
     "base_uri": "https://localhost:8080/"
    },
    "executionInfo": {
     "elapsed": 317070,
     "status": "ok",
     "timestamp": 1649265390329,
     "user": {
      "displayName": "Antonio Junior",
      "userId": "09175545212585676126"
     },
     "user_tz": 180
    },
    "id": "JK7z9jP3hNc-",
    "outputId": "55727103-3966-4b1c-911a-8b1ce0f4e910"
   },
   "outputs": [
    {
     "name": "stdout",
     "output_type": "stream",
     "text": [
      "Data do inicio do treinamento: 2013-01-03 Data do final do treinamento : 2014-11-19\n",
      "Data do inicio do Validação  : 2014-11-20 Data do final do Validação   : 2015-01-01\n",
      "MAPE:  7.64657\n",
      "RMSLE: 0.00931\n",
      "RMSE:  866.01324\n",
      "Data do inicio do treinamento: 2013-01-03 Data do final do treinamento : 2014-12-31\n",
      "Data do inicio do Validação  : 2015-01-01 Data do final do Validação   : 2015-02-12\n",
      "MAPE:  5.46833\n",
      "RMSLE: 0.00529\n",
      "RMSE:  520.87995\n",
      "Data do inicio do treinamento: 2013-01-03 Data do final do treinamento : 2015-02-11\n",
      "Data do inicio do Validação  : 2015-02-12 Data do final do Validação   : 2015-03-26\n",
      "MAPE:  4.96375\n",
      "RMSLE: 0.00408\n",
      "RMSE:  420.62014\n",
      "Data do inicio do treinamento: 2013-01-03 Data do final do treinamento : 2015-03-25\n",
      "Data do inicio do Validação  : 2015-03-26 Data do final do Validação   : 2015-05-07\n",
      "MAPE:  5.81249\n",
      "RMSLE: 0.00571\n",
      "RMSE:  663.55353\n",
      "Data do inicio do treinamento: 2013-01-03 Data do final do treinamento : 2015-05-06\n",
      "Data do inicio do Validação  : 2015-05-07 Data do final do Validação   : 2015-06-18\n",
      "MAPE:  5.31620\n",
      "RMSLE: 0.00464\n",
      "RMSE:  517.91815\n",
      "Mape Geral:  5.84147 Std: 0.94284 Erro: 0.42165\n",
      "Rmsle Geral: 0.00580 Std: 0.00184 Erro: 0.00082\n",
      "Rmse Geral:  597.79700 Std: 154.88859 Erro: 69.26828\n"
     ]
    }
   ],
   "source": [
    "vetor_MAPE1_n_r,vetor_MSLR1_n_r,vetor_RMSE1_n_r = validation(X1t,Y1_nt,'sales','normal',Date)"
   ]
  },
  {
   "cell_type": "code",
   "execution_count": null,
   "metadata": {
    "colab": {
     "base_uri": "https://localhost:8080/"
    },
    "executionInfo": {
     "elapsed": 590106,
     "status": "ok",
     "timestamp": 1649265980410,
     "user": {
      "displayName": "Antonio Junior",
      "userId": "09175545212585676126"
     },
     "user_tz": 180
    },
    "id": "aEkQqdRnhOzn",
    "outputId": "aa1409de-b323-47ce-d567-c75d422c38e6"
   },
   "outputs": [
    {
     "name": "stdout",
     "output_type": "stream",
     "text": [
      "Coluna removida: day_sin\n",
      "Data do inicio do treinamento: 2013-01-03 Data do final do treinamento : 2014-11-19\n",
      "Data do inicio do Validação  : 2014-11-20 Data do final do Validação   : 2015-01-01\n",
      "MAPE:  7.59346\n",
      "RMSLE: 0.00923\n",
      "RMSE:  866.69931\n",
      "Data do inicio do treinamento: 2013-01-03 Data do final do treinamento : 2014-12-31\n",
      "Data do inicio do Validação  : 2015-01-01 Data do final do Validação   : 2015-02-12\n",
      "MAPE:  5.46764\n",
      "RMSLE: 0.00531\n",
      "RMSE:  519.64052\n",
      "Data do inicio do treinamento: 2013-01-03 Data do final do treinamento : 2015-02-11\n",
      "Data do inicio do Validação  : 2015-02-12 Data do final do Validação   : 2015-03-26\n",
      "MAPE:  4.92407\n",
      "RMSLE: 0.00401\n",
      "RMSE:  417.53186\n",
      "Data do inicio do treinamento: 2013-01-03 Data do final do treinamento : 2015-03-25\n",
      "Data do inicio do Validação  : 2015-03-26 Data do final do Validação   : 2015-05-07\n",
      "MAPE:  5.82586\n",
      "RMSLE: 0.00573\n",
      "RMSE:  664.91177\n",
      "Data do inicio do treinamento: 2013-01-03 Data do final do treinamento : 2015-05-06\n",
      "Data do inicio do Validação  : 2015-05-07 Data do final do Validação   : 2015-06-18\n",
      "MAPE:  5.29798\n",
      "RMSLE: 0.00462\n",
      "RMSE:  515.40941\n",
      "Mape Geral:  5.82180 Std: 0.93215 Erro: 0.41687\n",
      "Rmsle Geral: 0.00578 Std: 0.00182 Erro: 0.00082\n",
      "Rmse Geral:  596.83858 Std: 156.33293 Erro: 69.91421\n",
      "\n",
      "\n",
      "Coluna removida: day_cos\n",
      "Data do inicio do treinamento: 2013-01-03 Data do final do treinamento : 2014-11-19\n",
      "Data do inicio do Validação  : 2014-11-20 Data do final do Validação   : 2015-01-01\n",
      "MAPE:  7.63558\n",
      "RMSLE: 0.00922\n",
      "RMSE:  861.97580\n",
      "Data do inicio do treinamento: 2013-01-03 Data do final do treinamento : 2014-12-31\n",
      "Data do inicio do Validação  : 2015-01-01 Data do final do Validação   : 2015-02-12\n",
      "MAPE:  5.51448\n",
      "RMSLE: 0.00536\n",
      "RMSE:  524.54126\n",
      "Data do inicio do treinamento: 2013-01-03 Data do final do treinamento : 2015-02-11\n",
      "Data do inicio do Validação  : 2015-02-12 Data do final do Validação   : 2015-03-26\n",
      "MAPE:  4.91458\n",
      "RMSLE: 0.00403\n",
      "RMSE:  416.74164\n",
      "Data do inicio do treinamento: 2013-01-03 Data do final do treinamento : 2015-03-25\n",
      "Data do inicio do Validação  : 2015-03-26 Data do final do Validação   : 2015-05-07\n",
      "MAPE:  5.90923\n",
      "RMSLE: 0.00587\n",
      "RMSE:  673.91824\n",
      "Data do inicio do treinamento: 2013-01-03 Data do final do treinamento : 2015-05-06\n",
      "Data do inicio do Validação  : 2015-05-07 Data do final do Validação   : 2015-06-18\n",
      "MAPE:  5.2498\n",
      "RMSLE: 0.00458\n",
      "RMSE:  508.65831\n",
      "Mape Geral:  5.84473 Std: 0.95284 Erro: 0.42612\n",
      "Rmsle Geral: 0.00581 Std: 0.00182 Erro: 0.00081\n",
      "Rmse Geral:  597.16705 Std: 155.99747 Erro: 69.76419\n",
      "\n",
      "\n"
     ]
    }
   ],
   "source": [
    "for i in range(len(col2)):\n",
    "  X1_c =X1t.copy() \n",
    "  print('Coluna removida:',col2[i])\n",
    "  vetor_MAPE1_n_r,vetor_MSLR1_n_r,vetor_RMSE1_n_r = validation(X1_c.drop(columns = col2[i]),Y1_nt,'sales','normal',Date)\n",
    "  print('\\n')\n",
    "  del X1_c"
   ]
  },
  {
   "cell_type": "code",
   "execution_count": null,
   "metadata": {
    "id": "b8geyTxTpKv6"
   },
   "outputs": [],
   "source": []
  },
  {
   "cell_type": "markdown",
   "metadata": {
    "id": "VV5Fxyed_-R1"
   },
   "source": [
    "### Avaliando os valores\n",
    "\n",
    "---\n",
    "---\n",
    "* Mape Geral v0:  5.86092 Std: 0.96943 Erro: 0.43354\n",
    "* Mape Geral T1:  5.87490 Std: 0.98154 Erro: 0.43896\n",
    "* Mape Geral T2:  5.93452 Std: 0.87744 Erro: 0.39240\n",
    "* Mape Geral T3:  5.89990 Std: 0.98924 Erro: 0.44240\n",
    "* **Mape Geral T4:  5.84147 Std: 0.94284 Erro: 0.42165**\n",
    "* Mape Geral T5:  5.86336 Std: 0.96111 Erro: 0.42982\n",
    "* Mape Geral T6:  5.86672 Std: 0.98143 Erro: 0.43891\n",
    "\n",
    "---\n",
    "---\n",
    "* Rmsle Geral v0: 0.00583 Std: 0.00187 Erro: 0.00084\n",
    "* Rmsle Geral T1: 0.00587 Std: 0.00191 Erro: 0.00085\n",
    "* Rmsle Geral T2: 0.00593 Std: 0.00169 Erro: 0.00075\n",
    "* Rmsle Geral T3: 0.00590 Std: 0.00191 Erro: 0.00085\n",
    "* **Rmsle Geral T4: 0.00580 Std: 0.00184 Erro: 0.00082**\n",
    "* Rmsle Geral T5: 0.00584 Std: 0.00185 Erro: 0.00083\n",
    "* Rmsle Geral T6: 0.00585 Std: 0.00189 Erro: 0.00085\n",
    "\n",
    "\n",
    "---\n",
    "---\n",
    "* Rmse Geral v0: 600.18430 Std: 159.75639 Erro: 71.44523\n",
    "* Rmse Geral T1: 601.44221 Std: 160.38116 Erro: 71.72464\n",
    "* Rmse Geral T2: 605.09808 Std: 151.26882 Erro: 67.64947\n",
    "* Rmse Geral T3: 605.03241 Std: 160.61322 Erro: 71.82842\n",
    "* **Rmse Geral T4: 597.79700 Std: 154.88859 Erro: 69.26828**\n",
    "* Rmse Geral T5: 601.42172 Std: 157.58587 Erro: 70.47454\n",
    "* Rmse Geral T6: 599.67931 Std: 159.78069 Erro: 71.45610\n",
    "---\n",
    "---\n",
    "\n",
    "\n",
    "\n",
    "\n",
    "\n"
   ]
  },
  {
   "cell_type": "markdown",
   "metadata": {
    "id": "71m4wXDdv-FA"
   },
   "source": [
    "* Claramente o uso do seno e cosseno melhorou o desempenho do modelo padrão."
   ]
  },
  {
   "cell_type": "code",
   "execution_count": 26,
   "metadata": {
    "executionInfo": {
     "elapsed": 250,
     "status": "ok",
     "timestamp": 1649996659822,
     "user": {
      "displayName": "Antonio Junior",
      "userId": "09175545212585676126"
     },
     "user_tz": 180
    },
    "id": "cTmNh8KuwFn2"
   },
   "outputs": [],
   "source": [
    "df3 = df3.drop(columns = 'day')"
   ]
  },
  {
   "cell_type": "code",
   "execution_count": 27,
   "metadata": {
    "colab": {
     "base_uri": "https://localhost:8080/"
    },
    "executionInfo": {
     "elapsed": 7,
     "status": "ok",
     "timestamp": 1649996660089,
     "user": {
      "displayName": "Antonio Junior",
      "userId": "09175545212585676126"
     },
     "user_tz": 180
    },
    "id": "p2zf9wStweaD",
    "outputId": "7a258721-d8da-40a6-f223-ae7d5214d31c"
   },
   "outputs": [
    {
     "data": {
      "text/plain": [
       "(731432, 32)"
      ]
     },
     "execution_count": 27,
     "metadata": {},
     "output_type": "execute_result"
    }
   ],
   "source": [
    "df3.shape"
   ]
  },
  {
   "cell_type": "code",
   "execution_count": 28,
   "metadata": {
    "executionInfo": {
     "elapsed": 4,
     "status": "ok",
     "timestamp": 1649996660733,
     "user": {
      "displayName": "Antonio Junior",
      "userId": "09175545212585676126"
     },
     "user_tz": 180
    },
    "id": "sRqpeEva4Q3w"
   },
   "outputs": [],
   "source": [
    "#del df3"
   ]
  },
  {
   "cell_type": "code",
   "execution_count": 29,
   "metadata": {
    "executionInfo": {
     "elapsed": 2632,
     "status": "ok",
     "timestamp": 1649996664565,
     "user": {
      "displayName": "Antonio Junior",
      "userId": "09175545212585676126"
     },
     "user_tz": 180
    },
    "id": "WPWcO2rS4SdN"
   },
   "outputs": [],
   "source": [
    "df4 = df3.copy()\n",
    "# week of year\n",
    "df4['week_year_sin'] = df3['week_year'].apply(lambda x: np.sin(x * (2. * np.pi/52)))\n",
    "df4['week_year_cos'] = df3['week_year'].apply(lambda x: np.cos(x * (2. * np.pi/52)))\n",
    "X1t ,Y1_nt,Date = dados_teste_val(df4.drop(columns ='week_year'))"
   ]
  },
  {
   "cell_type": "code",
   "execution_count": 29,
   "metadata": {
    "executionInfo": {
     "elapsed": 282,
     "status": "ok",
     "timestamp": 1649996668926,
     "user": {
      "displayName": "Antonio Junior",
      "userId": "09175545212585676126"
     },
     "user_tz": 180
    },
    "id": "hBQyIT4Twrw4"
   },
   "outputs": [],
   "source": []
  },
  {
   "cell_type": "code",
   "execution_count": null,
   "metadata": {
    "colab": {
     "base_uri": "https://localhost:8080/"
    },
    "executionInfo": {
     "elapsed": 341909,
     "status": "ok",
     "timestamp": 1649266324957,
     "user": {
      "displayName": "Antonio Junior",
      "userId": "09175545212585676126"
     },
     "user_tz": 180
    },
    "id": "TURawG3Z4Sem",
    "outputId": "95778f39-a63e-4aec-a758-b5ec87752bbb"
   },
   "outputs": [
    {
     "name": "stdout",
     "output_type": "stream",
     "text": [
      "Data do inicio do treinamento: 2013-01-03 Data do final do treinamento : 2014-11-19\n",
      "Data do inicio do Validação  : 2014-11-20 Data do final do Validação   : 2015-01-01\n",
      "MAPE:  7.61666\n",
      "RMSLE: 0.00916\n",
      "RMSE:  864.98239\n",
      "Data do inicio do treinamento: 2013-01-03 Data do final do treinamento : 2014-12-31\n",
      "Data do inicio do Validação  : 2015-01-01 Data do final do Validação   : 2015-02-12\n",
      "MAPE:  5.54634\n",
      "RMSLE: 0.0055\n",
      "RMSE:  535.13668\n",
      "Data do inicio do treinamento: 2013-01-03 Data do final do treinamento : 2015-02-11\n",
      "Data do inicio do Validação  : 2015-02-12 Data do final do Validação   : 2015-03-26\n",
      "MAPE:  5.05959\n",
      "RMSLE: 0.00422\n",
      "RMSE:  429.76602\n",
      "Data do inicio do treinamento: 2013-01-03 Data do final do treinamento : 2015-03-25\n",
      "Data do inicio do Validação  : 2015-03-26 Data do final do Validação   : 2015-05-07\n",
      "MAPE:  5.87817\n",
      "RMSLE: 0.00579\n",
      "RMSE:  669.48766\n",
      "Data do inicio do treinamento: 2013-01-03 Data do final do treinamento : 2015-05-06\n",
      "Data do inicio do Validação  : 2015-05-07 Data do final do Validação   : 2015-06-18\n",
      "MAPE:  5.31115\n",
      "RMSLE: 0.00464\n",
      "RMSE:  516.83967\n",
      "Mape Geral:  5.88238 Std: 0.90818 Erro: 0.40615\n",
      "Rmsle Geral: 0.00586 Std: 0.00174 Erro: 0.00078\n",
      "Rmse Geral:  603.24248 Std: 151.71957 Erro: 67.85105\n"
     ]
    }
   ],
   "source": [
    "vetor_MAPE1_n_r,vetor_MSLR1_n_r,vetor_RMSE1_n_r = validation(X1t,Y1_nt,'sales','normal',Date)"
   ]
  },
  {
   "cell_type": "code",
   "execution_count": null,
   "metadata": {
    "colab": {
     "base_uri": "https://localhost:8080/"
    },
    "executionInfo": {
     "elapsed": 634244,
     "status": "ok",
     "timestamp": 1649266959177,
     "user": {
      "displayName": "Antonio Junior",
      "userId": "09175545212585676126"
     },
     "user_tz": 180
    },
    "id": "XGrwiHie4wfY",
    "outputId": "72819551-241d-44a4-e045-bb785bcc98e4"
   },
   "outputs": [
    {
     "name": "stdout",
     "output_type": "stream",
     "text": [
      "Coluna removida: week_year_sin\n",
      "Data do inicio do treinamento: 2013-01-03 Data do final do treinamento : 2014-11-19\n",
      "Data do inicio do Validação  : 2014-11-20 Data do final do Validação   : 2015-01-01\n",
      "MAPE:  7.71641\n",
      "RMSLE: 0.00932\n",
      "RMSE:  868.47121\n",
      "Data do inicio do treinamento: 2013-01-03 Data do final do treinamento : 2014-12-31\n",
      "Data do inicio do Validação  : 2015-01-01 Data do final do Validação   : 2015-02-12\n",
      "MAPE:  5.57868\n",
      "RMSLE: 0.00557\n",
      "RMSE:  538.45616\n",
      "Data do inicio do treinamento: 2013-01-03 Data do final do treinamento : 2015-02-11\n",
      "Data do inicio do Validação  : 2015-02-12 Data do final do Validação   : 2015-03-26\n",
      "MAPE:  5.0116\n",
      "RMSLE: 0.00413\n",
      "RMSE:  425.50286\n",
      "Data do inicio do treinamento: 2013-01-03 Data do final do treinamento : 2015-03-25\n",
      "Data do inicio do Validação  : 2015-03-26 Data do final do Validação   : 2015-05-07\n",
      "MAPE:  5.86061\n",
      "RMSLE: 0.00578\n",
      "RMSE:  664.89354\n",
      "Data do inicio do treinamento: 2013-01-03 Data do final do treinamento : 2015-05-06\n",
      "Data do inicio do Validação  : 2015-05-07 Data do final do Validação   : 2015-06-18\n",
      "MAPE:  5.29254\n",
      "RMSLE: 0.00463\n",
      "RMSE:  516.56601\n",
      "Mape Geral:  5.89197 Std: 0.95521 Erro: 0.42718\n",
      "Rmsle Geral: 0.00589 Std: 0.00182 Erro: 0.00081\n",
      "Rmse Geral:  602.77796 Std: 153.26285 Erro: 68.54123\n",
      "\n",
      "\n",
      "Coluna removida: week_year_cos\n",
      "Data do inicio do treinamento: 2013-01-03 Data do final do treinamento : 2014-11-19\n",
      "Data do inicio do Validação  : 2014-11-20 Data do final do Validação   : 2015-01-01\n",
      "MAPE:  7.85087\n",
      "RMSLE: 0.00960\n",
      "RMSE:  884.31925\n",
      "Data do inicio do treinamento: 2013-01-03 Data do final do treinamento : 2014-12-31\n",
      "Data do inicio do Validação  : 2015-01-01 Data do final do Validação   : 2015-02-12\n",
      "MAPE:  5.51379\n",
      "RMSLE: 0.00544\n",
      "RMSE:  527.65931\n",
      "Data do inicio do treinamento: 2013-01-03 Data do final do treinamento : 2015-02-11\n",
      "Data do inicio do Validação  : 2015-02-12 Data do final do Validação   : 2015-03-26\n",
      "MAPE:  5.03591\n",
      "RMSLE: 0.00419\n",
      "RMSE:  428.32543\n",
      "Data do inicio do treinamento: 2013-01-03 Data do final do treinamento : 2015-03-25\n",
      "Data do inicio do Validação  : 2015-03-26 Data do final do Validação   : 2015-05-07\n",
      "MAPE:  5.76180\n",
      "RMSLE: 0.00561\n",
      "RMSE:  654.43174\n",
      "Data do inicio do treinamento: 2013-01-03 Data do final do treinamento : 2015-05-06\n",
      "Data do inicio do Validação  : 2015-05-07 Data do final do Validação   : 2015-06-18\n",
      "MAPE:  5.22382\n",
      "RMSLE: 0.00454\n",
      "RMSE:  506.71895\n",
      "Mape Geral:  5.87724 Std: 1.01739 Erro: 0.45499\n",
      "Rmsle Geral: 0.00588 Std: 0.00194 Erro: 0.00087\n",
      "Rmse Geral:  600.29093 Std: 159.5033 Erro: 71.33204\n",
      "\n",
      "\n"
     ]
    }
   ],
   "source": [
    "for i in range(len(col3)):\n",
    "  X1_c =X1t.copy() \n",
    "  print('Coluna removida:',col3[i])\n",
    "  vetor_MAPE1_n_r,vetor_MSLR1_n_r,vetor_RMSE1_n_r = validation(X1_c.drop(columns = col3[i]),Y1_nt,'sales','normal',Date)\n",
    "  print('\\n')\n",
    "  del X1_c"
   ]
  },
  {
   "cell_type": "code",
   "execution_count": null,
   "metadata": {
    "id": "XeXrORbI4wrG"
   },
   "outputs": [],
   "source": []
  },
  {
   "cell_type": "markdown",
   "metadata": {
    "id": "YduAjNz6fO6R"
   },
   "source": [
    "### Avaliando os valores\n",
    "\n",
    "---\n",
    "---\n",
    "* Mape Geral v0:  5.86092 Std: 0.96943 Erro: 0.43354\n",
    "* Mape Geral T1:  5.87490 Std: 0.98154 Erro: 0.43896\n",
    "* Mape Geral T2:  5.93452 Std: 0.87744 Erro: 0.39240\n",
    "* Mape Geral T3:  5.89990 Std: 0.98924 Erro: 0.44240\n",
    "* **Mape Geral T4:  5.84147 Std: 0.94284 Erro: 0.42165**\n",
    "* Mape Geral T5:  5.86336 Std: 0.96111 Erro: 0.42982\n",
    "* Mape Geral T6:  5.86672 Std: 0.98143 Erro: 0.43891\n",
    "* Mape Geral T7:  5.88238 Std: 0.90818 Erro: 0.40615\n",
    "* Mape Geral T8:  5.87629 Std: 0.92637 Erro: 0.41429\n",
    "* Mape Geral T9:  5.8547 Std: 0.91333 Erro: 0.40845\n",
    "\n",
    "\n",
    "---\n",
    "---\n",
    "* Rmsle Geral v0: 0.00583 Std: 0.00187 Erro: 0.00084\n",
    "* Rmsle Geral T1: 0.00587 Std: 0.00191 Erro: 0.00085\n",
    "* Rmsle Geral T2: 0.00593 Std: 0.00169 Erro: 0.00075\n",
    "* Rmsle Geral T3: 0.00590 Std: 0.00191 Erro: 0.00085\n",
    "* **Rmsle Geral T4: 0.00580 Std: 0.00184 Erro: 0.00082**\n",
    "* Rmsle Geral T5: 0.00584 Std: 0.00185 Erro: 0.00083\n",
    "* Rmsle Geral T6: 0.00585 Std: 0.00189 Erro: 0.00085\n",
    "* Rmsle Geral T7: 0.00586 Std: 0.00174 Erro: 0.00078\n",
    "* Rmsle Geral T8: 0.00584 Std: 0.00178 Erro: 0.0008\n",
    "* Rmsle Geral T9: 0.00581 Std: 0.00176 Erro: 0.00079\n",
    "\n",
    "\n",
    "---\n",
    "---\n",
    "* Rmse Geral v0: 600.18430 Std: 159.75639 Erro: 71.44523\n",
    "* Rmse Geral T1: 601.44221 Std: 160.38116 Erro: 71.72464\n",
    "* Rmse Geral T2: 605.09808 Std: 151.26882 Erro: 67.64947\n",
    "* Rmse Geral T3: 605.03241 Std: 160.61322 Erro: 71.82842\n",
    "* **Rmse Geral T4: 597.79700 Std: 154.88859 Erro: 69.26828**\n",
    "* Rmse Geral T5: 601.42172 Std: 157.58587 Erro: 70.47454\n",
    "* Rmse Geral T6: 599.67931 Std: 159.78069 Erro: 71.45610\n",
    "* Rmse Geral T7: 603.24248 Std: 151.71957 Erro: 67.85105\n",
    "* Rmse Geral T8: 601.61006 Std: 156.22260 Erro: 69.86487\n",
    "* Rmse Geral T9: 600.33740 Std: 155.56239 Erro: 69.56962\n",
    "---\n",
    "---\n",
    "\n",
    "\n",
    "\n",
    "\n",
    "\n"
   ]
  },
  {
   "cell_type": "markdown",
   "metadata": {
    "id": "nj_BanQy-2z5"
   },
   "source": [
    "* Os resultados mostram que existe um ganho quando a variável day foi representada por seno e cosseno.\n",
    "\n",
    "* Uma outra maneira de representar essas variáveis é através da codificação feita pelo Target encoder. Sendo assim, será visto se a mudança por ela muda o desempenho do modelo padrão."
   ]
  },
  {
   "cell_type": "markdown",
   "metadata": {
    "id": "zFMQnErm4OKm"
   },
   "source": [
    "### Conferindo os valores"
   ]
  },
  {
   "cell_type": "code",
   "execution_count": null,
   "metadata": {
    "id": "6k7ETn624SEP"
   },
   "outputs": [],
   "source": [
    "X1t ,Y1_nt,Date = dados_teste_val(df3)"
   ]
  },
  {
   "cell_type": "code",
   "execution_count": null,
   "metadata": {
    "colab": {
     "base_uri": "https://localhost:8080/"
    },
    "executionInfo": {
     "elapsed": 315678,
     "status": "ok",
     "timestamp": 1649267275315,
     "user": {
      "displayName": "Antonio Junior",
      "userId": "09175545212585676126"
     },
     "user_tz": 180
    },
    "id": "ENTQkP2d4SGN",
    "outputId": "afa2ef01-f8fc-4544-fbb6-3885914656c6"
   },
   "outputs": [
    {
     "name": "stdout",
     "output_type": "stream",
     "text": [
      "Data do inicio do treinamento: 2013-01-03 Data do final do treinamento : 2014-11-19\n",
      "Data do inicio do Validação  : 2014-11-20 Data do final do Validação   : 2015-01-01\n",
      "MAPE:  7.64657\n",
      "RMSLE: 0.00931\n",
      "RMSE:  866.01324\n",
      "Data do inicio do treinamento: 2013-01-03 Data do final do treinamento : 2014-12-31\n",
      "Data do inicio do Validação  : 2015-01-01 Data do final do Validação   : 2015-02-12\n",
      "MAPE:  5.46833\n",
      "RMSLE: 0.00529\n",
      "RMSE:  520.87995\n",
      "Data do inicio do treinamento: 2013-01-03 Data do final do treinamento : 2015-02-11\n",
      "Data do inicio do Validação  : 2015-02-12 Data do final do Validação   : 2015-03-26\n",
      "MAPE:  4.96375\n",
      "RMSLE: 0.00408\n",
      "RMSE:  420.62014\n",
      "Data do inicio do treinamento: 2013-01-03 Data do final do treinamento : 2015-03-25\n",
      "Data do inicio do Validação  : 2015-03-26 Data do final do Validação   : 2015-05-07\n",
      "MAPE:  5.81249\n",
      "RMSLE: 0.00571\n",
      "RMSE:  663.55353\n",
      "Data do inicio do treinamento: 2013-01-03 Data do final do treinamento : 2015-05-06\n",
      "Data do inicio do Validação  : 2015-05-07 Data do final do Validação   : 2015-06-18\n",
      "MAPE:  5.31620\n",
      "RMSLE: 0.00464\n",
      "RMSE:  517.91815\n",
      "Mape Geral:  5.84147 Std: 0.94284 Erro: 0.42165\n",
      "Rmsle Geral: 0.00580 Std: 0.00184 Erro: 0.00082\n",
      "Rmse Geral:  597.79700 Std: 154.88859 Erro: 69.26828\n"
     ]
    }
   ],
   "source": [
    "vetor_MAPE1_n_r,vetor_MSLR1_n_r,vetor_RMSE1_n_r = validation(X1t,Y1_nt,'sales','normal',Date)"
   ]
  },
  {
   "cell_type": "code",
   "execution_count": null,
   "metadata": {
    "colab": {
     "base_uri": "https://localhost:8080/"
    },
    "executionInfo": {
     "elapsed": 24,
     "status": "ok",
     "timestamp": 1649267275316,
     "user": {
      "displayName": "Antonio Junior",
      "userId": "09175545212585676126"
     },
     "user_tz": 180
    },
    "id": "wFXqUZhBJSb8",
    "outputId": "7e6690fa-a2c9-47ce-c30d-76430f7efe94"
   },
   "outputs": [
    {
     "data": {
      "text/plain": [
       "Index(['store', 'day_of_week', 'date', 'sales', 'customers', 'promo',\n",
       "       'school_holiday', 'competition_distance',\n",
       "       'competition_open_since_month', 'competition_open_since_year', 'promo2',\n",
       "       'promo2_since_week', 'promo2_since_year', 'without_competition',\n",
       "       'is_promo', 'year', 'week_year', 'promo_time_week', 'Total_dias',\n",
       "       'state_holiday_christmas', 'state_holiday_easter_holiday',\n",
       "       'state_holiday_public_holiday', 'state_holiday_regular_day',\n",
       "       'store_type_a', 'store_type_b', 'store_type_c', 'store_type_d',\n",
       "       'assortment_basic', 'assortment_extended', 'assortment_extra',\n",
       "       'day_sin', 'day_cos'],\n",
       "      dtype='object')"
      ]
     },
     "execution_count": 62,
     "metadata": {},
     "output_type": "execute_result"
    }
   ],
   "source": [
    "df3.columns"
   ]
  },
  {
   "cell_type": "markdown",
   "metadata": {
    "id": "n8n-EuhACsJr"
   },
   "source": [
    "# Target encoder\n",
    "\n",
    "* Variáveis que serão aplicadas o Target enconder store,day_of_week,day.\n",
    "* Não será feito os testes com as variáveis temporais transformadas com seno e cosseno.\n",
    " \n",
    " \n",
    " \n",
    " \n"
   ]
  },
  {
   "cell_type": "code",
   "execution_count": null,
   "metadata": {
    "id": "nnBDF0vwCkmJ"
   },
   "outputs": [],
   "source": [
    "#del df4"
   ]
  },
  {
   "cell_type": "code",
   "execution_count": 30,
   "metadata": {
    "executionInfo": {
     "elapsed": 277,
     "status": "ok",
     "timestamp": 1649996681637,
     "user": {
      "displayName": "Antonio Junior",
      "userId": "09175545212585676126"
     },
     "user_tz": 180
    },
    "id": "8JsGAcxXHBaq"
   },
   "outputs": [],
   "source": [
    "cat =  ['store', 'day_of_week', 'day']"
   ]
  },
  {
   "cell_type": "code",
   "execution_count": 31,
   "metadata": {
    "executionInfo": {
     "elapsed": 330,
     "status": "ok",
     "timestamp": 1649996682250,
     "user": {
      "displayName": "Antonio Junior",
      "userId": "09175545212585676126"
     },
     "user_tz": 180
    },
    "id": "1QyzLT0bDF3K"
   },
   "outputs": [],
   "source": [
    "df5 = df.copy() # Target encoder aplicado em store\n",
    "df6 = df.copy() # Target encoder aplicado em day_of_week\n",
    "df7 = df.copy() # Target encoder aplicado em day\n",
    "df8 = df.copy() # Target encoder aplicado em store e day_of_week\n",
    "df9 = df.copy() # Target encoder aplicado em day_of_week e day\n",
    "df10 = df.copy() # Target encoder aplicado em  todas as variáveis"
   ]
  },
  {
   "cell_type": "code",
   "execution_count": 32,
   "metadata": {
    "executionInfo": {
     "elapsed": 5558,
     "status": "ok",
     "timestamp": 1649996687805,
     "user": {
      "displayName": "Antonio Junior",
      "userId": "09175545212585676126"
     },
     "user_tz": 180
    },
    "id": "z9KqU_OREN-Z"
   },
   "outputs": [],
   "source": [
    "df5['store']       =  df5['store'].astype(str)\n",
    "\n",
    "df6['day_of_week'] =  df6['day_of_week'].astype(str)\n",
    "\n",
    "df7['day']         =  df7['day'].astype(str)\n",
    "\n",
    "df8['store']         =  df8['store'].astype(str)\n",
    "df8['day_of_week']   =  df8['day_of_week'].astype(str)\n",
    "\n",
    "df9['day_of_week']   =  df9['day_of_week'].astype(str)\n",
    "df9['day']           =  df9['day'].astype(str)\n",
    "\n",
    "df10['store']         =  df10['store'].astype(str)\n",
    "df10['day_of_week']   =  df10['day_of_week'].astype(str)\n",
    "df10['day']           =  df10['day'].astype(str)"
   ]
  },
  {
   "cell_type": "code",
   "execution_count": null,
   "metadata": {
    "id": "lG0muIQpDGLW"
   },
   "outputs": [],
   "source": [
    "X1t_5 ,Y1_nt_5,Date   = dados_teste_val(df5)\n",
    "X1t_6 ,Y1_nt_6,Date   = dados_teste_val(df6)\n",
    "X1t_7 ,Y1_nt_7,Date   = dados_teste_val(df7)\n",
    "X1t_8 ,Y1_nt_8,Date   = dados_teste_val(df8)\n",
    "X1t_9 ,Y1_nt_9,Date   = dados_teste_val(df9)\n",
    "X1t_10 ,Y1_nt_10,Date = dados_teste_val(df10)"
   ]
  },
  {
   "cell_type": "code",
   "execution_count": null,
   "metadata": {
    "id": "XXrIY05aJ0_g"
   },
   "outputs": [],
   "source": []
  },
  {
   "cell_type": "code",
   "execution_count": null,
   "metadata": {
    "id": "-tLmsz3IaRME"
   },
   "outputs": [],
   "source": []
  },
  {
   "cell_type": "code",
   "execution_count": null,
   "metadata": {
    "colab": {
     "base_uri": "https://localhost:8080/"
    },
    "executionInfo": {
     "elapsed": 1807015,
     "status": "ok",
     "timestamp": 1649269090948,
     "user": {
      "displayName": "Antonio Junior",
      "userId": "09175545212585676126"
     },
     "user_tz": 180
    },
    "id": "dJqMOEL5_B7m",
    "outputId": "2f586e44-92ac-41bc-95bb-ad03c55a1b4a"
   },
   "outputs": [
    {
     "name": "stdout",
     "output_type": "stream",
     "text": [
      "Banco de dados 5\n",
      "Data do inicio do treinamento: 2013-01-03 Data do final do treinamento : 2014-11-19\n",
      "Data do inicio do Validação  : 2014-11-20 Data do final do Validação   : 2015-01-01\n",
      "MAPE:  7.54440\n",
      "RMSLE: 0.00932\n",
      "RMSE:  854.37304\n",
      "Data do inicio do treinamento: 2013-01-03 Data do final do treinamento : 2014-12-31\n",
      "Data do inicio do Validação  : 2015-01-01 Data do final do Validação   : 2015-02-12\n",
      "MAPE:  5.49673\n",
      "RMSLE: 0.00544\n",
      "RMSE:  531.81776\n",
      "Data do inicio do treinamento: 2013-01-03 Data do final do treinamento : 2015-02-11\n",
      "Data do inicio do Validação  : 2015-02-12 Data do final do Validação   : 2015-03-26\n",
      "MAPE:  4.97239\n",
      "RMSLE: 0.00412\n",
      "RMSE:  422.55332\n",
      "Data do inicio do treinamento: 2013-01-03 Data do final do treinamento : 2015-03-25\n",
      "Data do inicio do Validação  : 2015-03-26 Data do final do Validação   : 2015-05-07\n",
      "MAPE:  6.13847\n",
      "RMSLE: 0.00647\n",
      "RMSE:  710.34609\n",
      "Data do inicio do treinamento: 2013-01-03 Data do final do treinamento : 2015-05-06\n",
      "Data do inicio do Validação  : 2015-05-07 Data do final do Validação   : 2015-06-18\n",
      "MAPE:  5.37796\n",
      "RMSLE: 0.00472\n",
      "RMSE:  519.10515\n",
      "Mape Geral:  5.90599 Std: 0.90071 Erro: 0.40281\n",
      "Rmsle Geral: 0.00601 Std: 0.00183 Erro: 0.00082\n",
      "Rmse Geral:  607.63907 Std: 154.44756 Erro: 69.07105\n",
      "\n",
      "\n",
      "Banco de dados 6\n",
      "Data do inicio do treinamento: 2013-01-03 Data do final do treinamento : 2014-11-19\n",
      "Data do inicio do Validação  : 2014-11-20 Data do final do Validação   : 2015-01-01\n",
      "MAPE:  7.57033\n",
      "RMSLE: 0.00908\n",
      "RMSE:  856.53313\n",
      "Data do inicio do treinamento: 2013-01-03 Data do final do treinamento : 2014-12-31\n",
      "Data do inicio do Validação  : 2015-01-01 Data do final do Validação   : 2015-02-12\n",
      "MAPE:  5.49028\n",
      "RMSLE: 0.00534\n",
      "RMSE:  522.68030\n",
      "Data do inicio do treinamento: 2013-01-03 Data do final do treinamento : 2015-02-11\n",
      "Data do inicio do Validação  : 2015-02-12 Data do final do Validação   : 2015-03-26\n",
      "MAPE:  4.96993\n",
      "RMSLE: 0.00409\n",
      "RMSE:  422.03534\n",
      "Data do inicio do treinamento: 2013-01-03 Data do final do treinamento : 2015-03-25\n",
      "Data do inicio do Validação  : 2015-03-26 Data do final do Validação   : 2015-05-07\n",
      "MAPE:  5.96812\n",
      "RMSLE: 0.00598\n",
      "RMSE:  684.72817\n",
      "Data do inicio do treinamento: 2013-01-03 Data do final do treinamento : 2015-05-06\n",
      "Data do inicio do Validação  : 2015-05-07 Data do final do Validação   : 2015-06-18\n",
      "MAPE:  5.28473\n",
      "RMSLE: 0.00462\n",
      "RMSE:  515.19475\n",
      "Mape Geral:  5.85668 Std: 0.91616 Erro: 0.40972\n",
      "Rmsle Geral: 0.00582 Std: 0.00175 Erro: 0.00078\n",
      "Rmse Geral:  600.23434 Std: 153.51190 Erro: 68.65261\n",
      "\n",
      "\n",
      "Banco de dados 7\n",
      "Data do inicio do treinamento: 2013-01-03 Data do final do treinamento : 2014-11-19\n",
      "Data do inicio do Validação  : 2014-11-20 Data do final do Validação   : 2015-01-01\n",
      "MAPE:  7.76734\n",
      "RMSLE: 0.00950\n",
      "RMSE:  877.65209\n",
      "Data do inicio do treinamento: 2013-01-03 Data do final do treinamento : 2014-12-31\n",
      "Data do inicio do Validação  : 2015-01-01 Data do final do Validação   : 2015-02-12\n",
      "MAPE:  5.52643\n",
      "RMSLE: 0.00535\n",
      "RMSE:  524.42901\n",
      "Data do inicio do treinamento: 2013-01-03 Data do final do treinamento : 2015-02-11\n",
      "Data do inicio do Validação  : 2015-02-12 Data do final do Validação   : 2015-03-26\n",
      "MAPE:  4.96165\n",
      "RMSLE: 0.00409\n",
      "RMSE:  420.01082\n",
      "Data do inicio do treinamento: 2013-01-03 Data do final do treinamento : 2015-03-25\n",
      "Data do inicio do Validação  : 2015-03-26 Data do final do Validação   : 2015-05-07\n",
      "MAPE:  5.91311\n",
      "RMSLE: 0.00588\n",
      "RMSE:  675.23541\n",
      "Data do inicio do treinamento: 2013-01-03 Data do final do treinamento : 2015-05-06\n",
      "Data do inicio do Validação  : 2015-05-07 Data do final do Validação   : 2015-06-18\n",
      "MAPE:  5.30595\n",
      "RMSLE: 0.00464\n",
      "RMSE:  515.73425\n",
      "Mape Geral:  5.8949 Std: 0.9859 Erro: 0.44091\n",
      "Rmsle Geral: 0.00589 Std: 0.00191 Erro: 0.00085\n",
      "Rmse Geral:  602.61231 Std: 159.95295 Erro: 71.53313\n",
      "\n",
      "\n",
      "Banco de dados 8\n",
      "Data do inicio do treinamento: 2013-01-03 Data do final do treinamento : 2014-11-19\n",
      "Data do inicio do Validação  : 2014-11-20 Data do final do Validação   : 2015-01-01\n",
      "MAPE:  7.87331\n",
      "RMSLE: 0.00991\n",
      "RMSE:  899.40316\n",
      "Data do inicio do treinamento: 2013-01-03 Data do final do treinamento : 2014-12-31\n",
      "Data do inicio do Validação  : 2015-01-01 Data do final do Validação   : 2015-02-12\n",
      "MAPE:  5.88453\n",
      "RMSLE: 0.00651\n",
      "RMSE:  581.73259\n",
      "Data do inicio do treinamento: 2013-01-03 Data do final do treinamento : 2015-02-11\n",
      "Data do inicio do Validação  : 2015-02-12 Data do final do Validação   : 2015-03-26\n",
      "MAPE:  5.15772\n",
      "RMSLE: 0.00448\n",
      "RMSE:  439.00933\n",
      "Data do inicio do treinamento: 2013-01-03 Data do final do treinamento : 2015-03-25\n",
      "Data do inicio do Validação  : 2015-03-26 Data do final do Validação   : 2015-05-07\n",
      "MAPE:  6.11124\n",
      "RMSLE: 0.00631\n",
      "RMSE:  700.11979\n",
      "Data do inicio do treinamento: 2013-01-03 Data do final do treinamento : 2015-05-06\n",
      "Data do inicio do Validação  : 2015-05-07 Data do final do Validação   : 2015-06-18\n",
      "MAPE:  5.45318\n",
      "RMSLE: 0.00490\n",
      "RMSE:  529.98597\n",
      "Mape Geral:  6.096 Std: 0.94841 Erro: 0.42414\n",
      "Rmsle Geral: 0.00642 Std: 0.00191 Erro: 0.00085\n",
      "Rmse Geral:  630.05017 Std: 158.93698 Erro: 71.07878\n",
      "\n",
      "\n",
      "Banco de dados 9\n",
      "Data do inicio do treinamento: 2013-01-03 Data do final do treinamento : 2014-11-19\n",
      "Data do inicio do Validação  : 2014-11-20 Data do final do Validação   : 2015-01-01\n",
      "MAPE:  7.47182\n",
      "RMSLE: 0.00886\n",
      "RMSE:  848.53683\n",
      "Data do inicio do treinamento: 2013-01-03 Data do final do treinamento : 2014-12-31\n",
      "Data do inicio do Validação  : 2015-01-01 Data do final do Validação   : 2015-02-12\n",
      "MAPE:  5.74260\n",
      "RMSLE: 0.0057\n",
      "RMSE:  539.38068\n",
      "Data do inicio do treinamento: 2013-01-03 Data do final do treinamento : 2015-02-11\n",
      "Data do inicio do Validação  : 2015-02-12 Data do final do Validação   : 2015-03-26\n",
      "MAPE:  5.33222\n",
      "RMSLE: 0.00463\n",
      "RMSE:  458.91956\n",
      "Data do inicio do treinamento: 2013-01-03 Data do final do treinamento : 2015-03-25\n",
      "Data do inicio do Validação  : 2015-03-26 Data do final do Validação   : 2015-05-07\n",
      "MAPE:  6.18902\n",
      "RMSLE: 0.00631\n",
      "RMSE:  687.59945\n",
      "Data do inicio do treinamento: 2013-01-03 Data do final do treinamento : 2015-05-06\n",
      "Data do inicio do Validação  : 2015-05-07 Data do final do Validação   : 2015-06-18\n",
      "MAPE:  5.48668\n",
      "RMSLE: 0.00492\n",
      "RMSE:  539.22934\n",
      "Mape Geral:  6.04447 Std: 0.77042 Erro: 0.34454\n",
      "Rmsle Geral: 0.00608 Std: 0.00151 Erro: 0.00067\n",
      "Rmse Geral:  614.73317 Std: 138.29704 Erro: 61.84832\n",
      "\n",
      "\n",
      "Banco de dados 10\n",
      "Data do inicio do treinamento: 2013-01-03 Data do final do treinamento : 2014-11-19\n",
      "Data do inicio do Validação  : 2014-11-20 Data do final do Validação   : 2015-01-01\n",
      "MAPE:  7.79123\n",
      "RMSLE: 0.00972\n",
      "RMSE:  893.64272\n",
      "Data do inicio do treinamento: 2013-01-03 Data do final do treinamento : 2014-12-31\n",
      "Data do inicio do Validação  : 2015-01-01 Data do final do Validação   : 2015-02-12\n",
      "MAPE:  6.13787\n",
      "RMSLE: 0.00693\n",
      "RMSE:  598.10542\n",
      "Data do inicio do treinamento: 2013-01-03 Data do final do treinamento : 2015-02-11\n",
      "Data do inicio do Validação  : 2015-02-12 Data do final do Validação   : 2015-03-26\n",
      "MAPE:  5.50115\n",
      "RMSLE: 0.00499\n",
      "RMSE:  473.67014\n",
      "Data do inicio do treinamento: 2013-01-03 Data do final do treinamento : 2015-03-25\n",
      "Data do inicio do Validação  : 2015-03-26 Data do final do Validação   : 2015-05-07\n",
      "MAPE:  6.32651\n",
      "RMSLE: 0.00661\n",
      "RMSE:  702.5283\n",
      "Data do inicio do treinamento: 2013-01-03 Data do final do treinamento : 2015-05-06\n",
      "Data do inicio do Validação  : 2015-05-07 Data do final do Validação   : 2015-06-18\n",
      "MAPE:  5.60629\n",
      "RMSLE: 0.00515\n",
      "RMSE:  551.19522\n",
      "Mape Geral:  6.27261 Std: 0.82054 Erro: 0.36696\n",
      "Rmsle Geral: 0.00668 Std: 0.00170 Erro: 0.00076\n",
      "Rmse Geral:  643.82836 Std: 145.24338 Erro: 64.95482\n"
     ]
    }
   ],
   "source": [
    "\n",
    "print('Banco de dados 5')\n",
    "vetor_MAPE5,vetor_MSLR5,vetor_RMSE5    = validation_target_encoder(X1t_5,Y1_nt_5,'sales',[cat[0]],Date)\n",
    "print('\\n')\n",
    "print('Banco de dados 6')\n",
    "vetor_MAPE6,vetor_MSLR6,vetor_RMSE6    = validation_target_encoder(X1t_6,Y1_nt_6,'sales',[cat[1]],Date)\n",
    "print('\\n')\n",
    "print('Banco de dados 7')\n",
    "vetor_MAPE7,vetor_MSLR7,vetor_RMSE7    = validation_target_encoder(X1t_7,Y1_nt_7,'sales',[cat[2]],Date)\n",
    "print('\\n')\n",
    "print('Banco de dados 8')\n",
    "vetor_MAPE8,vetor_MSLR8,vetor_RMSE8    = validation_target_encoder(X1t_8,Y1_nt_8,'sales',[cat[0],cat[1]],Date)\n",
    "print('\\n')\n",
    "print('Banco de dados 9')\n",
    "vetor_MAPE9,vetor_MSLR9,vetor_RMSE9    = validation_target_encoder(X1t_9,Y1_nt_9,'sales',[cat[1],cat[2]],Date)\n",
    "print('\\n')\n",
    "print('Banco de dados 10')\n",
    "vetor_MAPE10,vetor_MSLR10,vetor_RMSE10 = validation_target_encoder(X1t_10,Y1_nt_10,'sales',[cat[0],cat[1],cat[2]],Date)\n"
   ]
  },
  {
   "cell_type": "code",
   "execution_count": null,
   "metadata": {
    "id": "Wn4QTDwn4VYF"
   },
   "outputs": [],
   "source": []
  },
  {
   "cell_type": "markdown",
   "metadata": {
    "id": "RYPzPDzH3YLd"
   },
   "source": [
    "### Avaliando os valores\n",
    "\n",
    "---\n",
    "---\n",
    "* Mape Geral v0:  5.84147 Std: 0.94284 Erro: 0.42165\n",
    "* Mape Geral d5:  5.90599 Std: 0.90071 Erro: 0.40281\n",
    "* Mape Geral d6:  5.85668 Std: 0.91616 Erro: 0.40972\n",
    "* Mape Geral d7:  5.89490 Std: 0.98590 Erro: 0.44091\n",
    "* Mape Geral d8:  6.09600 Std: 0.94841 Erro: 0.42414\n",
    "* Mape Geral d9:  6.04447 Std: 0.77042 Erro: 0.34454\n",
    "* Mape Geral d10: 6.27261 Std: 0.82054 Erro: 0.36696\n",
    "---\n",
    "---\n",
    "* Rmsle Geral v0:  0.00580 Std: 0.00184 Erro: 0.00082\n",
    "* Rmsle Geral d5:  0.00601 Std: 0.00183 Erro: 0.00082\n",
    "* Rmsle Geral d6:  0.00582 Std: 0.00175 Erro: 0.00078\n",
    "* Rmsle Geral d7:  0.00589 Std: 0.00191 Erro: 0.00085\n",
    "* Rmsle Geral d8:  0.00642 Std: 0.00191 Erro: 0.00085\n",
    "* Rmsle Geral d9:  0.00608 Std: 0.00151 Erro: 0.00067\n",
    "* Rmsle Geral d10: 0.00668 Std: 0.00170 Erro: 0.00076 \n",
    "\n",
    "---\n",
    "---\n",
    "* Rmse Geral v0: 597.79700 Std: 154.88859 Erro: 69.26828\n",
    "* Rmse Geral d5: 607.63907 Std: 154.44756 Erro: 69.07105\n",
    "* Rmse Geral d6: 600.23434 Std: 153.51190 Erro: 68.65261\n",
    "* Rmse Geral d7: 602.61231 Std: 159.95295 Erro: 71.53313\n",
    "* Rmse Geral d8: 630.05017 Std: 158.93698 Erro: 71.07878\n",
    "* Rmse Geral d9: 614.73317 Std: 138.29704 Erro: 61.84832\n",
    "* Rmse Geral d10: 643.82836 Std: 145.24338 Erro: 64.95482\n",
    "---\n",
    "---\n",
    "\n",
    "\n",
    "\n",
    "\n",
    "\n"
   ]
  },
  {
   "cell_type": "markdown",
   "metadata": {
    "id": "eOYvvJD66sEQ"
   },
   "source": [
    "* Claramente os resultados mostram que não ocorreu nenhuma melhora quando é aplicada o Target Encoder.\n",
    " \n",
    "* Agora será visto como cada variável impacta no modelo global.\n",
    "\n",
    " \n",
    " \n"
   ]
  },
  {
   "cell_type": "code",
   "execution_count": 33,
   "metadata": {
    "executionInfo": {
     "elapsed": 267,
     "status": "ok",
     "timestamp": 1649996692441,
     "user": {
      "displayName": "Antonio Junior",
      "userId": "09175545212585676126"
     },
     "user_tz": 180
    },
    "id": "jrjFbV0K82Xn"
   },
   "outputs": [],
   "source": [
    "del df5,df6,df7,df8,df9,df10"
   ]
  },
  {
   "cell_type": "markdown",
   "metadata": {
    "id": "vw_ZxGhA7CWe"
   },
   "source": [
    "# Seleção de variáveis.\n",
    " \n",
    "* A seleção de variáveis será feita vendo como o modelo se desempenha quando uma variável é excluída."
   ]
  },
  {
   "cell_type": "code",
   "execution_count": 34,
   "metadata": {
    "executionInfo": {
     "elapsed": 4,
     "status": "ok",
     "timestamp": 1649996693855,
     "user": {
      "displayName": "Antonio Junior",
      "userId": "09175545212585676126"
     },
     "user_tz": 180
    },
    "id": "i1lY2n3r_Id2"
   },
   "outputs": [],
   "source": [
    "col = ['day_of_week','customers', 'promo','school_holiday', 'competition_distance',\n",
    "       'competition_open_since_month', 'competition_open_since_year', 'promo2', \n",
    "       'promo2_since_week', 'promo2_since_year', 'without_competition','is_promo', \n",
    "       'year', 'week_year', 'promo_time_week','state_holiday_christmas', \n",
    "       'state_holiday_easter_holiday','state_holiday_public_holiday', \n",
    "       'state_holiday_regular_day','store_type_a', 'store_type_b', 'store_type_c', \n",
    "       'store_type_d','assortment_basic', 'assortment_extended', 'assortment_extra',\n",
    "       'day_sin', 'day_cos']"
   ]
  },
  {
   "cell_type": "code",
   "execution_count": null,
   "metadata": {
    "id": "YPuMZsoSey-Z"
   },
   "outputs": [],
   "source": [
    "#df2.columns"
   ]
  },
  {
   "cell_type": "code",
   "execution_count": null,
   "metadata": {
    "colab": {
     "base_uri": "https://localhost:8080/"
    },
    "executionInfo": {
     "elapsed": 8339262,
     "status": "ok",
     "timestamp": 1649278742576,
     "user": {
      "displayName": "Antonio Junior",
      "userId": "09175545212585676126"
     },
     "user_tz": 180
    },
    "id": "zoi4XNpdHTx8",
    "outputId": "4f8edc71-9506-4910-90ef-b4052224ddeb"
   },
   "outputs": [
    {
     "name": "stdout",
     "output_type": "stream",
     "text": [
      "Coluna removida: day_of_week\n",
      "Data do inicio do treinamento: 2013-01-03 Data do final do treinamento : 2014-11-19\n",
      "Data do inicio do Validação  : 2014-11-20 Data do final do Validação   : 2015-01-01\n",
      "MAPE:  7.31358\n",
      "RMSLE: 0.00866\n",
      "RMSE:  836.46187\n",
      "Data do inicio do treinamento: 2013-01-03 Data do final do treinamento : 2014-12-31\n",
      "Data do inicio do Validação  : 2015-01-01 Data do final do Validação   : 2015-02-12\n",
      "MAPE:  5.64408\n",
      "RMSLE: 0.00557\n",
      "RMSE:  533.48240\n",
      "Data do inicio do treinamento: 2013-01-03 Data do final do treinamento : 2015-02-11\n",
      "Data do inicio do Validação  : 2015-02-12 Data do final do Validação   : 2015-03-26\n",
      "MAPE:  5.26408\n",
      "RMSLE: 0.00453\n",
      "RMSE:  451.48901\n",
      "Data do inicio do treinamento: 2013-01-03 Data do final do treinamento : 2015-03-25\n",
      "Data do inicio do Validação  : 2015-03-26 Data do final do Validação   : 2015-05-07\n",
      "MAPE:  6.03444\n",
      "RMSLE: 0.00605\n",
      "RMSE:  672.64834\n",
      "Data do inicio do treinamento: 2013-01-03 Data do final do treinamento : 2015-05-06\n",
      "Data do inicio do Validação  : 2015-05-07 Data do final do Validação   : 2015-06-18\n",
      "MAPE:  5.41496\n",
      "RMSLE: 0.00479\n",
      "RMSE:  531.53704\n",
      "Mape Geral:  5.93423 Std: 0.73696 Erro: 0.32958\n",
      "Rmsle Geral: 0.00592 Std: 0.00148 Erro: 0.00066\n",
      "Rmse Geral:  605.12373 Std: 135.81459 Erro: 60.73813\n",
      "\n",
      "\n",
      "Coluna removida: customers\n",
      "Data do inicio do treinamento: 2013-01-03 Data do final do treinamento : 2014-11-19\n",
      "Data do inicio do Validação  : 2014-11-20 Data do final do Validação   : 2015-01-01\n",
      "MAPE:  13.81651\n",
      "RMSLE: 0.03641\n",
      "RMSE:  1596.07170\n",
      "Data do inicio do treinamento: 2013-01-03 Data do final do treinamento : 2014-12-31\n",
      "Data do inicio do Validação  : 2015-01-01 Data do final do Validação   : 2015-02-12\n",
      "MAPE:  12.72561\n",
      "RMSLE: 0.03521\n",
      "RMSE:  1342.9807\n",
      "Data do inicio do treinamento: 2013-01-03 Data do final do treinamento : 2015-02-11\n",
      "Data do inicio do Validação  : 2015-02-12 Data do final do Validação   : 2015-03-26\n",
      "MAPE:  8.95605\n",
      "RMSLE: 0.01799\n",
      "RMSE:  862.57433\n",
      "Data do inicio do treinamento: 2013-01-03 Data do final do treinamento : 2015-03-25\n",
      "Data do inicio do Validação  : 2015-03-26 Data do final do Validação   : 2015-05-07\n",
      "MAPE:  12.00903\n",
      "RMSLE: 0.02420\n",
      "RMSE:  1266.94389\n",
      "Data do inicio do treinamento: 2013-01-03 Data do final do treinamento : 2015-05-06\n",
      "Data do inicio do Validação  : 2015-05-07 Data do final do Validação   : 2015-06-18\n",
      "MAPE:  10.26385\n",
      "RMSLE: 0.01825\n",
      "RMSE:  990.31226\n",
      "Mape Geral:  11.55421 Std: 1.73853 Erro: 0.7775\n",
      "Rmsle Geral: 0.02641 Std: 0.008 Erro: 0.00358\n",
      "Rmse Geral:  1211.77658 Std: 260.3572 Erro: 116.43528\n",
      "\n",
      "\n",
      "Coluna removida: promo\n",
      "Data do inicio do treinamento: 2013-01-03 Data do final do treinamento : 2014-11-19\n",
      "Data do inicio do Validação  : 2014-11-20 Data do final do Validação   : 2015-01-01\n",
      "MAPE:  7.76454\n",
      "RMSLE: 0.00939\n",
      "RMSE:  882.20192\n",
      "Data do inicio do treinamento: 2013-01-03 Data do final do treinamento : 2014-12-31\n",
      "Data do inicio do Validação  : 2015-01-01 Data do final do Validação   : 2015-02-12\n",
      "MAPE:  6.91961\n",
      "RMSLE: 0.00794\n",
      "RMSE:  626.33913\n",
      "Data do inicio do treinamento: 2013-01-03 Data do final do treinamento : 2015-02-11\n",
      "Data do inicio do Validação  : 2015-02-12 Data do final do Validação   : 2015-03-26\n",
      "MAPE:  5.48484\n",
      "RMSLE: 0.00505\n",
      "RMSE:  469.20024\n",
      "Data do inicio do treinamento: 2013-01-03 Data do final do treinamento : 2015-03-25\n",
      "Data do inicio do Validação  : 2015-03-26 Data do final do Validação   : 2015-05-07\n",
      "MAPE:  6.61064\n",
      "RMSLE: 0.00711\n",
      "RMSE:  718.08675\n",
      "Data do inicio do treinamento: 2013-01-03 Data do final do treinamento : 2015-05-06\n",
      "Data do inicio do Validação  : 2015-05-07 Data do final do Validação   : 2015-06-18\n",
      "MAPE:  5.74941\n",
      "RMSLE: 0.00550\n",
      "RMSE:  558.50236\n",
      "Mape Geral:  6.50581 Std: 0.82233 Erro: 0.36776\n",
      "Rmsle Geral: 0.00700 Std: 0.00159 Erro: 0.00071\n",
      "Rmse Geral:  650.86608 Std: 141.54151 Erro: 63.29929\n",
      "\n",
      "\n",
      "Coluna removida: school_holiday\n",
      "Data do inicio do treinamento: 2013-01-03 Data do final do treinamento : 2014-11-19\n",
      "Data do inicio do Validação  : 2014-11-20 Data do final do Validação   : 2015-01-01\n",
      "MAPE:  7.63775\n",
      "RMSLE: 0.00925\n",
      "RMSE:  868.71337\n",
      "Data do inicio do treinamento: 2013-01-03 Data do final do treinamento : 2014-12-31\n",
      "Data do inicio do Validação  : 2015-01-01 Data do final do Validação   : 2015-02-12\n",
      "MAPE:  5.45576\n",
      "RMSLE: 0.00529\n",
      "RMSE:  519.30203\n",
      "Data do inicio do treinamento: 2013-01-03 Data do final do treinamento : 2015-02-11\n",
      "Data do inicio do Validação  : 2015-02-12 Data do final do Validação   : 2015-03-26\n",
      "MAPE:  4.95338\n",
      "RMSLE: 0.00407\n",
      "RMSE:  419.74667\n",
      "Data do inicio do treinamento: 2013-01-03 Data do final do treinamento : 2015-03-25\n",
      "Data do inicio do Validação  : 2015-03-26 Data do final do Validação   : 2015-05-07\n",
      "MAPE:  5.82841\n",
      "RMSLE: 0.00574\n",
      "RMSE:  667.24714\n",
      "Data do inicio do treinamento: 2013-01-03 Data do final do treinamento : 2015-05-06\n",
      "Data do inicio do Validação  : 2015-05-07 Data do final do Validação   : 2015-06-18\n",
      "MAPE:  5.32172\n",
      "RMSLE: 0.00466\n",
      "RMSE:  518.03182\n",
      "Mape Geral:  5.83941 Std: 0.94174 Erro: 0.42116\n",
      "Rmsle Geral: 0.00580 Std: 0.00181 Erro: 0.00081\n",
      "Rmse Geral:  598.60821 Std: 156.48743 Erro: 69.98330\n",
      "\n",
      "\n",
      "Coluna removida: competition_distance\n",
      "Data do inicio do treinamento: 2013-01-03 Data do final do treinamento : 2014-11-19\n",
      "Data do inicio do Validação  : 2014-11-20 Data do final do Validação   : 2015-01-01\n",
      "MAPE:  8.55361\n",
      "RMSLE: 0.01193\n",
      "RMSE:  1014.02514\n",
      "Data do inicio do treinamento: 2013-01-03 Data do final do treinamento : 2014-12-31\n",
      "Data do inicio do Validação  : 2015-01-01 Data do final do Validação   : 2015-02-12\n",
      "MAPE:  6.09498\n",
      "RMSLE: 0.00705\n",
      "RMSE:  616.78298\n",
      "Data do inicio do treinamento: 2013-01-03 Data do final do treinamento : 2015-02-11\n",
      "Data do inicio do Validação  : 2015-02-12 Data do final do Validação   : 2015-03-26\n",
      "MAPE:  5.28522\n",
      "RMSLE: 0.00471\n",
      "RMSE:  454.92201\n",
      "Data do inicio do treinamento: 2013-01-03 Data do final do treinamento : 2015-03-25\n",
      "Data do inicio do Validação  : 2015-03-26 Data do final do Validação   : 2015-05-07\n",
      "MAPE:  6.21877\n",
      "RMSLE: 0.00669\n",
      "RMSE:  725.80414\n",
      "Data do inicio do treinamento: 2013-01-03 Data do final do treinamento : 2015-05-06\n",
      "Data do inicio do Validação  : 2015-05-07 Data do final do Validação   : 2015-06-18\n",
      "MAPE:  5.66901\n",
      "RMSLE: 0.00536\n",
      "RMSE:  566.27926\n",
      "Mape Geral:  6.36432 Std: 1.14321 Erro: 0.51126\n",
      "Rmsle Geral: 0.00715 Std: 0.00254 Erro: 0.00114\n",
      "Rmse Geral:  675.56271 Std: 190.34771 Erro: 85.12609\n",
      "\n",
      "\n",
      "Coluna removida: competition_open_since_month\n",
      "Data do inicio do treinamento: 2013-01-03 Data do final do treinamento : 2014-11-19\n",
      "Data do inicio do Validação  : 2014-11-20 Data do final do Validação   : 2015-01-01\n",
      "MAPE:  7.64638\n",
      "RMSLE: 0.00929\n",
      "RMSE:  864.20252\n",
      "Data do inicio do treinamento: 2013-01-03 Data do final do treinamento : 2014-12-31\n",
      "Data do inicio do Validação  : 2015-01-01 Data do final do Validação   : 2015-02-12\n",
      "MAPE:  5.48563\n",
      "RMSLE: 0.00539\n",
      "RMSE:  524.54368\n",
      "Data do inicio do treinamento: 2013-01-03 Data do final do treinamento : 2015-02-11\n",
      "Data do inicio do Validação  : 2015-02-12 Data do final do Validação   : 2015-03-26\n",
      "MAPE:  4.96106\n",
      "RMSLE: 0.00407\n",
      "RMSE:  419.92653\n",
      "Data do inicio do treinamento: 2013-01-03 Data do final do treinamento : 2015-03-25\n",
      "Data do inicio do Validação  : 2015-03-26 Data do final do Validação   : 2015-05-07\n",
      "MAPE:  5.7883\n",
      "RMSLE: 0.00569\n",
      "RMSE:  663.00564\n",
      "Data do inicio do treinamento: 2013-01-03 Data do final do treinamento : 2015-05-06\n",
      "Data do inicio do Validação  : 2015-05-07 Data do final do Validação   : 2015-06-18\n",
      "MAPE:  5.29208\n",
      "RMSLE: 0.00459\n",
      "RMSE:  515.33165\n",
      "Mape Geral:  5.83469 Std: 0.94487 Erro: 0.42256\n",
      "Rmsle Geral: 0.00581 Std: 0.00183 Erro: 0.00082\n",
      "Rmse Geral:  597.40200 Std: 154.29049 Erro: 69.00080\n",
      "\n",
      "\n",
      "Coluna removida: competition_open_since_year\n",
      "Data do inicio do treinamento: 2013-01-03 Data do final do treinamento : 2014-11-19\n",
      "Data do inicio do Validação  : 2014-11-20 Data do final do Validação   : 2015-01-01\n",
      "MAPE:  7.68125\n",
      "RMSLE: 0.00940\n",
      "RMSE:  873.15877\n",
      "Data do inicio do treinamento: 2013-01-03 Data do final do treinamento : 2014-12-31\n",
      "Data do inicio do Validação  : 2015-01-01 Data do final do Validação   : 2015-02-12\n",
      "MAPE:  5.37803\n",
      "RMSLE: 0.0051\n",
      "RMSE:  513.73428\n",
      "Data do inicio do treinamento: 2013-01-03 Data do final do treinamento : 2015-02-11\n",
      "Data do inicio do Validação  : 2015-02-12 Data do final do Validação   : 2015-03-26\n",
      "MAPE:  4.9972\n",
      "RMSLE: 0.00415\n",
      "RMSE:  423.14778\n",
      "Data do inicio do treinamento: 2013-01-03 Data do final do treinamento : 2015-03-25\n",
      "Data do inicio do Validação  : 2015-03-26 Data do final do Validação   : 2015-05-07\n",
      "MAPE:  5.83330\n",
      "RMSLE: 0.00571\n",
      "RMSE:  663.15479\n",
      "Data do inicio do treinamento: 2013-01-03 Data do final do treinamento : 2015-05-06\n",
      "Data do inicio do Validação  : 2015-05-07 Data do final do Validação   : 2015-06-18\n",
      "MAPE:  5.35411\n",
      "RMSLE: 0.00470\n",
      "RMSE:  521.69440\n",
      "Mape Geral:  5.84878 Std: 0.95391 Erro: 0.42660\n",
      "Rmsle Geral: 0.00581 Std: 0.00187 Erro: 0.00083\n",
      "Rmse Geral:  598.97801 Std: 157.13005 Erro: 70.2707\n",
      "\n",
      "\n",
      "Coluna removida: promo2\n",
      "Data do inicio do treinamento: 2013-01-03 Data do final do treinamento : 2014-11-19\n",
      "Data do inicio do Validação  : 2014-11-20 Data do final do Validação   : 2015-01-01\n",
      "MAPE:  7.70935\n",
      "RMSLE: 0.00947\n",
      "RMSE:  874.13308\n",
      "Data do inicio do treinamento: 2013-01-03 Data do final do treinamento : 2014-12-31\n",
      "Data do inicio do Validação  : 2015-01-01 Data do final do Validação   : 2015-02-12\n",
      "MAPE:  5.52361\n",
      "RMSLE: 0.00543\n",
      "RMSE:  530.11532\n",
      "Data do inicio do treinamento: 2013-01-03 Data do final do treinamento : 2015-02-11\n",
      "Data do inicio do Validação  : 2015-02-12 Data do final do Validação   : 2015-03-26\n",
      "MAPE:  4.95947\n",
      "RMSLE: 0.00407\n",
      "RMSE:  420.23532\n",
      "Data do inicio do treinamento: 2013-01-03 Data do final do treinamento : 2015-03-25\n",
      "Data do inicio do Validação  : 2015-03-26 Data do final do Validação   : 2015-05-07\n",
      "MAPE:  5.83826\n",
      "RMSLE: 0.00577\n",
      "RMSE:  667.62874\n",
      "Data do inicio do treinamento: 2013-01-03 Data do final do treinamento : 2015-05-06\n",
      "Data do inicio do Validação  : 2015-05-07 Data do final do Validação   : 2015-06-18\n",
      "MAPE:  5.32246\n",
      "RMSLE: 0.00466\n",
      "RMSE:  517.91077\n",
      "Mape Geral:  5.87063 Std: 0.96261 Erro: 0.43049\n",
      "Rmsle Geral: 0.00588 Std: 0.00189 Erro: 0.00085\n",
      "Rmse Geral:  602.00465 Std: 157.25162 Erro: 70.32506\n",
      "\n",
      "\n",
      "Coluna removida: promo2_since_week\n",
      "Data do inicio do treinamento: 2013-01-03 Data do final do treinamento : 2014-11-19\n",
      "Data do inicio do Validação  : 2014-11-20 Data do final do Validação   : 2015-01-01\n",
      "MAPE:  7.63524\n",
      "RMSLE: 0.00926\n",
      "RMSE:  867.56722\n",
      "Data do inicio do treinamento: 2013-01-03 Data do final do treinamento : 2014-12-31\n",
      "Data do inicio do Validação  : 2015-01-01 Data do final do Validação   : 2015-02-12\n",
      "MAPE:  5.45208\n",
      "RMSLE: 0.00527\n",
      "RMSE:  519.24650\n",
      "Data do inicio do treinamento: 2013-01-03 Data do final do treinamento : 2015-02-11\n",
      "Data do inicio do Validação  : 2015-02-12 Data do final do Validação   : 2015-03-26\n",
      "MAPE:  4.95127\n",
      "RMSLE: 0.00405\n",
      "RMSE:  421.26218\n",
      "Data do inicio do treinamento: 2013-01-03 Data do final do treinamento : 2015-03-25\n",
      "Data do inicio do Validação  : 2015-03-26 Data do final do Validação   : 2015-05-07\n",
      "MAPE:  5.80756\n",
      "RMSLE: 0.00571\n",
      "RMSE:  664.55301\n",
      "Data do inicio do treinamento: 2013-01-03 Data do final do treinamento : 2015-05-06\n",
      "Data do inicio do Validação  : 2015-05-07 Data do final do Validação   : 2015-06-18\n",
      "MAPE:  5.32673\n",
      "RMSLE: 0.00466\n",
      "RMSE:  517.49912\n",
      "Mape Geral:  5.83457 Std: 0.94101 Erro: 0.42083\n",
      "Rmsle Geral: 0.00579 Std: 0.00182 Erro: 0.00082\n",
      "Rmse Geral:  598.02561 Std: 155.57284 Erro: 69.57429\n",
      "\n",
      "\n",
      "Coluna removida: promo2_since_year\n",
      "Data do inicio do treinamento: 2013-01-03 Data do final do treinamento : 2014-11-19\n",
      "Data do inicio do Validação  : 2014-11-20 Data do final do Validação   : 2015-01-01\n",
      "MAPE:  7.70056\n",
      "RMSLE: 0.00945\n",
      "RMSE:  872.96885\n",
      "Data do inicio do treinamento: 2013-01-03 Data do final do treinamento : 2014-12-31\n",
      "Data do inicio do Validação  : 2015-01-01 Data do final do Validação   : 2015-02-12\n",
      "MAPE:  5.66961\n",
      "RMSLE: 0.00595\n",
      "RMSE:  547.64122\n",
      "Data do inicio do treinamento: 2013-01-03 Data do final do treinamento : 2015-02-11\n",
      "Data do inicio do Validação  : 2015-02-12 Data do final do Validação   : 2015-03-26\n",
      "MAPE:  5.05226\n",
      "RMSLE: 0.00427\n",
      "RMSE:  430.21676\n",
      "Data do inicio do treinamento: 2013-01-03 Data do final do treinamento : 2015-03-25\n",
      "Data do inicio do Validação  : 2015-03-26 Data do final do Validação   : 2015-05-07\n",
      "MAPE:  5.88378\n",
      "RMSLE: 0.00592\n",
      "RMSE:  671.1933\n",
      "Data do inicio do treinamento: 2013-01-03 Data do final do treinamento : 2015-05-06\n",
      "Data do inicio do Validação  : 2015-05-07 Data do final do Validação   : 2015-06-18\n",
      "MAPE:  5.37806\n",
      "RMSLE: 0.00482\n",
      "RMSE:  526.31312\n",
      "Mape Geral:  5.93685 Std: 0.92517 Erro: 0.41375\n",
      "Rmsle Geral: 0.00608 Std: 0.00180 Erro: 0.00081\n",
      "Rmse Geral:  609.66665 Std: 152.38819 Erro: 68.15007\n",
      "\n",
      "\n",
      "Coluna removida: without_competition\n",
      "Data do inicio do treinamento: 2013-01-03 Data do final do treinamento : 2014-11-19\n",
      "Data do inicio do Validação  : 2014-11-20 Data do final do Validação   : 2015-01-01\n",
      "MAPE:  7.66678\n",
      "RMSLE: 0.00932\n",
      "RMSE:  869.89556\n",
      "Data do inicio do treinamento: 2013-01-03 Data do final do treinamento : 2014-12-31\n",
      "Data do inicio do Validação  : 2015-01-01 Data do final do Validação   : 2015-02-12\n",
      "MAPE:  5.53734\n",
      "RMSLE: 0.00543\n",
      "RMSE:  525.85833\n",
      "Data do inicio do treinamento: 2013-01-03 Data do final do treinamento : 2015-02-11\n",
      "Data do inicio do Validação  : 2015-02-12 Data do final do Validação   : 2015-03-26\n",
      "MAPE:  4.96999\n",
      "RMSLE: 0.0041\n",
      "RMSE:  421.95998\n",
      "Data do inicio do treinamento: 2013-01-03 Data do final do treinamento : 2015-03-25\n",
      "Data do inicio do Validação  : 2015-03-26 Data do final do Validação   : 2015-05-07\n",
      "MAPE:  5.82831\n",
      "RMSLE: 0.00576\n",
      "RMSE:  667.16096\n",
      "Data do inicio do treinamento: 2013-01-03 Data do final do treinamento : 2015-05-06\n",
      "Data do inicio do Validação  : 2015-05-07 Data do final do Validação   : 2015-06-18\n",
      "MAPE:  5.321\n",
      "RMSLE: 0.00466\n",
      "RMSE:  519.58411\n",
      "Mape Geral:  5.86468 Std: 0.94362 Erro: 0.42200\n",
      "Rmsle Geral: 0.00585 Std: 0.00183 Erro: 0.00082\n",
      "Rmse Geral:  600.89179 Std: 155.57132 Erro: 69.57361\n",
      "\n",
      "\n",
      "Coluna removida: is_promo\n",
      "Data do inicio do treinamento: 2013-01-03 Data do final do treinamento : 2014-11-19\n",
      "Data do inicio do Validação  : 2014-11-20 Data do final do Validação   : 2015-01-01\n",
      "MAPE:  7.64764\n",
      "RMSLE: 0.00929\n",
      "RMSE:  866.01449\n",
      "Data do inicio do treinamento: 2013-01-03 Data do final do treinamento : 2014-12-31\n",
      "Data do inicio do Validação  : 2015-01-01 Data do final do Validação   : 2015-02-12\n",
      "MAPE:  5.45695\n",
      "RMSLE: 0.00527\n",
      "RMSE:  519.41542\n",
      "Data do inicio do treinamento: 2013-01-03 Data do final do treinamento : 2015-02-11\n",
      "Data do inicio do Validação  : 2015-02-12 Data do final do Validação   : 2015-03-26\n",
      "MAPE:  4.96755\n",
      "RMSLE: 0.00408\n",
      "RMSE:  420.71946\n",
      "Data do inicio do treinamento: 2013-01-03 Data do final do treinamento : 2015-03-25\n",
      "Data do inicio do Validação  : 2015-03-26 Data do final do Validação   : 2015-05-07\n",
      "MAPE:  5.80451\n",
      "RMSLE: 0.00571\n",
      "RMSE:  664.09587\n",
      "Data do inicio do treinamento: 2013-01-03 Data do final do treinamento : 2015-05-06\n",
      "Data do inicio do Validação  : 2015-05-07 Data do final do Validação   : 2015-06-18\n",
      "MAPE:  5.31802\n",
      "RMSLE: 0.00466\n",
      "RMSE:  517.31501\n",
      "Mape Geral:  5.83893 Std: 0.94331 Erro: 0.42186\n",
      "Rmsle Geral: 0.00580 Std: 0.00183 Erro: 0.00082\n",
      "Rmse Geral:  597.51205 Std: 155.1214 Erro: 69.3724\n",
      "\n",
      "\n",
      "Coluna removida: year\n",
      "Data do inicio do treinamento: 2013-01-03 Data do final do treinamento : 2014-11-19\n",
      "Data do inicio do Validação  : 2014-11-20 Data do final do Validação   : 2015-01-01\n",
      "MAPE:  7.63972\n",
      "RMSLE: 0.00927\n",
      "RMSE:  865.1658\n",
      "Data do inicio do treinamento: 2013-01-03 Data do final do treinamento : 2014-12-31\n",
      "Data do inicio do Validação  : 2015-01-01 Data do final do Validação   : 2015-02-12\n",
      "MAPE:  5.4842\n",
      "RMSLE: 0.00534\n",
      "RMSE:  521.72651\n",
      "Data do inicio do treinamento: 2013-01-03 Data do final do treinamento : 2015-02-11\n",
      "Data do inicio do Validação  : 2015-02-12 Data do final do Validação   : 2015-03-26\n",
      "MAPE:  4.97742\n",
      "RMSLE: 0.00409\n",
      "RMSE:  421.37459\n",
      "Data do inicio do treinamento: 2013-01-03 Data do final do treinamento : 2015-03-25\n",
      "Data do inicio do Validação  : 2015-03-26 Data do final do Validação   : 2015-05-07\n",
      "MAPE:  5.84372\n",
      "RMSLE: 0.00575\n",
      "RMSE:  667.41182\n",
      "Data do inicio do treinamento: 2013-01-03 Data do final do treinamento : 2015-05-06\n",
      "Data do inicio do Validação  : 2015-05-07 Data do final do Validação   : 2015-06-18\n",
      "MAPE:  5.35957\n",
      "RMSLE: 0.0047\n",
      "RMSE:  521.43522\n",
      "Mape Geral:  5.86093 Std: 0.93148 Erro: 0.41657\n",
      "Rmsle Geral: 0.00583 Std: 0.00181 Erro: 0.00081\n",
      "Rmse Geral:  599.42278 Std: 154.31253 Erro: 69.01066\n",
      "\n",
      "\n",
      "Coluna removida: week_year\n",
      "Data do inicio do treinamento: 2013-01-03 Data do final do treinamento : 2014-11-19\n",
      "Data do inicio do Validação  : 2014-11-20 Data do final do Validação   : 2015-01-01\n",
      "MAPE:  8.04622\n",
      "RMSLE: 0.00996\n",
      "RMSE:  898.99022\n",
      "Data do inicio do treinamento: 2013-01-03 Data do final do treinamento : 2014-12-31\n",
      "Data do inicio do Validação  : 2015-01-01 Data do final do Validação   : 2015-02-12\n",
      "MAPE:  5.53346\n",
      "RMSLE: 0.00546\n",
      "RMSE:  526.41703\n",
      "Data do inicio do treinamento: 2013-01-03 Data do final do treinamento : 2015-02-11\n",
      "Data do inicio do Validação  : 2015-02-12 Data do final do Validação   : 2015-03-26\n",
      "MAPE:  4.93757\n",
      "RMSLE: 0.00406\n",
      "RMSE:  420.33334\n",
      "Data do inicio do treinamento: 2013-01-03 Data do final do treinamento : 2015-03-25\n",
      "Data do inicio do Validação  : 2015-03-26 Data do final do Validação   : 2015-05-07\n",
      "MAPE:  5.71503\n",
      "RMSLE: 0.00555\n",
      "RMSE:  646.55819\n",
      "Data do inicio do treinamento: 2013-01-03 Data do final do treinamento : 2015-05-06\n",
      "Data do inicio do Validação  : 2015-05-07 Data do final do Validação   : 2015-06-18\n",
      "MAPE:  5.24238\n",
      "RMSLE: 0.00457\n",
      "RMSE:  508.25747\n",
      "Mape Geral:  5.89493 Std: 1.10756 Erro: 0.49532\n",
      "Rmsle Geral: 0.00592 Std: 0.0021 Erro: 0.00094\n",
      "Rmse Geral:  600.11125 Std: 165.93614 Erro: 74.2089\n",
      "\n",
      "\n",
      "Coluna removida: promo_time_week\n",
      "Data do inicio do treinamento: 2013-01-03 Data do final do treinamento : 2014-11-19\n",
      "Data do inicio do Validação  : 2014-11-20 Data do final do Validação   : 2015-01-01\n",
      "MAPE:  7.64526\n",
      "RMSLE: 0.00932\n",
      "RMSE:  867.98883\n",
      "Data do inicio do treinamento: 2013-01-03 Data do final do treinamento : 2014-12-31\n",
      "Data do inicio do Validação  : 2015-01-01 Data do final do Validação   : 2015-02-12\n",
      "MAPE:  5.55148\n",
      "RMSLE: 0.00533\n",
      "RMSE:  520.50877\n",
      "Data do inicio do treinamento: 2013-01-03 Data do final do treinamento : 2015-02-11\n",
      "Data do inicio do Validação  : 2015-02-12 Data do final do Validação   : 2015-03-26\n",
      "MAPE:  5.07209\n",
      "RMSLE: 0.00420\n",
      "RMSE:  425.96435\n",
      "Data do inicio do treinamento: 2013-01-03 Data do final do treinamento : 2015-03-25\n",
      "Data do inicio do Validação  : 2015-03-26 Data do final do Validação   : 2015-05-07\n",
      "MAPE:  5.90659\n",
      "RMSLE: 0.00582\n",
      "RMSE:  671.67446\n",
      "Data do inicio do treinamento: 2013-01-03 Data do final do treinamento : 2015-05-06\n",
      "Data do inicio do Validação  : 2015-05-07 Data do final do Validação   : 2015-06-18\n",
      "MAPE:  5.4102\n",
      "RMSLE: 0.00473\n",
      "RMSE:  521.94833\n",
      "Mape Geral:  5.91712 Std: 0.90458 Erro: 0.40454\n",
      "Rmsle Geral: 0.00588 Std: 0.00180 Erro: 0.00081\n",
      "Rmse Geral:  601.61695 Std: 154.68775 Erro: 69.17846\n",
      "\n",
      "\n",
      "Coluna removida: state_holiday_christmas\n",
      "Data do inicio do treinamento: 2013-01-03 Data do final do treinamento : 2014-11-19\n",
      "Data do inicio do Validação  : 2014-11-20 Data do final do Validação   : 2015-01-01\n",
      "MAPE:  7.64497\n",
      "RMSLE: 0.00929\n",
      "RMSE:  867.16688\n",
      "Data do inicio do treinamento: 2013-01-03 Data do final do treinamento : 2014-12-31\n",
      "Data do inicio do Validação  : 2015-01-01 Data do final do Validação   : 2015-02-12\n",
      "MAPE:  5.47364\n",
      "RMSLE: 0.00530\n",
      "RMSE:  521.02737\n",
      "Data do inicio do treinamento: 2013-01-03 Data do final do treinamento : 2015-02-11\n",
      "Data do inicio do Validação  : 2015-02-12 Data do final do Validação   : 2015-03-26\n",
      "MAPE:  4.96176\n",
      "RMSLE: 0.00407\n",
      "RMSE:  419.65862\n",
      "Data do inicio do treinamento: 2013-01-03 Data do final do treinamento : 2015-03-25\n",
      "Data do inicio do Validação  : 2015-03-26 Data do final do Validação   : 2015-05-07\n",
      "MAPE:  5.81859\n",
      "RMSLE: 0.00573\n",
      "RMSE:  665.60577\n",
      "Data do inicio do treinamento: 2013-01-03 Data do final do treinamento : 2015-05-06\n",
      "Data do inicio do Validação  : 2015-05-07 Data do final do Validação   : 2015-06-18\n",
      "MAPE:  5.32805\n",
      "RMSLE: 0.00466\n",
      "RMSE:  518.119\n",
      "Mape Geral:  5.84540 Std: 0.94084 Erro: 0.42075\n",
      "Rmsle Geral: 0.00581 Std: 0.00183 Erro: 0.00082\n",
      "Rmse Geral:  598.31553 Std: 155.64849 Erro: 69.60812\n",
      "\n",
      "\n",
      "Coluna removida: state_holiday_easter_holiday\n",
      "Data do inicio do treinamento: 2013-01-03 Data do final do treinamento : 2014-11-19\n",
      "Data do inicio do Validação  : 2014-11-20 Data do final do Validação   : 2015-01-01\n",
      "MAPE:  7.65452\n",
      "RMSLE: 0.00929\n",
      "RMSE:  868.64340\n",
      "Data do inicio do treinamento: 2013-01-03 Data do final do treinamento : 2014-12-31\n",
      "Data do inicio do Validação  : 2015-01-01 Data do final do Validação   : 2015-02-12\n",
      "MAPE:  5.46558\n",
      "RMSLE: 0.00528\n",
      "RMSE:  520.63392\n",
      "Data do inicio do treinamento: 2013-01-03 Data do final do treinamento : 2015-02-11\n",
      "Data do inicio do Validação  : 2015-02-12 Data do final do Validação   : 2015-03-26\n",
      "MAPE:  4.96523\n",
      "RMSLE: 0.00407\n",
      "RMSE:  419.99585\n",
      "Data do inicio do treinamento: 2013-01-03 Data do final do treinamento : 2015-03-25\n",
      "Data do inicio do Validação  : 2015-03-26 Data do final do Validação   : 2015-05-07\n",
      "MAPE:  5.80662\n",
      "RMSLE: 0.00572\n",
      "RMSE:  665.46899\n",
      "Data do inicio do treinamento: 2013-01-03 Data do final do treinamento : 2015-05-06\n",
      "Data do inicio do Validação  : 2015-05-07 Data do final do Validação   : 2015-06-18\n",
      "MAPE:  5.32978\n",
      "RMSLE: 0.00467\n",
      "RMSE:  519.3394\n",
      "Mape Geral:  5.84435 Std: 0.94437 Erro: 0.42234\n",
      "Rmsle Geral: 0.00581 Std: 0.00183 Erro: 0.00082\n",
      "Rmse Geral:  598.81631 Std: 155.98401 Erro: 69.75817\n",
      "\n",
      "\n",
      "Coluna removida: state_holiday_public_holiday\n",
      "Data do inicio do treinamento: 2013-01-03 Data do final do treinamento : 2014-11-19\n",
      "Data do inicio do Validação  : 2014-11-20 Data do final do Validação   : 2015-01-01\n",
      "MAPE:  7.63864\n",
      "RMSLE: 0.00926\n",
      "RMSE:  866.42709\n",
      "Data do inicio do treinamento: 2013-01-03 Data do final do treinamento : 2014-12-31\n",
      "Data do inicio do Validação  : 2015-01-01 Data do final do Validação   : 2015-02-12\n",
      "MAPE:  5.47887\n",
      "RMSLE: 0.00533\n",
      "RMSE:  524.07995\n",
      "Data do inicio do treinamento: 2013-01-03 Data do final do treinamento : 2015-02-11\n",
      "Data do inicio do Validação  : 2015-02-12 Data do final do Validação   : 2015-03-26\n",
      "MAPE:  4.95663\n",
      "RMSLE: 0.00407\n",
      "RMSE:  419.98303\n",
      "Data do inicio do treinamento: 2013-01-03 Data do final do treinamento : 2015-03-25\n",
      "Data do inicio do Validação  : 2015-03-26 Data do final do Validação   : 2015-05-07\n",
      "MAPE:  5.81586\n",
      "RMSLE: 0.00569\n",
      "RMSE:  661.19186\n",
      "Data do inicio do treinamento: 2013-01-03 Data do final do treinamento : 2015-05-06\n",
      "Data do inicio do Validação  : 2015-05-07 Data do final do Validação   : 2015-06-18\n",
      "MAPE:  5.31731\n",
      "RMSLE: 0.00465\n",
      "RMSE:  517.28545\n",
      "Mape Geral:  5.84146 Std: 0.94017 Erro: 0.42046\n",
      "Rmsle Geral: 0.0058 Std: 0.00182 Erro: 0.00081\n",
      "Rmse Geral:  597.79348 Std: 154.73536 Erro: 69.19976\n",
      "\n",
      "\n",
      "Coluna removida: state_holiday_regular_day\n",
      "Data do inicio do treinamento: 2013-01-03 Data do final do treinamento : 2014-11-19\n",
      "Data do inicio do Validação  : 2014-11-20 Data do final do Validação   : 2015-01-01\n",
      "MAPE:  7.64202\n",
      "RMSLE: 0.00923\n",
      "RMSE:  865.61167\n",
      "Data do inicio do treinamento: 2013-01-03 Data do final do treinamento : 2014-12-31\n",
      "Data do inicio do Validação  : 2015-01-01 Data do final do Validação   : 2015-02-12\n",
      "MAPE:  5.48383\n",
      "RMSLE: 0.00532\n",
      "RMSE:  522.27822\n",
      "Data do inicio do treinamento: 2013-01-03 Data do final do treinamento : 2015-02-11\n",
      "Data do inicio do Validação  : 2015-02-12 Data do final do Validação   : 2015-03-26\n",
      "MAPE:  4.96391\n",
      "RMSLE: 0.00408\n",
      "RMSE:  420.8711\n",
      "Data do inicio do treinamento: 2013-01-03 Data do final do treinamento : 2015-03-25\n",
      "Data do inicio do Validação  : 2015-03-26 Data do final do Validação   : 2015-05-07\n",
      "MAPE:  5.82467\n",
      "RMSLE: 0.00574\n",
      "RMSE:  667.78721\n",
      "Data do inicio do treinamento: 2013-01-03 Data do final do treinamento : 2015-05-06\n",
      "Data do inicio do Validação  : 2015-05-07 Data do final do Validação   : 2015-06-18\n",
      "MAPE:  5.31383\n",
      "RMSLE: 0.00465\n",
      "RMSE:  518.8167\n",
      "Mape Geral:  5.84565 Std: 0.94006 Erro: 0.42041\n",
      "Rmsle Geral: 0.00580 Std: 0.00181 Erro: 0.00081\n",
      "Rmse Geral:  599.07298 Std: 154.82825 Erro: 69.2413\n",
      "\n",
      "\n",
      "Coluna removida: store_type_a\n",
      "Data do inicio do treinamento: 2013-01-03 Data do final do treinamento : 2014-11-19\n",
      "Data do inicio do Validação  : 2014-11-20 Data do final do Validação   : 2015-01-01\n",
      "MAPE:  7.6417\n",
      "RMSLE: 0.00926\n",
      "RMSE:  866.50825\n",
      "Data do inicio do treinamento: 2013-01-03 Data do final do treinamento : 2014-12-31\n",
      "Data do inicio do Validação  : 2015-01-01 Data do final do Validação   : 2015-02-12\n",
      "MAPE:  5.46603\n",
      "RMSLE: 0.00529\n",
      "RMSE:  519.66311\n",
      "Data do inicio do treinamento: 2013-01-03 Data do final do treinamento : 2015-02-11\n",
      "Data do inicio do Validação  : 2015-02-12 Data do final do Validação   : 2015-03-26\n",
      "MAPE:  4.95733\n",
      "RMSLE: 0.00405\n",
      "RMSE:  421.01065\n",
      "Data do inicio do treinamento: 2013-01-03 Data do final do treinamento : 2015-03-25\n",
      "Data do inicio do Validação  : 2015-03-26 Data do final do Validação   : 2015-05-07\n",
      "MAPE:  5.80874\n",
      "RMSLE: 0.00569\n",
      "RMSE:  663.16617\n",
      "Data do inicio do treinamento: 2013-01-03 Data do final do treinamento : 2015-05-06\n",
      "Data do inicio do Validação  : 2015-05-07 Data do final do Validação   : 2015-06-18\n",
      "MAPE:  5.31758\n",
      "RMSLE: 0.00466\n",
      "RMSE:  519.58901\n",
      "Mape Geral:  5.83828 Std: 0.94223 Erro: 0.42138\n",
      "Rmsle Geral: 0.00579 Std: 0.00182 Erro: 0.00082\n",
      "Rmse Geral:  597.98744 Std: 154.88931 Erro: 69.26860\n",
      "\n",
      "\n",
      "Coluna removida: store_type_b\n",
      "Data do inicio do treinamento: 2013-01-03 Data do final do treinamento : 2014-11-19\n",
      "Data do inicio do Validação  : 2014-11-20 Data do final do Validação   : 2015-01-01\n",
      "MAPE:  7.64567\n",
      "RMSLE: 0.00928\n",
      "RMSE:  867.82965\n",
      "Data do inicio do treinamento: 2013-01-03 Data do final do treinamento : 2014-12-31\n",
      "Data do inicio do Validação  : 2015-01-01 Data do final do Validação   : 2015-02-12\n",
      "MAPE:  5.47673\n",
      "RMSLE: 0.00531\n",
      "RMSE:  522.60931\n",
      "Data do inicio do treinamento: 2013-01-03 Data do final do treinamento : 2015-02-11\n",
      "Data do inicio do Validação  : 2015-02-12 Data do final do Validação   : 2015-03-26\n",
      "MAPE:  4.96085\n",
      "RMSLE: 0.00408\n",
      "RMSE:  420.82946\n",
      "Data do inicio do treinamento: 2013-01-03 Data do final do treinamento : 2015-03-25\n",
      "Data do inicio do Validação  : 2015-03-26 Data do final do Validação   : 2015-05-07\n",
      "MAPE:  5.82182\n",
      "RMSLE: 0.00572\n",
      "RMSE:  666.1349\n",
      "Data do inicio do treinamento: 2013-01-03 Data do final do treinamento : 2015-05-06\n",
      "Data do inicio do Validação  : 2015-05-07 Data do final do Validação   : 2015-06-18\n",
      "MAPE:  5.30767\n",
      "RMSLE: 0.00462\n",
      "RMSE:  514.39638\n",
      "Mape Geral:  5.84255 Std: 0.94329 Erro: 0.42185\n",
      "Rmsle Geral: 0.00581 Std: 0.00183 Erro: 0.00082\n",
      "Rmse Geral:  598.35994 Std: 155.89258 Erro: 69.71728\n",
      "\n",
      "\n",
      "Coluna removida: store_type_c\n",
      "Data do inicio do treinamento: 2013-01-03 Data do final do treinamento : 2014-11-19\n",
      "Data do inicio do Validação  : 2014-11-20 Data do final do Validação   : 2015-01-01\n",
      "MAPE:  7.62824\n",
      "RMSLE: 0.00925\n",
      "RMSE:  864.73947\n",
      "Data do inicio do treinamento: 2013-01-03 Data do final do treinamento : 2014-12-31\n",
      "Data do inicio do Validação  : 2015-01-01 Data do final do Validação   : 2015-02-12\n",
      "MAPE:  5.45965\n",
      "RMSLE: 0.00528\n",
      "RMSE:  521.48162\n",
      "Data do inicio do treinamento: 2013-01-03 Data do final do treinamento : 2015-02-11\n",
      "Data do inicio do Validação  : 2015-02-12 Data do final do Validação   : 2015-03-26\n",
      "MAPE:  4.95692\n",
      "RMSLE: 0.00406\n",
      "RMSE:  419.78524\n",
      "Data do inicio do treinamento: 2013-01-03 Data do final do treinamento : 2015-03-25\n",
      "Data do inicio do Validação  : 2015-03-26 Data do final do Validação   : 2015-05-07\n",
      "MAPE:  5.82395\n",
      "RMSLE: 0.00574\n",
      "RMSE:  665.03757\n",
      "Data do inicio do treinamento: 2013-01-03 Data do final do treinamento : 2015-05-06\n",
      "Data do inicio do Validação  : 2015-05-07 Data do final do Validação   : 2015-06-18\n",
      "MAPE:  5.32410\n",
      "RMSLE: 0.00465\n",
      "RMSE:  516.77049\n",
      "Mape Geral:  5.83857 Std: 0.93688 Erro: 0.41898\n",
      "Rmsle Geral: 0.0058 Std: 0.00182 Erro: 0.00081\n",
      "Rmse Geral:  597.56288 Std: 154.82688 Erro: 69.24069\n",
      "\n",
      "\n",
      "Coluna removida: store_type_d\n",
      "Data do inicio do treinamento: 2013-01-03 Data do final do treinamento : 2014-11-19\n",
      "Data do inicio do Validação  : 2014-11-20 Data do final do Validação   : 2015-01-01\n",
      "MAPE:  7.54647\n",
      "RMSLE: 0.0091\n",
      "RMSE:  865.15059\n",
      "Data do inicio do treinamento: 2013-01-03 Data do final do treinamento : 2014-12-31\n",
      "Data do inicio do Validação  : 2015-01-01 Data do final do Validação   : 2015-02-12\n",
      "MAPE:  5.45423\n",
      "RMSLE: 0.00527\n",
      "RMSE:  516.27665\n",
      "Data do inicio do treinamento: 2013-01-03 Data do final do treinamento : 2015-02-11\n",
      "Data do inicio do Validação  : 2015-02-12 Data do final do Validação   : 2015-03-26\n",
      "MAPE:  4.97886\n",
      "RMSLE: 0.00412\n",
      "RMSE:  420.96650\n",
      "Data do inicio do treinamento: 2013-01-03 Data do final do treinamento : 2015-03-25\n",
      "Data do inicio do Validação  : 2015-03-26 Data do final do Validação   : 2015-05-07\n",
      "MAPE:  5.81809\n",
      "RMSLE: 0.00573\n",
      "RMSE:  667.21752\n",
      "Data do inicio do treinamento: 2013-01-03 Data do final do treinamento : 2015-05-06\n",
      "Data do inicio do Validação  : 2015-05-07 Data do final do Validação   : 2015-06-18\n",
      "MAPE:  5.27502\n",
      "RMSLE: 0.00457\n",
      "RMSE:  515.46127\n",
      "Mape Geral:  5.81453 Std: 0.90762 Erro: 0.40590\n",
      "Rmsle Geral: 0.00576 Std: 0.00176 Erro: 0.00079\n",
      "Rmse Geral:  597.01451 Std: 155.55568 Erro: 69.56662\n",
      "\n",
      "\n",
      "Coluna removida: assortment_basic\n",
      "Data do inicio do treinamento: 2013-01-03 Data do final do treinamento : 2014-11-19\n",
      "Data do inicio do Validação  : 2014-11-20 Data do final do Validação   : 2015-01-01\n",
      "MAPE:  7.64206\n",
      "RMSLE: 0.00928\n",
      "RMSE:  866.97294\n",
      "Data do inicio do treinamento: 2013-01-03 Data do final do treinamento : 2014-12-31\n",
      "Data do inicio do Validação  : 2015-01-01 Data do final do Validação   : 2015-02-12\n",
      "MAPE:  5.48676\n",
      "RMSLE: 0.00534\n",
      "RMSE:  523.18849\n",
      "Data do inicio do treinamento: 2013-01-03 Data do final do treinamento : 2015-02-11\n",
      "Data do inicio do Validação  : 2015-02-12 Data do final do Validação   : 2015-03-26\n",
      "MAPE:  4.96298\n",
      "RMSLE: 0.00406\n",
      "RMSE:  419.57297\n",
      "Data do inicio do treinamento: 2013-01-03 Data do final do treinamento : 2015-03-25\n",
      "Data do inicio do Validação  : 2015-03-26 Data do final do Validação   : 2015-05-07\n",
      "MAPE:  5.81475\n",
      "RMSLE: 0.00571\n",
      "RMSE:  663.01665\n",
      "Data do inicio do treinamento: 2013-01-03 Data do final do treinamento : 2015-05-06\n",
      "Data do inicio do Validação  : 2015-05-07 Data do final do Validação   : 2015-06-18\n",
      "MAPE:  5.30899\n",
      "RMSLE: 0.00464\n",
      "RMSE:  518.02462\n",
      "Mape Geral:  5.84311 Std: 0.94063 Erro: 0.42066\n",
      "Rmsle Geral: 0.00581 Std: 0.00183 Erro: 0.00082\n",
      "Rmse Geral:  598.15513 Std: 155.17894 Erro: 69.39813\n",
      "\n",
      "\n",
      "Coluna removida: assortment_extended\n",
      "Data do inicio do treinamento: 2013-01-03 Data do final do treinamento : 2014-11-19\n",
      "Data do inicio do Validação  : 2014-11-20 Data do final do Validação   : 2015-01-01\n",
      "MAPE:  7.63172\n",
      "RMSLE: 0.00927\n",
      "RMSE:  868.12881\n",
      "Data do inicio do treinamento: 2013-01-03 Data do final do treinamento : 2014-12-31\n",
      "Data do inicio do Validação  : 2015-01-01 Data do final do Validação   : 2015-02-12\n",
      "MAPE:  5.47549\n",
      "RMSLE: 0.00531\n",
      "RMSE:  521.01321\n",
      "Data do inicio do treinamento: 2013-01-03 Data do final do treinamento : 2015-02-11\n",
      "Data do inicio do Validação  : 2015-02-12 Data do final do Validação   : 2015-03-26\n",
      "MAPE:  4.96273\n",
      "RMSLE: 0.00407\n",
      "RMSE:  419.91513\n",
      "Data do inicio do treinamento: 2013-01-03 Data do final do treinamento : 2015-03-25\n",
      "Data do inicio do Validação  : 2015-03-26 Data do final do Validação   : 2015-05-07\n",
      "MAPE:  5.81998\n",
      "RMSLE: 0.00574\n",
      "RMSE:  664.92946\n",
      "Data do inicio do treinamento: 2013-01-03 Data do final do treinamento : 2015-05-06\n",
      "Data do inicio do Validação  : 2015-05-07 Data do final do Validação   : 2015-06-18\n",
      "MAPE:  5.31574\n",
      "RMSLE: 0.00466\n",
      "RMSE:  518.89006\n",
      "Mape Geral:  5.84113 Std: 0.9368 Erro: 0.41895\n",
      "Rmsle Geral: 0.00581 Std: 0.00182 Erro: 0.00081\n",
      "Rmse Geral:  598.57533 Std: 155.78642 Erro: 69.66980\n",
      "\n",
      "\n",
      "Coluna removida: assortment_extra\n",
      "Data do inicio do treinamento: 2013-01-03 Data do final do treinamento : 2014-11-19\n",
      "Data do inicio do Validação  : 2014-11-20 Data do final do Validação   : 2015-01-01\n",
      "MAPE:  7.65238\n",
      "RMSLE: 0.00933\n",
      "RMSE:  869.88645\n",
      "Data do inicio do treinamento: 2013-01-03 Data do final do treinamento : 2014-12-31\n",
      "Data do inicio do Validação  : 2015-01-01 Data do final do Validação   : 2015-02-12\n",
      "MAPE:  5.45961\n",
      "RMSLE: 0.00530\n",
      "RMSE:  522.36690\n",
      "Data do inicio do treinamento: 2013-01-03 Data do final do treinamento : 2015-02-11\n",
      "Data do inicio do Validação  : 2015-02-12 Data do final do Validação   : 2015-03-26\n",
      "MAPE:  4.96578\n",
      "RMSLE: 0.00408\n",
      "RMSE:  420.91082\n",
      "Data do inicio do treinamento: 2013-01-03 Data do final do treinamento : 2015-03-25\n",
      "Data do inicio do Validação  : 2015-03-26 Data do final do Validação   : 2015-05-07\n",
      "MAPE:  5.81945\n",
      "RMSLE: 0.00572\n",
      "RMSE:  665.16975\n",
      "Data do inicio do treinamento: 2013-01-03 Data do final do treinamento : 2015-05-06\n",
      "Data do inicio do Validação  : 2015-05-07 Data do final do Validação   : 2015-06-18\n",
      "MAPE:  5.32341\n",
      "RMSLE: 0.00466\n",
      "RMSE:  517.95454\n",
      "Mape Geral:  5.84413 Std: 0.94455 Erro: 0.42242\n",
      "Rmsle Geral: 0.00582 Std: 0.00184 Erro: 0.00082\n",
      "Rmse Geral:  599.25769 Std: 156.15013 Erro: 69.83246\n",
      "\n",
      "\n",
      "Coluna removida: day_sin\n",
      "Data do inicio do treinamento: 2013-01-03 Data do final do treinamento : 2014-11-19\n",
      "Data do inicio do Validação  : 2014-11-20 Data do final do Validação   : 2015-01-01\n",
      "MAPE:  7.59346\n",
      "RMSLE: 0.00923\n",
      "RMSE:  866.69931\n",
      "Data do inicio do treinamento: 2013-01-03 Data do final do treinamento : 2014-12-31\n",
      "Data do inicio do Validação  : 2015-01-01 Data do final do Validação   : 2015-02-12\n",
      "MAPE:  5.46764\n",
      "RMSLE: 0.00531\n",
      "RMSE:  519.64052\n",
      "Data do inicio do treinamento: 2013-01-03 Data do final do treinamento : 2015-02-11\n",
      "Data do inicio do Validação  : 2015-02-12 Data do final do Validação   : 2015-03-26\n",
      "MAPE:  4.92407\n",
      "RMSLE: 0.00401\n",
      "RMSE:  417.53186\n",
      "Data do inicio do treinamento: 2013-01-03 Data do final do treinamento : 2015-03-25\n",
      "Data do inicio do Validação  : 2015-03-26 Data do final do Validação   : 2015-05-07\n",
      "MAPE:  5.82586\n",
      "RMSLE: 0.00573\n",
      "RMSE:  664.91177\n",
      "Data do inicio do treinamento: 2013-01-03 Data do final do treinamento : 2015-05-06\n",
      "Data do inicio do Validação  : 2015-05-07 Data do final do Validação   : 2015-06-18\n",
      "MAPE:  5.29798\n",
      "RMSLE: 0.00462\n",
      "RMSE:  515.40941\n",
      "Mape Geral:  5.82180 Std: 0.93215 Erro: 0.41687\n",
      "Rmsle Geral: 0.00578 Std: 0.00182 Erro: 0.00082\n",
      "Rmse Geral:  596.83858 Std: 156.33293 Erro: 69.91421\n",
      "\n",
      "\n",
      "Coluna removida: day_cos\n",
      "Data do inicio do treinamento: 2013-01-03 Data do final do treinamento : 2014-11-19\n",
      "Data do inicio do Validação  : 2014-11-20 Data do final do Validação   : 2015-01-01\n",
      "MAPE:  7.63558\n",
      "RMSLE: 0.00922\n",
      "RMSE:  861.97580\n",
      "Data do inicio do treinamento: 2013-01-03 Data do final do treinamento : 2014-12-31\n",
      "Data do inicio do Validação  : 2015-01-01 Data do final do Validação   : 2015-02-12\n",
      "MAPE:  5.51448\n",
      "RMSLE: 0.00536\n",
      "RMSE:  524.54126\n",
      "Data do inicio do treinamento: 2013-01-03 Data do final do treinamento : 2015-02-11\n",
      "Data do inicio do Validação  : 2015-02-12 Data do final do Validação   : 2015-03-26\n",
      "MAPE:  4.91458\n",
      "RMSLE: 0.00403\n",
      "RMSE:  416.74164\n",
      "Data do inicio do treinamento: 2013-01-03 Data do final do treinamento : 2015-03-25\n",
      "Data do inicio do Validação  : 2015-03-26 Data do final do Validação   : 2015-05-07\n",
      "MAPE:  5.90923\n",
      "RMSLE: 0.00587\n",
      "RMSE:  673.91824\n",
      "Data do inicio do treinamento: 2013-01-03 Data do final do treinamento : 2015-05-06\n",
      "Data do inicio do Validação  : 2015-05-07 Data do final do Validação   : 2015-06-18\n",
      "MAPE:  5.2498\n",
      "RMSLE: 0.00458\n",
      "RMSE:  508.65831\n",
      "Mape Geral:  5.84473 Std: 0.95284 Erro: 0.42612\n",
      "Rmsle Geral: 0.00581 Std: 0.00182 Erro: 0.00081\n",
      "Rmse Geral:  597.16705 Std: 155.99747 Erro: 69.76419\n",
      "\n",
      "\n"
     ]
    }
   ],
   "source": [
    "vetor_MAPE1 = []\n",
    "vetor_MSLR1 = []\n",
    "vetor_RMSE1 = []\n",
    "for i in range(len(col)):\n",
    "  X1 ,Y1,Date   = dados_teste_val(df3.drop(columns = col[i]))\n",
    "  print('Coluna removida:',col[i])\n",
    "  vetor_MAPE1_n,vetor_MSLR1_n,vetor_RMSE1_n = validation(X1,Y1,'sales','normal',Date)\n",
    "  vetor_MAPE1.append(vetor_MAPE1_n)\n",
    "  vetor_MSLR1.append(vetor_MSLR1_n)\n",
    "  vetor_RMSE1.append(vetor_RMSE1_n)\n",
    "  print('\\n')\n",
    "  "
   ]
  },
  {
   "cell_type": "code",
   "execution_count": null,
   "metadata": {
    "id": "0JNlaeENFYps"
   },
   "outputs": [],
   "source": []
  },
  {
   "cell_type": "markdown",
   "metadata": {
    "id": "rR-DvCo1-iMQ"
   },
   "source": [
    "### Avaliando os valores\n",
    "\n",
    "---\n",
    "---\n",
    "* Mape Geral v0 : 5.84147 Std: 0.94284 Erro: 0.42165\n",
    "* Mape Geral v1 : 5.93423 Std: 0.73696 Erro: 0.32958*\n",
    "* Mape Geral v2 : 11.5542 Std: 1.73853 Erro: 0.7775*\n",
    "* Mape Geral v3 : 6.50581 Std: 0.82233 Erro: 0.36776*\n",
    "* Mape Geral v4 : 5.83941 Std: 0.94174 Erro: 0.42116* **[0_3]**\n",
    "* Mape Geral v5 : 6.36432 Std: 1.14321 Erro: 0.51126*\n",
    "* Mape Geral v6 : 5.83469 Std: 0.94487 Erro: 0.42256* **[2_3]**\n",
    "* Mape Geral v7 : 5.84878 Std: 0.95391 Erro: 0.42660*\n",
    "* Mape Geral v8 : 5.87063 Std: 0.96261 Erro: 0.43049*\n",
    "* Mape Geral v9 : 5.83457 Std: 0.94101 Erro: 0.42083* **[0_3]**\n",
    "* Mape Geral v10: 5.93685 Std: 0.92517 Erro: 0.41375*\n",
    "* Mape Geral v11: 5.86468 Std: 0.94362 Erro: 0.42200*\n",
    "* Mape Geral v12: 5.83893 Std: 0.94331 Erro: 0.42186* **[T_T]**\n",
    "* Mape Geral v13: 5.86093 Std: 0.93148 Erro: 0.41657*\n",
    "* Mape Geral v14: 5.89493 Std: 1.10756 Erro: 0.49532*\n",
    "* Mape Geral v15: 5.91712 Std: 0.90458 Erro: 0.40454*\n",
    "* Mape Geral v16: 5.84540 Std: 0.94084 Erro: 0.42075*\n",
    "* Mape Geral v17: 5.84435 Std: 0.94437 Erro: 0.42234*\n",
    "* Mape Geral v18: 5.84146 Std: 0.94017 Erro: 0.42046* **[T_T]**\n",
    "* Mape Geral v19: 5.84565 Std: 0.94006 Erro: 0.42041*\n",
    "* Mape Geral v20: 5.83828 Std: 0.94223 Erro: 0.42138* **[0_3]**\n",
    "* Mape Geral v21: 5.84255 Std: 0.94329 Erro: 0.42185* \n",
    "* Mape Geral v22: 5.83857 Std: 0.93688 Erro: 0.41898* **[T_T]**\n",
    "* Mape Geral v23: 5.81453 Std: 0.90762 Erro: 0.40590* **[T_T]**\n",
    "* Mape Geral v24: 5.84311 Std: 0.94063 Erro: 0.42066* **[2_3]**\n",
    "* Mape Geral v25: 5.84113 Std: 0.93680 Erro: 0.41895* **[2_3]**\n",
    "* Mape Geral v26: 5.84413 Std: 0.94455 Erro: 0.42242* \n",
    "* Mape Geral v27: 5.82180 Std: 0.93215 Erro: 0.41687* **[T_3]**\n",
    "* Mape Geral v28: 5.84473 Std: 0.95284 Erro: 0.42612*\n",
    "\n",
    "\n",
    "\n",
    "\n",
    "\n",
    "\n",
    "\n",
    "---\n",
    "---\n",
    "* Rmsle Geral v0 : 0.00580 Std: 0.00184 Erro: 0.00082\n",
    "* Rmsle Geral v1 : 0.00592 Std: 0.00148 Erro: 0.00066\n",
    "* Rmsle Geral v2 : 0.02641 Std: 0.00800 Erro: 0.00358\n",
    "* Rmsle Geral v3 : 0.00700 Std: 0.00159 Erro: 0.00071\n",
    "* Rmsle Geral v4 : 0.00580 Std: 0.00181 Erro: 0.00081\n",
    "* Rmsle Geral v5 : 0.00715 Std: 0.00254 Erro: 0.00114\n",
    "* Rmsle Geral v6 : 0.00581 Std: 0.00183 Erro: 0.00082\n",
    "* Rmsle Geral v7 : 0.00581 Std: 0.00187 Erro: 0.00083\n",
    "* Rmsle Geral v8 : 0.00588 Std: 0.00189 Erro: 0.00085\n",
    "* Rmsle Geral v9 : 0.00579 Std: 0.00182 Erro: 0.00082\n",
    "* Rmsle Geral v10: 0.00608 Std: 0.00180 Erro: 0.00081\n",
    "* Rmsle Geral v11: 0.00585 Std: 0.00183 Erro: 0.00082\n",
    "* Rmsle Geral v12: 0.00580 Std: 0.00183 Erro: 0.00082\n",
    "* Rmsle Geral v13: 0.00583 Std: 0.00181 Erro: 0.00081\n",
    "* Rmsle Geral v14: 0.00592 Std: 0.00210 Erro: 0.00094\n",
    "* Rmsle Geral v15: 0.00588 Std: 0.00180 Erro: 0.00081\n",
    "* Rmsle Geral v16: 0.00581 Std: 0.00183 Erro: 0.00082\n",
    "* Rmsle Geral v17: 0.00581 Std: 0.00183 Erro: 0.00082\n",
    "* Rmsle Geral v18: 0.00580 Std: 0.00182 Erro: 0.00081\n",
    "* Rmsle Geral v19: 0.00580 Std: 0.00181 Erro: 0.00081\n",
    "* Rmsle Geral v20: 0.00579 Std: 0.00182 Erro: 0.00082\n",
    "* Rmsle Geral v21: 0.00581 Std: 0.00183 Erro: 0.00082\n",
    "* Rmsle Geral v22: 0.00580 Std: 0.00182 Erro: 0.00081\n",
    "* Rmsle Geral v23: 0.00576 Std: 0.00176 Erro: 0.00079\n",
    "* Rmsle Geral v24: 0.00581 Std: 0.00183 Erro: 0.00082\n",
    "* Rmsle Geral v25: 0.00581 Std: 0.00182 Erro: 0.00081 \n",
    "* Rmsle Geral v26: 0.00582 Std: 0.00184 Erro: 0.00082\n",
    "* Rmsle Geral v27: 0.00578 Std: 0.00182 Erro: 0.00082\n",
    "* Rmsle Geral v28: 0.00581 Std: 0.00182 Erro: 0.00081\n",
    "* Rmsle Geral v29: \n",
    "\n",
    "\n",
    "\n",
    "\n",
    "\n",
    "---\n",
    "---\n",
    "* Rmse Geral v0 : 597.79700 Std: 154.88859 Erro: 69.26828\n",
    "* Rmse Geral v1 : 605.12373 Std: 135.81459 Erro: 60.73813\n",
    "* Rmse Geral v2 : 1211.7765 Std: 260.3572 Erro: 116.43528\n",
    "* Rmse Geral v3 : 650.86608 Std: 141.54151 Erro: 63.29929\n",
    "* Rmse Geral v4 : 598.60821 Std: 156.48743 Erro: 69.98330\n",
    "* Rmse Geral v5 : 675.56271 Std: 190.34771 Erro: 85.12609\n",
    "* Rmse Geral v6 : 598.97801 Std: 157.13005 Erro: 70.2707\n",
    "* Rmse Geral v7 : 598.97801 Std: 157.13005 Erro: 70.2707\n",
    "* Rmse Geral v8 : 602.00465 Std: 157.25162 Erro: 70.32506\n",
    "* Rmse Geral v9 : 598.02561 Std: 155.57284 Erro: 69.57429\n",
    "* Rmse Geral v10: 609.66665 Std: 152.38819 Erro: 68.15007\n",
    "* Rmse Geral v11: 600.89179 Std: 155.57132 Erro: 69.57361\n",
    "* Rmse Geral v12: 597.51205 Std: 155.12140 Erro: 69.3724\n",
    "* Rmse Geral v13: 599.42278 Std: 154.31253 Erro: 69.01066\n",
    "* Rmse Geral v14: 600.11125 Std: 165.93614 Erro: 74.2089\n",
    "* Rmse Geral v15: 601.61695 Std: 154.68775 Erro: 69.17846\n",
    "* Rmse Geral v16: 598.31553 Std: 155.64849 Erro: 69.60812\n",
    "* Rmse Geral v17: 598.81631 Std: 155.98401 Erro: 69.75817\n",
    "* Rmse Geral v18: 597.79348 Std: 154.73536 Erro: 69.19976\n",
    "* Rmse Geral v19: 599.07298 Std: 154.82825 Erro: 69.2413\n",
    "* Rmse Geral v20: 597.98744 Std: 154.88931 Erro: 69.26860\n",
    "* Rmse Geral v21: 598.35994 Std: 155.89258 Erro: 69.71728\n",
    "* Rmse Geral v22: 597.56288 Std: 154.82688 Erro: 69.24069\n",
    "* Rmse Geral v23: 597.01451 Std: 155.55568 Erro: 69.56662\n",
    "* Rmse Geral v24: 598.15513 Std: 155.17894 Erro: 69.39813\n",
    "* Rmse Geral v25: 598.57533 Std: 155.78642 Erro: 69.66980\n",
    "* Rmse Geral v26: 599.25769 Std: 156.15013 Erro: 69.83246\n",
    "* Rmse Geral v27: 596.83858 Std: 156.33293 Erro: 69.91421\n",
    "* Rmse Geral v28: 597.16705 Std: 155.99747 Erro: 69.76419\n",
    "* Rmse Geral v29: \n",
    "\n",
    "\n",
    "---\n",
    "---\n",
    "\n",
    "\n"
   ]
  },
  {
   "cell_type": "markdown",
   "metadata": {
    "id": "6B4366B7MgEU"
   },
   "source": [
    " \n",
    "* Variáveis que ao removerem tiveram um desempenho melhor que o padrão\n",
    " * v4 - school_holiday - 5.83941\n",
    " * v6 - competition_open_since_month - 5.83469\n",
    " * v9 - promo2_since_week - 5.83457\n",
    " * v12 - is_promo - 5.83893\n",
    " * v18 - state_holiday_public_holiday - 5.84146\n",
    " * v20 - store_type_a - 5.83828\n",
    " * v22 - store_type_c - 5.83857\n",
    " * v23 - store_type_d - 5.81453\n",
    " * v24 - assortment_basic - 5.84311\n",
    " * v25 - assortment_extended - 5.84113\n",
    " * v27 - day_sin - 5.82180\n",
    " \n",
    "* Será visto quando o modelo base está performando quando essas variáveis forem removidas. Mas store type,state,assortment não serão incluídas por motivo de que elas pertencem a variáveis que foram aplicadas Dummy Enconder.\n",
    " \n"
   ]
  },
  {
   "cell_type": "code",
   "execution_count": 35,
   "metadata": {
    "executionInfo": {
     "elapsed": 260,
     "status": "ok",
     "timestamp": 1649996759871,
     "user": {
      "displayName": "Antonio Junior",
      "userId": "09175545212585676126"
     },
     "user_tz": 180
    },
    "id": "GWb1NkuXMCSH"
   },
   "outputs": [],
   "source": [
    "col = ['school_holiday','competition_open_since_month','promo2_since_week',\n",
    "      'is_promo','day_sin'] "
   ]
  },
  {
   "cell_type": "code",
   "execution_count": null,
   "metadata": {
    "id": "vBerWuGnMpVO"
   },
   "outputs": [],
   "source": [
    "X1 ,Y1,Date   = dados_teste_val(df3.drop(columns = col))"
   ]
  },
  {
   "cell_type": "code",
   "execution_count": 35,
   "metadata": {
    "executionInfo": {
     "elapsed": 253,
     "status": "ok",
     "timestamp": 1649996767041,
     "user": {
      "displayName": "Antonio Junior",
      "userId": "09175545212585676126"
     },
     "user_tz": 180
    },
    "id": "jBLR53CsOLp1"
   },
   "outputs": [],
   "source": []
  },
  {
   "cell_type": "code",
   "execution_count": null,
   "metadata": {
    "colab": {
     "base_uri": "https://localhost:8080/"
    },
    "executionInfo": {
     "elapsed": 233711,
     "status": "ok",
     "timestamp": 1649278976774,
     "user": {
      "displayName": "Antonio Junior",
      "userId": "09175545212585676126"
     },
     "user_tz": 180
    },
    "id": "Ruq5J7_WMCZt",
    "outputId": "c5df1859-f41a-46fd-f3e1-e2a88cf677df"
   },
   "outputs": [
    {
     "name": "stdout",
     "output_type": "stream",
     "text": [
      "Data do inicio do treinamento: 2013-01-03 Data do final do treinamento : 2014-11-19\n",
      "Data do inicio do Validação  : 2014-11-20 Data do final do Validação   : 2015-01-01\n",
      "MAPE:  7.58927\n",
      "RMSLE: 0.00922\n",
      "RMSE:  867.94525\n",
      "Data do inicio do treinamento: 2013-01-03 Data do final do treinamento : 2014-12-31\n",
      "Data do inicio do Validação  : 2015-01-01 Data do final do Validação   : 2015-02-12\n",
      "MAPE:  5.4656\n",
      "RMSLE: 0.00534\n",
      "RMSE:  522.02109\n",
      "Data do inicio do treinamento: 2013-01-03 Data do final do treinamento : 2015-02-11\n",
      "Data do inicio do Validação  : 2015-02-12 Data do final do Validação   : 2015-03-26\n",
      "MAPE:  4.90531\n",
      "RMSLE: 0.00399\n",
      "RMSE:  417.34897\n",
      "Data do inicio do treinamento: 2013-01-03 Data do final do treinamento : 2015-03-25\n",
      "Data do inicio do Validação  : 2015-03-26 Data do final do Validação   : 2015-05-07\n",
      "MAPE:  5.80694\n",
      "RMSLE: 0.0057\n",
      "RMSE:  664.54160\n",
      "Data do inicio do treinamento: 2013-01-03 Data do final do treinamento : 2015-05-06\n",
      "Data do inicio do Validação  : 2015-05-07 Data do final do Validação   : 2015-06-18\n",
      "MAPE:  5.28225\n",
      "RMSLE: 0.00458\n",
      "RMSE:  511.90758\n",
      "Mape Geral:  5.80987 Std: 0.9361 Erro: 0.41864\n",
      "Rmsle Geral: 0.00577 Std: 0.00183 Erro: 0.00082\n",
      "Rmse Geral:  596.7529 Std: 156.91395 Erro: 70.17405\n"
     ]
    }
   ],
   "source": [
    "vetor_MAPE1_n,vetor_MSLR1_n,vetor_RMSE1_n = validation(X1,Y1,'sales','normal',Date)"
   ]
  },
  {
   "cell_type": "code",
   "execution_count": 36,
   "metadata": {
    "executionInfo": {
     "elapsed": 372,
     "status": "ok",
     "timestamp": 1649996773265,
     "user": {
      "displayName": "Antonio Junior",
      "userId": "09175545212585676126"
     },
     "user_tz": 180
    },
    "id": "Zw9c8C8ZPHd6"
   },
   "outputs": [],
   "source": [
    "df_n = df3.copy()"
   ]
  },
  {
   "cell_type": "code",
   "execution_count": 37,
   "metadata": {
    "executionInfo": {
     "elapsed": 4,
     "status": "ok",
     "timestamp": 1649996773551,
     "user": {
      "displayName": "Antonio Junior",
      "userId": "09175545212585676126"
     },
     "user_tz": 180
    },
    "id": "o3CfLVATPHgB"
   },
   "outputs": [],
   "source": [
    "df_n = df3.drop(columns = col)"
   ]
  },
  {
   "cell_type": "code",
   "execution_count": 38,
   "metadata": {
    "colab": {
     "base_uri": "https://localhost:8080/"
    },
    "executionInfo": {
     "elapsed": 6,
     "status": "ok",
     "timestamp": 1649996775236,
     "user": {
      "displayName": "Antonio Junior",
      "userId": "09175545212585676126"
     },
     "user_tz": 180
    },
    "id": "NEJXne1E6sEV",
    "outputId": "30395c58-3368-4123-a84c-960bf8fc238b"
   },
   "outputs": [
    {
     "data": {
      "text/plain": [
       "Index(['store', 'day_of_week', 'date', 'sales', 'customers', 'promo',\n",
       "       'competition_distance', 'competition_open_since_year', 'promo2',\n",
       "       'promo2_since_year', 'without_competition', 'year', 'week_year',\n",
       "       'promo_time_week', 'Total_dias', 'state_holiday_christmas',\n",
       "       'state_holiday_easter_holiday', 'state_holiday_public_holiday',\n",
       "       'state_holiday_regular_day', 'store_type_a', 'store_type_b',\n",
       "       'store_type_c', 'store_type_d', 'assortment_basic',\n",
       "       'assortment_extended', 'assortment_extra', 'day_cos'],\n",
       "      dtype='object')"
      ]
     },
     "execution_count": 38,
     "metadata": {},
     "output_type": "execute_result"
    }
   ],
   "source": [
    "df_n.columns"
   ]
  },
  {
   "cell_type": "markdown",
   "metadata": {
    "id": "DcIvaeotP-u1"
   },
   "source": [
    "# Agrupando algumas variáveis"
   ]
  },
  {
   "cell_type": "markdown",
   "metadata": {
    "id": "ragWzz7GQG1J"
   },
   "source": [
    "* Foi visto que nos feriados as lojas vendem mais, mas existe uma baixa volumetria de dados dessas amostras. Talvez isso possa afetar o aprendizado do modelo para esses dias.\n",
    "* Por esse motivo será criado uma variável que fale se o dia é feriado ou não para ver se o problema de volumetria é contornado.\n",
    "* Legenda:\n",
    "  * 1 -> feriado\n",
    "  * 0 -> não é feriado\n",
    " \n",
    " \n",
    " \n",
    " \n"
   ]
  },
  {
   "cell_type": "code",
   "execution_count": 39,
   "metadata": {
    "executionInfo": {
     "elapsed": 605,
     "status": "ok",
     "timestamp": 1649996820694,
     "user": {
      "displayName": "Antonio Junior",
      "userId": "09175545212585676126"
     },
     "user_tz": 180
    },
    "id": "EBSUYhguUAxg"
   },
   "outputs": [],
   "source": [
    "df_n1 = df_n.copy()"
   ]
  },
  {
   "cell_type": "code",
   "execution_count": 40,
   "metadata": {
    "executionInfo": {
     "elapsed": 3,
     "status": "ok",
     "timestamp": 1649996820963,
     "user": {
      "displayName": "Antonio Junior",
      "userId": "09175545212585676126"
     },
     "user_tz": 180
    },
    "id": "RRwblyDqPHpJ"
   },
   "outputs": [],
   "source": [
    "vetor = np.zeros(df_n1.shape[0])\n",
    "\n",
    "vetor[df_n1['state_holiday_christmas'] == 1] = 1\n",
    "vetor[df_n1['state_holiday_easter_holiday'] == 1] = 1\n",
    "vetor[df_n1['state_holiday_public_holiday'] == 1] = 1\n",
    "vetor[df_n1['state_holiday_regular_day'] == 1] = 0\n",
    "df_n1['holiday'] = vetor"
   ]
  },
  {
   "cell_type": "code",
   "execution_count": 41,
   "metadata": {
    "executionInfo": {
     "elapsed": 5,
     "status": "ok",
     "timestamp": 1649996821588,
     "user": {
      "displayName": "Antonio Junior",
      "userId": "09175545212585676126"
     },
     "user_tz": 180
    },
    "id": "s-Isp6mzTw9K"
   },
   "outputs": [],
   "source": [
    "cold = ['state_holiday_regular_day','state_holiday_public_holiday',\n",
    "       'state_holiday_easter_holiday','state_holiday_christmas']"
   ]
  },
  {
   "cell_type": "code",
   "execution_count": 42,
   "metadata": {
    "executionInfo": {
     "elapsed": 249,
     "status": "ok",
     "timestamp": 1649996825771,
     "user": {
      "displayName": "Antonio Junior",
      "userId": "09175545212585676126"
     },
     "user_tz": 180
    },
    "id": "J4C7V33cT-RQ"
   },
   "outputs": [],
   "source": [
    "df_n1 = df_n1.drop(columns = cold)"
   ]
  },
  {
   "cell_type": "code",
   "execution_count": null,
   "metadata": {
    "id": "WD7a75hQPHq-"
   },
   "outputs": [],
   "source": [
    "X1 ,Y1,Date = dados_teste_val(df_n1)"
   ]
  },
  {
   "cell_type": "code",
   "execution_count": null,
   "metadata": {
    "colab": {
     "base_uri": "https://localhost:8080/"
    },
    "executionInfo": {
     "elapsed": 277372,
     "status": "ok",
     "timestamp": 1646454817883,
     "user": {
      "displayName": "Antonio Junior",
      "photoUrl": "https://lh3.googleusercontent.com/a/default-user=s64",
      "userId": "09175545212585676126"
     },
     "user_tz": 180
    },
    "id": "c3U9C0EmPHsk",
    "outputId": "9a2f4488-10ac-4a94-9d5f-9d454dc59699"
   },
   "outputs": [
    {
     "name": "stdout",
     "output_type": "stream",
     "text": [
      "Data do inicio do treinamento: 2013-01-03 Data do final do treinamento : 2014-11-19\n",
      "Data do inicio do Validação  : 2014-11-20 Data do final do Validação   : 2015-01-01\n",
      "MAPE:  7.59758\n",
      "RMSLE: 0.00923\n",
      "RMSE:  868.46022\n",
      "Data do inicio do treinamento: 2013-01-03 Data do final do treinamento : 2014-12-31\n",
      "Data do inicio do Validação  : 2015-01-01 Data do final do Validação   : 2015-02-12\n",
      "MAPE:  5.44667\n",
      "RMSLE: 0.00532\n",
      "RMSE:  519.3873\n",
      "Data do inicio do treinamento: 2013-01-03 Data do final do treinamento : 2015-02-11\n",
      "Data do inicio do Validação  : 2015-02-12 Data do final do Validação   : 2015-03-26\n",
      "MAPE:  4.91036\n",
      "RMSLE: 0.00401\n",
      "RMSE:  417.14439\n",
      "Data do inicio do treinamento: 2013-01-03 Data do final do treinamento : 2015-03-25\n",
      "Data do inicio do Validação  : 2015-03-26 Data do final do Validação   : 2015-05-07\n",
      "MAPE:  5.80624\n",
      "RMSLE: 0.0057\n",
      "RMSE:  663.60705\n",
      "Data do inicio do treinamento: 2013-01-03 Data do final do treinamento : 2015-05-06\n",
      "Data do inicio do Validação  : 2015-05-07 Data do final do Validação   : 2015-06-18\n",
      "MAPE:  5.26308\n",
      "RMSLE: 0.00457\n",
      "RMSE:  511.95091\n",
      "Mape Geral:  5.80479 Std: 0.94189 Erro: 0.42123\n",
      "Rmsle Geral: 0.00576 Std: 0.00183 Erro: 0.00082\n",
      "Rmse Geral:  596.10997 Std: 157.30754 Erro: 70.35007\n"
     ]
    }
   ],
   "source": [
    "vetor_MAPE1_n,vetor_MSLR1_n,vetor_RMSE1_n = validation(X1,Y1,'sales','normal',Date)"
   ]
  },
  {
   "cell_type": "code",
   "execution_count": 43,
   "metadata": {
    "executionInfo": {
     "elapsed": 244,
     "status": "ok",
     "timestamp": 1649996833086,
     "user": {
      "displayName": "Antonio Junior",
      "userId": "09175545212585676126"
     },
     "user_tz": 180
    },
    "id": "8S_Tf7HtW2xM"
   },
   "outputs": [],
   "source": [
    "df_n2 = df_n1.copy()"
   ]
  },
  {
   "cell_type": "markdown",
   "metadata": {
    "id": "s6Myz8m_X0t5"
   },
   "source": [
    "* Foi visto que nas lojas extra vende mais do que as demais. Mas como existe uma baixa volumetria de dados dessas amostras. O aprendizado do modelo pode ser afetado para esses dias\n",
    "* Por esse motivo será criado uma variável que vai unir extended e e extra na mesma classe\n",
    "* Legenda:\n",
    "  * 1 -> extended,extra\n",
    "  * 0 -> basic\n",
    " \n",
    " \n",
    " \n"
   ]
  },
  {
   "cell_type": "code",
   "execution_count": 44,
   "metadata": {
    "executionInfo": {
     "elapsed": 286,
     "status": "ok",
     "timestamp": 1649996840403,
     "user": {
      "displayName": "Antonio Junior",
      "userId": "09175545212585676126"
     },
     "user_tz": 180
    },
    "id": "nT86edbbW23p"
   },
   "outputs": [],
   "source": [
    "vetor = np.zeros(df_n2.shape[0])\n",
    "vetor[df_n2['assortment_extended'] == 1] = 1\n",
    "vetor[df_n2['assortment_extra'] == 1] = 1\n",
    "vetor[df_n2['assortment_basic'] == 1] = 0\n",
    "df_n2['assortment'] = vetor"
   ]
  },
  {
   "cell_type": "code",
   "execution_count": 45,
   "metadata": {
    "executionInfo": {
     "elapsed": 2,
     "status": "ok",
     "timestamp": 1649996840653,
     "user": {
      "displayName": "Antonio Junior",
      "userId": "09175545212585676126"
     },
     "user_tz": 180
    },
    "id": "fM3cTiLiYw_o"
   },
   "outputs": [],
   "source": [
    "cold = ['assortment_extended','assortment_extra',\n",
    "       'assortment_basic']"
   ]
  },
  {
   "cell_type": "code",
   "execution_count": 46,
   "metadata": {
    "executionInfo": {
     "elapsed": 422,
     "status": "ok",
     "timestamp": 1649996843564,
     "user": {
      "displayName": "Antonio Junior",
      "userId": "09175545212585676126"
     },
     "user_tz": 180
    },
    "id": "AOSVX04eY5Ze"
   },
   "outputs": [],
   "source": [
    "df_n2 = df_n2.drop(columns = cold)"
   ]
  },
  {
   "cell_type": "code",
   "execution_count": null,
   "metadata": {
    "id": "yqaTRIT0Y5cr"
   },
   "outputs": [],
   "source": [
    "X1 ,Y1,Date = dados_teste_val(df_n2)"
   ]
  },
  {
   "cell_type": "code",
   "execution_count": null,
   "metadata": {
    "colab": {
     "base_uri": "https://localhost:8080/"
    },
    "executionInfo": {
     "elapsed": 274672,
     "status": "ok",
     "timestamp": 1646455715493,
     "user": {
      "displayName": "Antonio Junior",
      "photoUrl": "https://lh3.googleusercontent.com/a/default-user=s64",
      "userId": "09175545212585676126"
     },
     "user_tz": 180
    },
    "id": "Jap3GEqvY5fR",
    "outputId": "a7989178-2c9f-40df-d838-2236a6df131b"
   },
   "outputs": [
    {
     "name": "stdout",
     "output_type": "stream",
     "text": [
      "Data do inicio do treinamento: 2013-01-03 Data do final do treinamento : 2014-11-19\n",
      "Data do inicio do Validação  : 2014-11-20 Data do final do Validação   : 2015-01-01\n",
      "MAPE:  7.59663\n",
      "RMSLE: 0.00925\n",
      "RMSE:  867.4843\n",
      "Data do inicio do treinamento: 2013-01-03 Data do final do treinamento : 2014-12-31\n",
      "Data do inicio do Validação  : 2015-01-01 Data do final do Validação   : 2015-02-12\n",
      "MAPE:  5.47751\n",
      "RMSLE: 0.00539\n",
      "RMSE:  526.83335\n",
      "Data do inicio do treinamento: 2013-01-03 Data do final do treinamento : 2015-02-11\n",
      "Data do inicio do Validação  : 2015-02-12 Data do final do Validação   : 2015-03-26\n",
      "MAPE:  4.90425\n",
      "RMSLE: 0.00400\n",
      "RMSE:  417.03737\n",
      "Data do inicio do treinamento: 2013-01-03 Data do final do treinamento : 2015-03-25\n",
      "Data do inicio do Validação  : 2015-03-26 Data do final do Validação   : 2015-05-07\n",
      "MAPE:  5.80428\n",
      "RMSLE: 0.00569\n",
      "RMSE:  664.6388\n",
      "Data do inicio do treinamento: 2013-01-03 Data do final do treinamento : 2015-05-06\n",
      "Data do inicio do Validação  : 2015-05-07 Data do final do Validação   : 2015-06-18\n",
      "MAPE:  5.28400\n",
      "RMSLE: 0.00460\n",
      "RMSE:  512.72231\n",
      "Mape Geral:  5.81333 Std: 0.93804 Erro: 0.41951\n",
      "Rmsle Geral: 0.00579 Std: 0.00183 Erro: 0.00082\n",
      "Rmse Geral:  597.74323 Std: 156.29884 Erro: 69.89897\n"
     ]
    }
   ],
   "source": [
    "vetor_MAPE1_n,vetor_MSLR1_n,vetor_RMSE1_n = validation(X1,Y1,'sales','normal',Date)"
   ]
  },
  {
   "cell_type": "code",
   "execution_count": 47,
   "metadata": {
    "executionInfo": {
     "elapsed": 256,
     "status": "ok",
     "timestamp": 1649996851230,
     "user": {
      "displayName": "Antonio Junior",
      "userId": "09175545212585676126"
     },
     "user_tz": 180
    },
    "id": "VX5KIum_Y5hl"
   },
   "outputs": [],
   "source": [
    "del df_n2"
   ]
  },
  {
   "cell_type": "code",
   "execution_count": 48,
   "metadata": {
    "executionInfo": {
     "elapsed": 2,
     "status": "ok",
     "timestamp": 1649996851492,
     "user": {
      "displayName": "Antonio Junior",
      "userId": "09175545212585676126"
     },
     "user_tz": 180
    },
    "id": "YGDboKraa_ar"
   },
   "outputs": [],
   "source": [
    "df_n2 = df_n1.copy()"
   ]
  },
  {
   "cell_type": "code",
   "execution_count": 49,
   "metadata": {
    "executionInfo": {
     "elapsed": 3,
     "status": "ok",
     "timestamp": 1649996852143,
     "user": {
      "displayName": "Antonio Junior",
      "userId": "09175545212585676126"
     },
     "user_tz": 180
    },
    "id": "IvBgBDZrZGO1"
   },
   "outputs": [],
   "source": [
    "vetor = np.zeros(df_n2.shape[0])\n",
    "vetor[df_n2['assortment_extended'] == 1] = 1\n",
    "vetor[df_n2['assortment_extra'] == 1] = 2\n",
    "vetor[df_n2['assortment_basic'] == 1] = 0\n",
    "df_n2['assortment'] = vetor"
   ]
  },
  {
   "cell_type": "code",
   "execution_count": 50,
   "metadata": {
    "executionInfo": {
     "elapsed": 280,
     "status": "ok",
     "timestamp": 1649996855115,
     "user": {
      "displayName": "Antonio Junior",
      "userId": "09175545212585676126"
     },
     "user_tz": 180
    },
    "id": "kvrYioNuZGRS"
   },
   "outputs": [],
   "source": [
    "df_n2 = df_n2.drop(columns = cold)"
   ]
  },
  {
   "cell_type": "code",
   "execution_count": null,
   "metadata": {
    "id": "eqJHV4_hZGTd"
   },
   "outputs": [],
   "source": [
    "X1 ,Y1,Date = dados_teste_val(df_n2)"
   ]
  },
  {
   "cell_type": "code",
   "execution_count": null,
   "metadata": {
    "colab": {
     "base_uri": "https://localhost:8080/"
    },
    "executionInfo": {
     "elapsed": 269511,
     "status": "ok",
     "timestamp": 1646456874590,
     "user": {
      "displayName": "Antonio Junior",
      "photoUrl": "https://lh3.googleusercontent.com/a/default-user=s64",
      "userId": "09175545212585676126"
     },
     "user_tz": 180
    },
    "id": "z8AVqkqpZGV2",
    "outputId": "0a268ea5-c24c-4383-a7b1-e1c5c1f732f6"
   },
   "outputs": [
    {
     "name": "stdout",
     "output_type": "stream",
     "text": [
      "Data do inicio do treinamento: 2013-01-03 Data do final do treinamento : 2014-11-19\n",
      "Data do inicio do Validação  : 2014-11-20 Data do final do Validação   : 2015-01-01\n",
      "MAPE:  7.61010\n",
      "RMSLE: 0.00926\n",
      "RMSE:  868.79556\n",
      "Data do inicio do treinamento: 2013-01-03 Data do final do treinamento : 2014-12-31\n",
      "Data do inicio do Validação  : 2015-01-01 Data do final do Validação   : 2015-02-12\n",
      "MAPE:  5.45884\n",
      "RMSLE: 0.00533\n",
      "RMSE:  519.64228\n",
      "Data do inicio do treinamento: 2013-01-03 Data do final do treinamento : 2015-02-11\n",
      "Data do inicio do Validação  : 2015-02-12 Data do final do Validação   : 2015-03-26\n",
      "MAPE:  4.90709\n",
      "RMSLE: 0.00401\n",
      "RMSE:  417.21452\n",
      "Data do inicio do treinamento: 2013-01-03 Data do final do treinamento : 2015-03-25\n",
      "Data do inicio do Validação  : 2015-03-26 Data do final do Validação   : 2015-05-07\n",
      "MAPE:  5.79906\n",
      "RMSLE: 0.00569\n",
      "RMSE:  663.65225\n",
      "Data do inicio do treinamento: 2013-01-03 Data do final do treinamento : 2015-05-06\n",
      "Data do inicio do Validação  : 2015-05-07 Data do final do Validação   : 2015-06-18\n",
      "MAPE:  5.26019\n",
      "RMSLE: 0.00457\n",
      "RMSE:  510.84371\n",
      "Mape Geral:  5.80706 Std: 0.94671 Erro: 0.42338\n",
      "Rmsle Geral: 0.00577 Std: 0.00184 Erro: 0.00082\n",
      "Rmse Geral:  596.02966 Std: 157.50593 Erro: 70.43879\n"
     ]
    }
   ],
   "source": [
    "vetor_MAPE1_n,vetor_MSLR1_n,vetor_RMSE1_n = validation(X1,Y1,'sales','normal',Date)"
   ]
  },
  {
   "cell_type": "code",
   "execution_count": 51,
   "metadata": {
    "executionInfo": {
     "elapsed": 269,
     "status": "ok",
     "timestamp": 1649996905365,
     "user": {
      "displayName": "Antonio Junior",
      "userId": "09175545212585676126"
     },
     "user_tz": 180
    },
    "id": "nLt0wm0PZGX4"
   },
   "outputs": [],
   "source": [
    "df_n3 = df_n2.copy()"
   ]
  },
  {
   "cell_type": "markdown",
   "metadata": {
    "id": "pxtWTlQ8hV0o"
   },
   "source": [
    "* Apenas o store b impactou no desempenho do modelo positivamente. Logo o agrupamento será feito pelo labelEncoder para ver se o desempenho do modelo padrão melhore.\n",
    "* Legenda:\n",
    "  * store_type_a -> 0\n",
    "  * store_type_b -> 10\n",
    "  * store_type_c -> 1\n",
    "  * store_type_d - > 2\n",
    " \n",
    "---\n",
    " \n",
    " \n",
    " \n",
    " \n",
    " \n",
    " \n"
   ]
  },
  {
   "cell_type": "code",
   "execution_count": 52,
   "metadata": {
    "executionInfo": {
     "elapsed": 285,
     "status": "ok",
     "timestamp": 1649997118392,
     "user": {
      "displayName": "Antonio Junior",
      "userId": "09175545212585676126"
     },
     "user_tz": 180
    },
    "id": "TKklAnrHPHuZ"
   },
   "outputs": [],
   "source": [
    "vetor = np.zeros(df_n3.shape[0])\n",
    "vetor[df_n3['store_type_a'] == 1] = 0\n",
    "vetor[df_n3['store_type_c'] == 1] = 1\n",
    "vetor[df_n3['store_type_d'] == 1] = 2\n",
    "vetor[df_n3['store_type_b'] == 1] = 10\n",
    "df_n3['store'] = vetor"
   ]
  },
  {
   "cell_type": "code",
   "execution_count": 53,
   "metadata": {
    "executionInfo": {
     "elapsed": 3,
     "status": "ok",
     "timestamp": 1649997120988,
     "user": {
      "displayName": "Antonio Junior",
      "userId": "09175545212585676126"
     },
     "user_tz": 180
    },
    "id": "XHNFw4-LPHwL"
   },
   "outputs": [],
   "source": [
    "cold = ['store_type_a','store_type_c',\n",
    "       'store_type_d','store_type_b']"
   ]
  },
  {
   "cell_type": "code",
   "execution_count": 54,
   "metadata": {
    "executionInfo": {
     "elapsed": 2,
     "status": "ok",
     "timestamp": 1649997121380,
     "user": {
      "displayName": "Antonio Junior",
      "userId": "09175545212585676126"
     },
     "user_tz": 180
    },
    "id": "DEpG-akbPHx-"
   },
   "outputs": [],
   "source": [
    "df_n3 = df_n3.drop(columns = cold)"
   ]
  },
  {
   "cell_type": "code",
   "execution_count": null,
   "metadata": {
    "id": "ZJ03RSgpPH9w"
   },
   "outputs": [],
   "source": [
    "X1 ,Y1,Date = dados_teste_val(df_n3)"
   ]
  },
  {
   "cell_type": "code",
   "execution_count": null,
   "metadata": {
    "colab": {
     "base_uri": "https://localhost:8080/"
    },
    "executionInfo": {
     "elapsed": 37541,
     "status": "ok",
     "timestamp": 1646458932587,
     "user": {
      "displayName": "Antonio Junior",
      "photoUrl": "https://lh3.googleusercontent.com/a/default-user=s64",
      "userId": "09175545212585676126"
     },
     "user_tz": 180
    },
    "id": "WLYURrkRPIBj",
    "outputId": "605c518b-b2e8-457d-b622-a2d0466127f6"
   },
   "outputs": [
    {
     "name": "stdout",
     "output_type": "stream",
     "text": [
      "Data do inicio do treinamento: 2013-01-03 Data do final do treinamento : 2014-11-19\n",
      "Data do inicio do Validação  : 2014-11-20 Data do final do Validação   : 2015-01-01\n",
      "MAPE:  7.90324\n",
      "RMSLE: 0.00996\n",
      "RMSE:  908.71224\n",
      "Data do inicio do treinamento: 2013-01-03 Data do final do treinamento : 2014-12-31\n",
      "Data do inicio do Validação  : 2015-01-01 Data do final do Validação   : 2015-02-12\n",
      "MAPE:  5.88571\n",
      "RMSLE: 0.00655\n",
      "RMSE:  579.99895\n",
      "Data do inicio do treinamento: 2013-01-03 Data do final do treinamento : 2015-02-11\n",
      "Data do inicio do Validação  : 2015-02-12 Data do final do Validação   : 2015-03-26\n",
      "MAPE:  5.09382\n",
      "RMSLE: 0.00437\n",
      "RMSE:  436.44052\n",
      "Data do inicio do treinamento: 2013-01-03 Data do final do treinamento : 2015-03-25\n",
      "Data do inicio do Validação  : 2015-03-26 Data do final do Validação   : 2015-05-07\n",
      "MAPE:  6.04985\n",
      "RMSLE: 0.00622\n",
      "RMSE:  694.66093\n",
      "Data do inicio do treinamento: 2013-01-03 Data do final do treinamento : 2015-05-06\n",
      "Data do inicio do Validação  : 2015-05-07 Data do final do Validação   : 2015-06-18\n",
      "MAPE:  5.46496\n",
      "RMSLE: 0.00489\n",
      "RMSE:  529.38711\n",
      "Mape Geral:  6.07952 Std: 0.97095 Erro: 0.43422\n",
      "Rmsle Geral: 0.0064 Std: 0.00196 Erro: 0.00087\n",
      "Rmse Geral:  629.83995 Std: 162.44984 Erro: 72.64978\n"
     ]
    }
   ],
   "source": [
    "vetor_MAPE1_n,vetor_MSLR1_n,vetor_RMSE1_n = validation(X1,Y1,'sales','normal',Date)"
   ]
  },
  {
   "cell_type": "markdown",
   "metadata": {
    "id": "Lc3YQmNblfKM"
   },
   "source": [
    "* Os agrupamento feitos feito fez com que o modelo tenha um desepenho pior. Agora será testado apenas store_type_b no dataset."
   ]
  },
  {
   "cell_type": "code",
   "execution_count": 55,
   "metadata": {
    "executionInfo": {
     "elapsed": 295,
     "status": "ok",
     "timestamp": 1649997132710,
     "user": {
      "displayName": "Antonio Junior",
      "userId": "09175545212585676126"
     },
     "user_tz": 180
    },
    "id": "A7lFcrybPIEO"
   },
   "outputs": [],
   "source": [
    "del df_n3"
   ]
  },
  {
   "cell_type": "code",
   "execution_count": 56,
   "metadata": {
    "executionInfo": {
     "elapsed": 4,
     "status": "ok",
     "timestamp": 1649997135120,
     "user": {
      "displayName": "Antonio Junior",
      "userId": "09175545212585676126"
     },
     "user_tz": 180
    },
    "id": "I10eoE8tPIH7"
   },
   "outputs": [],
   "source": [
    "df_n4 = df_n2.copy()"
   ]
  },
  {
   "cell_type": "code",
   "execution_count": 57,
   "metadata": {
    "executionInfo": {
     "elapsed": 299,
     "status": "ok",
     "timestamp": 1649997139726,
     "user": {
      "displayName": "Antonio Junior",
      "userId": "09175545212585676126"
     },
     "user_tz": 180
    },
    "id": "9KdhsBHfPIKC"
   },
   "outputs": [],
   "source": [
    "cold = ['store_type_a','store_type_c',\n",
    "       'store_type_d']"
   ]
  },
  {
   "cell_type": "code",
   "execution_count": 58,
   "metadata": {
    "executionInfo": {
     "elapsed": 285,
     "status": "ok",
     "timestamp": 1649997159064,
     "user": {
      "displayName": "Antonio Junior",
      "userId": "09175545212585676126"
     },
     "user_tz": 180
    },
    "id": "gC5nNs9sPINr"
   },
   "outputs": [],
   "source": [
    "df_n4 = df_n4.drop(columns = cold)"
   ]
  },
  {
   "cell_type": "code",
   "execution_count": null,
   "metadata": {
    "id": "_jfBdjDkmi7W"
   },
   "outputs": [],
   "source": [
    "X1 ,Y1,Date = dados_teste_val(df_n4)"
   ]
  },
  {
   "cell_type": "code",
   "execution_count": null,
   "metadata": {
    "colab": {
     "base_uri": "https://localhost:8080/"
    },
    "executionInfo": {
     "elapsed": 247710,
     "status": "ok",
     "timestamp": 1646459234069,
     "user": {
      "displayName": "Antonio Junior",
      "photoUrl": "https://lh3.googleusercontent.com/a/default-user=s64",
      "userId": "09175545212585676126"
     },
     "user_tz": 180
    },
    "id": "H8srb6CtPIP9",
    "outputId": "f787d87b-886b-4828-a3f9-c99be7334ab7"
   },
   "outputs": [
    {
     "name": "stdout",
     "output_type": "stream",
     "text": [
      "Data do inicio do treinamento: 2013-01-03 Data do final do treinamento : 2014-11-19\n",
      "Data do inicio do Validação  : 2014-11-20 Data do final do Validação   : 2015-01-01\n",
      "MAPE:  7.80932\n",
      "RMSLE: 0.00995\n",
      "RMSE:  907.28884\n",
      "Data do inicio do treinamento: 2013-01-03 Data do final do treinamento : 2014-12-31\n",
      "Data do inicio do Validação  : 2015-01-01 Data do final do Validação   : 2015-02-12\n",
      "MAPE:  5.85096\n",
      "RMSLE: 0.00674\n",
      "RMSE:  567.35298\n",
      "Data do inicio do treinamento: 2013-01-03 Data do final do treinamento : 2015-02-11\n",
      "Data do inicio do Validação  : 2015-02-12 Data do final do Validação   : 2015-03-26\n",
      "MAPE:  4.94731\n",
      "RMSLE: 0.00413\n",
      "RMSE:  422.37678\n",
      "Data do inicio do treinamento: 2013-01-03 Data do final do treinamento : 2015-03-25\n",
      "Data do inicio do Validação  : 2015-03-26 Data do final do Validação   : 2015-05-07\n",
      "MAPE:  5.92048\n",
      "RMSLE: 0.00601\n",
      "RMSE:  687.61647\n",
      "Data do inicio do treinamento: 2013-01-03 Data do final do treinamento : 2015-05-06\n",
      "Data do inicio do Validação  : 2015-05-07 Data do final do Validação   : 2015-06-18\n",
      "MAPE:  5.3353\n",
      "RMSLE: 0.00473\n",
      "RMSE:  523.71443\n",
      "Mape Geral:  5.97267 Std: 0.98473 Erro: 0.44038\n",
      "Rmsle Geral: 0.00631 Std: 0.00204 Erro: 0.00091\n",
      "Rmse Geral:  621.6699 Std: 166.24709 Erro: 74.34796\n"
     ]
    }
   ],
   "source": [
    "vetor_MAPE1_n,vetor_MSLR1_n,vetor_RMSE1_n = validation(X1,Y1,'sales','normal',Date)"
   ]
  },
  {
   "cell_type": "markdown",
   "metadata": {
    "id": "VuyBpEqDoXeK"
   },
   "source": [
    "* Será excluído apenas do store_type_d já que foi ela que teve pior desempenho"
   ]
  },
  {
   "cell_type": "code",
   "execution_count": 63,
   "metadata": {
    "executionInfo": {
     "elapsed": 269,
     "status": "ok",
     "timestamp": 1649997322953,
     "user": {
      "displayName": "Antonio Junior",
      "userId": "09175545212585676126"
     },
     "user_tz": 180
    },
    "id": "ahB95e8PPIR2"
   },
   "outputs": [],
   "source": [
    "#del df_n4 "
   ]
  },
  {
   "cell_type": "code",
   "execution_count": 61,
   "metadata": {
    "executionInfo": {
     "elapsed": 2,
     "status": "ok",
     "timestamp": 1649997315633,
     "user": {
      "displayName": "Antonio Junior",
      "userId": "09175545212585676126"
     },
     "user_tz": 180
    },
    "id": "Zl2uYdRUPITq"
   },
   "outputs": [],
   "source": [
    "df_n5 = df_n2.copy()"
   ]
  },
  {
   "cell_type": "code",
   "execution_count": 62,
   "metadata": {
    "executionInfo": {
     "elapsed": 2,
     "status": "ok",
     "timestamp": 1649997316261,
     "user": {
      "displayName": "Antonio Junior",
      "userId": "09175545212585676126"
     },
     "user_tz": 180
    },
    "id": "lDKwDMxmPIVN"
   },
   "outputs": [],
   "source": [
    "cold = ['store_type_d']"
   ]
  },
  {
   "cell_type": "code",
   "execution_count": 64,
   "metadata": {
    "executionInfo": {
     "elapsed": 244,
     "status": "ok",
     "timestamp": 1649997331634,
     "user": {
      "displayName": "Antonio Junior",
      "userId": "09175545212585676126"
     },
     "user_tz": 180
    },
    "id": "DdqGMS_aPIXa"
   },
   "outputs": [],
   "source": [
    "df_n5 = df_n5.drop(columns = cold)"
   ]
  },
  {
   "cell_type": "code",
   "execution_count": null,
   "metadata": {
    "id": "tMBpYdN_PIZN"
   },
   "outputs": [],
   "source": [
    "X1 ,Y1,Date = dados_teste_val(df_n5)"
   ]
  },
  {
   "cell_type": "code",
   "execution_count": null,
   "metadata": {
    "colab": {
     "base_uri": "https://localhost:8080/"
    },
    "executionInfo": {
     "elapsed": 260653,
     "status": "ok",
     "timestamp": 1646459705750,
     "user": {
      "displayName": "Antonio Junior",
      "photoUrl": "https://lh3.googleusercontent.com/a/default-user=s64",
      "userId": "09175545212585676126"
     },
     "user_tz": 180
    },
    "id": "b4iUvnu5PIbV",
    "outputId": "c6169c10-6927-48af-8e08-df02ed694bc6"
   },
   "outputs": [
    {
     "name": "stdout",
     "output_type": "stream",
     "text": [
      "Data do inicio do treinamento: 2013-01-03 Data do final do treinamento : 2014-11-19\n",
      "Data do inicio do Validação  : 2014-11-20 Data do final do Validação   : 2015-01-01\n",
      "MAPE:  7.57403\n",
      "RMSLE: 0.00917\n",
      "RMSE:  869.85343\n",
      "Data do inicio do treinamento: 2013-01-03 Data do final do treinamento : 2014-12-31\n",
      "Data do inicio do Validação  : 2015-01-01 Data do final do Validação   : 2015-02-12\n",
      "MAPE:  5.43410\n",
      "RMSLE: 0.0053\n",
      "RMSE:  521.80776\n",
      "Data do inicio do treinamento: 2013-01-03 Data do final do treinamento : 2015-02-11\n",
      "Data do inicio do Validação  : 2015-02-12 Data do final do Validação   : 2015-03-26\n",
      "MAPE:  4.9137\n",
      "RMSLE: 0.00403\n",
      "RMSE:  417.50414\n",
      "Data do inicio do treinamento: 2013-01-03 Data do final do treinamento : 2015-03-25\n",
      "Data do inicio do Validação  : 2015-03-26 Data do final do Validação   : 2015-05-07\n",
      "MAPE:  5.80843\n",
      "RMSLE: 0.00569\n",
      "RMSE:  665.5795\n",
      "Data do inicio do treinamento: 2013-01-03 Data do final do treinamento : 2015-05-06\n",
      "Data do inicio do Validação  : 2015-05-07 Data do final do Validação   : 2015-06-18\n",
      "MAPE:  5.25241\n",
      "RMSLE: 0.00453\n",
      "RMSE:  511.41188\n",
      "Mape Geral:  5.79653 Std: 0.93450 Erro: 0.41792\n",
      "Rmsle Geral: 0.00574 Std: 0.00181 Erro: 0.00081\n",
      "Rmse Geral:  597.23134 Std: 157.70215 Erro: 70.52655\n"
     ]
    }
   ],
   "source": [
    "vetor_MAPE1_n,vetor_MSLR1_n,vetor_RMSE1_n = validation(X1,Y1,'sales','normal',Date)"
   ]
  },
  {
   "cell_type": "markdown",
   "metadata": {
    "id": "Fb3Ul6wmpjmQ"
   },
   "source": [
    "* Como o modelo melhoro o desepeho a exclusão dessa variável será mamtida.\n"
   ]
  },
  {
   "cell_type": "code",
   "execution_count": 65,
   "metadata": {
    "colab": {
     "base_uri": "https://localhost:8080/"
    },
    "executionInfo": {
     "elapsed": 372,
     "status": "ok",
     "timestamp": 1649997337920,
     "user": {
      "displayName": "Antonio Junior",
      "userId": "09175545212585676126"
     },
     "user_tz": 180
    },
    "id": "W1OOr-DAu7VG",
    "outputId": "18c4c22d-2169-477e-ae99-8ee7fc52e60b"
   },
   "outputs": [
    {
     "data": {
      "text/plain": [
       "((731432, 21), (731432, 31))"
      ]
     },
     "execution_count": 65,
     "metadata": {},
     "output_type": "execute_result"
    }
   ],
   "source": [
    "df_n5.shape,df.shape"
   ]
  },
  {
   "cell_type": "code",
   "execution_count": 66,
   "metadata": {
    "colab": {
     "base_uri": "https://localhost:8080/"
    },
    "executionInfo": {
     "elapsed": 4,
     "status": "ok",
     "timestamp": 1649997338657,
     "user": {
      "displayName": "Antonio Junior",
      "userId": "09175545212585676126"
     },
     "user_tz": 180
    },
    "id": "APifQOLMNagw",
    "outputId": "10c8bc35-6929-41e0-a296-4faaf4751b35"
   },
   "outputs": [
    {
     "data": {
      "text/plain": [
       "Index(['store', 'day_of_week', 'date', 'sales', 'customers', 'promo',\n",
       "       'competition_distance', 'competition_open_since_year', 'promo2',\n",
       "       'promo2_since_year', 'without_competition', 'year', 'week_year',\n",
       "       'promo_time_week', 'Total_dias', 'store_type_a', 'store_type_b',\n",
       "       'store_type_c', 'day_cos', 'holiday', 'assortment'],\n",
       "      dtype='object')"
      ]
     },
     "execution_count": 66,
     "metadata": {},
     "output_type": "execute_result"
    }
   ],
   "source": [
    "df_n5.columns"
   ]
  },
  {
   "cell_type": "markdown",
   "metadata": {
    "id": "FHjLDu-Au3GA"
   },
   "source": [
    "# Conclusão.\n",
    " \n",
    "* Teve uma redução de 10 variáveis e a variável day foi modificado para que ela seja representada por um cosseno\n"
   ]
  },
  {
   "cell_type": "code",
   "execution_count": 67,
   "metadata": {
    "executionInfo": {
     "elapsed": 271,
     "status": "ok",
     "timestamp": 1649997346586,
     "user": {
      "displayName": "Antonio Junior",
      "userId": "09175545212585676126"
     },
     "user_tz": 180
    },
    "id": "nfqRpOIpqUrr"
   },
   "outputs": [],
   "source": [
    "#df_n5.to_csv('/content/drive/My Drive/dados/time series/dados_novos3.csv')"
   ]
  },
  {
   "cell_type": "code",
   "execution_count": null,
   "metadata": {
    "id": "DqjnISHnv8Gz"
   },
   "outputs": [],
   "source": []
  }
 ],
 "metadata": {
  "colab": {
   "authorship_tag": "ABX9TyPNRQHYXUWIiNALfbJxM5+4",
   "collapsed_sections": [],
   "name": "parte 2 Modification dataset.ipynb",
   "provenance": []
  },
  "kernelspec": {
   "display_name": "Python 3 (ipykernel)",
   "language": "python",
   "name": "python3"
  },
  "language_info": {
   "codemirror_mode": {
    "name": "ipython",
    "version": 3
   },
   "file_extension": ".py",
   "mimetype": "text/x-python",
   "name": "python",
   "nbconvert_exporter": "python",
   "pygments_lexer": "ipython3",
   "version": "3.7.6"
  }
 },
 "nbformat": 4,
 "nbformat_minor": 1
}
