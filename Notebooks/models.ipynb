{
  "cells": [
    {
      "cell_type": "markdown",
      "metadata": {
        "id": "qZMicFVemSTr"
      },
      "source": [
        "# Introdução.\n",
        "\n",
        "* A Rossmann opera mais de 3.000 drogarias em 7 países europeus. Atualmente, os gerentes de loja da Rossmann têm a tarefa de prever suas vendas diárias com até seis semanas de antecedência. As vendas da loja são influenciadas por muitos fatores, incluindo promoções, competição, feriados escolares e estaduais, sazonalidade e localidade. Com milhares de gerentes individuais prevendo vendas com base em suas circunstâncias únicas, a precisão dos resultados pode ser bastante variada."
      ]
    },
    {
      "cell_type": "markdown",
      "metadata": {
        "id": "-6PeQjj_71UH"
      },
      "source": [
        "# Descrição do projeto\n",
        " * Após a exclusão e modificação de algumas variáveis, foi visto que o desempenho do modelo padrão de machine learning passou de um MAPE de 5.86092 Std: 0.96943 Error: 0.43354  para um de 5.79653 Std: 0.93450 Erro: 0.41792. E o número de variáveis foi de 32 para 20.\n",
        " \n",
        "* Logo, nessa parte deste trabalho será visto o turing dos parâmetros de diversos modelos de machine learning. E também será medido o desempenho deles através dos dados de teste.\n",
        "* A estratégia utilizada para realizar o que foi proposto, segue os seguintes passos:\n",
        "* Separação dos dados em Teste e Validação.\n",
        "  * Validação: 2013/01/01 - 2015/06/18.\n",
        "  * Teste: 2015/06/19 - 2015/07/31.\n",
        "  * A Validação será feita para tunar os modelos de machine learning e ela será feita método prequential Expanding.\n",
        "* Os modelos serão avaliados nas seguintes métricas:\n",
        "  * MAPE - Erro médio Absoluto Percentual.\n",
        "  * RMSLE - Raiz do erro médio quadrático considerando o log.\n",
        "  * RMSE - Raiz do erro médio quadrático.\n",
        "* Modelos utilizados:\n",
        "  * Random Forest.\n",
        "  * LGBM.\n",
        "  * Decision Tree.\n",
        "---\n",
        "  * **Os dados de teste serão utilizados para simular o ambiente real no qual o modelo de machine learning será aplicado. (Parte final para decidir qual o melhor modelo)**\n",
        "---\n",
        " \n",
        " \n"
      ]
    },
    {
      "cell_type": "markdown",
      "metadata": {
        "id": "3BOYHf-57muv"
      },
      "source": [
        "# Descrição dos dados."
      ]
    },
    {
      "cell_type": "markdown",
      "metadata": {
        "id": "liFd78zRmSVo"
      },
      "source": [
        "* Os dados foram obtidos do kaggle:\n",
        " * https://www.kaggle.com/c/rossmann-store-sales\n",
        " \n",
        " \n",
        "* Descrição dos arquivos utilizados :\n",
        "* **train.csv** - historical data including Sales\n",
        "* **test.csv** - historical data excluding Sales\n",
        "* **store.csv** - supplemental information about the stores\n",
        "* **Os dados utilizados veio do tratamento feito nos arquivos train,test,store**.\n",
        " \n",
        "* Legenda:\n",
        " * **[T]** - Dados veio do arquivo Train.\n",
        " * **[S]** - Dados veio do arquivo do Store.\n",
        " * **[C]** - Criado pelo notebook Tratamento dos dados.\n",
        " * **[D]** - Criado pelo notebook Descrição dos dados.\n",
        " * **[M]** - Criado pelo notebook Modification dataset\n",
        " * **[CD]** - Criado pelo notebook Codification dataset \n",
        " \n",
        "* Descrição dos dados.\n",
        "* **day_of_week [T]** - Day of week.\n",
        "* **date [T]** - days the data was acquired.\n",
        "* **store [T]** - a unique Id for each store\n",
        "* **sales [T]** - the turnover for any given day (this is what you are predicting) \n",
        "* **customers [T]** - the number of customers on a given day\n",
        "* **store_type_a [M]** - store models a.\n",
        "* **store_type_b [M]** - store models b.\n",
        "* **store_type_c [M]** - store models c. \n",
        "* **competition_distance [S]** - distance in meters to the nearest competitor store.\n",
        "* **competition_open_since_year [S]** - gives the approximate year of the time the nearest competitor was opened.\n",
        "* **Promo [T]** - indicates whether a store is running a promo on that day\n",
        "* **Promo2 [S]** - Promo2 is a continuing and consecutive promotion for some stores: 0 = store is not participating, 1 = store is participating.\n",
        "* **promo2_since_year [S]** - describes the year  when the store started participating in Promo2.\n",
        "* **year [C]** - year the data died.\n",
        "* **week_year [C]**  - calendar week  the data died.\n",
        "* **without_competition [C]** - Store has competition.\n",
        "* **promo_time_week [C]** - Time the store works without the promotion.\n",
        "* **Total_dias [CD]** - Accumulated days.\n",
        "* **day_cos [CD]** - Day variable transformed into cosine sign.\n",
        "* **holiday [CD]** - The day is a holiday or not. Where 1 is a holiday and 0 is a day that is not.\n",
        "* **assortment [CD]** - Describe assortment level the store. 1 - > Extended, 2 ->  Estra, 3 -> basic.\n",
        " \n",
        " \n",
        " \n"
      ]
    },
    {
      "cell_type": "markdown",
      "metadata": {
        "id": "3-mJLYYIZFI1"
      },
      "source": [
        "# Instalando as bibliotecas."
      ]
    },
    {
      "cell_type": "code",
      "execution_count": 1,
      "metadata": {
        "colab": {
          "base_uri": "https://localhost:8080/"
        },
        "id": "bRYObRy9ohH1",
        "outputId": "5d403d7c-20b3-4f3b-e668-693764d72ee1"
      },
      "outputs": [
        {
          "output_type": "stream",
          "name": "stdout",
          "text": [
            "/bin/bash: -c: line 0: unexpected EOF while looking for matching ``'\n",
            "/bin/bash: -c: line 1: syntax error: unexpected end of file\n"
          ]
        }
      ],
      "source": [
        "!pip install git+git://github.com/Hvass-Labs/scikit-optimize.git@dd7433da068b5a2509ef4ea4e5195458393e6555`"
      ]
    },
    {
      "cell_type": "code",
      "execution_count": 2,
      "metadata": {
        "colab": {
          "base_uri": "https://localhost:8080/"
        },
        "id": "GFu91lZMBUA9",
        "outputId": "1a549163-227f-4f86-e0dc-68dfcc4410dd"
      },
      "outputs": [
        {
          "output_type": "stream",
          "name": "stdout",
          "text": [
            "Collecting scikit-optimize\n",
            "  Downloading scikit_optimize-0.9.0-py2.py3-none-any.whl (100 kB)\n",
            "\u001b[?25l\r\u001b[K     |███▎                            | 10 kB 22.0 MB/s eta 0:00:01\r\u001b[K     |██████▌                         | 20 kB 25.4 MB/s eta 0:00:01\r\u001b[K     |█████████▉                      | 30 kB 26.2 MB/s eta 0:00:01\r\u001b[K     |█████████████                   | 40 kB 17.5 MB/s eta 0:00:01\r\u001b[K     |████████████████▍               | 51 kB 15.5 MB/s eta 0:00:01\r\u001b[K     |███████████████████▋            | 61 kB 17.6 MB/s eta 0:00:01\r\u001b[K     |██████████████████████▉         | 71 kB 14.9 MB/s eta 0:00:01\r\u001b[K     |██████████████████████████▏     | 81 kB 15.7 MB/s eta 0:00:01\r\u001b[K     |█████████████████████████████▍  | 92 kB 16.9 MB/s eta 0:00:01\r\u001b[K     |████████████████████████████████| 100 kB 5.7 MB/s \n",
            "\u001b[?25hRequirement already satisfied: scikit-learn>=0.20.0 in /usr/local/lib/python3.7/dist-packages (from scikit-optimize) (1.0.2)\n",
            "Requirement already satisfied: numpy>=1.13.3 in /usr/local/lib/python3.7/dist-packages (from scikit-optimize) (1.21.6)\n",
            "Requirement already satisfied: joblib>=0.11 in /usr/local/lib/python3.7/dist-packages (from scikit-optimize) (1.1.0)\n",
            "Requirement already satisfied: scipy>=0.19.1 in /usr/local/lib/python3.7/dist-packages (from scikit-optimize) (1.4.1)\n",
            "Collecting pyaml>=16.9\n",
            "  Downloading pyaml-21.10.1-py2.py3-none-any.whl (24 kB)\n",
            "Requirement already satisfied: PyYAML in /usr/local/lib/python3.7/dist-packages (from pyaml>=16.9->scikit-optimize) (3.13)\n",
            "Requirement already satisfied: threadpoolctl>=2.0.0 in /usr/local/lib/python3.7/dist-packages (from scikit-learn>=0.20.0->scikit-optimize) (3.1.0)\n",
            "Installing collected packages: pyaml, scikit-optimize\n",
            "Successfully installed pyaml-21.10.1 scikit-optimize-0.9.0\n"
          ]
        }
      ],
      "source": [
        "!pip install scikit-optimize"
      ]
    },
    {
      "cell_type": "markdown",
      "metadata": {
        "id": "88tAI0gMp5jS"
      },
      "source": [
        "# Funções"
      ]
    },
    {
      "cell_type": "code",
      "execution_count": 3,
      "metadata": {
        "id": "r6jPx_NDp8bB"
      },
      "outputs": [],
      "source": [
        "def MAPE(y_pred,Y_teste):\n",
        "  return np.mean(100*np.abs(y_pred - Y_teste)/np.abs(Y_teste))\n",
        "\n",
        "def label_encoder(d,col):\n",
        "  enc      = LabelEncoder()\n",
        "  enc      = enc.fit(d[col])\n",
        "  inteiros = enc.fit_transform(d[col])\n",
        "  d[col]   = inteiros\n",
        "  return d\n",
        "\n",
        "def dummies_var(dados,coluna):\n",
        "  df_aux = dados\n",
        "  df_aux = df_aux.join(pd.get_dummies(df_aux[coluna], prefix=coluna))\n",
        "  df_aux = df_aux.drop(columns=coluna)\n",
        "  return df_aux\n",
        "\n",
        "\n",
        "def validation(X,Y,coluna,flag,Date,model):\n",
        "  vetor_MAPE = np.zeros(5) \n",
        "  vetor_MSLR = np.zeros(5)\n",
        "  vetor_RMSE = np.zeros(5)\n",
        "  Y_pred = []\n",
        "  Y_val  = []\n",
        "  for i in range(5):\n",
        "    # Dados de treinamento\n",
        " \n",
        "    X_t = X[X['Total_dias']  < 689 + 6*7*i]\n",
        "    y_t = Y[coluna][Y['Total_dias']  < 689 + 6*7*i]\n",
        "    X_t = X_t.drop(columns = ['Total_dias'])\n",
        "    \n",
        "    # Dados de validação\n",
        "    X_v = X[(X['Total_dias'] >= 689 + 6*7*i) & (X['Total_dias'] <= 689 + 6*7*(i+1))]\n",
        "    y_v = Y[coluna][(Y['Total_dias'] >= 689 + 6*7*i) & (Y['Total_dias'] <= 689 + 6*7*(i+1))]\n",
        "    X_v = X_v.drop(columns = ['Total_dias'])\n",
        "    \n",
        "    md        = model.fit(X_t, y_t)\n",
        "    y_pred    = md.predict(X_v)\n",
        "    \n",
        "    if flag == 'log':\n",
        "      y_pred = np.round(10**y_pred - 1)  # eliminar o ruído provocado pelo computados atravez dou round\n",
        "      y_v    = np.round(10**y_v - 1)\n",
        "    if flag == 'sqrt':\n",
        "      y_pred = np.round(y_pred**2)\n",
        "      y_v    = np.round(y_v**2)\n",
        "    if flag == 'normal':\n",
        "      y_pred = y_pred\n",
        "      y_v    = y_v\n",
        "    \n",
        "  \n",
        "    \n",
        "    mape = MAPE(y_v,y_pred)\n",
        "    mslr = mean_squared_log_error(y_v,y_pred)\n",
        "    rmse = mean_squared_error(y_v,y_pred,squared =False)\n",
        "    \n",
        "    vetor_MAPE[i] = mape\n",
        "  \n",
        "  return np.mean(vetor_MAPE)\n",
        "\n",
        "\n",
        "def dados_teste_val(df):\n",
        "  val   = df.copy()\n",
        "  test  = df.copy()\n",
        "  \n",
        "  val  = val[val['date'] < '2015-06-19']     # Dados de validação\n",
        "  test = test[test['date'] >= '2015-06-19']  # Dados de teste\n",
        "  Date = val['date']\n",
        "  df.index = np.arange(df.shape[0])\n",
        "  X = val.drop(columns = ['date','sales'])\n",
        "  Y = val[['sales','Total_dias']]\n",
        "\n",
        "  return X,Y,Date\n",
        "\n",
        "\n",
        "def Tuning_RF(params):\n",
        "  max_depth = params[0]\n",
        "  n_estimators = params[1]  \n",
        "  max_features = params[2]\n",
        "  \n",
        "  print('max_depth:',params[0])\n",
        "  print('n_estimators:',params[1])\n",
        "  print('max_features:',params[2])\n",
        "\n",
        "  model = RandomForestRegressor(n_estimators = n_estimators,max_depth=max_depth,max_features = max_features,random_state = 42) # modelo padrão\n",
        "  mape = validation(X,Y,'sales','normal',Date,model)\n",
        "  return mape\n",
        "\n",
        "\n",
        "def Tuning_AD(params):\n",
        " \n",
        "  max_depth = params[0]\n",
        "  min_samples_split = params[1]\n",
        "  max_features = params[2]\n",
        "  min_samples_leaf = params[3]\n",
        "\n",
        "  print('max_depth:',params[0])\n",
        "  print('min_samples_split:',params[1])\n",
        "  print('max_features:',params[2])\n",
        "  print('min_samples_leaf:',params[3])\n",
        "\n",
        "  \n",
        "  model = DecisionTreeRegressor(random_state=42,min_samples_leaf = min_samples_leaf,max_depth = max_depth ,max_features =max_features,min_samples_split = min_samples_split)\n",
        "  mape = validation(X,Y,'sales','normal',Date,model)\n",
        "\n",
        "\n",
        "  return mape\n",
        "\n",
        "def Tuning_LGBM(params):\n",
        "  lr = params[0]\n",
        "  max_depth = params[1]\n",
        "  n_estimators = params[2]\n",
        "  colsample_bytree = params[3]\n",
        "  lamb             = params[4]\n",
        "  alpha            = params[5]\n",
        "\n",
        "\n",
        "  print('lr:',params[0])\n",
        "  print('max_depth:',params[1])\n",
        "  print('n_estimators:',params[2])\n",
        "  print('colsample_bytree:',params[3])\n",
        "  print('reg_lambda:',params[4])\n",
        "  print('reg_alpha:',params[5])\n",
        "\n",
        "  \n",
        "  model = LGBMRegressor(learning_rate=lr, num_leaves=2 ** max_depth, max_depth=max_depth, \n",
        "                         n_estimators=n_estimators, random_state=40, \n",
        "                         n_jobs=6)\n",
        "\n",
        "  mape = validation(X,Y,'sales','normal',Date,model)\n",
        "  return mape\n",
        "\n",
        "\n",
        "\n",
        "def validation1(X,Y,coluna,flag,Date,model):\n",
        "  vetor_MAPE = np.zeros(5) \n",
        "  vetor_MSLR = np.zeros(5)\n",
        "  vetor_RMSE = np.zeros(5)\n",
        "  Y_pred = []\n",
        "  Y_val  = []\n",
        "  for i in range(5):\n",
        "    # Dados de treinamento\n",
        "    print('Data do inicio do treinamento:', Date[X['Total_dias'] < 689 + 6*7*i].dt.date.values[0],\n",
        "          'Data do final do treinamento :',Date[X['Total_dias'] < 689 + 6*7*i].dt.date.values[-1])\n",
        "  \n",
        "    \n",
        "    X_t = X[X['Total_dias']  < 689 + 6*7*i]\n",
        "    y_t = Y[coluna][Y['Total_dias']  < 689 + 6*7*i]\n",
        "    X_t = X_t.drop(columns = ['Total_dias'])\n",
        "    \n",
        "    # Dados de validação\n",
        "    print('Data do inicio do Validação  :', Date[(X['Total_dias'] >= 689 + 6*7*i) & (X['Total_dias'] <= 689 + 6*7*(i+1))].dt.date.values[0],\n",
        "          'Data do final do Validação   :',Date[(X['Total_dias'] >= 689 + 6*7*i) & (X['Total_dias'] <= 689 + 6*7*(i+1))].dt.date.values[-1])\n",
        "\n",
        "    X_v = X[(X['Total_dias'] >= 689 + 6*7*i) & (X['Total_dias'] <= 689 + 6*7*(i+1))]\n",
        "    y_v = Y[coluna][(Y['Total_dias'] >= 689 + 6*7*i) & (Y['Total_dias'] <= 689 + 6*7*(i+1))]\n",
        "    X_v = X_v.drop(columns = ['Total_dias'])\n",
        "    \n",
        "    md        = model.fit(X_t, y_t)\n",
        "    y_pred    = md.predict(X_v)\n",
        "    \n",
        "    if flag == 'log':\n",
        "      y_pred = np.round(10**y_pred - 1)  # eliminar o ruído provocado pelo computados atravez dou round\n",
        "      y_v    = np.round(10**y_v - 1)\n",
        "    if flag == 'sqrt':\n",
        "      y_pred = np.round(y_pred**2)\n",
        "      y_v    = np.round(y_v**2)\n",
        "    if flag == 'normal':\n",
        "      y_pred = y_pred\n",
        "      y_v    = y_v\n",
        "    \n",
        "  \n",
        "    \n",
        "    mape = MAPE(y_v,y_pred)\n",
        "    mslr = mean_squared_log_error(y_v,y_pred)\n",
        "    rmse = mean_squared_error(y_v,y_pred,squared =False)\n",
        "    vetor_MAPE[i] = mape\n",
        "    vetor_MSLR[i] = mslr\n",
        "    vetor_RMSE[i] = rmse\n",
        "  \n",
        "    print('MAPE: ',np.format_float_positional(mape,5))\n",
        "    print('RMSLE:',np.format_float_positional(mslr,5))\n",
        "    print('RMSE: ',np.format_float_positional(rmse,5))\n",
        "     \n",
        "   \n",
        "  print('Mape Geral: ',np.format_float_positional(np.mean(vetor_MAPE),5),'Std:',np.format_float_positional(np.std(vetor_MAPE),5),'Erro:',np.format_float_positional(np.std(vetor_MAPE)/np.sqrt(5),5))\n",
        "  print('Rmsle Geral:',np.format_float_positional(np.mean(vetor_MSLR),5),'Std:',np.format_float_positional(np.std(vetor_MSLR),5),'Erro:',np.format_float_positional(np.std(vetor_MSLR)/np.sqrt(5),5))\n",
        "  print('Rmse Geral: ',np.format_float_positional(np.mean(vetor_RMSE),5),'Std:',np.format_float_positional(np.std(vetor_RMSE),5),'Erro:',np.format_float_positional(np.std(vetor_RMSE)/np.sqrt(5),5))\n",
        "  return vetor_MAPE,vetor_MSLR,vetor_RMSE\n",
        "\n",
        "def Tuning_XGBR1(params):\n",
        "  lr = params[0]\n",
        "  max_depth = params[1]\n",
        "  n_estimators = params[2]\n",
        "  colsample_bytree = params[3]\n",
        "  lamb             = params[4]\n",
        "  alpha            = params[5]\n",
        "\n",
        "\n",
        "  print('lr:',params[0])\n",
        "  print('max_depth:',params[1])\n",
        "  print('n_estimators:',params[2])\n",
        "  print('colsample_bytree:',params[3])\n",
        "  print('reg_lambda:',params[4])\n",
        "  print('reg_alpha:',params[5])\n",
        "\n",
        "  \n",
        "  model = XBGB.XGBRegressor(objective='reg:squarederror',colsample_bytree = colsample_bytree, learning_rate = lr,\n",
        "                       max_depth = max_depth, n_estimators = n_estimators,reg_lambda = lamb, reg_alpha = alpha,random_state=40)\n",
        "  mape = validation(X,Y,'sales','normal',Date,model)\n",
        "  return mape\n",
        "\n",
        "def erro_interval(y_pred,Y_test):\n",
        "  confidence = 0.90\n",
        "  erro = Y_test['sales'] - y_pred\n",
        "  erro_m = stats.t.interval(confidence,len(erro)-1,loc = erro.mean(),scale = stats.sem(erro))[1] - np.mean(erro)\n",
        "\n",
        "  confidence = 0.90\n",
        "  erro = 100*np.abs(y_pred - Y_test['sales'])/np.abs(Y_test['sales'])\n",
        "  erro_s = stats.t.interval(confidence,len(erro)-1,loc = erro.mean(),scale = stats.sem(erro))[1] - np.mean(erro)\n",
        "\n",
        "  return erro_s,erro_m\n",
        "\n"
      ]
    },
    {
      "cell_type": "code",
      "source": [
        ""
      ],
      "metadata": {
        "id": "zlGXSALHBBhv"
      },
      "execution_count": 3,
      "outputs": []
    },
    {
      "cell_type": "markdown",
      "metadata": {
        "id": "a823mMjFp17R"
      },
      "source": [
        "# Biblioteca"
      ]
    },
    {
      "cell_type": "code",
      "execution_count": 4,
      "metadata": {
        "colab": {
          "base_uri": "https://localhost:8080/"
        },
        "id": "9EyI47h3mJyD",
        "outputId": "88124c08-082c-41d2-d3c4-78e488e9396b"
      },
      "outputs": [
        {
          "output_type": "stream",
          "name": "stdout",
          "text": [
            "Mounted at /content/drive\n"
          ]
        },
        {
          "output_type": "stream",
          "name": "stderr",
          "text": [
            "/usr/local/lib/python3.7/dist-packages/statsmodels/tools/_testing.py:19: FutureWarning: pandas.util.testing is deprecated. Use the functions in the public API at pandas.testing instead.\n",
            "  import pandas.util.testing as tm\n"
          ]
        }
      ],
      "source": [
        "import pandas as pd\n",
        "from google.colab import drive\n",
        "drive.mount('/content/drive')\n",
        "import numpy as np\n",
        "import matplotlib.pyplot as plt\n",
        "import seaborn as sns\n",
        "sns.set_style(\"whitegrid\")\n",
        "import statsmodels.api as sm\n",
        "from sklearn.preprocessing import LabelEncoder\n",
        "from sklearn.ensemble import RandomForestRegressor\n",
        "from sklearn.metrics import mean_squared_log_error,mean_squared_error\n",
        "import skopt\n",
        "from skopt import gp_minimize, forest_minimize\n",
        "from lightgbm import LGBMRegressor\n",
        "from sklearn.preprocessing import LabelEncoder\n",
        "import xgboost as XBGB\n",
        "from sklearn.tree import DecisionTreeRegressor\n",
        "from scipy import stats"
      ]
    },
    {
      "cell_type": "markdown",
      "metadata": {
        "id": "UE20E-wpqDU2"
      },
      "source": [
        "# Importando os dados."
      ]
    },
    {
      "cell_type": "code",
      "execution_count": 5,
      "metadata": {
        "id": "8_UsiKO4qCPp"
      },
      "outputs": [],
      "source": [
        "df = pd.read_csv('/content/drive/My Drive/dados/time series/dados_novos3.csv')"
      ]
    },
    {
      "cell_type": "code",
      "execution_count": 6,
      "metadata": {
        "colab": {
          "base_uri": "https://localhost:8080/",
          "height": 404
        },
        "id": "KWxKSgeTTmaO",
        "outputId": "5baba919-7e65-4222-9549-4097582f3671"
      },
      "outputs": [
        {
          "output_type": "execute_result",
          "data": {
            "text/plain": [
              "   Unnamed: 0  store  day_of_week        date  sales  customers  promo  \\\n",
              "0           0   1115            4  2013-01-03   4297        300      0   \n",
              "1           1   1114            4  2013-01-03  18463       3211      0   \n",
              "2           2   1113            4  2013-01-03   5563        718      0   \n",
              "3           3   1112            4  2013-01-03   8716        809      0   \n",
              "4           4   1111            4  2013-01-03   4579        444      0   \n",
              "\n",
              "   competition_distance  competition_open_since_year  promo2  ...  year  \\\n",
              "0                5350.0                         2013       1  ...  2013   \n",
              "1                 870.0                         2013       0  ...  2013   \n",
              "2                9260.0                         2013       0  ...  2013   \n",
              "3                1880.0                         2006       0  ...  2013   \n",
              "4                1900.0                         2014       1  ...  2013   \n",
              "\n",
              "   week_year  promo_time_week  Total_dias  store_type_a  store_type_b  \\\n",
              "0          1               32         3.0             0             0   \n",
              "1          1                0         3.0             1             0   \n",
              "2          1                0         3.0             1             0   \n",
              "3          1                0         3.0             0             0   \n",
              "4          1              -30         3.0             1             0   \n",
              "\n",
              "   store_type_c   day_cos  holiday  assortment  \n",
              "0             0  0.809017      0.0         1.0  \n",
              "1             0  0.809017      0.0         1.0  \n",
              "2             0  0.809017      0.0         1.0  \n",
              "3             1  0.809017      0.0         1.0  \n",
              "4             0  0.809017      0.0         0.0  \n",
              "\n",
              "[5 rows x 22 columns]"
            ],
            "text/html": [
              "\n",
              "  <div id=\"df-a83b3686-46a5-425e-9805-fc076828ce8c\">\n",
              "    <div class=\"colab-df-container\">\n",
              "      <div>\n",
              "<style scoped>\n",
              "    .dataframe tbody tr th:only-of-type {\n",
              "        vertical-align: middle;\n",
              "    }\n",
              "\n",
              "    .dataframe tbody tr th {\n",
              "        vertical-align: top;\n",
              "    }\n",
              "\n",
              "    .dataframe thead th {\n",
              "        text-align: right;\n",
              "    }\n",
              "</style>\n",
              "<table border=\"1\" class=\"dataframe\">\n",
              "  <thead>\n",
              "    <tr style=\"text-align: right;\">\n",
              "      <th></th>\n",
              "      <th>Unnamed: 0</th>\n",
              "      <th>store</th>\n",
              "      <th>day_of_week</th>\n",
              "      <th>date</th>\n",
              "      <th>sales</th>\n",
              "      <th>customers</th>\n",
              "      <th>promo</th>\n",
              "      <th>competition_distance</th>\n",
              "      <th>competition_open_since_year</th>\n",
              "      <th>promo2</th>\n",
              "      <th>...</th>\n",
              "      <th>year</th>\n",
              "      <th>week_year</th>\n",
              "      <th>promo_time_week</th>\n",
              "      <th>Total_dias</th>\n",
              "      <th>store_type_a</th>\n",
              "      <th>store_type_b</th>\n",
              "      <th>store_type_c</th>\n",
              "      <th>day_cos</th>\n",
              "      <th>holiday</th>\n",
              "      <th>assortment</th>\n",
              "    </tr>\n",
              "  </thead>\n",
              "  <tbody>\n",
              "    <tr>\n",
              "      <th>0</th>\n",
              "      <td>0</td>\n",
              "      <td>1115</td>\n",
              "      <td>4</td>\n",
              "      <td>2013-01-03</td>\n",
              "      <td>4297</td>\n",
              "      <td>300</td>\n",
              "      <td>0</td>\n",
              "      <td>5350.0</td>\n",
              "      <td>2013</td>\n",
              "      <td>1</td>\n",
              "      <td>...</td>\n",
              "      <td>2013</td>\n",
              "      <td>1</td>\n",
              "      <td>32</td>\n",
              "      <td>3.0</td>\n",
              "      <td>0</td>\n",
              "      <td>0</td>\n",
              "      <td>0</td>\n",
              "      <td>0.809017</td>\n",
              "      <td>0.0</td>\n",
              "      <td>1.0</td>\n",
              "    </tr>\n",
              "    <tr>\n",
              "      <th>1</th>\n",
              "      <td>1</td>\n",
              "      <td>1114</td>\n",
              "      <td>4</td>\n",
              "      <td>2013-01-03</td>\n",
              "      <td>18463</td>\n",
              "      <td>3211</td>\n",
              "      <td>0</td>\n",
              "      <td>870.0</td>\n",
              "      <td>2013</td>\n",
              "      <td>0</td>\n",
              "      <td>...</td>\n",
              "      <td>2013</td>\n",
              "      <td>1</td>\n",
              "      <td>0</td>\n",
              "      <td>3.0</td>\n",
              "      <td>1</td>\n",
              "      <td>0</td>\n",
              "      <td>0</td>\n",
              "      <td>0.809017</td>\n",
              "      <td>0.0</td>\n",
              "      <td>1.0</td>\n",
              "    </tr>\n",
              "    <tr>\n",
              "      <th>2</th>\n",
              "      <td>2</td>\n",
              "      <td>1113</td>\n",
              "      <td>4</td>\n",
              "      <td>2013-01-03</td>\n",
              "      <td>5563</td>\n",
              "      <td>718</td>\n",
              "      <td>0</td>\n",
              "      <td>9260.0</td>\n",
              "      <td>2013</td>\n",
              "      <td>0</td>\n",
              "      <td>...</td>\n",
              "      <td>2013</td>\n",
              "      <td>1</td>\n",
              "      <td>0</td>\n",
              "      <td>3.0</td>\n",
              "      <td>1</td>\n",
              "      <td>0</td>\n",
              "      <td>0</td>\n",
              "      <td>0.809017</td>\n",
              "      <td>0.0</td>\n",
              "      <td>1.0</td>\n",
              "    </tr>\n",
              "    <tr>\n",
              "      <th>3</th>\n",
              "      <td>3</td>\n",
              "      <td>1112</td>\n",
              "      <td>4</td>\n",
              "      <td>2013-01-03</td>\n",
              "      <td>8716</td>\n",
              "      <td>809</td>\n",
              "      <td>0</td>\n",
              "      <td>1880.0</td>\n",
              "      <td>2006</td>\n",
              "      <td>0</td>\n",
              "      <td>...</td>\n",
              "      <td>2013</td>\n",
              "      <td>1</td>\n",
              "      <td>0</td>\n",
              "      <td>3.0</td>\n",
              "      <td>0</td>\n",
              "      <td>0</td>\n",
              "      <td>1</td>\n",
              "      <td>0.809017</td>\n",
              "      <td>0.0</td>\n",
              "      <td>1.0</td>\n",
              "    </tr>\n",
              "    <tr>\n",
              "      <th>4</th>\n",
              "      <td>4</td>\n",
              "      <td>1111</td>\n",
              "      <td>4</td>\n",
              "      <td>2013-01-03</td>\n",
              "      <td>4579</td>\n",
              "      <td>444</td>\n",
              "      <td>0</td>\n",
              "      <td>1900.0</td>\n",
              "      <td>2014</td>\n",
              "      <td>1</td>\n",
              "      <td>...</td>\n",
              "      <td>2013</td>\n",
              "      <td>1</td>\n",
              "      <td>-30</td>\n",
              "      <td>3.0</td>\n",
              "      <td>1</td>\n",
              "      <td>0</td>\n",
              "      <td>0</td>\n",
              "      <td>0.809017</td>\n",
              "      <td>0.0</td>\n",
              "      <td>0.0</td>\n",
              "    </tr>\n",
              "  </tbody>\n",
              "</table>\n",
              "<p>5 rows × 22 columns</p>\n",
              "</div>\n",
              "      <button class=\"colab-df-convert\" onclick=\"convertToInteractive('df-a83b3686-46a5-425e-9805-fc076828ce8c')\"\n",
              "              title=\"Convert this dataframe to an interactive table.\"\n",
              "              style=\"display:none;\">\n",
              "        \n",
              "  <svg xmlns=\"http://www.w3.org/2000/svg\" height=\"24px\"viewBox=\"0 0 24 24\"\n",
              "       width=\"24px\">\n",
              "    <path d=\"M0 0h24v24H0V0z\" fill=\"none\"/>\n",
              "    <path d=\"M18.56 5.44l.94 2.06.94-2.06 2.06-.94-2.06-.94-.94-2.06-.94 2.06-2.06.94zm-11 1L8.5 8.5l.94-2.06 2.06-.94-2.06-.94L8.5 2.5l-.94 2.06-2.06.94zm10 10l.94 2.06.94-2.06 2.06-.94-2.06-.94-.94-2.06-.94 2.06-2.06.94z\"/><path d=\"M17.41 7.96l-1.37-1.37c-.4-.4-.92-.59-1.43-.59-.52 0-1.04.2-1.43.59L10.3 9.45l-7.72 7.72c-.78.78-.78 2.05 0 2.83L4 21.41c.39.39.9.59 1.41.59.51 0 1.02-.2 1.41-.59l7.78-7.78 2.81-2.81c.8-.78.8-2.07 0-2.86zM5.41 20L4 18.59l7.72-7.72 1.47 1.35L5.41 20z\"/>\n",
              "  </svg>\n",
              "      </button>\n",
              "      \n",
              "  <style>\n",
              "    .colab-df-container {\n",
              "      display:flex;\n",
              "      flex-wrap:wrap;\n",
              "      gap: 12px;\n",
              "    }\n",
              "\n",
              "    .colab-df-convert {\n",
              "      background-color: #E8F0FE;\n",
              "      border: none;\n",
              "      border-radius: 50%;\n",
              "      cursor: pointer;\n",
              "      display: none;\n",
              "      fill: #1967D2;\n",
              "      height: 32px;\n",
              "      padding: 0 0 0 0;\n",
              "      width: 32px;\n",
              "    }\n",
              "\n",
              "    .colab-df-convert:hover {\n",
              "      background-color: #E2EBFA;\n",
              "      box-shadow: 0px 1px 2px rgba(60, 64, 67, 0.3), 0px 1px 3px 1px rgba(60, 64, 67, 0.15);\n",
              "      fill: #174EA6;\n",
              "    }\n",
              "\n",
              "    [theme=dark] .colab-df-convert {\n",
              "      background-color: #3B4455;\n",
              "      fill: #D2E3FC;\n",
              "    }\n",
              "\n",
              "    [theme=dark] .colab-df-convert:hover {\n",
              "      background-color: #434B5C;\n",
              "      box-shadow: 0px 1px 3px 1px rgba(0, 0, 0, 0.15);\n",
              "      filter: drop-shadow(0px 1px 2px rgba(0, 0, 0, 0.3));\n",
              "      fill: #FFFFFF;\n",
              "    }\n",
              "  </style>\n",
              "\n",
              "      <script>\n",
              "        const buttonEl =\n",
              "          document.querySelector('#df-a83b3686-46a5-425e-9805-fc076828ce8c button.colab-df-convert');\n",
              "        buttonEl.style.display =\n",
              "          google.colab.kernel.accessAllowed ? 'block' : 'none';\n",
              "\n",
              "        async function convertToInteractive(key) {\n",
              "          const element = document.querySelector('#df-a83b3686-46a5-425e-9805-fc076828ce8c');\n",
              "          const dataTable =\n",
              "            await google.colab.kernel.invokeFunction('convertToInteractive',\n",
              "                                                     [key], {});\n",
              "          if (!dataTable) return;\n",
              "\n",
              "          const docLinkHtml = 'Like what you see? Visit the ' +\n",
              "            '<a target=\"_blank\" href=https://colab.research.google.com/notebooks/data_table.ipynb>data table notebook</a>'\n",
              "            + ' to learn more about interactive tables.';\n",
              "          element.innerHTML = '';\n",
              "          dataTable['output_type'] = 'display_data';\n",
              "          await google.colab.output.renderOutput(dataTable, element);\n",
              "          const docLink = document.createElement('div');\n",
              "          docLink.innerHTML = docLinkHtml;\n",
              "          element.appendChild(docLink);\n",
              "        }\n",
              "      </script>\n",
              "    </div>\n",
              "  </div>\n",
              "  "
            ]
          },
          "metadata": {},
          "execution_count": 6
        }
      ],
      "source": [
        "df.head() # vendo os dados"
      ]
    },
    {
      "cell_type": "code",
      "execution_count": 7,
      "metadata": {
        "id": "AVu4WZfRq4BH"
      },
      "outputs": [],
      "source": [
        "df = df.drop(columns = ['Unnamed: 0'])"
      ]
    },
    {
      "cell_type": "code",
      "execution_count": 8,
      "metadata": {
        "colab": {
          "base_uri": "https://localhost:8080/",
          "height": 386
        },
        "id": "Ie9KTJgwq81Q",
        "outputId": "2f0de69c-e3b7-43f9-a943-cc72ee4123aa"
      },
      "outputs": [
        {
          "output_type": "execute_result",
          "data": {
            "text/plain": [
              "   store  day_of_week        date  sales  customers  promo  \\\n",
              "0   1115            4  2013-01-03   4297        300      0   \n",
              "1   1114            4  2013-01-03  18463       3211      0   \n",
              "2   1113            4  2013-01-03   5563        718      0   \n",
              "3   1112            4  2013-01-03   8716        809      0   \n",
              "4   1111            4  2013-01-03   4579        444      0   \n",
              "\n",
              "   competition_distance  competition_open_since_year  promo2  \\\n",
              "0                5350.0                         2013       1   \n",
              "1                 870.0                         2013       0   \n",
              "2                9260.0                         2013       0   \n",
              "3                1880.0                         2006       0   \n",
              "4                1900.0                         2014       1   \n",
              "\n",
              "   promo2_since_year  ...  year  week_year  promo_time_week  Total_dias  \\\n",
              "0               2012  ...  2013          1               32         3.0   \n",
              "1               2013  ...  2013          1                0         3.0   \n",
              "2               2013  ...  2013          1                0         3.0   \n",
              "3               2013  ...  2013          1                0         3.0   \n",
              "4               2013  ...  2013          1              -30         3.0   \n",
              "\n",
              "   store_type_a  store_type_b  store_type_c   day_cos  holiday  assortment  \n",
              "0             0             0             0  0.809017      0.0         1.0  \n",
              "1             1             0             0  0.809017      0.0         1.0  \n",
              "2             1             0             0  0.809017      0.0         1.0  \n",
              "3             0             0             1  0.809017      0.0         1.0  \n",
              "4             1             0             0  0.809017      0.0         0.0  \n",
              "\n",
              "[5 rows x 21 columns]"
            ],
            "text/html": [
              "\n",
              "  <div id=\"df-380d651e-fe6e-49ad-9904-18ff4c3d7909\">\n",
              "    <div class=\"colab-df-container\">\n",
              "      <div>\n",
              "<style scoped>\n",
              "    .dataframe tbody tr th:only-of-type {\n",
              "        vertical-align: middle;\n",
              "    }\n",
              "\n",
              "    .dataframe tbody tr th {\n",
              "        vertical-align: top;\n",
              "    }\n",
              "\n",
              "    .dataframe thead th {\n",
              "        text-align: right;\n",
              "    }\n",
              "</style>\n",
              "<table border=\"1\" class=\"dataframe\">\n",
              "  <thead>\n",
              "    <tr style=\"text-align: right;\">\n",
              "      <th></th>\n",
              "      <th>store</th>\n",
              "      <th>day_of_week</th>\n",
              "      <th>date</th>\n",
              "      <th>sales</th>\n",
              "      <th>customers</th>\n",
              "      <th>promo</th>\n",
              "      <th>competition_distance</th>\n",
              "      <th>competition_open_since_year</th>\n",
              "      <th>promo2</th>\n",
              "      <th>promo2_since_year</th>\n",
              "      <th>...</th>\n",
              "      <th>year</th>\n",
              "      <th>week_year</th>\n",
              "      <th>promo_time_week</th>\n",
              "      <th>Total_dias</th>\n",
              "      <th>store_type_a</th>\n",
              "      <th>store_type_b</th>\n",
              "      <th>store_type_c</th>\n",
              "      <th>day_cos</th>\n",
              "      <th>holiday</th>\n",
              "      <th>assortment</th>\n",
              "    </tr>\n",
              "  </thead>\n",
              "  <tbody>\n",
              "    <tr>\n",
              "      <th>0</th>\n",
              "      <td>1115</td>\n",
              "      <td>4</td>\n",
              "      <td>2013-01-03</td>\n",
              "      <td>4297</td>\n",
              "      <td>300</td>\n",
              "      <td>0</td>\n",
              "      <td>5350.0</td>\n",
              "      <td>2013</td>\n",
              "      <td>1</td>\n",
              "      <td>2012</td>\n",
              "      <td>...</td>\n",
              "      <td>2013</td>\n",
              "      <td>1</td>\n",
              "      <td>32</td>\n",
              "      <td>3.0</td>\n",
              "      <td>0</td>\n",
              "      <td>0</td>\n",
              "      <td>0</td>\n",
              "      <td>0.809017</td>\n",
              "      <td>0.0</td>\n",
              "      <td>1.0</td>\n",
              "    </tr>\n",
              "    <tr>\n",
              "      <th>1</th>\n",
              "      <td>1114</td>\n",
              "      <td>4</td>\n",
              "      <td>2013-01-03</td>\n",
              "      <td>18463</td>\n",
              "      <td>3211</td>\n",
              "      <td>0</td>\n",
              "      <td>870.0</td>\n",
              "      <td>2013</td>\n",
              "      <td>0</td>\n",
              "      <td>2013</td>\n",
              "      <td>...</td>\n",
              "      <td>2013</td>\n",
              "      <td>1</td>\n",
              "      <td>0</td>\n",
              "      <td>3.0</td>\n",
              "      <td>1</td>\n",
              "      <td>0</td>\n",
              "      <td>0</td>\n",
              "      <td>0.809017</td>\n",
              "      <td>0.0</td>\n",
              "      <td>1.0</td>\n",
              "    </tr>\n",
              "    <tr>\n",
              "      <th>2</th>\n",
              "      <td>1113</td>\n",
              "      <td>4</td>\n",
              "      <td>2013-01-03</td>\n",
              "      <td>5563</td>\n",
              "      <td>718</td>\n",
              "      <td>0</td>\n",
              "      <td>9260.0</td>\n",
              "      <td>2013</td>\n",
              "      <td>0</td>\n",
              "      <td>2013</td>\n",
              "      <td>...</td>\n",
              "      <td>2013</td>\n",
              "      <td>1</td>\n",
              "      <td>0</td>\n",
              "      <td>3.0</td>\n",
              "      <td>1</td>\n",
              "      <td>0</td>\n",
              "      <td>0</td>\n",
              "      <td>0.809017</td>\n",
              "      <td>0.0</td>\n",
              "      <td>1.0</td>\n",
              "    </tr>\n",
              "    <tr>\n",
              "      <th>3</th>\n",
              "      <td>1112</td>\n",
              "      <td>4</td>\n",
              "      <td>2013-01-03</td>\n",
              "      <td>8716</td>\n",
              "      <td>809</td>\n",
              "      <td>0</td>\n",
              "      <td>1880.0</td>\n",
              "      <td>2006</td>\n",
              "      <td>0</td>\n",
              "      <td>2013</td>\n",
              "      <td>...</td>\n",
              "      <td>2013</td>\n",
              "      <td>1</td>\n",
              "      <td>0</td>\n",
              "      <td>3.0</td>\n",
              "      <td>0</td>\n",
              "      <td>0</td>\n",
              "      <td>1</td>\n",
              "      <td>0.809017</td>\n",
              "      <td>0.0</td>\n",
              "      <td>1.0</td>\n",
              "    </tr>\n",
              "    <tr>\n",
              "      <th>4</th>\n",
              "      <td>1111</td>\n",
              "      <td>4</td>\n",
              "      <td>2013-01-03</td>\n",
              "      <td>4579</td>\n",
              "      <td>444</td>\n",
              "      <td>0</td>\n",
              "      <td>1900.0</td>\n",
              "      <td>2014</td>\n",
              "      <td>1</td>\n",
              "      <td>2013</td>\n",
              "      <td>...</td>\n",
              "      <td>2013</td>\n",
              "      <td>1</td>\n",
              "      <td>-30</td>\n",
              "      <td>3.0</td>\n",
              "      <td>1</td>\n",
              "      <td>0</td>\n",
              "      <td>0</td>\n",
              "      <td>0.809017</td>\n",
              "      <td>0.0</td>\n",
              "      <td>0.0</td>\n",
              "    </tr>\n",
              "  </tbody>\n",
              "</table>\n",
              "<p>5 rows × 21 columns</p>\n",
              "</div>\n",
              "      <button class=\"colab-df-convert\" onclick=\"convertToInteractive('df-380d651e-fe6e-49ad-9904-18ff4c3d7909')\"\n",
              "              title=\"Convert this dataframe to an interactive table.\"\n",
              "              style=\"display:none;\">\n",
              "        \n",
              "  <svg xmlns=\"http://www.w3.org/2000/svg\" height=\"24px\"viewBox=\"0 0 24 24\"\n",
              "       width=\"24px\">\n",
              "    <path d=\"M0 0h24v24H0V0z\" fill=\"none\"/>\n",
              "    <path d=\"M18.56 5.44l.94 2.06.94-2.06 2.06-.94-2.06-.94-.94-2.06-.94 2.06-2.06.94zm-11 1L8.5 8.5l.94-2.06 2.06-.94-2.06-.94L8.5 2.5l-.94 2.06-2.06.94zm10 10l.94 2.06.94-2.06 2.06-.94-2.06-.94-.94-2.06-.94 2.06-2.06.94z\"/><path d=\"M17.41 7.96l-1.37-1.37c-.4-.4-.92-.59-1.43-.59-.52 0-1.04.2-1.43.59L10.3 9.45l-7.72 7.72c-.78.78-.78 2.05 0 2.83L4 21.41c.39.39.9.59 1.41.59.51 0 1.02-.2 1.41-.59l7.78-7.78 2.81-2.81c.8-.78.8-2.07 0-2.86zM5.41 20L4 18.59l7.72-7.72 1.47 1.35L5.41 20z\"/>\n",
              "  </svg>\n",
              "      </button>\n",
              "      \n",
              "  <style>\n",
              "    .colab-df-container {\n",
              "      display:flex;\n",
              "      flex-wrap:wrap;\n",
              "      gap: 12px;\n",
              "    }\n",
              "\n",
              "    .colab-df-convert {\n",
              "      background-color: #E8F0FE;\n",
              "      border: none;\n",
              "      border-radius: 50%;\n",
              "      cursor: pointer;\n",
              "      display: none;\n",
              "      fill: #1967D2;\n",
              "      height: 32px;\n",
              "      padding: 0 0 0 0;\n",
              "      width: 32px;\n",
              "    }\n",
              "\n",
              "    .colab-df-convert:hover {\n",
              "      background-color: #E2EBFA;\n",
              "      box-shadow: 0px 1px 2px rgba(60, 64, 67, 0.3), 0px 1px 3px 1px rgba(60, 64, 67, 0.15);\n",
              "      fill: #174EA6;\n",
              "    }\n",
              "\n",
              "    [theme=dark] .colab-df-convert {\n",
              "      background-color: #3B4455;\n",
              "      fill: #D2E3FC;\n",
              "    }\n",
              "\n",
              "    [theme=dark] .colab-df-convert:hover {\n",
              "      background-color: #434B5C;\n",
              "      box-shadow: 0px 1px 3px 1px rgba(0, 0, 0, 0.15);\n",
              "      filter: drop-shadow(0px 1px 2px rgba(0, 0, 0, 0.3));\n",
              "      fill: #FFFFFF;\n",
              "    }\n",
              "  </style>\n",
              "\n",
              "      <script>\n",
              "        const buttonEl =\n",
              "          document.querySelector('#df-380d651e-fe6e-49ad-9904-18ff4c3d7909 button.colab-df-convert');\n",
              "        buttonEl.style.display =\n",
              "          google.colab.kernel.accessAllowed ? 'block' : 'none';\n",
              "\n",
              "        async function convertToInteractive(key) {\n",
              "          const element = document.querySelector('#df-380d651e-fe6e-49ad-9904-18ff4c3d7909');\n",
              "          const dataTable =\n",
              "            await google.colab.kernel.invokeFunction('convertToInteractive',\n",
              "                                                     [key], {});\n",
              "          if (!dataTable) return;\n",
              "\n",
              "          const docLinkHtml = 'Like what you see? Visit the ' +\n",
              "            '<a target=\"_blank\" href=https://colab.research.google.com/notebooks/data_table.ipynb>data table notebook</a>'\n",
              "            + ' to learn more about interactive tables.';\n",
              "          element.innerHTML = '';\n",
              "          dataTable['output_type'] = 'display_data';\n",
              "          await google.colab.output.renderOutput(dataTable, element);\n",
              "          const docLink = document.createElement('div');\n",
              "          docLink.innerHTML = docLinkHtml;\n",
              "          element.appendChild(docLink);\n",
              "        }\n",
              "      </script>\n",
              "    </div>\n",
              "  </div>\n",
              "  "
            ]
          },
          "metadata": {},
          "execution_count": 8
        }
      ],
      "source": [
        "df.head()"
      ]
    },
    {
      "cell_type": "code",
      "execution_count": 9,
      "metadata": {
        "id": "juxjBe6-jf1P"
      },
      "outputs": [],
      "source": [
        "df['date'] = pd.to_datetime(df['date'])"
      ]
    },
    {
      "cell_type": "code",
      "execution_count": 10,
      "metadata": {
        "id": "RAZj74nSBSAA"
      },
      "outputs": [],
      "source": [
        "df.index = np.arange(df.shape[0])"
      ]
    },
    {
      "cell_type": "markdown",
      "metadata": {
        "id": "XLFzZ8ArpU5j"
      },
      "source": [
        "# Valor MAPE do modelo padrão"
      ]
    },
    {
      "cell_type": "code",
      "execution_count": null,
      "metadata": {
        "id": "kM2w_hr3qh_v"
      },
      "outputs": [],
      "source": [
        "model    = RandomForestRegressor(n_estimators = 10,random_state = 10) "
      ]
    },
    {
      "cell_type": "code",
      "execution_count": null,
      "metadata": {
        "id": "cSpNIXULpcD5"
      },
      "outputs": [],
      "source": [
        "X ,Y,Date = dados_teste_val(df)"
      ]
    },
    {
      "cell_type": "code",
      "execution_count": null,
      "metadata": {
        "colab": {
          "base_uri": "https://localhost:8080/"
        },
        "id": "ImEj8rgSqIlf",
        "outputId": "c8a55f6a-aae4-4ff8-b444-231f472ed8c9"
      },
      "outputs": [
        {
          "output_type": "execute_result",
          "data": {
            "text/plain": [
              "5.796533580972606"
            ]
          },
          "metadata": {},
          "execution_count": 14
        }
      ],
      "source": [
        "validation(X,Y,'sales','normal',Date,model)"
      ]
    },
    {
      "cell_type": "markdown",
      "metadata": {
        "id": "n0fNfHUXp8A_"
      },
      "source": [
        "# Tuning dos modelos\n",
        " \n",
        " \n",
        " \n",
        " \n"
      ]
    },
    {
      "cell_type": "markdown",
      "metadata": {
        "id": "_uyMWsWmRuix"
      },
      "source": [
        "### Random Forest."
      ]
    },
    {
      "cell_type": "code",
      "execution_count": null,
      "metadata": {
        "id": "SW3PyEK7BkKa"
      },
      "outputs": [],
      "source": [
        "X ,Y,Date = dados_teste_val(df)"
      ]
    },
    {
      "cell_type": "code",
      "execution_count": null,
      "metadata": {
        "id": "suJSrvw5kGVx"
      },
      "outputs": [],
      "source": [
        "space = [(1,25), # max_depth\n",
        "        (10,200),  #n_estimator\n",
        "        (2,18)]   #max_features\n"
      ]
    },
    {
      "cell_type": "code",
      "execution_count": null,
      "metadata": {
        "id": "LvIt7gyi8chX"
      },
      "outputs": [],
      "source": [
        "#X.columns"
      ]
    },
    {
      "cell_type": "code",
      "execution_count": null,
      "metadata": {
        "colab": {
          "base_uri": "https://localhost:8080/"
        },
        "id": "kES5dSfukjlv",
        "outputId": "2563b396-83c4-443a-b18c-bde509c7a7b0"
      },
      "outputs": [
        {
          "name": "stdout",
          "output_type": "stream",
          "text": [
            "Iteration No: 1 started. Evaluating function at random point.\n",
            "max_depth: 16\n",
            "n_estimators: 31\n",
            "max_features: 13\n",
            "Iteration No: 1 ended. Evaluation done at random point.\n",
            "Time taken: 369.5704\n",
            "Function value obtained: 6.8512\n",
            "Current minimum: 6.8512\n",
            "Iteration No: 2 started. Evaluating function at random point.\n",
            "max_depth: 4\n",
            "n_estimators: 121\n",
            "max_features: 4\n",
            "Iteration No: 2 ended. Evaluation done at random point.\n",
            "Time taken: 175.2183\n",
            "Function value obtained: 20.2651\n",
            "Current minimum: 6.8512\n",
            "Iteration No: 3 started. Evaluating function at random point.\n",
            "max_depth: 5\n",
            "n_estimators: 183\n",
            "max_features: 4\n",
            "Iteration No: 3 ended. Evaluation done at random point.\n",
            "Time taken: 322.3107\n",
            "Function value obtained: 18.8393\n",
            "Current minimum: 6.8512\n",
            "Iteration No: 4 started. Evaluating function at random point.\n",
            "max_depth: 13\n",
            "n_estimators: 110\n",
            "max_features: 15\n",
            "Iteration No: 4 ended. Evaluation done at random point.\n",
            "Time taken: 1300.7174\n",
            "Function value obtained: 8.7122\n",
            "Current minimum: 6.8512\n",
            "Iteration No: 5 started. Evaluating function at random point.\n",
            "max_depth: 11\n",
            "n_estimators: 63\n",
            "max_features: 6\n",
            "Iteration No: 5 ended. Evaluation done at random point.\n",
            "Time taken: 294.3593\n",
            "Function value obtained: 10.7988\n",
            "Current minimum: 6.8512\n",
            "Iteration No: 6 started. Evaluating function at random point.\n",
            "max_depth: 11\n",
            "n_estimators: 191\n",
            "max_features: 16\n",
            "Iteration No: 6 ended. Evaluation done at random point.\n",
            "Time taken: 2128.1519\n",
            "Function value obtained: 10.2973\n",
            "Current minimum: 6.8512\n",
            "Iteration No: 7 started. Evaluating function at random point.\n",
            "max_depth: 21\n",
            "n_estimators: 91\n",
            "max_features: 12\n",
            "Iteration No: 7 ended. Evaluation done at random point.\n",
            "Time taken: 1260.8467\n",
            "Function value obtained: 5.4961\n",
            "Current minimum: 5.4961\n",
            "Iteration No: 8 started. Evaluating function at random point.\n",
            "max_depth: 15\n",
            "n_estimators: 139\n",
            "max_features: 5\n",
            "Iteration No: 8 ended. Evaluation done at random point.\n",
            "Time taken: 705.1359\n",
            "Function value obtained: 8.2687\n",
            "Current minimum: 5.4961\n",
            "Iteration No: 9 started. Evaluating function at random point.\n",
            "max_depth: 15\n",
            "n_estimators: 127\n",
            "max_features: 5\n",
            "Iteration No: 9 ended. Evaluation done at random point.\n",
            "Time taken: 641.0871\n",
            "Function value obtained: 8.2656\n",
            "Current minimum: 5.4961\n",
            "Iteration No: 10 started. Evaluating function at random point.\n",
            "max_depth: 10\n",
            "n_estimators: 28\n",
            "max_features: 11\n",
            "Iteration No: 10 ended. Evaluation done at random point.\n",
            "Time taken: 211.7140\n",
            "Function value obtained: 11.0141\n",
            "Current minimum: 5.4961\n",
            "Iteration No: 11 started. Searching for the next optimal point.\n",
            "max_depth: 25\n",
            "n_estimators: 10\n",
            "max_features: 18\n",
            "Iteration No: 11 ended. Search finished for the next optimal point.\n",
            "Time taken: 233.3070\n",
            "Function value obtained: 5.8214\n",
            "Current minimum: 5.4961\n",
            "Iteration No: 12 started. Searching for the next optimal point.\n",
            "max_depth: 25\n",
            "n_estimators: 10\n",
            "max_features: 2\n",
            "Iteration No: 12 ended. Search finished for the next optimal point.\n",
            "Time taken: 46.5910\n",
            "Function value obtained: 8.1085\n",
            "Current minimum: 5.4961\n",
            "Iteration No: 13 started. Searching for the next optimal point.\n",
            "max_depth: 22\n",
            "n_estimators: 77\n",
            "max_features: 13\n",
            "Iteration No: 13 ended. Search finished for the next optimal point.\n",
            "Time taken: 1211.7712\n",
            "Function value obtained: 5.4420\n",
            "Current minimum: 5.4420\n",
            "Iteration No: 14 started. Searching for the next optimal point.\n",
            "max_depth: 22\n",
            "n_estimators: 10\n",
            "max_features: 15\n",
            "Iteration No: 14 ended. Search finished for the next optimal point.\n",
            "Time taken: 176.7927\n",
            "Function value obtained: 5.7879\n",
            "Current minimum: 5.4420\n",
            "Iteration No: 15 started. Searching for the next optimal point.\n",
            "max_depth: 25\n",
            "n_estimators: 200\n",
            "max_features: 12\n",
            "Iteration No: 15 ended. Search finished for the next optimal point.\n",
            "Time taken: 3192.6946\n",
            "Function value obtained: 5.3124\n",
            "Current minimum: 5.3124\n",
            "Iteration No: 16 started. Searching for the next optimal point.\n",
            "max_depth: 24\n",
            "n_estimators: 178\n",
            "max_features: 18\n",
            "Iteration No: 16 ended. Search finished for the next optimal point.\n",
            "Time taken: 4035.3489\n",
            "Function value obtained: 5.4989\n",
            "Current minimum: 5.3124\n"
          ]
        }
      ],
      "source": [
        "res1 = gp_minimize(Tuning_RF, space, random_state=40, n_calls=16, verbose=1)"
      ]
    },
    {
      "cell_type": "code",
      "execution_count": null,
      "metadata": {
        "colab": {
          "base_uri": "https://localhost:8080/"
        },
        "id": "2iQd4UrVmMxC",
        "outputId": "d3ae86c5-420d-4bcd-8ac8-57cfecd7154b"
      },
      "outputs": [
        {
          "name": "stdout",
          "output_type": "stream",
          "text": [
            "Best Value: 5.312410657732713\n",
            "Parâmetros: [25, 200, 12]\n"
          ]
        }
      ],
      "source": [
        "print('Best Value:',res1.fun)\n",
        "print('Parâmetros:',res1.x)"
      ]
    },
    {
      "cell_type": "markdown",
      "metadata": {
        "id": "hq3A1EFHIxFO"
      },
      "source": [
        "* Aumentando o número de arvores para ver o desepenho do modelo."
      ]
    },
    {
      "cell_type": "code",
      "execution_count": null,
      "metadata": {
        "colab": {
          "base_uri": "https://localhost:8080/"
        },
        "id": "uhIJqg3EruRY",
        "outputId": "fa1909f6-5acd-419a-df69-067d059d3891"
      },
      "outputs": [
        {
          "name": "stdout",
          "output_type": "stream",
          "text": [
            "Data do inicio do treinamento: 2013-01-03 Data do final do treinamento : 2014-11-19\n",
            "Data do inicio do Validação  : 2014-11-20 Data do final do Validação   : 2015-01-01\n",
            "MAPE:  6.91207\n",
            "RMSLE: 0.00770\n",
            "RMSE:  798.65639\n",
            "Data do inicio do treinamento: 2013-01-03 Data do final do treinamento : 2014-12-31\n",
            "Data do inicio do Validação  : 2015-01-01 Data do final do Validação   : 2015-02-12\n",
            "MAPE:  4.90085\n",
            "RMSLE: 0.00424\n",
            "RMSE:  464.28865\n",
            "Data do inicio do treinamento: 2013-01-03 Data do final do treinamento : 2015-02-11\n",
            "Data do inicio do Validação  : 2015-02-12 Data do final do Validação   : 2015-03-26\n",
            "MAPE:  4.48690\n",
            "RMSLE: 0.00332\n",
            "RMSE:  381.37186\n",
            "Data do inicio do treinamento: 2013-01-03 Data do final do treinamento : 2015-03-25\n",
            "Data do inicio do Validação  : 2015-03-26 Data do final do Validação   : 2015-05-07\n",
            "MAPE:  5.39674\n",
            "RMSLE: 0.00490\n",
            "RMSE:  629.24675\n",
            "Data do inicio do treinamento: 2013-01-03 Data do final do treinamento : 2015-05-06\n",
            "Data do inicio do Validação  : 2015-05-07 Data do final do Validação   : 2015-06-18\n",
            "MAPE:  4.86550\n",
            "RMSLE: 0.00388\n",
            "RMSE:  473.23729\n",
            "Mape Geral:  5.31241 Std: 0.85048 Erro: 0.38035\n",
            "Rmsle Geral: 0.00481 Std: 0.00153 Erro: 0.00069\n",
            "Rmse Geral:  549.36019 Std: 148.17719 Erro: 66.26685\n"
          ]
        }
      ],
      "source": [
        "model                                = RandomForestRegressor(max_depth = 25 ,n_estimators = 200,max_features = 12,random_state = 42) \n",
        "vetor_MAPE1,vetor_MSLR1,vetor_RMSE1  = validation1(X,Y,'sales','normal',Date,model)"
      ]
    },
    {
      "cell_type": "markdown",
      "metadata": {
        "id": "nEiflhEEr0um"
      },
      "source": [
        "### LGBM\n",
        "\n"
      ]
    },
    {
      "cell_type": "code",
      "execution_count": null,
      "metadata": {
        "colab": {
          "base_uri": "https://localhost:8080/"
        },
        "id": "efFl68ehmMy1",
        "outputId": "54f5dab3-de59-492b-f886-6614d50afc58"
      },
      "outputs": [
        {
          "name": "stdout",
          "output_type": "stream",
          "text": [
            "Iteration No: 1 started. Evaluating function at random point.\n",
            "lr: 0.05969161720427683\n",
            "max_depth: 9\n",
            "n_estimators: 872\n",
            "colsample_bytree: 1\n",
            "reg_lambda: 0.0006235636967859725\n",
            "reg_alpha: 0.00038438170729269993\n",
            "Iteration No: 1 ended. Evaluation done at random point.\n",
            "Time taken: 633.0245\n",
            "Function value obtained: 4.8908\n",
            "Current minimum: 4.8908\n",
            "Iteration No: 2 started. Evaluating function at random point.\n",
            "lr: 0.030455926047902763\n",
            "max_depth: 2\n",
            "n_estimators: 345\n",
            "colsample_bytree: 0\n",
            "reg_lambda: 0.0008121687287754935\n",
            "reg_alpha: 0.00047997717237505745\n",
            "Iteration No: 2 ended. Evaluation done at random point.\n",
            "Time taken: 52.0979\n",
            "Function value obtained: 12.1630\n",
            "Current minimum: 4.8908\n",
            "Iteration No: 3 started. Evaluating function at random point.\n",
            "lr: 0.03988569481398216\n",
            "max_depth: 9\n",
            "n_estimators: 404\n",
            "colsample_bytree: 1\n",
            "reg_lambda: 0.000368241539840548\n",
            "reg_alpha: 0.0009571551589530466\n",
            "Iteration No: 3 ended. Evaluation done at random point.\n",
            "Time taken: 356.1424\n",
            "Function value obtained: 5.3896\n",
            "Current minimum: 4.8908\n",
            "Iteration No: 4 started. Evaluating function at random point.\n",
            "lr: 0.014894727260851875\n",
            "max_depth: 9\n",
            "n_estimators: 526\n",
            "colsample_bytree: 1\n",
            "reg_lambda: 0.0005204774795512049\n",
            "reg_alpha: 0.0006788795301189604\n",
            "Iteration No: 4 ended. Evaluation done at random point.\n",
            "Time taken: 522.1017\n",
            "Function value obtained: 6.7053\n",
            "Current minimum: 4.8908\n",
            "Iteration No: 5 started. Evaluating function at random point.\n",
            "lr: 0.07234263281786578\n",
            "max_depth: 6\n",
            "n_estimators: 584\n",
            "colsample_bytree: 1\n",
            "reg_lambda: 0.00010590760718779217\n",
            "reg_alpha: 0.0004736004193466575\n",
            "Iteration No: 5 ended. Evaluation done at random point.\n",
            "Time taken: 198.3493\n",
            "Function value obtained: 5.5560\n",
            "Current minimum: 4.8908\n",
            "Iteration No: 6 started. Evaluating function at random point.\n",
            "lr: 0.01944690198934924\n",
            "max_depth: 8\n",
            "n_estimators: 295\n",
            "colsample_bytree: 0\n",
            "reg_lambda: 0.00032414100779321417\n",
            "reg_alpha: 0.0001496748671836832\n",
            "Iteration No: 6 ended. Evaluation done at random point.\n",
            "Time taken: 224.0921\n",
            "Function value obtained: 8.2512\n",
            "Current minimum: 4.8908\n",
            "Iteration No: 7 started. Evaluating function at random point.\n",
            "lr: 0.023009817436907186\n",
            "max_depth: 4\n",
            "n_estimators: 912\n",
            "colsample_bytree: 0\n",
            "reg_lambda: 0.0006130634578841326\n",
            "reg_alpha: 0.0009023485831739844\n",
            "Iteration No: 7 ended. Evaluation done at random point.\n",
            "Time taken: 203.5396\n",
            "Function value obtained: 9.0245\n",
            "Current minimum: 4.8908\n",
            "Iteration No: 8 started. Evaluating function at random point.\n",
            "lr: 0.010828754685538417\n",
            "max_depth: 10\n",
            "n_estimators: 688\n",
            "colsample_bytree: 0\n",
            "reg_lambda: 0.00035815216696952505\n",
            "reg_alpha: 0.0007506861412184565\n",
            "Iteration No: 8 ended. Evaluation done at random point.\n",
            "Time taken: 994.3424\n",
            "Function value obtained: 6.2134\n",
            "Current minimum: 4.8908\n",
            "Iteration No: 9 started. Evaluating function at random point.\n",
            "lr: 0.06117523620283132\n",
            "max_depth: 4\n",
            "n_estimators: 135\n",
            "colsample_bytree: 1\n",
            "reg_lambda: 0.0009589492686245206\n",
            "reg_alpha: 0.000652790317005491\n",
            "Iteration No: 9 ended. Evaluation done at random point.\n",
            "Time taken: 36.1668\n",
            "Function value obtained: 10.5869\n",
            "Current minimum: 4.8908\n",
            "Iteration No: 10 started. Evaluating function at random point.\n",
            "lr: 0.06387082848675284\n",
            "max_depth: 10\n",
            "n_estimators: 624\n",
            "colsample_bytree: 0\n",
            "reg_lambda: 0.000474697502288413\n",
            "reg_alpha: 0.0006235101011318684\n",
            "Iteration No: 10 ended. Evaluation done at random point.\n",
            "Time taken: 626.4431\n",
            "Function value obtained: 4.8401\n",
            "Current minimum: 4.8401\n",
            "Iteration No: 11 started. Searching for the next optimal point.\n",
            "lr: 0.1\n",
            "max_depth: 10\n",
            "n_estimators: 1000\n",
            "colsample_bytree: 1\n",
            "reg_lambda: 0.0\n",
            "reg_alpha: 0.001\n",
            "Iteration No: 11 ended. Search finished for the next optimal point.\n",
            "Time taken: 875.4958\n",
            "Function value obtained: 4.8350\n",
            "Current minimum: 4.8350\n",
            "Iteration No: 12 started. Searching for the next optimal point.\n",
            "lr: 0.07050672582272845\n",
            "max_depth: 9\n",
            "n_estimators: 855\n",
            "colsample_bytree: 1\n",
            "reg_lambda: 0.00039939957529561544\n",
            "reg_alpha: 0.0006803520566543689\n",
            "Iteration No: 12 ended. Search finished for the next optimal point.\n",
            "Time taken: 616.4897\n",
            "Function value obtained: 4.8293\n",
            "Current minimum: 4.8293\n",
            "Iteration No: 13 started. Searching for the next optimal point.\n",
            "lr: 0.05686099919117913\n",
            "max_depth: 10\n",
            "n_estimators: 671\n",
            "colsample_bytree: 1\n",
            "reg_lambda: 0.00037619269877128396\n",
            "reg_alpha: 0.0009980586523320577\n",
            "Iteration No: 13 ended. Search finished for the next optimal point.\n",
            "Time taken: 686.2353\n",
            "Function value obtained: 4.8668\n",
            "Current minimum: 4.8293\n",
            "Iteration No: 14 started. Searching for the next optimal point.\n",
            "lr: 0.07743706384291957\n",
            "max_depth: 8\n",
            "n_estimators: 785\n",
            "colsample_bytree: 1\n",
            "reg_lambda: 0.00016112456955703384\n",
            "reg_alpha: 0.0009029192436110881\n",
            "Iteration No: 14 ended. Search finished for the next optimal point.\n",
            "Time taken: 432.7480\n",
            "Function value obtained: 5.0281\n",
            "Current minimum: 4.8293\n",
            "Iteration No: 15 started. Searching for the next optimal point.\n",
            "lr: 0.06852505443762769\n",
            "max_depth: 9\n",
            "n_estimators: 877\n",
            "colsample_bytree: 1\n",
            "reg_lambda: 0.000460613386988216\n",
            "reg_alpha: 0.0005621233348565134\n",
            "Iteration No: 15 ended. Search finished for the next optimal point.\n",
            "Time taken: 622.9414\n",
            "Function value obtained: 4.9190\n",
            "Current minimum: 4.8293\n",
            "Iteration No: 16 started. Searching for the next optimal point.\n",
            "lr: 0.1\n",
            "max_depth: 9\n",
            "n_estimators: 1000\n",
            "colsample_bytree: 1\n",
            "reg_lambda: 0.0\n",
            "reg_alpha: 0.0\n",
            "Iteration No: 16 ended. Search finished for the next optimal point.\n",
            "Time taken: 666.8660\n",
            "Function value obtained: 4.8362\n",
            "Current minimum: 4.8293\n",
            "Iteration No: 17 started. Searching for the next optimal point.\n",
            "lr: 0.1\n",
            "max_depth: 10\n",
            "n_estimators: 134\n",
            "colsample_bytree: 1\n",
            "reg_lambda: 0.0\n",
            "reg_alpha: 0.001\n",
            "Iteration No: 17 ended. Search finished for the next optimal point.\n",
            "Time taken: 171.4985\n",
            "Function value obtained: 5.3397\n",
            "Current minimum: 4.8293\n",
            "Iteration No: 18 started. Searching for the next optimal point.\n",
            "lr: 0.1\n",
            "max_depth: 4\n",
            "n_estimators: 1000\n",
            "colsample_bytree: 1\n",
            "reg_lambda: 0.0007478838703380798\n",
            "reg_alpha: 0.0\n",
            "Iteration No: 18 ended. Search finished for the next optimal point.\n",
            "Time taken: 207.8248\n",
            "Function value obtained: 6.1451\n",
            "Current minimum: 4.8293\n",
            "Iteration No: 19 started. Searching for the next optimal point.\n",
            "lr: 0.058881768667621424\n",
            "max_depth: 10\n",
            "n_estimators: 508\n",
            "colsample_bytree: 1\n",
            "reg_lambda: 0.0004220063598132065\n",
            "reg_alpha: 0.0007153673313831469\n",
            "Iteration No: 19 ended. Search finished for the next optimal point.\n",
            "Time taken: 544.5598\n",
            "Function value obtained: 4.9004\n",
            "Current minimum: 4.8293\n",
            "Iteration No: 20 started. Searching for the next optimal point.\n",
            "lr: 0.06330189351750874\n",
            "max_depth: 9\n",
            "n_estimators: 681\n",
            "colsample_bytree: 0\n",
            "reg_lambda: 0.0004866296434084918\n",
            "reg_alpha: 0.0006481493316522177\n",
            "Iteration No: 20 ended. Search finished for the next optimal point.\n",
            "Time taken: 507.4390\n",
            "Function value obtained: 4.8994\n",
            "Current minimum: 4.8293\n"
          ]
        }
      ],
      "source": [
        "space = [(1e-3, 1e-1), # lr\n",
        "          (1, 10),     # max_depth\n",
        "          (100,1000),  # n_estimator\n",
        "          (0,1),       # colsample_bytree\n",
        "          (0,1e-3),    # reg_lambda\n",
        "          (0,1e-3)]    # reg_alpha\n",
        "\n",
        "res2 = gp_minimize(Tuning_LGBM, space, random_state=0, n_calls=20, verbose=1)\n"
      ]
    },
    {
      "cell_type": "code",
      "execution_count": null,
      "metadata": {
        "colab": {
          "base_uri": "https://localhost:8080/"
        },
        "id": "5xszG_jAqj88",
        "outputId": "f25fd760-522d-4a52-b26a-cd28b6163ae3"
      },
      "outputs": [
        {
          "name": "stdout",
          "output_type": "stream",
          "text": [
            "Best Value: 4.829339632771914\n",
            "Parâmetros: [0.07050672582272845, 9, 855, 1, 0.00039939957529561544, 0.0006803520566543689]\n"
          ]
        }
      ],
      "source": [
        "print('Best Value:',res2.fun)\n",
        "print('Parâmetros:',res2.x)"
      ]
    },
    {
      "cell_type": "code",
      "execution_count": null,
      "metadata": {
        "id": "PCW8miYQVGOV"
      },
      "outputs": [],
      "source": [
        ""
      ]
    },
    {
      "cell_type": "code",
      "execution_count": null,
      "metadata": {
        "id": "m6VmV2XK6vNU"
      },
      "outputs": [],
      "source": [
        "lr = 0.07050672582272845\n",
        "max_depth  = 9\n",
        "n_estimators = 855\n",
        "colsample_bytree = 1\n",
        "lamb             = 0.00039939957529561544\n",
        "alpha            =  0.0006803520566543689\n",
        "\n",
        "model = LGBMRegressor(learning_rate=lr, num_leaves=2 ** max_depth, max_depth=max_depth, \n",
        "                         n_estimators=n_estimators, random_state=40, \n",
        "                         n_jobs=6)\n",
        "\n"
      ]
    },
    {
      "cell_type": "code",
      "execution_count": null,
      "metadata": {
        "colab": {
          "base_uri": "https://localhost:8080/"
        },
        "id": "0LZAqvDD6vSg",
        "outputId": "7f93edbb-06eb-493a-98d8-064fcd1890f0"
      },
      "outputs": [
        {
          "name": "stdout",
          "output_type": "stream",
          "text": [
            "Data do inicio do treinamento: 2013-01-03 Data do final do treinamento : 2014-11-19\n",
            "Data do inicio do Validação  : 2014-11-20 Data do final do Validação   : 2015-01-01\n",
            "MAPE:  5.00496\n",
            "RMSLE: 0.00444\n",
            "RMSE:  547.7933\n",
            "Data do inicio do treinamento: 2013-01-03 Data do final do treinamento : 2014-12-31\n",
            "Data do inicio do Validação  : 2015-01-01 Data do final do Validação   : 2015-02-12\n",
            "MAPE:  4.97095\n",
            "RMSLE: 0.00436\n",
            "RMSE:  455.88904\n",
            "Data do inicio do treinamento: 2013-01-03 Data do final do treinamento : 2015-02-11\n",
            "Data do inicio do Validação  : 2015-02-12 Data do final do Validação   : 2015-03-26\n",
            "MAPE:  4.65856\n",
            "RMSLE: 0.00351\n",
            "RMSE:  386.34936\n",
            "Data do inicio do treinamento: 2013-01-03 Data do final do treinamento : 2015-03-25\n",
            "Data do inicio do Validação  : 2015-03-26 Data do final do Validação   : 2015-05-07\n",
            "MAPE:  5.08405\n",
            "RMSLE: 0.00459\n",
            "RMSE:  581.07289\n",
            "Data do inicio do treinamento: 2013-01-03 Data do final do treinamento : 2015-05-06\n",
            "Data do inicio do Validação  : 2015-05-07 Data do final do Validação   : 2015-06-18\n",
            "MAPE:  4.42782\n",
            "RMSLE: 0.0034\n",
            "RMSE:  426.91927\n",
            "Mape Geral:  4.82927 Std: 0.24745 Erro: 0.11066\n",
            "Rmsle Geral: 0.00406 Std: 0.00050 Erro: 0.00022\n",
            "Rmse Geral:  479.60477 Std: 73.45778 Erro: 32.85132\n"
          ]
        }
      ],
      "source": [
        "vetor_MAPE3,vetor_MSLR3,vetor_RMSE3  = validation1(X,Y,'sales','normal',Date,model)"
      ]
    },
    {
      "cell_type": "markdown",
      "metadata": {
        "id": "rY_rXx4Ay7Ti"
      },
      "source": [
        "### Decision Tree"
      ]
    },
    {
      "cell_type": "code",
      "execution_count": null,
      "metadata": {
        "id": "W77pWXPWsXjg"
      },
      "outputs": [],
      "source": [
        "space = [(1,35),  # max_depth\n",
        "        (2,20),   #min_samples_split\n",
        "        (2,18),   #max_features\n",
        "        (2,20)]  #min_samples_leaf \n"
      ]
    },
    {
      "cell_type": "code",
      "execution_count": null,
      "metadata": {
        "colab": {
          "base_uri": "https://localhost:8080/"
        },
        "id": "sdqJlAruzYyH",
        "outputId": "656ae152-80c9-4fe2-e3bd-6291fca4bf73"
      },
      "outputs": [
        {
          "name": "stdout",
          "output_type": "stream",
          "text": [
            "Iteration No: 1 started. Evaluating function at random point.\n",
            "max_depth: 23\n",
            "min_samples_split: 4\n",
            "max_features: 13\n",
            "min_samples_leaf: 5\n",
            "Iteration No: 1 ended. Evaluation done at random point.\n",
            "Time taken: 19.9904\n",
            "Function value obtained: 7.1044\n",
            "Current minimum: 7.1044\n",
            "Iteration No: 2 started. Evaluating function at random point.\n",
            "max_depth: 21\n",
            "min_samples_split: 4\n",
            "max_features: 5\n",
            "min_samples_leaf: 18\n",
            "Iteration No: 2 ended. Evaluation done at random point.\n",
            "Time taken: 7.8163\n",
            "Function value obtained: 10.1522\n",
            "Current minimum: 7.1044\n",
            "Iteration No: 3 started. Evaluating function at random point.\n",
            "max_depth: 4\n",
            "min_samples_split: 11\n",
            "max_features: 10\n",
            "min_samples_leaf: 17\n",
            "Iteration No: 3 ended. Evaluation done at random point.\n",
            "Time taken: 4.1817\n",
            "Function value obtained: 19.5050\n",
            "Current minimum: 7.1044\n",
            "Iteration No: 4 started. Evaluating function at random point.\n",
            "max_depth: 15\n",
            "min_samples_split: 7\n",
            "max_features: 6\n",
            "min_samples_leaf: 9\n",
            "Iteration No: 4 ended. Evaluation done at random point.\n",
            "Time taken: 8.6752\n",
            "Function value obtained: 10.9157\n",
            "Current minimum: 7.1044\n",
            "Iteration No: 5 started. Evaluating function at random point.\n",
            "max_depth: 33\n",
            "min_samples_split: 18\n",
            "max_features: 15\n",
            "min_samples_leaf: 10\n",
            "Iteration No: 5 ended. Evaluation done at random point.\n",
            "Time taken: 21.0858\n",
            "Function value obtained: 7.0328\n",
            "Current minimum: 7.0328\n",
            "Iteration No: 6 started. Evaluating function at random point.\n",
            "max_depth: 23\n",
            "min_samples_split: 12\n",
            "max_features: 13\n",
            "min_samples_leaf: 6\n",
            "Iteration No: 6 ended. Evaluation done at random point.\n",
            "Time taken: 19.3251\n",
            "Function value obtained: 7.0793\n",
            "Current minimum: 7.0328\n",
            "Iteration No: 7 started. Evaluating function at random point.\n",
            "max_depth: 21\n",
            "min_samples_split: 13\n",
            "max_features: 5\n",
            "min_samples_leaf: 8\n",
            "Iteration No: 7 ended. Evaluation done at random point.\n",
            "Time taken: 8.4927\n",
            "Function value obtained: 9.2738\n",
            "Current minimum: 7.0328\n",
            "Iteration No: 8 started. Evaluating function at random point.\n",
            "max_depth: 4\n",
            "min_samples_split: 12\n",
            "max_features: 7\n",
            "min_samples_leaf: 16\n",
            "Iteration No: 8 ended. Evaluation done at random point.\n",
            "Time taken: 3.4760\n",
            "Function value obtained: 23.7578\n",
            "Current minimum: 7.0328\n",
            "Iteration No: 9 started. Evaluating function at random point.\n",
            "max_depth: 32\n",
            "min_samples_split: 14\n",
            "max_features: 15\n",
            "min_samples_leaf: 20\n",
            "Iteration No: 9 ended. Evaluation done at random point.\n",
            "Time taken: 23.4652\n",
            "Function value obtained: 7.4366\n",
            "Current minimum: 7.0328\n",
            "Iteration No: 10 started. Evaluating function at random point.\n",
            "max_depth: 4\n",
            "min_samples_split: 11\n",
            "max_features: 6\n",
            "min_samples_leaf: 15\n",
            "Iteration No: 10 ended. Evaluation done at random point.\n",
            "Time taken: 3.5263\n",
            "Function value obtained: 26.8298\n",
            "Current minimum: 7.0328\n",
            "Iteration No: 11 started. Searching for the next optimal point.\n",
            "max_depth: 30\n",
            "min_samples_split: 20\n",
            "max_features: 11\n",
            "min_samples_leaf: 2\n",
            "Iteration No: 11 ended. Search finished for the next optimal point.\n",
            "Time taken: 24.6800\n",
            "Function value obtained: 6.9959\n",
            "Current minimum: 6.9959\n",
            "Iteration No: 12 started. Searching for the next optimal point.\n",
            "max_depth: 32\n",
            "min_samples_split: 20\n",
            "max_features: 12\n",
            "min_samples_leaf: 2\n",
            "Iteration No: 12 ended. Search finished for the next optimal point.\n",
            "Time taken: 20.3168\n",
            "Function value obtained: 7.0237\n",
            "Current minimum: 6.9959\n",
            "Iteration No: 13 started. Searching for the next optimal point.\n",
            "max_depth: 20\n",
            "min_samples_split: 20\n",
            "max_features: 12\n",
            "min_samples_leaf: 2\n",
            "Iteration No: 13 ended. Search finished for the next optimal point.\n",
            "Time taken: 19.4760\n",
            "Function value obtained: 7.4326\n",
            "Current minimum: 6.9959\n",
            "Iteration No: 14 started. Searching for the next optimal point.\n",
            "max_depth: 34\n",
            "min_samples_split: 20\n",
            "max_features: 12\n",
            "min_samples_leaf: 2\n",
            "Iteration No: 14 ended. Search finished for the next optimal point.\n",
            "Time taken: 27.9591\n",
            "Function value obtained: 7.0011\n",
            "Current minimum: 6.9959\n",
            "Iteration No: 15 started. Searching for the next optimal point.\n",
            "max_depth: 35\n",
            "min_samples_split: 19\n",
            "max_features: 16\n",
            "min_samples_leaf: 10\n",
            "Iteration No: 15 ended. Search finished for the next optimal point.\n",
            "Time taken: 23.7613\n",
            "Function value obtained: 7.0230\n",
            "Current minimum: 6.9959\n",
            "Iteration No: 16 started. Searching for the next optimal point.\n",
            "max_depth: 35\n",
            "min_samples_split: 20\n",
            "max_features: 2\n",
            "min_samples_leaf: 3\n",
            "Iteration No: 16 ended. Search finished for the next optimal point.\n",
            "Time taken: 5.5036\n",
            "Function value obtained: 13.9180\n",
            "Current minimum: 6.9959\n",
            "Iteration No: 17 started. Searching for the next optimal point.\n",
            "max_depth: 35\n",
            "min_samples_split: 20\n",
            "max_features: 11\n",
            "min_samples_leaf: 2\n",
            "Iteration No: 17 ended. Search finished for the next optimal point.\n",
            "Time taken: 18.1539\n",
            "Function value obtained: 7.0598\n",
            "Current minimum: 6.9959\n",
            "Iteration No: 18 started. Searching for the next optimal point.\n",
            "max_depth: 35\n",
            "min_samples_split: 20\n",
            "max_features: 11\n",
            "min_samples_leaf: 2\n"
          ]
        },
        {
          "name": "stderr",
          "output_type": "stream",
          "text": [
            "/usr/local/lib/python3.7/dist-packages/skopt/optimizer/optimizer.py:449: UserWarning: The objective has been evaluated at this point before.\n",
            "  warnings.warn(\"The objective has been evaluated \"\n"
          ]
        },
        {
          "name": "stdout",
          "output_type": "stream",
          "text": [
            "Iteration No: 18 ended. Search finished for the next optimal point.\n",
            "Time taken: 24.1991\n",
            "Function value obtained: 7.0598\n",
            "Current minimum: 6.9959\n",
            "Iteration No: 19 started. Searching for the next optimal point.\n",
            "max_depth: 34\n",
            "min_samples_split: 20\n",
            "max_features: 15\n",
            "min_samples_leaf: 2\n",
            "Iteration No: 19 ended. Search finished for the next optimal point.\n",
            "Time taken: 22.7318\n",
            "Function value obtained: 6.8806\n",
            "Current minimum: 6.8806\n",
            "Iteration No: 20 started. Searching for the next optimal point.\n",
            "max_depth: 22\n",
            "min_samples_split: 20\n",
            "max_features: 8\n",
            "min_samples_leaf: 2\n",
            "Iteration No: 20 ended. Search finished for the next optimal point.\n",
            "Time taken: 13.7002\n",
            "Function value obtained: 7.6396\n",
            "Current minimum: 6.8806\n",
            "Iteration No: 21 started. Searching for the next optimal point.\n",
            "max_depth: 35\n",
            "min_samples_split: 20\n",
            "max_features: 18\n",
            "min_samples_leaf: 2\n",
            "Iteration No: 21 ended. Search finished for the next optimal point.\n",
            "Time taken: 27.3177\n",
            "Function value obtained: 6.8345\n",
            "Current minimum: 6.8345\n",
            "Iteration No: 22 started. Searching for the next optimal point.\n",
            "max_depth: 32\n",
            "min_samples_split: 20\n",
            "max_features: 18\n",
            "min_samples_leaf: 2\n",
            "Iteration No: 22 ended. Search finished for the next optimal point.\n",
            "Time taken: 27.0968\n",
            "Function value obtained: 6.8478\n",
            "Current minimum: 6.8345\n",
            "Iteration No: 23 started. Searching for the next optimal point.\n",
            "max_depth: 35\n",
            "min_samples_split: 2\n",
            "max_features: 2\n",
            "min_samples_leaf: 19\n",
            "Iteration No: 23 ended. Search finished for the next optimal point.\n",
            "Time taken: 5.4377\n",
            "Function value obtained: 16.9194\n",
            "Current minimum: 6.8345\n",
            "Iteration No: 24 started. Searching for the next optimal point.\n",
            "max_depth: 23\n",
            "min_samples_split: 14\n",
            "max_features: 8\n",
            "min_samples_leaf: 5\n",
            "Iteration No: 24 ended. Search finished for the next optimal point.\n",
            "Time taken: 13.6707\n",
            "Function value obtained: 7.5448\n",
            "Current minimum: 6.8345\n",
            "Iteration No: 25 started. Searching for the next optimal point.\n",
            "max_depth: 23\n",
            "min_samples_split: 4\n",
            "max_features: 18\n",
            "min_samples_leaf: 5\n",
            "Iteration No: 25 ended. Search finished for the next optimal point.\n",
            "Time taken: 27.9626\n",
            "Function value obtained: 6.9663\n",
            "Current minimum: 6.8345\n",
            "Iteration No: 26 started. Searching for the next optimal point.\n",
            "max_depth: 23\n",
            "min_samples_split: 2\n",
            "max_features: 18\n",
            "min_samples_leaf: 5\n",
            "Iteration No: 26 ended. Search finished for the next optimal point.\n",
            "Time taken: 27.3126\n",
            "Function value obtained: 6.9663\n",
            "Current minimum: 6.8345\n",
            "Iteration No: 27 started. Searching for the next optimal point.\n",
            "max_depth: 23\n",
            "min_samples_split: 2\n",
            "max_features: 18\n",
            "min_samples_leaf: 5\n"
          ]
        },
        {
          "name": "stderr",
          "output_type": "stream",
          "text": [
            "/usr/local/lib/python3.7/dist-packages/skopt/optimizer/optimizer.py:449: UserWarning: The objective has been evaluated at this point before.\n",
            "  warnings.warn(\"The objective has been evaluated \"\n"
          ]
        },
        {
          "name": "stdout",
          "output_type": "stream",
          "text": [
            "Iteration No: 27 ended. Search finished for the next optimal point.\n",
            "Time taken: 27.4192\n",
            "Function value obtained: 6.9663\n",
            "Current minimum: 6.8345\n",
            "Iteration No: 28 started. Searching for the next optimal point.\n",
            "max_depth: 23\n",
            "min_samples_split: 2\n",
            "max_features: 18\n",
            "min_samples_leaf: 5\n"
          ]
        },
        {
          "name": "stderr",
          "output_type": "stream",
          "text": [
            "/usr/local/lib/python3.7/dist-packages/skopt/optimizer/optimizer.py:449: UserWarning: The objective has been evaluated at this point before.\n",
            "  warnings.warn(\"The objective has been evaluated \"\n"
          ]
        },
        {
          "name": "stdout",
          "output_type": "stream",
          "text": [
            "Iteration No: 28 ended. Search finished for the next optimal point.\n",
            "Time taken: 27.8555\n",
            "Function value obtained: 6.9663\n",
            "Current minimum: 6.8345\n",
            "Iteration No: 29 started. Searching for the next optimal point.\n",
            "max_depth: 23\n",
            "min_samples_split: 2\n",
            "max_features: 18\n",
            "min_samples_leaf: 5\n"
          ]
        },
        {
          "name": "stderr",
          "output_type": "stream",
          "text": [
            "/usr/local/lib/python3.7/dist-packages/skopt/optimizer/optimizer.py:449: UserWarning: The objective has been evaluated at this point before.\n",
            "  warnings.warn(\"The objective has been evaluated \"\n"
          ]
        },
        {
          "name": "stdout",
          "output_type": "stream",
          "text": [
            "Iteration No: 29 ended. Search finished for the next optimal point.\n",
            "Time taken: 27.3107\n",
            "Function value obtained: 6.9663\n",
            "Current minimum: 6.8345\n",
            "Iteration No: 30 started. Searching for the next optimal point.\n",
            "max_depth: 28\n",
            "min_samples_split: 20\n",
            "max_features: 18\n",
            "min_samples_leaf: 2\n",
            "Iteration No: 30 ended. Search finished for the next optimal point.\n",
            "Time taken: 27.1486\n",
            "Function value obtained: 6.8338\n",
            "Current minimum: 6.8338\n"
          ]
        }
      ],
      "source": [
        "res3 = gp_minimize(Tuning_AD, space, random_state=40, n_calls=30, verbose=1)"
      ]
    },
    {
      "cell_type": "code",
      "execution_count": null,
      "metadata": {
        "colab": {
          "base_uri": "https://localhost:8080/"
        },
        "id": "ljzAm-Cl6tr8",
        "outputId": "8e22d3fb-dbb1-4894-df06-5ce6e13c4d13"
      },
      "outputs": [
        {
          "name": "stdout",
          "output_type": "stream",
          "text": [
            "Best Value: 6.83379555949916\n",
            "Parâmetros: [28, 20, 18, 2]\n"
          ]
        }
      ],
      "source": [
        "print('Best Value:',res3.fun)\n",
        "print('Parâmetros:',res3.x)"
      ]
    },
    {
      "cell_type": "code",
      "execution_count": null,
      "metadata": {
        "colab": {
          "base_uri": "https://localhost:8080/"
        },
        "id": "Mm7Vc-qPlKy9",
        "outputId": "c78ac10c-4072-42e5-e824-b7554da148ee"
      },
      "outputs": [
        {
          "name": "stdout",
          "output_type": "stream",
          "text": [
            "Data do inicio do treinamento: 2013-01-03 Data do final do treinamento : 2014-11-19\n",
            "Data do inicio do Validação  : 2014-11-20 Data do final do Validação   : 2015-01-01\n",
            "MAPE:  9.24074\n",
            "RMSLE: 0.01386\n",
            "RMSE:  1069.40728\n",
            "Data do inicio do treinamento: 2013-01-03 Data do final do treinamento : 2014-12-31\n",
            "Data do inicio do Validação  : 2015-01-01 Data do final do Validação   : 2015-02-12\n",
            "MAPE:  6.35778\n",
            "RMSLE: 0.00780\n",
            "RMSE:  622.44664\n",
            "Data do inicio do treinamento: 2013-01-03 Data do final do treinamento : 2015-02-11\n",
            "Data do inicio do Validação  : 2015-02-12 Data do final do Validação   : 2015-03-26\n",
            "MAPE:  5.70343\n",
            "RMSLE: 0.0057\n",
            "RMSE:  496.57368\n",
            "Data do inicio do treinamento: 2013-01-03 Data do final do treinamento : 2015-03-25\n",
            "Data do inicio do Validação  : 2015-03-26 Data do final do Validação   : 2015-05-07\n",
            "MAPE:  6.72099\n",
            "RMSLE: 0.00785\n",
            "RMSE:  773.72029\n",
            "Data do inicio do treinamento: 2013-01-03 Data do final do treinamento : 2015-05-06\n",
            "Data do inicio do Validação  : 2015-05-07 Data do final do Validação   : 2015-06-18\n",
            "MAPE:  6.14604\n",
            "RMSLE: 0.00643\n",
            "RMSE:  616.40388\n",
            "Mape Geral:  6.8338 Std: 1.24767 Erro: 0.55798\n",
            "Rmsle Geral: 0.00833 Std: 0.00289 Erro: 0.00129\n",
            "Rmse Geral:  715.71035 Std: 197.50820 Erro: 88.32835\n"
          ]
        }
      ],
      "source": [
        "max_depth = 28\n",
        "min_samples_split = 20\n",
        "max_features = 18\n",
        "min_samples_leaf = 2\n",
        "\n",
        "model = DecisionTreeRegressor(random_state=42,min_samples_leaf = min_samples_leaf,max_depth = max_depth ,max_features =max_features,min_samples_split = min_samples_split)\n",
        "\n",
        "\n",
        "vetor_MAPE4,vetor_MSLR4,vetor_RMSE4  = validation1(X,Y,'sales','normal',Date,model)"
      ]
    },
    {
      "cell_type": "markdown",
      "metadata": {
        "id": "Q9_9cuk7zqtg"
      },
      "source": [
        "### Avaliando os resultados\n"
      ]
    },
    {
      "cell_type": "markdown",
      "metadata": {
        "id": "sBGPTJX-zpmV"
      },
      "source": [
        "* Legenda:\n",
        "  * v0 -> Random Forest.\n",
        "  * v1 -> Lgbm\n",
        "  * v2 -> Decision Tree\n",
        "  \n",
        "---\n",
        "---\n",
        "* Mape Geral v0:  5.31241 Std: 0.85048 Erro: 0.38035\n",
        "* Mape Geral v1:  4.82927 Std: 0.24745 Erro: 0.11066\n",
        "* Mape Geral v2:  6.83380 Std: 1.24767 Erro: 0.55798\n",
        "\n",
        "---\n",
        "---\n",
        "* Rmsle Geral v0:  0.00481 Std: 0.00153 Erro: 0.00069\n",
        "* Rmsle Geral v1:  0.00406 Std: 0.00050 Erro: 0.00022\n",
        "* Rmsle Geral v2:  0.00833 Std: 0.00289 Erro: 0.00129\n",
        "---\n",
        "---\n",
        "* Rmse Geral v0: 549.36019 Std: 148.17719 Erro: 66.26685\n",
        "* Rmse Geral v1: 479.60477 Std: 73.457780 Erro: 32.85132\n",
        "* Rmse Geral v2: 715.71035 Std: 197.50820 Erro: 88.32835\n",
        "---\n",
        "---\n",
        "\n"
      ]
    },
    {
      "cell_type": "markdown",
      "metadata": {
        "id": "qU9ua7Zpibbl"
      },
      "source": [
        "# Erro de teste"
      ]
    },
    {
      "cell_type": "markdown",
      "source": [
        "### Modelos"
      ],
      "metadata": {
        "id": "tn6kLghydLka"
      }
    },
    {
      "cell_type": "code",
      "execution_count": 11,
      "metadata": {
        "id": "GHWQMtPVj8ED"
      },
      "outputs": [],
      "source": [
        "val   = df.copy()\n",
        "test  = df.copy()\n",
        "  \n",
        "val  = val[val['date'] < '2015-06-19']     # Dados de validação\n",
        "test = test[test['date'] >= '2015-06-19']  # Dados de teste\n",
        "Date = val['date']\n",
        "df.index = np.arange(df.shape[0])\n",
        "X = val.drop(columns = ['date','sales'])\n",
        "Y = val[['sales','Total_dias']]\n",
        "\n",
        "X_test = test.drop(columns = ['date','sales'])\n",
        "Y_test = test[['sales','Total_dias']]"
      ]
    },
    {
      "cell_type": "code",
      "execution_count": 35,
      "metadata": {
        "colab": {
          "base_uri": "https://localhost:8080/"
        },
        "id": "CWPCDMTOieE-",
        "outputId": "fca77e37-acf3-4ed1-f557-2652d4612c2e"
      },
      "outputs": [
        {
          "output_type": "stream",
          "name": "stderr",
          "text": [
            "/usr/local/lib/python3.7/dist-packages/ipykernel_launcher.py:3: DataConversionWarning: A column-vector y was passed when a 1d array was expected. Please change the shape of y to (n_samples,), for example using ravel().\n",
            "  This is separate from the ipykernel package so we can avoid doing imports until\n"
          ]
        }
      ],
      "source": [
        "# Random forest\n",
        "model1 = RandomForestRegressor(max_depth = 25 ,n_estimators = 200,max_features = 12,random_state = 42) \n",
        "md         = model1.fit(X.drop(columns=['Total_dias']),Y.drop(columns = ['Total_dias']))\n",
        "y_pred1    = md.predict(X_test.drop(columns=['Total_dias']))\n",
        "\n",
        "del model1,md\n",
        "\n",
        "# LGBM\n",
        "lr = 0.07050672582272845\n",
        "max_depth  = 9\n",
        "n_estimators = 855\n",
        "colsample_bytree = 1\n",
        "lamb             = 0.00039939957529561544\n",
        "alpha            =  0.0006803520566543689\n",
        "\n",
        "model2 = LGBMRegressor(learning_rate=lr, num_leaves=2 ** max_depth, max_depth=max_depth, \n",
        "                         n_estimators=n_estimators, random_state=40, n_jobs=6)\n",
        "md       = model2.fit(X.drop(columns=['Total_dias']),Y.drop(columns = ['Total_dias']))\n",
        "y_pred2  = md.predict(X_test.drop(columns=['Total_dias']))\n",
        "\n",
        "\n",
        "del model2,md\n",
        "\n",
        "# Decision Tree\n",
        "max_depth = 28\n",
        "min_samples_split = 20\n",
        "max_features = 18\n",
        "min_samples_leaf = 2\n",
        "\n",
        "model3 = DecisionTreeRegressor(random_state=42,min_samples_leaf = min_samples_leaf,max_depth = max_depth ,max_features =max_features,min_samples_split = min_samples_split)\n",
        "\n",
        "md       = model3.fit(X.drop(columns=['Total_dias']),Y.drop(columns = ['Total_dias']))\n",
        "y_pred3  = md.predict(X_test.drop(columns=['Total_dias']))\n",
        "\n"
      ]
    },
    {
      "cell_type": "code",
      "source": [
        "#np.sum(y_pred2 <0)"
      ],
      "metadata": {
        "id": "yL70NjH1v7o9"
      },
      "execution_count": null,
      "outputs": []
    },
    {
      "cell_type": "code",
      "execution_count": 15,
      "metadata": {
        "colab": {
          "base_uri": "https://localhost:8080/"
        },
        "id": "vmQlBEn81yIY",
        "outputId": "3f9eae5d-147a-4ea9-f681-7c30a1ae5425"
      },
      "outputs": [
        {
          "output_type": "stream",
          "name": "stdout",
          "text": [
            "Random Forest\n",
            "bias: 182.365 erro: 4.435\n",
            "MAPE: 5.341 erro: 0.038\n",
            "LGBM\n",
            "bias: 15.79 erro: 3.998\n",
            "MAPE: 4.571 erro: 0.037\n",
            "Decision Tree\n",
            "bias: 225.898 erro: 5.613\n",
            "MAPE: 6.794 erro: 0.051\n"
          ]
        }
      ],
      "source": [
        "erro1,erro_m1 = erro_interval(y_pred1,Y_test)\n",
        "print('Random Forest')\n",
        "print('bias:',np.format_float_positional(np.mean(Y_test['sales'] - y_pred1),3),'erro:',\n",
        "            np.format_float_positional(erro_m1,3))\n",
        "print('MAPE:',np.format_float_positional(MAPE(Y_test['sales'],y_pred1),3),'erro:',\n",
        "      np.format_float_positional(erro1,3))\n",
        "\n",
        "erro2,erro_m2 = erro_interval(y_pred2,Y_test)\n",
        "print('LGBM')\n",
        "print('bias:',np.format_float_positional(np.mean(Y_test['sales'] - y_pred2),3),'erro:',\n",
        "            np.format_float_positional(erro_m2,3))\n",
        "print('MAPE:',np.format_float_positional(MAPE(Y_test['sales'],y_pred2),3),'erro:',\n",
        "      np.format_float_positional(erro2,3))\n",
        "\n",
        "erro3,erro_m3 = erro_interval(y_pred3,Y_test)\n",
        "print('Decision Tree')\n",
        "\n",
        "print('bias:',np.format_float_positional(np.mean(Y_test['sales'] - y_pred3),3),'erro:',\n",
        "            np.format_float_positional(erro_m3,3))\n",
        "print('MAPE:',np.format_float_positional(MAPE(Y_test['sales'],y_pred3),3),'erro:',\n",
        "      np.format_float_positional(erro3,3))"
      ]
    },
    {
      "cell_type": "markdown",
      "metadata": {
        "id": "Q7O33oU-2oOa"
      },
      "source": [
        "# Desempenho dos modelos\n",
        " \n"
      ]
    },
    {
      "cell_type": "code",
      "execution_count": 16,
      "metadata": {
        "id": "DsHOEvywnWsZ"
      },
      "outputs": [],
      "source": [
        "df_rf   = X_test.copy()\n",
        "df_lg   = X_test.copy()\n",
        "df_dt   = X_test.copy()"
      ]
    },
    {
      "cell_type": "code",
      "execution_count": 17,
      "metadata": {
        "id": "tgTz_rfrnXwr"
      },
      "outputs": [],
      "source": [
        "df_rf['erro'] = 100*np.abs(y_pred1 - Y_test['sales'])/np.abs(Y_test['sales'])\n",
        "df_lg['erro'] = 100*np.abs(y_pred2 - Y_test['sales'])/np.abs(Y_test['sales'])\n",
        "df_dt['erro'] = 100*np.abs(y_pred3 - Y_test['sales'])/np.abs(Y_test['sales'])\n",
        "\n",
        "df_rf['Pred'] = y_pred1\n",
        "df_lg['Pred'] = y_pred2\n",
        "df_dt['Pred'] = y_pred3"
      ]
    },
    {
      "cell_type": "markdown",
      "metadata": {
        "id": "hnTVptzqmxIt"
      },
      "source": [
        "### Linearidade (Predição x Truth)"
      ]
    },
    {
      "cell_type": "code",
      "execution_count": 18,
      "metadata": {
        "colab": {
          "base_uri": "https://localhost:8080/",
          "height": 248
        },
        "id": "m8ow8YIv0tVp",
        "outputId": "fded7142-5347-4b0c-8026-0195a9752a17"
      },
      "outputs": [
        {
          "output_type": "display_data",
          "data": {
            "text/plain": [
              "<Figure size 2160x432 with 3 Axes>"
            ],
            "image/png": "[encoded data removed]"
          },
          "metadata": {}
        }
      ],
      "source": [
        "plt.rc('ytick', labelsize=12)\n",
        "plt.rc('xtick', labelsize=12)\n",
        "plt.figure(figsize=(30,6))\n",
        "plt.subplot(1,3,1)\n",
        "plt.title('Random forest',size=18,fontweight= 'bold')\n",
        "plt.plot(Y_test['sales'],df_rf['Pred'],'o')\n",
        "plt.xlabel('Truth', fontsize = 14,fontweight= 'bold')\n",
        "plt.ylabel('Predição', fontsize = 14,fontweight= 'bold')\n",
        "\n",
        "plt.subplot(1,3,2)\n",
        "plt.title('Lgbm',size=18,fontweight= 'bold')\n",
        "plt.plot(Y_test['sales'],df_lg['Pred'],'o')\n",
        "plt.xlabel('Truth', fontsize = 14,fontweight= 'bold')\n",
        "plt.ylabel('Predição', fontsize = 14,fontweight= 'bold')\n",
        "\n",
        "plt.subplot(1,3,3)\n",
        "plt.title('Decision Tree',size=18,fontweight= 'bold')\n",
        "plt.plot(Y_test['sales'],df_dt['Pred'],'o')\n",
        "plt.xlabel('Truth', fontsize = 14,fontweight= 'bold')\n",
        "plt.ylabel('Predição', fontsize = 14,fontweight= 'bold')\n",
        "\n",
        "plt.show()"
      ]
    },
    {
      "cell_type": "markdown",
      "metadata": {
        "id": "YdAQQwOU2KJy"
      },
      "source": [
        "### Linearidade (Predição x Erro percentual)\n",
        " \n",
        " \n",
        " \n",
        " \n",
        " \n",
        " \n"
      ]
    },
    {
      "cell_type": "code",
      "execution_count": 19,
      "metadata": {
        "colab": {
          "base_uri": "https://localhost:8080/",
          "height": 250
        },
        "id": "_dprR0ULtEX1",
        "outputId": "02093076-87eb-489f-fd1a-99b42a214a81"
      },
      "outputs": [
        {
          "output_type": "display_data",
          "data": {
            "text/plain": [
              "<Figure size 2160x432 with 3 Axes>"
            ],
            "image/png": "[encoded data removed]"
          },
          "metadata": {}
        }
      ],
      "source": [
        "plt.rc('ytick', labelsize=12)\n",
        "plt.rc('xtick', labelsize=12)\n",
        "plt.figure(figsize=(30,6))\n",
        "plt.subplot(1,3,1)\n",
        "plt.title('Random forest',size=18,fontweight= 'bold')\n",
        "plt.plot(Y_test['sales'],df_rf['erro'],'o')\n",
        "plt.xlabel('Truth', fontsize = 14,fontweight= 'bold')\n",
        "plt.ylabel('Erro percentual [%]', fontsize = 14,fontweight= 'bold')\n",
        "\n",
        "plt.subplot(1,3,2)\n",
        "plt.title('Lgbm',size=18,fontweight= 'bold')\n",
        "plt.plot(Y_test['sales'],df_lg['erro'],'o')\n",
        "plt.xlabel('Truth', fontsize = 14,fontweight= 'bold')\n",
        "plt.ylabel('Erro percentual [%]', fontsize = 14,fontweight= 'bold')\n",
        "\n",
        "plt.subplot(1,3,3)\n",
        "plt.title('Decision Tree',size=18,fontweight= 'bold')\n",
        "plt.plot(Y_test['sales'],df_dt['erro'],'o')\n",
        "plt.xlabel('Truth', fontsize = 14,fontweight= 'bold')\n",
        "plt.ylabel('Erro percentual [%]', fontsize = 14,fontweight= 'bold')\n",
        "\n",
        "plt.show()"
      ]
    },
    {
      "cell_type": "markdown",
      "metadata": {
        "id": "uJZAx3D9H8qO"
      },
      "source": [
        "### Linearidade (store x Erro percentual)\n",
        "\n",
        "\n",
        "\n"
      ]
    },
    {
      "cell_type": "code",
      "execution_count": 20,
      "metadata": {
        "colab": {
          "base_uri": "https://localhost:8080/",
          "height": 250
        },
        "id": "-wsPpdc1H-y-",
        "outputId": "9d433353-1b8b-4aa0-88f4-1f9e78f2d96b"
      },
      "outputs": [
        {
          "output_type": "display_data",
          "data": {
            "text/plain": [
              "<Figure size 2160x432 with 3 Axes>"
            ],
            "image/png": "[encoded data removed]"
          },
          "metadata": {}
        }
      ],
      "source": [
        "plt.rc('ytick', labelsize=12)\n",
        "plt.rc('xtick', labelsize=12)\n",
        "plt.figure(figsize=(30,6))\n",
        "plt.subplot(1,3,1)\n",
        "plt.title('Random forest',size=18,fontweight= 'bold')\n",
        "plt.plot(df_rf['store'],df_rf['erro'],'o')\n",
        "plt.xlabel('Store', fontsize = 14,fontweight= 'bold')\n",
        "plt.ylabel('Erro percentual [%]', fontsize = 14,fontweight= 'bold')\n",
        "\n",
        "plt.subplot(1,3,2)\n",
        "plt.title('Lgbm',size=18,fontweight= 'bold')\n",
        "plt.plot(df_lg['store'],df_lg['erro'],'o')\n",
        "plt.xlabel('Store', fontsize = 14,fontweight= 'bold')\n",
        "plt.ylabel('Erro percentual [%]', fontsize = 14,fontweight= 'bold')\n",
        "\n",
        "plt.subplot(1,3,3)\n",
        "plt.title('Decision Tree',size=18,fontweight= 'bold')\n",
        "plt.plot(df_dt['store'],df_dt['erro'],'o')\n",
        "plt.xlabel('Store', fontsize = 14,fontweight= 'bold')\n",
        "plt.ylabel('Erro percentual [%]', fontsize = 14,fontweight= 'bold')\n",
        "\n",
        "plt.show()"
      ]
    },
    {
      "cell_type": "markdown",
      "metadata": {
        "id": "N7OvRWupIfFw"
      },
      "source": [
        "* Análise visual permitiu notar que havia alguns valores que podiam ser encarados pelo modelo como outliers. Sendo que os seus valores estão acontecendo acima de um erro percentual de 20 porcento. \n",
        " \n",
        " \n",
        " \n"
      ]
    },
    {
      "cell_type": "code",
      "execution_count": 21,
      "metadata": {
        "colab": {
          "base_uri": "https://localhost:8080/"
        },
        "id": "9J0NCCFeI4Fq",
        "outputId": "c046ee5f-6b88-43a9-c2c4-27dab7697f68"
      },
      "outputs": [
        {
          "output_type": "stream",
          "name": "stdout",
          "text": [
            "Porcetagem de lojas que passaram de 20 % porcento: 11.657754010695188\n"
          ]
        }
      ],
      "source": [
        "print('Porcetagem de lojas que passaram de 20 % porcento:',100*len(df_lg['store'][df_lg['erro']>20].unique())/len(df_lg['store'].unique()))"
      ]
    },
    {
      "cell_type": "code",
      "source": [
        "print('Porcetagem de lojas que passaram de 20 % porcento:',100*len(df_rf['store'][df_rf['erro']>20].unique())/len(df_rf['store'].unique()))"
      ],
      "metadata": {
        "colab": {
          "base_uri": "https://localhost:8080/"
        },
        "id": "0csfWzuAoSrx",
        "outputId": "b985a076-4041-4dd1-e161-7a7c4eab0f19"
      },
      "execution_count": 22,
      "outputs": [
        {
          "output_type": "stream",
          "name": "stdout",
          "text": [
            "Porcetagem de lojas que passaram de 20 % porcento: 14.6524064171123\n"
          ]
        }
      ]
    },
    {
      "cell_type": "code",
      "source": [
        "print('Porcetagem de lojas que passaram de 20 % porcento:',100*len(df_dt['store'][df_dt['erro']>20].unique())/len(df_dt['store'].unique()))"
      ],
      "metadata": {
        "colab": {
          "base_uri": "https://localhost:8080/"
        },
        "id": "r65-BCRkoZmG",
        "outputId": "f98fda67-3974-49ca-b983-36b276949cdb"
      },
      "execution_count": 23,
      "outputs": [
        {
          "output_type": "stream",
          "name": "stdout",
          "text": [
            "Porcetagem de lojas que passaram de 20 % porcento: 41.711229946524064\n"
          ]
        }
      ]
    },
    {
      "cell_type": "markdown",
      "metadata": {
        "id": "D3S-6IUwn0cv"
      },
      "source": [
        "# Conclusão.\n",
        "\n",
        "* Nessa etapa foram encontradas as melhores configurações para cada modelo avaliado. E foi calculado o MAPE e BIAS de cada modelo com os dados de teste, para essas duas medidas o intervalo de confiança utilizado foi de 99%. Os valores encontrados estão sendo mostrados logo abaixo:\n",
        " \n",
        " * Random Forest:\n",
        "   * BIAS : 182.365 erro: 4.435\n",
        "   * MAPE: 5.34100 erro: 0.038\n",
        " * Lightgbm:\n",
        "   * BIAS : 15.79 erro: 3.998\n",
        "   * MAPE: 4.571 erro: 0.037\n",
        " * Decison Tree\n",
        "   * BIAS : 225.898 erro: 3.998\n",
        "   * MAPE: 6.794 erro: 0.037\n",
        " \n",
        "* Pelos resultados obtidos o modelo que será utilizado para deploy é o Lightgbm, já que foi ele que obteve o menor erro. Entre um dos pontos fracos destes modelos é que o erro de algumas lojas está passando de 20%. \n",
        " \n",
        " \n",
        " \n"
      ]
    },
    {
      "cell_type": "code",
      "source": [
        ""
      ],
      "metadata": {
        "id": "wo8Ygt_loYtR"
      },
      "execution_count": null,
      "outputs": []
    },
    {
      "cell_type": "markdown",
      "source": [
        "### Salvando o modelo"
      ],
      "metadata": {
        "id": "DYKepBfUYXWO"
      }
    },
    {
      "cell_type": "code",
      "source": [
        "X = df.drop(columns = ['date','sales','Total_dias'])\n",
        "Y = df[['sales']]"
      ],
      "metadata": {
        "id": "BpER8GhKYr4n"
      },
      "execution_count": null,
      "outputs": []
    },
    {
      "cell_type": "code",
      "execution_count": null,
      "metadata": {
        "id": "d2ExeBjYqxKg"
      },
      "outputs": [],
      "source": [
        "lr = 0.07050672582272845\n",
        "max_depth  = 9\n",
        "n_estimators = 855\n",
        "colsample_bytree = 1\n",
        "lamb             = 0.00039939957529561544\n",
        "alpha            =  0.0006803520566543689\n",
        "\n",
        "model = LGBMRegressor(learning_rate=lr, num_leaves=2 ** max_depth, max_depth=max_depth, \n",
        "                         n_estimators=n_estimators, random_state=40, \n",
        "                         n_jobs=6)\n",
        "\n"
      ]
    },
    {
      "cell_type": "code",
      "source": [
        "model = model.fit(X,Y)"
      ],
      "metadata": {
        "id": "OYR-dSwgYzuc"
      },
      "execution_count": null,
      "outputs": []
    },
    {
      "cell_type": "code",
      "source": [
        "import joblib as jb"
      ],
      "metadata": {
        "id": "vL4sSLVraMCD"
      },
      "execution_count": null,
      "outputs": []
    },
    {
      "cell_type": "code",
      "source": [
        "jb.dump(model, \"/content/drive/My Drive/dados/time series/model.pkl\")"
      ],
      "metadata": {
        "colab": {
          "base_uri": "https://localhost:8080/"
        },
        "id": "XrXw8dghY0XS",
        "outputId": "9fd90ae9-fbdd-41a7-fdd8-2f3d42062c50"
      },
      "execution_count": null,
      "outputs": [
        {
          "output_type": "execute_result",
          "data": {
            "text/plain": [
              "['/content/drive/My Drive/dados/time series/model.pkl']"
            ]
          },
          "metadata": {},
          "execution_count": 28
        }
      ]
    },
    {
      "cell_type": "code",
      "source": [
        ""
      ],
      "metadata": {
        "id": "MbqtAnxLZ7ow"
      },
      "execution_count": null,
      "outputs": []
    }
  ],
  "metadata": {
    "colab": {
      "collapsed_sections": [],
      "name": "models.ipynb",
      "toc_visible": true,
      "provenance": []
    },
    "kernelspec": {
      "display_name": "Python 3",
      "name": "python3"
    },
    "language_info": {
      "name": "python"
    }
  },
  "nbformat": 4,
  "nbformat_minor": 0
}