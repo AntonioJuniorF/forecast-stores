{
 "cells": [
  {
   "cell_type": "markdown",
   "metadata": {
    "id": "qZMicFVemSTr"
   },
   "source": [
    "# Introdução.\n",
    "\n",
    "* A Rossmann opera mais de 3.000 drogarias em 7 países europeus. Atualmente, os gerentes de loja da Rossmann têm a tarefa de prever suas vendas diárias com até seis semanas de antecedência. As vendas da loja são influenciadas por muitos fatores, incluindo promoções, competição, feriados escolares e estaduais, sazonalidade e localidade. Com milhares de gerentes individuais prevendo vendas com base em suas circunstâncias únicas, a precisão dos resultados pode ser bastante variada."
   ]
  },
  {
   "cell_type": "markdown",
   "metadata": {
    "id": "-6PeQjj_71UH"
   },
   "source": [
    "# Descrição do projeto\n",
    " \n",
    "  * Após a exclusão e modificação de algumas variáveis, foi visto que o desempenho do modelo padrão de machine learning passou de um MAPE de 5.86092 Std: 0.96943 Erro: 0.43354  para um de 5.79653 Std: 0.93450 Erro: 0.41792. E o número de variáveis foi de 32 para 20.\n",
    "\n",
    "* Logo, nessa parte deste trabalho será visto o turing dos parâmetros de diversos modelos de machine learning.\n",
    " \n",
    "* A estratégia utilizada para realizar o que foi proposto, segue os seguintes passos:\n",
    " * Separação dos dados em Teste e Validação. \n",
    "   * Validação: 2013/01/01 - 2015/06/18.\n",
    "   * Teste: 2015/06/19 - 2015/07/31.\n",
    "   * A Validação será feita para tunar os modelos de machine learning e ela será feita método prequential Expanding.\n",
    "* Os modelos serão avaliados nas seguintes métricas:\n",
    "   * MAPE - Erro médio Absoluto Percentual.\n",
    "   * RMSLE - Raiz do erro médio quadrático considerando o log.\n",
    "   * RMSE - Raiz do erro médio quadrático.\n",
    " * Modelos utilizados:\n",
    "   * Random Forest.\n",
    "   * LGBM.\n",
    "   * XGBM\n",
    " \n",
    " \n",
    "--- \n",
    "   * **Os dados de teste serão utilizados para simular o ambiente real no qual o modelo de machine learning será aplicado. (Parte final para decidir qual o melhor modelo)**\n",
    "--- \n",
    " \n",
    " "
   ]
  },
  {
   "cell_type": "markdown",
   "metadata": {
    "id": "3BOYHf-57muv"
   },
   "source": [
    "# Descrição dos dados."
   ]
  },
  {
   "cell_type": "markdown",
   "metadata": {
    "id": "liFd78zRmSVo"
   },
   "source": [
    "* Os dados foram obtidos do kaggle: \n",
    "  * https://www.kaggle.com/c/rossmann-store-sales\n",
    "\n",
    "\n",
    "* Descrição dos arquivos utilizados :\n",
    " \n",
    " * **train.csv** - historical data including Sales\n",
    " * **test.csv** - historical data excluding Sales\n",
    " * **store.csv** - supplemental information about the stores\n",
    " \n",
    "* **Os dados utilizados veio do tratamento feito nos arquivos train,test,store**. \n",
    "\n",
    "* Legenda:\n",
    "  * **[T]** - Dados veio do arquivo Train.\n",
    "  * **[S]** - Dados veio do arquivo do Store.\n",
    "  * **[C]** - Criado pelo notebook Tratamento dos dados.\n",
    "  * **[D]** - Criado pelo notebook Descrição dos dados.\n",
    "  * **[M]** - Criado pelo notebook Modification dataset\n",
    "  * **[CD]** - Criado pelo notebook Codification dataset  \n",
    "\n",
    "* Descrição dos dados.\n",
    " \n",
    " * **day_of_week [T]** - Day of week. \n",
    " * **date [T]** - days the data was acquired. \n",
    " * **store [T]** - a unique Id for each store \n",
    " * **sales [T]** - the turnover for any given day (this is what you are predicting)  \n",
    " * **customers [T]** - the number of customers on a given day\n",
    " * **store_type_a [M]** - store models a. \n",
    " * **store_type_b [M]** - store models b. \n",
    " * **store_type_c [M]** - store models c.  \n",
    " * **competition_distance [S]** - distance in meters to the nearest competitor store.\n",
    " * **competition_open_since_year [S]** - gives the approximate year of the time the nearest competitor was opened.\n",
    " * **Promo [T]** - indicates whether a store is running a promo on that day\n",
    " * **Promo2 [S]** - Promo2 is a continuing and consecutive promotion for some stores: 0 = store is not participating, 1 = store is participating.\n",
    " * **promo2_since_year [S]** - describes the year  when the store started participating in Promo2.\n",
    " * **year [C]** - year the data died. \n",
    " * **week_year [C]**  - calendar week  the data died.\n",
    " * **without_competition [C]** - Store has competition. \n",
    " * **promo_time_week [C]** - Time the store works without the promotion.\n",
    " * **Total_dias [CD]** - Vccumulated days.\n",
    " * **day_cos [CD]** - Day variable transformed into cosine sign.\n",
    " * **holiday [CD]** - The day is a holiday or not. Where 1 is a holiday and 0 is a day that is not.\n",
    " * **assortment [CD]** - Describe assortment level the store. 1 - > Extended, 2 ->  Estra, 3 -> basic.\n"
   ]
  },
  {
   "cell_type": "markdown",
   "metadata": {
    "id": "3-mJLYYIZFI1"
   },
   "source": [
    "# Importando bibliotecas."
   ]
  },
  {
   "cell_type": "code",
   "execution_count": 1,
   "metadata": {
    "colab": {
     "base_uri": "https://localhost:8080/"
    },
    "executionInfo": {
     "elapsed": 382,
     "status": "ok",
     "timestamp": 1648049379965,
     "user": {
      "displayName": "Antonio Junior",
      "photoUrl": "https://lh3.googleusercontent.com/a/default-user=s64",
      "userId": "09175545212585676126"
     },
     "user_tz": 180
    },
    "id": "bRYObRy9ohH1",
    "outputId": "ab795314-f462-40c9-beb5-eda5f64a9187"
   },
   "outputs": [
    {
     "name": "stdout",
     "output_type": "stream",
     "text": [
      "/usr/bin/sh: 1: Syntax error: EOF in backquote substitution\r\n"
     ]
    }
   ],
   "source": [
    "!pip install git+git://github.com/Hvass-Labs/scikit-optimize.git@dd7433da068b5a2509ef4ea4e5195458393e6555`"
   ]
  },
  {
   "cell_type": "code",
   "execution_count": 2,
   "metadata": {
    "colab": {
     "base_uri": "https://localhost:8080/"
    },
    "executionInfo": {
     "elapsed": 6721,
     "status": "ok",
     "timestamp": 1648049386682,
     "user": {
      "displayName": "Antonio Junior",
      "photoUrl": "https://lh3.googleusercontent.com/a/default-user=s64",
      "userId": "09175545212585676126"
     },
     "user_tz": 180
    },
    "id": "GFu91lZMBUA9",
    "outputId": "620a3bb5-b1fe-417c-aad0-dad0a6784a76"
   },
   "outputs": [
    {
     "name": "stdout",
     "output_type": "stream",
     "text": [
      "Requirement already satisfied: lightgbm in /home/antoniojunior/anaconda3/lib/python3.7/site-packages (3.3.2)\n",
      "Requirement already satisfied: scipy in /home/antoniojunior/anaconda3/lib/python3.7/site-packages (from lightgbm) (1.4.1)\n",
      "Requirement already satisfied: numpy in /home/antoniojunior/anaconda3/lib/python3.7/site-packages (from lightgbm) (1.18.1)\n",
      "Requirement already satisfied: scikit-learn!=0.22.0 in /home/antoniojunior/anaconda3/lib/python3.7/site-packages (from lightgbm) (1.0.2)\n",
      "Requirement already satisfied: wheel in /home/antoniojunior/anaconda3/lib/python3.7/site-packages (from lightgbm) (0.34.2)\n",
      "Requirement already satisfied: joblib>=0.11 in /home/antoniojunior/anaconda3/lib/python3.7/site-packages (from scikit-learn!=0.22.0->lightgbm) (0.14.1)\n",
      "Requirement already satisfied: threadpoolctl>=2.0.0 in /home/antoniojunior/anaconda3/lib/python3.7/site-packages (from scikit-learn!=0.22.0->lightgbm) (3.1.0)\n"
     ]
    }
   ],
   "source": [
    "!pip install lightgbm"
   ]
  },
  {
   "cell_type": "markdown",
   "metadata": {
    "id": "88tAI0gMp5jS"
   },
   "source": [
    "# Funções"
   ]
  },
  {
   "cell_type": "code",
   "execution_count": 3,
   "metadata": {
    "id": "r6jPx_NDp8bB"
   },
   "outputs": [],
   "source": [
    "def MAPE(y_pred,Y_teste):\n",
    "  return np.mean(100*np.abs(y_pred - Y_teste)/np.abs(Y_teste))\n",
    "\n",
    "def label_encoder(d,col):\n",
    "  enc      = LabelEncoder()\n",
    "  enc      = enc.fit(d[col])\n",
    "  inteiros = enc.fit_transform(d[col])\n",
    "  d[col]   = inteiros\n",
    "  return d\n",
    "\n",
    "def dummies_var(dados,coluna):\n",
    "  df_aux = dados\n",
    "  df_aux = df_aux.join(pd.get_dummies(df_aux[coluna], prefix=coluna))\n",
    "  df_aux = df_aux.drop(columns=coluna)\n",
    "  return df_aux\n",
    "\n",
    "\n",
    "\n",
    "\n",
    "def validation(X,Y,coluna,flag,Date,model):\n",
    "  vetor_MAPE = np.zeros(5) \n",
    "  vetor_MSLR = np.zeros(5)\n",
    "  vetor_RMSE = np.zeros(5)\n",
    "  Y_pred = []\n",
    "  Y_val  = []\n",
    "  for i in range(5):\n",
    "    # Dados de treinamento\n",
    "    \n",
    "    X_t = X[X['Total_dias']  < 731 + 6*7*i]\n",
    "    y_t = Y[coluna][Y['Total_dias']  < 731 + 6*7*i]\n",
    "    X_t = X_t.drop(columns = ['Total_dias'])\n",
    "    \n",
    "    X_v = X[(X['Total_dias'] >= 731 + 6*7*i) & (X['Total_dias'] <= 731 + 6*7*(i+1))]\n",
    "    y_v = Y[coluna][(Y['Total_dias'] >= 731 + 6*7*i) & (Y['Total_dias'] <= 731 + 6*7*(i+1))]\n",
    "    X_v = X_v.drop(columns = ['Total_dias'])\n",
    "    \n",
    "    md        = model.fit(X_t, y_t)\n",
    "    y_pred    = md.predict(X_v)\n",
    "    \n",
    "    if flag == 'log':\n",
    "      y_pred = np.round(10**y_pred - 1)  # eliminar o ruído provocado pelo computados atravez dou round\n",
    "      y_v    = np.round(10**y_v - 1)\n",
    "    if flag == 'sqrt':\n",
    "      y_pred = np.round(y_pred**2)\n",
    "      y_v    = np.round(y_v**2)\n",
    "    if flag == 'normal':\n",
    "      y_pred = y_pred\n",
    "      y_v    = y_v\n",
    "    \n",
    "  \n",
    "    \n",
    "    mape = MAPE(y_v,y_pred)\n",
    "    mslr = mean_squared_log_error(y_v,y_pred)\n",
    "    rmse = mean_squared_error(y_v,y_pred,squared =False)\n",
    "    vetor_MAPE[i] = mape\n",
    "    vetor_MSLR[i] = mslr\n",
    "    vetor_RMSE[i] = rmse\n",
    "  \n",
    "    \n",
    "  return np.mean(vetor_MAPE)\n",
    "\n",
    "\n",
    "def validation1(X,Y,coluna,flag,Date,model):\n",
    "  vetor_MAPE = np.zeros(5) \n",
    "  vetor_MSLR = np.zeros(5)\n",
    "  vetor_RMSE = np.zeros(5)\n",
    "  Y_pred = []\n",
    "  Y_val  = []\n",
    "  for i in range(5):\n",
    "    # Dados de treinamento\n",
    "    print('Data do inicio do treinamento:', Date[X['Total_dias'] < 731 + 6*7*i].dt.date.values[0],\n",
    "          'Data do final do treinamento :',Date[X['Total_dias'] < 731 + 6*7*i].dt.date.values[-1])\n",
    "  \n",
    "    \n",
    "    X_t = X[X['Total_dias']  < 731 + 6*7*i]\n",
    "    y_t = Y[coluna][Y['Total_dias']  < 731 + 6*7*i]\n",
    "    X_t = X_t.drop(columns = ['Total_dias'])\n",
    "    \n",
    "    # Dados de validação\n",
    "    print('Data do inicio do Validação  :', Date[(X['Total_dias'] >= 731 + 6*7*i) & (X['Total_dias'] <= 731 + 6*7*(i+1))].dt.date.values[0],\n",
    "          'Data do final do Validação   :',Date[(X['Total_dias'] >= 731 + 6*7*i) & (X['Total_dias'] <= 731 + 6*7*(i+1))].dt.date.values[-1])\n",
    "\n",
    "    X_v = X[(X['Total_dias'] >= 731 + 6*7*i) & (X['Total_dias'] <= 731 + 6*7*(i+1))]\n",
    "    y_v = Y[coluna][(Y['Total_dias'] >= 731 + 6*7*i) & (Y['Total_dias'] <= 731 + 6*7*(i+1))]\n",
    "    X_v = X_v.drop(columns = ['Total_dias'])\n",
    "    \n",
    "    md        = model.fit(X_t, y_t)\n",
    "    y_pred    = md.predict(X_v)\n",
    "    \n",
    "    if flag == 'log':\n",
    "      y_pred = np.round(10**y_pred - 1)  # eliminar o ruído provocado pelo computados atravez dou round\n",
    "      y_v    = np.round(10**y_v - 1)\n",
    "    if flag == 'sqrt':\n",
    "      y_pred = np.round(y_pred**2)\n",
    "      y_v    = np.round(y_v**2)\n",
    "    if flag == 'normal':\n",
    "      y_pred = y_pred\n",
    "      y_v    = y_v\n",
    "    \n",
    "  \n",
    "    \n",
    "    mape = MAPE(y_v,y_pred)\n",
    "    mslr = mean_squared_log_error(y_v,y_pred)\n",
    "    rmse = mean_squared_error(y_v,y_pred,squared =False)\n",
    "    vetor_MAPE[i] = mape\n",
    "    vetor_MSLR[i] = mslr\n",
    "    vetor_RMSE[i] = rmse\n",
    "  \n",
    "    print('MAPE: ',np.format_float_positional(mape,5))\n",
    "    print('RMSLE:',np.format_float_positional(mslr,5))\n",
    "    print('RMSE: ',np.format_float_positional(rmse,5))\n",
    "     \n",
    "   \n",
    "  print('Mape Geral: ',np.format_float_positional(np.mean(vetor_MAPE),5),'Std:',np.format_float_positional(np.std(vetor_MAPE),5),'Erro:',np.format_float_positional(np.std(vetor_MAPE)/np.sqrt(5),5))\n",
    "  print('Rmsle Geral:',np.format_float_positional(np.mean(vetor_MSLR),5),'Std:',np.format_float_positional(np.std(vetor_MSLR),5),'Erro:',np.format_float_positional(np.std(vetor_MSLR)/np.sqrt(5),5))\n",
    "  print('Rmse Geral: ',np.format_float_positional(np.mean(vetor_RMSE),5),'Std:',np.format_float_positional(np.std(vetor_RMSE),5),'Erro:',np.format_float_positional(np.std(vetor_RMSE)/np.sqrt(5),5))\n",
    "  return vetor_MAPE,vetor_MSLR,vetor_RMSE\n",
    "\n",
    "def Tuning_RF(params):\n",
    "  max_depth = params[0]\n",
    "  n_estimators = params[1]  \n",
    "  model = RandomForestRegressor(n_estimators = n_estimators,max_depth=max_depth,random_state = 10) # modelo padrão\n",
    "  mape = validation(X,Y,'sales','normal',Date,model)\n",
    "  return mape\n",
    "\n",
    "\n",
    "def Tuning_LGBM(params):\n",
    "  lr = params[0]\n",
    "  max_depth = params[1]\n",
    "  n_estimators = params[2]\n",
    "\n",
    "  print('lr:',params[0])\n",
    "  print('max_depth:',params[1])\n",
    "  print('n_estimators:',params[2])\n",
    "  \n",
    "  model = LGBMRegressor(learning_rate=lr, num_leaves=2 ** max_depth, max_depth=max_depth, \n",
    "                         n_estimators=n_estimators, random_state=40, \n",
    "                         n_jobs=6)\n",
    "\n",
    "  mape = validation(X,Y,'sales','normal',Date,model)\n",
    "  return mape"
   ]
  },
  {
   "cell_type": "markdown",
   "metadata": {
    "id": "a823mMjFp17R"
   },
   "source": [
    "# Biblioteca"
   ]
  },
  {
   "cell_type": "code",
   "execution_count": 4,
   "metadata": {
    "colab": {
     "base_uri": "https://localhost:8080/"
    },
    "executionInfo": {
     "elapsed": 28638,
     "status": "ok",
     "timestamp": 1648049416498,
     "user": {
      "displayName": "Antonio Junior",
      "photoUrl": "https://lh3.googleusercontent.com/a/default-user=s64",
      "userId": "09175545212585676126"
     },
     "user_tz": 180
    },
    "id": "9EyI47h3mJyD",
    "outputId": "5c6a79c1-0f4d-4c67-e714-352e939bef7f"
   },
   "outputs": [],
   "source": [
    "import pandas as pd\n",
    "#from google.colab import drive\n",
    "#drive.mount('/content/drive')\n",
    "import numpy as np\n",
    "import matplotlib.pyplot as plt\n",
    "import seaborn as sns\n",
    "sns.set_style(\"whitegrid\")\n",
    "import statsmodels.api as sm\n",
    "from sklearn.preprocessing import LabelEncoder\n",
    "from sklearn.ensemble import RandomForestRegressor\n",
    "from sklearn.metrics import mean_squared_log_error,mean_squared_error\n",
    "import skopt\n",
    "from skopt import gp_minimize, forest_minimize\n",
    "from lightgbm import LGBMRegressor\n",
    "from sklearn.preprocessing import LabelEncoder"
   ]
  },
  {
   "cell_type": "markdown",
   "metadata": {
    "id": "UE20E-wpqDU2"
   },
   "source": [
    "# Importando os dados."
   ]
  },
  {
   "cell_type": "code",
   "execution_count": 21,
   "metadata": {
    "id": "8_UsiKO4qCPp"
   },
   "outputs": [],
   "source": [
    "df = pd.read_csv('dados_novos3.csv')"
   ]
  },
  {
   "cell_type": "code",
   "execution_count": 22,
   "metadata": {
    "colab": {
     "base_uri": "https://localhost:8080/",
     "height": 404
    },
    "executionInfo": {
     "elapsed": 20,
     "status": "ok",
     "timestamp": 1648049421089,
     "user": {
      "displayName": "Antonio Junior",
      "photoUrl": "https://lh3.googleusercontent.com/a/default-user=s64",
      "userId": "09175545212585676126"
     },
     "user_tz": 180
    },
    "id": "KWxKSgeTTmaO",
    "outputId": "73ea982a-0ac4-4136-9498-e759acfdf4f5"
   },
   "outputs": [
    {
     "data": {
      "text/html": [
       "<div>\n",
       "<style scoped>\n",
       "    .dataframe tbody tr th:only-of-type {\n",
       "        vertical-align: middle;\n",
       "    }\n",
       "\n",
       "    .dataframe tbody tr th {\n",
       "        vertical-align: top;\n",
       "    }\n",
       "\n",
       "    .dataframe thead th {\n",
       "        text-align: right;\n",
       "    }\n",
       "</style>\n",
       "<table border=\"1\" class=\"dataframe\">\n",
       "  <thead>\n",
       "    <tr style=\"text-align: right;\">\n",
       "      <th></th>\n",
       "      <th>Unnamed: 0</th>\n",
       "      <th>store</th>\n",
       "      <th>day_of_week</th>\n",
       "      <th>date</th>\n",
       "      <th>sales</th>\n",
       "      <th>customers</th>\n",
       "      <th>promo</th>\n",
       "      <th>competition_distance</th>\n",
       "      <th>competition_open_since_year</th>\n",
       "      <th>promo2</th>\n",
       "      <th>...</th>\n",
       "      <th>year</th>\n",
       "      <th>week_year</th>\n",
       "      <th>promo_time_week</th>\n",
       "      <th>Total_dias</th>\n",
       "      <th>store_type_a</th>\n",
       "      <th>store_type_b</th>\n",
       "      <th>store_type_c</th>\n",
       "      <th>day_cos</th>\n",
       "      <th>holiday</th>\n",
       "      <th>assortment</th>\n",
       "    </tr>\n",
       "  </thead>\n",
       "  <tbody>\n",
       "    <tr>\n",
       "      <th>0</th>\n",
       "      <td>0</td>\n",
       "      <td>1115</td>\n",
       "      <td>4</td>\n",
       "      <td>2013-01-03</td>\n",
       "      <td>4297</td>\n",
       "      <td>300</td>\n",
       "      <td>0</td>\n",
       "      <td>5350.0</td>\n",
       "      <td>2013</td>\n",
       "      <td>1</td>\n",
       "      <td>...</td>\n",
       "      <td>2013</td>\n",
       "      <td>1</td>\n",
       "      <td>32</td>\n",
       "      <td>3.0</td>\n",
       "      <td>0</td>\n",
       "      <td>0</td>\n",
       "      <td>0</td>\n",
       "      <td>0.809017</td>\n",
       "      <td>0.0</td>\n",
       "      <td>1.0</td>\n",
       "    </tr>\n",
       "    <tr>\n",
       "      <th>1</th>\n",
       "      <td>1</td>\n",
       "      <td>1114</td>\n",
       "      <td>4</td>\n",
       "      <td>2013-01-03</td>\n",
       "      <td>18463</td>\n",
       "      <td>3211</td>\n",
       "      <td>0</td>\n",
       "      <td>870.0</td>\n",
       "      <td>2013</td>\n",
       "      <td>0</td>\n",
       "      <td>...</td>\n",
       "      <td>2013</td>\n",
       "      <td>1</td>\n",
       "      <td>0</td>\n",
       "      <td>3.0</td>\n",
       "      <td>1</td>\n",
       "      <td>0</td>\n",
       "      <td>0</td>\n",
       "      <td>0.809017</td>\n",
       "      <td>0.0</td>\n",
       "      <td>1.0</td>\n",
       "    </tr>\n",
       "    <tr>\n",
       "      <th>2</th>\n",
       "      <td>2</td>\n",
       "      <td>1113</td>\n",
       "      <td>4</td>\n",
       "      <td>2013-01-03</td>\n",
       "      <td>5563</td>\n",
       "      <td>718</td>\n",
       "      <td>0</td>\n",
       "      <td>9260.0</td>\n",
       "      <td>2013</td>\n",
       "      <td>0</td>\n",
       "      <td>...</td>\n",
       "      <td>2013</td>\n",
       "      <td>1</td>\n",
       "      <td>0</td>\n",
       "      <td>3.0</td>\n",
       "      <td>1</td>\n",
       "      <td>0</td>\n",
       "      <td>0</td>\n",
       "      <td>0.809017</td>\n",
       "      <td>0.0</td>\n",
       "      <td>1.0</td>\n",
       "    </tr>\n",
       "    <tr>\n",
       "      <th>3</th>\n",
       "      <td>3</td>\n",
       "      <td>1112</td>\n",
       "      <td>4</td>\n",
       "      <td>2013-01-03</td>\n",
       "      <td>8716</td>\n",
       "      <td>809</td>\n",
       "      <td>0</td>\n",
       "      <td>1880.0</td>\n",
       "      <td>2006</td>\n",
       "      <td>0</td>\n",
       "      <td>...</td>\n",
       "      <td>2013</td>\n",
       "      <td>1</td>\n",
       "      <td>0</td>\n",
       "      <td>3.0</td>\n",
       "      <td>0</td>\n",
       "      <td>0</td>\n",
       "      <td>1</td>\n",
       "      <td>0.809017</td>\n",
       "      <td>0.0</td>\n",
       "      <td>1.0</td>\n",
       "    </tr>\n",
       "    <tr>\n",
       "      <th>4</th>\n",
       "      <td>4</td>\n",
       "      <td>1111</td>\n",
       "      <td>4</td>\n",
       "      <td>2013-01-03</td>\n",
       "      <td>4579</td>\n",
       "      <td>444</td>\n",
       "      <td>0</td>\n",
       "      <td>1900.0</td>\n",
       "      <td>2014</td>\n",
       "      <td>1</td>\n",
       "      <td>...</td>\n",
       "      <td>2013</td>\n",
       "      <td>1</td>\n",
       "      <td>-30</td>\n",
       "      <td>3.0</td>\n",
       "      <td>1</td>\n",
       "      <td>0</td>\n",
       "      <td>0</td>\n",
       "      <td>0.809017</td>\n",
       "      <td>0.0</td>\n",
       "      <td>0.0</td>\n",
       "    </tr>\n",
       "  </tbody>\n",
       "</table>\n",
       "<p>5 rows × 22 columns</p>\n",
       "</div>"
      ],
      "text/plain": [
       "   Unnamed: 0  store  day_of_week        date  sales  customers  promo  \\\n",
       "0           0   1115            4  2013-01-03   4297        300      0   \n",
       "1           1   1114            4  2013-01-03  18463       3211      0   \n",
       "2           2   1113            4  2013-01-03   5563        718      0   \n",
       "3           3   1112            4  2013-01-03   8716        809      0   \n",
       "4           4   1111            4  2013-01-03   4579        444      0   \n",
       "\n",
       "   competition_distance  competition_open_since_year  promo2  ...  year  \\\n",
       "0                5350.0                         2013       1  ...  2013   \n",
       "1                 870.0                         2013       0  ...  2013   \n",
       "2                9260.0                         2013       0  ...  2013   \n",
       "3                1880.0                         2006       0  ...  2013   \n",
       "4                1900.0                         2014       1  ...  2013   \n",
       "\n",
       "   week_year  promo_time_week  Total_dias  store_type_a  store_type_b  \\\n",
       "0          1               32         3.0             0             0   \n",
       "1          1                0         3.0             1             0   \n",
       "2          1                0         3.0             1             0   \n",
       "3          1                0         3.0             0             0   \n",
       "4          1              -30         3.0             1             0   \n",
       "\n",
       "   store_type_c   day_cos  holiday  assortment  \n",
       "0             0  0.809017      0.0         1.0  \n",
       "1             0  0.809017      0.0         1.0  \n",
       "2             0  0.809017      0.0         1.0  \n",
       "3             1  0.809017      0.0         1.0  \n",
       "4             0  0.809017      0.0         0.0  \n",
       "\n",
       "[5 rows x 22 columns]"
      ]
     },
     "execution_count": 22,
     "metadata": {},
     "output_type": "execute_result"
    }
   ],
   "source": [
    "df.head() # vendo os dados"
   ]
  },
  {
   "cell_type": "code",
   "execution_count": 23,
   "metadata": {
    "id": "AVu4WZfRq4BH"
   },
   "outputs": [],
   "source": [
    "df = df.drop(columns = ['Unnamed: 0'])"
   ]
  },
  {
   "cell_type": "code",
   "execution_count": 24,
   "metadata": {
    "colab": {
     "base_uri": "https://localhost:8080/",
     "height": 386
    },
    "executionInfo": {
     "elapsed": 19,
     "status": "ok",
     "timestamp": 1648049421092,
     "user": {
      "displayName": "Antonio Junior",
      "photoUrl": "https://lh3.googleusercontent.com/a/default-user=s64",
      "userId": "09175545212585676126"
     },
     "user_tz": 180
    },
    "id": "Ie9KTJgwq81Q",
    "outputId": "5e86f868-7198-4af1-b8fe-0c746a16d506"
   },
   "outputs": [
    {
     "data": {
      "text/html": [
       "<div>\n",
       "<style scoped>\n",
       "    .dataframe tbody tr th:only-of-type {\n",
       "        vertical-align: middle;\n",
       "    }\n",
       "\n",
       "    .dataframe tbody tr th {\n",
       "        vertical-align: top;\n",
       "    }\n",
       "\n",
       "    .dataframe thead th {\n",
       "        text-align: right;\n",
       "    }\n",
       "</style>\n",
       "<table border=\"1\" class=\"dataframe\">\n",
       "  <thead>\n",
       "    <tr style=\"text-align: right;\">\n",
       "      <th></th>\n",
       "      <th>store</th>\n",
       "      <th>day_of_week</th>\n",
       "      <th>date</th>\n",
       "      <th>sales</th>\n",
       "      <th>customers</th>\n",
       "      <th>promo</th>\n",
       "      <th>competition_distance</th>\n",
       "      <th>competition_open_since_year</th>\n",
       "      <th>promo2</th>\n",
       "      <th>promo2_since_year</th>\n",
       "      <th>...</th>\n",
       "      <th>year</th>\n",
       "      <th>week_year</th>\n",
       "      <th>promo_time_week</th>\n",
       "      <th>Total_dias</th>\n",
       "      <th>store_type_a</th>\n",
       "      <th>store_type_b</th>\n",
       "      <th>store_type_c</th>\n",
       "      <th>day_cos</th>\n",
       "      <th>holiday</th>\n",
       "      <th>assortment</th>\n",
       "    </tr>\n",
       "  </thead>\n",
       "  <tbody>\n",
       "    <tr>\n",
       "      <th>0</th>\n",
       "      <td>1115</td>\n",
       "      <td>4</td>\n",
       "      <td>2013-01-03</td>\n",
       "      <td>4297</td>\n",
       "      <td>300</td>\n",
       "      <td>0</td>\n",
       "      <td>5350.0</td>\n",
       "      <td>2013</td>\n",
       "      <td>1</td>\n",
       "      <td>2012</td>\n",
       "      <td>...</td>\n",
       "      <td>2013</td>\n",
       "      <td>1</td>\n",
       "      <td>32</td>\n",
       "      <td>3.0</td>\n",
       "      <td>0</td>\n",
       "      <td>0</td>\n",
       "      <td>0</td>\n",
       "      <td>0.809017</td>\n",
       "      <td>0.0</td>\n",
       "      <td>1.0</td>\n",
       "    </tr>\n",
       "    <tr>\n",
       "      <th>1</th>\n",
       "      <td>1114</td>\n",
       "      <td>4</td>\n",
       "      <td>2013-01-03</td>\n",
       "      <td>18463</td>\n",
       "      <td>3211</td>\n",
       "      <td>0</td>\n",
       "      <td>870.0</td>\n",
       "      <td>2013</td>\n",
       "      <td>0</td>\n",
       "      <td>2013</td>\n",
       "      <td>...</td>\n",
       "      <td>2013</td>\n",
       "      <td>1</td>\n",
       "      <td>0</td>\n",
       "      <td>3.0</td>\n",
       "      <td>1</td>\n",
       "      <td>0</td>\n",
       "      <td>0</td>\n",
       "      <td>0.809017</td>\n",
       "      <td>0.0</td>\n",
       "      <td>1.0</td>\n",
       "    </tr>\n",
       "    <tr>\n",
       "      <th>2</th>\n",
       "      <td>1113</td>\n",
       "      <td>4</td>\n",
       "      <td>2013-01-03</td>\n",
       "      <td>5563</td>\n",
       "      <td>718</td>\n",
       "      <td>0</td>\n",
       "      <td>9260.0</td>\n",
       "      <td>2013</td>\n",
       "      <td>0</td>\n",
       "      <td>2013</td>\n",
       "      <td>...</td>\n",
       "      <td>2013</td>\n",
       "      <td>1</td>\n",
       "      <td>0</td>\n",
       "      <td>3.0</td>\n",
       "      <td>1</td>\n",
       "      <td>0</td>\n",
       "      <td>0</td>\n",
       "      <td>0.809017</td>\n",
       "      <td>0.0</td>\n",
       "      <td>1.0</td>\n",
       "    </tr>\n",
       "    <tr>\n",
       "      <th>3</th>\n",
       "      <td>1112</td>\n",
       "      <td>4</td>\n",
       "      <td>2013-01-03</td>\n",
       "      <td>8716</td>\n",
       "      <td>809</td>\n",
       "      <td>0</td>\n",
       "      <td>1880.0</td>\n",
       "      <td>2006</td>\n",
       "      <td>0</td>\n",
       "      <td>2013</td>\n",
       "      <td>...</td>\n",
       "      <td>2013</td>\n",
       "      <td>1</td>\n",
       "      <td>0</td>\n",
       "      <td>3.0</td>\n",
       "      <td>0</td>\n",
       "      <td>0</td>\n",
       "      <td>1</td>\n",
       "      <td>0.809017</td>\n",
       "      <td>0.0</td>\n",
       "      <td>1.0</td>\n",
       "    </tr>\n",
       "    <tr>\n",
       "      <th>4</th>\n",
       "      <td>1111</td>\n",
       "      <td>4</td>\n",
       "      <td>2013-01-03</td>\n",
       "      <td>4579</td>\n",
       "      <td>444</td>\n",
       "      <td>0</td>\n",
       "      <td>1900.0</td>\n",
       "      <td>2014</td>\n",
       "      <td>1</td>\n",
       "      <td>2013</td>\n",
       "      <td>...</td>\n",
       "      <td>2013</td>\n",
       "      <td>1</td>\n",
       "      <td>-30</td>\n",
       "      <td>3.0</td>\n",
       "      <td>1</td>\n",
       "      <td>0</td>\n",
       "      <td>0</td>\n",
       "      <td>0.809017</td>\n",
       "      <td>0.0</td>\n",
       "      <td>0.0</td>\n",
       "    </tr>\n",
       "  </tbody>\n",
       "</table>\n",
       "<p>5 rows × 21 columns</p>\n",
       "</div>"
      ],
      "text/plain": [
       "   store  day_of_week        date  sales  customers  promo  \\\n",
       "0   1115            4  2013-01-03   4297        300      0   \n",
       "1   1114            4  2013-01-03  18463       3211      0   \n",
       "2   1113            4  2013-01-03   5563        718      0   \n",
       "3   1112            4  2013-01-03   8716        809      0   \n",
       "4   1111            4  2013-01-03   4579        444      0   \n",
       "\n",
       "   competition_distance  competition_open_since_year  promo2  \\\n",
       "0                5350.0                         2013       1   \n",
       "1                 870.0                         2013       0   \n",
       "2                9260.0                         2013       0   \n",
       "3                1880.0                         2006       0   \n",
       "4                1900.0                         2014       1   \n",
       "\n",
       "   promo2_since_year  ...  year  week_year  promo_time_week  Total_dias  \\\n",
       "0               2012  ...  2013          1               32         3.0   \n",
       "1               2013  ...  2013          1                0         3.0   \n",
       "2               2013  ...  2013          1                0         3.0   \n",
       "3               2013  ...  2013          1                0         3.0   \n",
       "4               2013  ...  2013          1              -30         3.0   \n",
       "\n",
       "   store_type_a  store_type_b  store_type_c   day_cos  holiday  assortment  \n",
       "0             0             0             0  0.809017      0.0         1.0  \n",
       "1             1             0             0  0.809017      0.0         1.0  \n",
       "2             1             0             0  0.809017      0.0         1.0  \n",
       "3             0             0             1  0.809017      0.0         1.0  \n",
       "4             1             0             0  0.809017      0.0         0.0  \n",
       "\n",
       "[5 rows x 21 columns]"
      ]
     },
     "execution_count": 24,
     "metadata": {},
     "output_type": "execute_result"
    }
   ],
   "source": [
    "df.head()"
   ]
  },
  {
   "cell_type": "code",
   "execution_count": 25,
   "metadata": {
    "id": "juxjBe6-jf1P"
   },
   "outputs": [],
   "source": [
    "df['date'] = pd.to_datetime(df['date'])"
   ]
  },
  {
   "cell_type": "code",
   "execution_count": 26,
   "metadata": {
    "id": "RAZj74nSBSAA"
   },
   "outputs": [],
   "source": [
    "df.index = np.arange(df.shape[0])"
   ]
  },
  {
   "cell_type": "code",
   "execution_count": null,
   "metadata": {},
   "outputs": [],
   "source": []
  },
  {
   "cell_type": "code",
   "execution_count": null,
   "metadata": {},
   "outputs": [],
   "source": []
  },
  {
   "cell_type": "markdown",
   "metadata": {
    "id": "XLFzZ8ArpU5j"
   },
   "source": [
    "# Valor MAPE do modelo padrão"
   ]
  },
  {
   "cell_type": "code",
   "execution_count": 27,
   "metadata": {},
   "outputs": [],
   "source": [
    "Date = df['date']"
   ]
  },
  {
   "cell_type": "code",
   "execution_count": 28,
   "metadata": {},
   "outputs": [],
   "source": [
    "df.index = np.arange(df.shape[0])\n",
    "X        = df.drop(columns = ['date','sales'])\n",
    "Y        = df[['sales','Total_dias']]"
   ]
  },
  {
   "cell_type": "code",
   "execution_count": 29,
   "metadata": {
    "id": "kM2w_hr3qh_v"
   },
   "outputs": [],
   "source": [
    "model    = RandomForestRegressor(n_estimators = 10,random_state = 10) "
   ]
  },
  {
   "cell_type": "code",
   "execution_count": 30,
   "metadata": {
    "colab": {
     "base_uri": "https://localhost:8080/"
    },
    "executionInfo": {
     "elapsed": 228938,
     "status": "ok",
     "timestamp": 1647302388337,
     "user": {
      "displayName": "Antonio Junior",
      "photoUrl": "https://lh3.googleusercontent.com/a/default-user=s64",
      "userId": "09175545212585676126"
     },
     "user_tz": 180
    },
    "id": "ImEj8rgSqIlf",
    "outputId": "bc5692b4-fadc-4259-87fd-1ce78dea3c4c"
   },
   "outputs": [
    {
     "data": {
      "text/plain": [
       "5.425810961139628"
      ]
     },
     "execution_count": 30,
     "metadata": {},
     "output_type": "execute_result"
    }
   ],
   "source": [
    "validation(X,Y,'sales','normal',Date,model)"
   ]
  },
  {
   "cell_type": "markdown",
   "metadata": {
    "id": "n0fNfHUXp8A_"
   },
   "source": [
    "# Tunig dos modelos\n",
    "\n"
   ]
  },
  {
   "cell_type": "markdown",
   "metadata": {
    "id": "_uyMWsWmRuix"
   },
   "source": [
    "### Random Forest."
   ]
  },
  {
   "cell_type": "code",
   "execution_count": 17,
   "metadata": {
    "id": "suJSrvw5kGVx"
   },
   "outputs": [],
   "source": [
    "space = [(1,15), # max_depth\n",
    "        (10,100)] #n_estimator\n"
   ]
  },
  {
   "cell_type": "code",
   "execution_count": 18,
   "metadata": {
    "colab": {
     "base_uri": "https://localhost:8080/"
    },
    "executionInfo": {
     "elapsed": 5372999,
     "status": "ok",
     "timestamp": 1646781785817,
     "user": {
      "displayName": "Antonio Junior",
      "photoUrl": "https://lh3.googleusercontent.com/a/default-user=s64",
      "userId": "09175545212585676126"
     },
     "user_tz": 180
    },
    "id": "kES5dSfukjlv",
    "outputId": "a9685e89-353b-470a-b034-f45059725a86"
   },
   "outputs": [
    {
     "name": "stdout",
     "output_type": "stream",
     "text": [
      "Iteration No: 1 started. Evaluating function at random point.\n",
      "Iteration No: 1 ended. Evaluation done at random point.\n",
      "Time taken: 262.3326\n",
      "Function value obtained: 10.6832\n",
      "Current minimum: 10.6832\n",
      "Iteration No: 2 started. Evaluating function at random point.\n",
      "Iteration No: 2 ended. Evaluation done at random point.\n",
      "Time taken: 310.6801\n",
      "Function value obtained: 9.8713\n",
      "Current minimum: 9.8713\n",
      "Iteration No: 3 started. Evaluating function at random point.\n",
      "Iteration No: 3 ended. Evaluation done at random point.\n",
      "Time taken: 255.4008\n",
      "Function value obtained: 11.4398\n",
      "Current minimum: 9.8713\n",
      "Iteration No: 4 started. Evaluating function at random point.\n",
      "Iteration No: 4 ended. Evaluation done at random point.\n",
      "Time taken: 406.6018\n",
      "Function value obtained: 18.3430\n",
      "Current minimum: 9.8713\n",
      "Iteration No: 5 started. Evaluating function at random point.\n",
      "Iteration No: 5 ended. Evaluation done at random point.\n",
      "Time taken: 163.4059\n",
      "Function value obtained: 20.7827\n",
      "Current minimum: 9.8713\n",
      "Iteration No: 6 started. Evaluating function at random point.\n",
      "Iteration No: 6 ended. Evaluation done at random point.\n",
      "Time taken: 910.9363\n",
      "Function value obtained: 12.1019\n",
      "Current minimum: 9.8713\n",
      "Iteration No: 7 started. Evaluating function at random point.\n",
      "Iteration No: 7 ended. Evaluation done at random point.\n",
      "Time taken: 334.8121\n",
      "Function value obtained: 12.7721\n",
      "Current minimum: 9.8713\n",
      "Iteration No: 8 started. Evaluating function at random point.\n",
      "Iteration No: 8 ended. Evaluation done at random point.\n",
      "Time taken: 267.5233\n",
      "Function value obtained: 16.5437\n",
      "Current minimum: 9.8713\n",
      "Iteration No: 9 started. Evaluating function at random point.\n",
      "Iteration No: 9 ended. Evaluation done at random point.\n",
      "Time taken: 1369.9266\n",
      "Function value obtained: 7.5458\n",
      "Current minimum: 7.5458\n",
      "Iteration No: 10 started. Evaluating function at random point.\n",
      "Iteration No: 10 ended. Evaluation done at random point.\n",
      "Time taken: 677.7503\n",
      "Function value obtained: 9.0445\n",
      "Current minimum: 7.5458\n",
      "Iteration No: 11 started. Searching for the next optimal point.\n",
      "Iteration No: 11 ended. Search finished for the next optimal point.\n",
      "Time taken: 166.2594\n",
      "Function value obtained: 7.0668\n",
      "Current minimum: 7.0668\n",
      "Iteration No: 12 started. Searching for the next optimal point.\n",
      "Iteration No: 12 ended. Search finished for the next optimal point.\n",
      "Time taken: 1626.5769\n",
      "Function value obtained: 6.9054\n",
      "Current minimum: 6.9054\n"
     ]
    }
   ],
   "source": [
    "res1 = gp_minimize(Tuning_RF, space, random_state=40, n_calls=12, verbose=1)"
   ]
  },
  {
   "cell_type": "code",
   "execution_count": 19,
   "metadata": {
    "colab": {
     "base_uri": "https://localhost:8080/"
    },
    "executionInfo": {
     "elapsed": 462,
     "status": "ok",
     "timestamp": 1646781813718,
     "user": {
      "displayName": "Antonio Junior",
      "photoUrl": "https://lh3.googleusercontent.com/a/default-user=s64",
      "userId": "09175545212585676126"
     },
     "user_tz": 180
    },
    "id": "2iQd4UrVmMxC",
    "outputId": "2fa46bf0-2206-4971-ba58-425a4f1cf943"
   },
   "outputs": [
    {
     "name": "stdout",
     "output_type": "stream",
     "text": [
      "Best Value: 6.905368256446421\n",
      "Parâmetros: [15, 100]\n"
     ]
    }
   ],
   "source": [
    "print('Best Value:',res1.fun)\n",
    "print('Parâmetros:',res1.x)"
   ]
  },
  {
   "cell_type": "markdown",
   "metadata": {
    "id": "hq3A1EFHIxFO"
   },
   "source": [
    "* Claramente o resultado não melhora com os parâmetros utilizados, logo será usado o modelo padrão."
   ]
  },
  {
   "cell_type": "code",
   "execution_count": 20,
   "metadata": {
    "colab": {
     "base_uri": "https://localhost:8080/"
    },
    "executionInfo": {
     "elapsed": 266850,
     "status": "ok",
     "timestamp": 1646846534849,
     "user": {
      "displayName": "Antonio Junior",
      "photoUrl": "https://lh3.googleusercontent.com/a/default-user=s64",
      "userId": "09175545212585676126"
     },
     "user_tz": 180
    },
    "id": "uhIJqg3EruRY",
    "outputId": "7ea253a5-75e6-4f1c-9da3-b7fb66b82836"
   },
   "outputs": [
    {
     "name": "stdout",
     "output_type": "stream",
     "text": [
      "Data do inicio do treinamento: 2013-01-03 Data do final do treinamento : 2014-12-31\n",
      "Data do inicio do Validação  : 2015-01-01 Data do final do Validação   : 2015-02-12\n",
      "MAPE:  5.55816\n",
      "RMSLE: 0.00559\n",
      "RMSE:  535.1598\n",
      "Data do inicio do treinamento: 2013-01-03 Data do final do treinamento : 2015-02-11\n",
      "Data do inicio do Validação  : 2015-02-12 Data do final do Validação   : 2015-03-26\n",
      "MAPE:  4.86899\n",
      "RMSLE: 0.00405\n",
      "RMSE:  422.43212\n",
      "Data do inicio do treinamento: 2013-01-03 Data do final do treinamento : 2015-03-25\n",
      "Data do inicio do Validação  : 2015-03-26 Data do final do Validação   : 2015-05-07\n",
      "MAPE:  5.61305\n",
      "RMSLE: 0.00535\n",
      "RMSE:  630.99217\n",
      "Data do inicio do treinamento: 2013-01-03 Data do final do treinamento : 2015-05-06\n",
      "Data do inicio do Validação  : 2015-05-07 Data do final do Validação   : 2015-06-18\n",
      "MAPE:  5.16878\n",
      "RMSLE: 0.00450\n",
      "RMSE:  500.602\n",
      "Data do inicio do treinamento: 2013-01-03 Data do final do treinamento : 2015-06-17\n",
      "Data do inicio do Validação  : 2015-06-18 Data do final do Validação   : 2015-07-30\n",
      "MAPE:  5.66186\n",
      "RMSLE: 0.00529\n",
      "RMSE:  555.74879\n",
      "Mape Geral:  5.37417 Std: 0.30694 Erro: 0.13727\n",
      "Rmsle Geral: 0.00496 Std: 0.00058 Erro: 0.00026\n",
      "Rmse Geral:  528.98698 Std: 68.29202 Erro: 30.54112\n"
     ]
    }
   ],
   "source": [
    "model                                = RandomForestRegressor(n_estimators = 10,random_state = 10) \n",
    "vetor_MAPE1,vetor_MSLR1,vetor_RMSE1  = validation1(X,Y,'sales','normal',Date,model)"
   ]
  },
  {
   "cell_type": "markdown",
   "metadata": {
    "id": "nEiflhEEr0um"
   },
   "source": [
    "### LGBM"
   ]
  },
  {
   "cell_type": "code",
   "execution_count": 21,
   "metadata": {
    "colab": {
     "base_uri": "https://localhost:8080/"
    },
    "executionInfo": {
     "elapsed": 2991135,
     "status": "ok",
     "timestamp": 1646764459525,
     "user": {
      "displayName": "Antonio Junior",
      "photoUrl": "https://lh3.googleusercontent.com/a/default-user=s64",
      "userId": "09175545212585676126"
     },
     "user_tz": 180
    },
    "id": "efFl68ehmMy1",
    "outputId": "92b934b2-6840-4b8a-93db-d3c7a3fa4a79"
   },
   "outputs": [
    {
     "name": "stdout",
     "output_type": "stream",
     "text": [
      "Iteration No: 1 started. Evaluating function at random point.\n",
      "lr: 0.05969161720427683\n",
      "max_depth: 9\n",
      "n_estimators: 173\n",
      "Iteration No: 1 ended. Evaluation done at random point.\n",
      "Time taken: 91.5108\n",
      "Function value obtained: 5.7689\n",
      "Current minimum: 5.7689\n",
      "Iteration No: 2 started. Evaluating function at random point.\n",
      "lr: 0.08487792213962844\n",
      "max_depth: 7\n",
      "n_estimators: 83\n",
      "Iteration No: 2 ended. Evaluation done at random point.\n",
      "Time taken: 31.4302\n",
      "Function value obtained: 8.2801\n",
      "Current minimum: 5.7689\n",
      "Iteration No: 3 started. Evaluating function at random point.\n",
      "lr: 0.030455926047902763\n",
      "max_depth: 2\n",
      "n_estimators: 62\n",
      "Iteration No: 3 ended. Evaluation done at random point.\n",
      "Time taken: 10.9611\n",
      "Function value obtained: 17.4125\n",
      "Current minimum: 5.7689\n",
      "Iteration No: 4 started. Evaluating function at random point.\n",
      "lr: 0.04828884661481365\n",
      "max_depth: 8\n",
      "n_estimators: 101\n",
      "Iteration No: 4 ended. Evaluation done at random point.\n",
      "Time taken: 49.0062\n",
      "Function value obtained: 8.3432\n",
      "Current minimum: 5.7689\n",
      "Iteration No: 5 started. Evaluating function at random point.\n",
      "lr: 0.03988569481398216\n",
      "max_depth: 9\n",
      "n_estimators: 74\n",
      "Iteration No: 5 ended. Evaluation done at random point.\n",
      "Time taken: 51.8501\n",
      "Function value obtained: 8.8280\n",
      "Current minimum: 5.7689\n",
      "Iteration No: 6 started. Evaluating function at random point.\n",
      "lr: 0.06516901533306854\n",
      "max_depth: 4\n",
      "n_estimators: 192\n",
      "Iteration No: 6 ended. Evaluation done at random point.\n",
      "Time taken: 34.9892\n",
      "Function value obtained: 9.9115\n",
      "Current minimum: 5.7689\n",
      "Iteration No: 7 started. Evaluating function at random point.\n",
      "lr: 0.014894727260851875\n",
      "max_depth: 9\n",
      "n_estimators: 100\n",
      "Iteration No: 7 ended. Evaluation done at random point.\n",
      "Time taken: 73.0237\n",
      "Function value obtained: 12.5347\n",
      "Current minimum: 5.7689\n",
      "Iteration No: 8 started. Evaluating function at random point.\n",
      "lr: 0.0802901644459848\n",
      "max_depth: 6\n",
      "n_estimators: 139\n",
      "Iteration No: 8 ended. Evaluation done at random point.\n",
      "Time taken: 36.6729\n",
      "Function value obtained: 8.1191\n",
      "Current minimum: 5.7689\n",
      "Iteration No: 9 started. Evaluating function at random point.\n",
      "lr: 0.07234263281786578\n",
      "max_depth: 6\n",
      "n_estimators: 112\n",
      "Iteration No: 9 ended. Evaluation done at random point.\n",
      "Time taken: 31.9960\n",
      "Function value obtained: 8.8570\n",
      "Current minimum: 5.7689\n",
      "Iteration No: 10 started. Evaluating function at random point.\n",
      "lr: 0.0761029468079134\n",
      "max_depth: 2\n",
      "n_estimators: 100\n",
      "Iteration No: 10 ended. Evaluation done at random point.\n",
      "Time taken: 14.9263\n",
      "Function value obtained: 12.5341\n",
      "Current minimum: 5.7689\n",
      "Iteration No: 11 started. Searching for the next optimal point.\n",
      "lr: 0.1\n",
      "max_depth: 10\n",
      "n_estimators: 200\n",
      "Iteration No: 11 ended. Search finished for the next optimal point.\n",
      "Time taken: 124.5531\n",
      "Function value obtained: 5.1988\n",
      "Current minimum: 5.1988\n",
      "Iteration No: 12 started. Searching for the next optimal point.\n",
      "lr: 0.06582523576468219\n",
      "max_depth: 10\n",
      "n_estimators: 200\n",
      "Iteration No: 12 ended. Search finished for the next optimal point.\n",
      "Time taken: 135.6098\n",
      "Function value obtained: 5.2030\n",
      "Current minimum: 5.1988\n",
      "Iteration No: 13 started. Searching for the next optimal point.\n",
      "lr: 0.08259138896642512\n",
      "max_depth: 10\n",
      "n_estimators: 200\n",
      "Iteration No: 13 ended. Search finished for the next optimal point.\n",
      "Time taken: 130.2955\n",
      "Function value obtained: 5.1862\n",
      "Current minimum: 5.1862\n",
      "Iteration No: 14 started. Searching for the next optimal point.\n",
      "lr: 0.07283765061172351\n",
      "max_depth: 10\n",
      "n_estimators: 200\n",
      "Iteration No: 14 ended. Search finished for the next optimal point.\n",
      "Time taken: 133.4196\n",
      "Function value obtained: 5.1715\n",
      "Current minimum: 5.1715\n",
      "Iteration No: 15 started. Searching for the next optimal point.\n",
      "lr: 0.1\n",
      "max_depth: 9\n",
      "n_estimators: 200\n",
      "Iteration No: 15 ended. Search finished for the next optimal point.\n",
      "Time taken: 93.7227\n",
      "Function value obtained: 5.2975\n",
      "Current minimum: 5.1715\n",
      "Iteration No: 16 started. Searching for the next optimal point.\n",
      "lr: 0.07401034565960868\n",
      "max_depth: 9\n",
      "n_estimators: 200\n",
      "Iteration No: 16 ended. Search finished for the next optimal point.\n",
      "Time taken: 97.1586\n",
      "Function value obtained: 5.4117\n",
      "Current minimum: 5.1715\n",
      "Iteration No: 17 started. Searching for the next optimal point.\n",
      "lr: 0.07076101509448181\n",
      "max_depth: 10\n",
      "n_estimators: 168\n",
      "Iteration No: 17 ended. Search finished for the next optimal point.\n",
      "Time taken: 115.8670\n",
      "Function value obtained: 5.2803\n",
      "Current minimum: 5.1715\n",
      "Iteration No: 18 started. Searching for the next optimal point.\n",
      "lr: 0.09245599720427353\n",
      "max_depth: 10\n",
      "n_estimators: 200\n",
      "Iteration No: 18 ended. Search finished for the next optimal point.\n",
      "Time taken: 126.0339\n",
      "Function value obtained: 5.1437\n",
      "Current minimum: 5.1437\n",
      "Iteration No: 19 started. Searching for the next optimal point.\n",
      "lr: 0.09601876493519428\n",
      "max_depth: 10\n",
      "n_estimators: 171\n",
      "Iteration No: 19 ended. Search finished for the next optimal point.\n",
      "Time taken: 111.1953\n",
      "Function value obtained: 5.1775\n",
      "Current minimum: 5.1437\n",
      "Iteration No: 20 started. Searching for the next optimal point.\n",
      "lr: 0.09287105723056423\n",
      "max_depth: 10\n",
      "n_estimators: 190\n",
      "Iteration No: 20 ended. Search finished for the next optimal point.\n",
      "Time taken: 121.8565\n",
      "Function value obtained: 5.1434\n",
      "Current minimum: 5.1434\n"
     ]
    }
   ],
   "source": [
    "space = [(1e-3, 1e-1), # lr\n",
    "          (1, 10), # max_depth\n",
    "          (10,200), # n_estimators\n",
    "          ]\n",
    "\n",
    "res2 = gp_minimize(Tuning_LGBM, space, random_state=0, n_calls=20, verbose=1)\n"
   ]
  },
  {
   "cell_type": "code",
   "execution_count": 22,
   "metadata": {
    "colab": {
     "base_uri": "https://localhost:8080/"
    },
    "executionInfo": {
     "elapsed": 16,
     "status": "ok",
     "timestamp": 1646764459526,
     "user": {
      "displayName": "Antonio Junior",
      "photoUrl": "https://lh3.googleusercontent.com/a/default-user=s64",
      "userId": "09175545212585676126"
     },
     "user_tz": 180
    },
    "id": "5xszG_jAqj88",
    "outputId": "68e6234f-4de4-4da9-92a7-d772da057526"
   },
   "outputs": [
    {
     "name": "stdout",
     "output_type": "stream",
     "text": [
      "Best Value: 5.143376913482863\n",
      "Parâmetros: [0.09287105723056423, 10, 190]\n"
     ]
    }
   ],
   "source": [
    "print('Best Value:',res2.fun)\n",
    "print('Parâmetros:',res2.x)"
   ]
  },
  {
   "cell_type": "markdown",
   "metadata": {},
   "source": [
    "### Aumentando o número de árvores"
   ]
  },
  {
   "cell_type": "code",
   "execution_count": null,
   "metadata": {},
   "outputs": [],
   "source": []
  },
  {
   "cell_type": "code",
   "execution_count": 31,
   "metadata": {
    "colab": {
     "base_uri": "https://localhost:8080/"
    },
    "executionInfo": {
     "elapsed": 238039,
     "status": "ok",
     "timestamp": 1646846774195,
     "user": {
      "displayName": "Antonio Junior",
      "photoUrl": "https://lh3.googleusercontent.com/a/default-user=s64",
      "userId": "09175545212585676126"
     },
     "user_tz": 180
    },
    "id": "m6VmV2XK6vNU",
    "outputId": "c29038a3-38e0-4d18-8c18-1bc29c09e24f"
   },
   "outputs": [
    {
     "name": "stdout",
     "output_type": "stream",
     "text": [
      "Data do inicio do treinamento: 2013-01-03 Data do final do treinamento : 2014-12-31\n",
      "Data do inicio do Validação  : 2015-01-01 Data do final do Validação   : 2015-02-12\n",
      "MAPE:  5.13677\n",
      "RMSLE: 0.00465\n",
      "RMSE:  472.49775\n",
      "Data do inicio do treinamento: 2013-01-03 Data do final do treinamento : 2015-02-11\n",
      "Data do inicio do Validação  : 2015-02-12 Data do final do Validação   : 2015-03-26\n",
      "MAPE:  4.89987\n",
      "RMSLE: 0.00387\n",
      "RMSE:  408.78426\n",
      "Data do inicio do treinamento: 2013-01-03 Data do final do treinamento : 2015-03-25\n",
      "Data do inicio do Validação  : 2015-03-26 Data do final do Validação   : 2015-05-07\n",
      "MAPE:  5.31197\n",
      "RMSLE: 0.00490\n",
      "RMSE:  601.07882\n",
      "Data do inicio do treinamento: 2013-01-03 Data do final do treinamento : 2015-05-06\n",
      "Data do inicio do Validação  : 2015-05-07 Data do final do Validação   : 2015-06-18\n",
      "MAPE:  4.74925\n",
      "RMSLE: 0.00379\n",
      "RMSE:  459.41336\n",
      "Data do inicio do treinamento: 2013-01-03 Data do final do treinamento : 2015-06-17\n",
      "Data do inicio do Validação  : 2015-06-18 Data do final do Validação   : 2015-07-30\n",
      "MAPE:  4.83976\n",
      "RMSLE: 0.00417\n",
      "RMSE:  471.45310\n",
      "Mape Geral:  4.98753 Std: 0.20680 Erro: 0.09248\n",
      "Rmsle Geral: 0.00428 Std: 0.00044 Erro: 0.00019\n",
      "Rmse Geral:  482.64545 Std: 63.63947 Erro: 28.46044\n"
     ]
    }
   ],
   "source": [
    "lr = 0.09497877675572056\n",
    "max_depth = 10\n",
    "n_estimators = 200\n",
    "  \n",
    "model = LGBMRegressor(learning_rate=lr, num_leaves=2 ** max_depth, max_depth=max_depth, \n",
    "                         n_estimators=n_estimators, random_state=40, \n",
    "                         n_jobs=6)\n",
    "\n",
    "vetor_MAPE2,vetor_MSLR2,vetor_RMSE2  = validation1(X,Y,'sales','normal',Date,model)"
   ]
  },
  {
   "cell_type": "code",
   "execution_count": 32,
   "metadata": {
    "colab": {
     "base_uri": "https://localhost:8080/"
    },
    "executionInfo": {
     "elapsed": 326209,
     "status": "ok",
     "timestamp": 1646847100385,
     "user": {
      "displayName": "Antonio Junior",
      "photoUrl": "https://lh3.googleusercontent.com/a/default-user=s64",
      "userId": "09175545212585676126"
     },
     "user_tz": 180
    },
    "id": "0LZAqvDD6vSg",
    "outputId": "19e58029-e7c9-4dd1-b81c-560ce752e086"
   },
   "outputs": [
    {
     "name": "stdout",
     "output_type": "stream",
     "text": [
      "Data do inicio do treinamento: 2013-01-03 Data do final do treinamento : 2014-12-31\n",
      "Data do inicio do Validação  : 2015-01-01 Data do final do Validação   : 2015-02-12\n",
      "MAPE:  5.00707\n",
      "RMSLE: 0.00444\n",
      "RMSE:  460.61198\n",
      "Data do inicio do treinamento: 2013-01-03 Data do final do treinamento : 2015-02-11\n",
      "Data do inicio do Validação  : 2015-02-12 Data do final do Validação   : 2015-03-26\n",
      "MAPE:  4.80146\n",
      "RMSLE: 0.00372\n",
      "RMSE:  398.61651\n",
      "Data do inicio do treinamento: 2013-01-03 Data do final do treinamento : 2015-03-25\n",
      "Data do inicio do Validação  : 2015-03-26 Data do final do Validação   : 2015-05-07\n",
      "MAPE:  5.19266\n",
      "RMSLE: 0.00472\n",
      "RMSE:  589.19082\n",
      "Data do inicio do treinamento: 2013-01-03 Data do final do treinamento : 2015-05-06\n",
      "Data do inicio do Validação  : 2015-05-07 Data do final do Validação   : 2015-06-18\n",
      "MAPE:  4.60992\n",
      "RMSLE: 0.0036\n",
      "RMSE:  444.39936\n",
      "Data do inicio do treinamento: 2013-01-03 Data do final do treinamento : 2015-06-17\n",
      "Data do inicio do Validação  : 2015-06-18 Data do final do Validação   : 2015-07-30\n",
      "MAPE:  4.68236\n",
      "RMSLE: 0.00390\n",
      "RMSE:  457.61150\n",
      "Mape Geral:  4.85869 Std: 0.21439 Erro: 0.09588\n",
      "Rmsle Geral: 0.00408 Std: 0.00043 Erro: 0.00019\n",
      "Rmse Geral:  470.08603 Std: 63.55945 Erro: 28.42465\n"
     ]
    }
   ],
   "source": [
    "lr = 0.09497877675572056\n",
    "max_depth = 10\n",
    "n_estimators = 300\n",
    "  \n",
    "model = LGBMRegressor(learning_rate=lr, num_leaves=2 ** max_depth, max_depth=max_depth, \n",
    "                         n_estimators=n_estimators, random_state=40, \n",
    "                         n_jobs=6)\n",
    "\n",
    "\n",
    "vetor_MAPE2,vetor_MSLR2,vetor_RMSE2  = validation1(X,Y,'sales','normal',Date,model)"
   ]
  },
  {
   "cell_type": "code",
   "execution_count": 33,
   "metadata": {
    "colab": {
     "base_uri": "https://localhost:8080/"
    },
    "executionInfo": {
     "elapsed": 484409,
     "status": "ok",
     "timestamp": 1646847584778,
     "user": {
      "displayName": "Antonio Junior",
      "photoUrl": "https://lh3.googleusercontent.com/a/default-user=s64",
      "userId": "09175545212585676126"
     },
     "user_tz": 180
    },
    "id": "SHqbDX8I6vT_",
    "outputId": "2bac1c40-f9f3-4d3c-ef68-9dc2a8174809"
   },
   "outputs": [
    {
     "name": "stdout",
     "output_type": "stream",
     "text": [
      "Data do inicio do treinamento: 2013-01-03 Data do final do treinamento : 2014-12-31\n",
      "Data do inicio do Validação  : 2015-01-01 Data do final do Validação   : 2015-02-12\n",
      "MAPE:  4.93851\n",
      "RMSLE: 0.00433\n",
      "RMSE:  455.10026\n",
      "Data do inicio do treinamento: 2013-01-03 Data do final do treinamento : 2015-02-11\n",
      "Data do inicio do Validação  : 2015-02-12 Data do final do Validação   : 2015-03-26\n",
      "MAPE:  4.72546\n",
      "RMSLE: 0.00361\n",
      "RMSE:  391.1488\n",
      "Data do inicio do treinamento: 2013-01-03 Data do final do treinamento : 2015-03-25\n",
      "Data do inicio do Validação  : 2015-03-26 Data do final do Validação   : 2015-05-07\n",
      "MAPE:  5.10793\n",
      "RMSLE: 0.00459\n",
      "RMSE:  579.69636\n",
      "Data do inicio do treinamento: 2013-01-03 Data do final do treinamento : 2015-05-06\n",
      "Data do inicio do Validação  : 2015-05-07 Data do final do Validação   : 2015-06-18\n",
      "MAPE:  4.55462\n",
      "RMSLE: 0.00352\n",
      "RMSE:  436.52538\n",
      "Data do inicio do treinamento: 2013-01-03 Data do final do treinamento : 2015-06-17\n",
      "Data do inicio do Validação  : 2015-06-18 Data do final do Validação   : 2015-07-30\n",
      "MAPE:  4.59033\n",
      "RMSLE: 0.00375\n",
      "RMSE:  449.52737\n",
      "Mape Geral:  4.78337 Std: 0.21088 Erro: 0.09431\n",
      "Rmsle Geral: 0.00396 Std: 0.00042 Erro: 0.00019\n",
      "Rmse Geral:  462.39963 Std: 62.8071 Erro: 28.08819\n"
     ]
    }
   ],
   "source": [
    "lr = 0.09497877675572056\n",
    "max_depth = 10\n",
    "n_estimators = 500\n",
    "  \n",
    "model = LGBMRegressor(learning_rate=lr, num_leaves=2 ** max_depth, max_depth=max_depth, \n",
    "                         n_estimators=n_estimators, random_state=40, \n",
    "                         n_jobs=6)\n",
    "\n",
    "vetor_MAPE2,vetor_MSLR2,vetor_RMSE2  = validation1(X,Y,'sales','normal',Date,model)"
   ]
  },
  {
   "cell_type": "code",
   "execution_count": 34,
   "metadata": {
    "colab": {
     "base_uri": "https://localhost:8080/"
    },
    "executionInfo": {
     "elapsed": 633035,
     "status": "ok",
     "timestamp": 1646848217799,
     "user": {
      "displayName": "Antonio Junior",
      "photoUrl": "https://lh3.googleusercontent.com/a/default-user=s64",
      "userId": "09175545212585676126"
     },
     "user_tz": 180
    },
    "id": "pzLxzsNp6vXA",
    "outputId": "d416d68f-b13f-44ea-cf98-bc738ff6a8c6"
   },
   "outputs": [
    {
     "name": "stdout",
     "output_type": "stream",
     "text": [
      "Data do inicio do treinamento: 2013-01-03 Data do final do treinamento : 2014-12-31\n",
      "Data do inicio do Validação  : 2015-01-01 Data do final do Validação   : 2015-02-12\n",
      "MAPE:  4.93234\n",
      "RMSLE: 0.00433\n",
      "RMSE:  455.16337\n",
      "Data do inicio do treinamento: 2013-01-03 Data do final do treinamento : 2015-02-11\n",
      "Data do inicio do Validação  : 2015-02-12 Data do final do Validação   : 2015-03-26\n",
      "MAPE:  4.6956\n",
      "RMSLE: 0.00356\n",
      "RMSE:  388.31351\n",
      "Data do inicio do treinamento: 2013-01-03 Data do final do treinamento : 2015-03-25\n",
      "Data do inicio do Validação  : 2015-03-26 Data do final do Validação   : 2015-05-07\n",
      "MAPE:  5.07734\n",
      "RMSLE: 0.00454\n",
      "RMSE:  576.14794\n",
      "Data do inicio do treinamento: 2013-01-03 Data do final do treinamento : 2015-05-06\n",
      "Data do inicio do Validação  : 2015-05-07 Data do final do Validação   : 2015-06-18\n",
      "MAPE:  4.52387\n",
      "RMSLE: 0.00347\n",
      "RMSE:  433.50908\n",
      "Data do inicio do treinamento: 2013-01-03 Data do final do treinamento : 2015-06-17\n",
      "Data do inicio do Validação  : 2015-06-18 Data do final do Validação   : 2015-07-30\n",
      "MAPE:  4.55079\n",
      "RMSLE: 0.00368\n",
      "RMSE:  445.98188\n",
      "Mape Geral:  4.75599 Std: 0.21633 Erro: 0.09675\n",
      "Rmsle Geral: 0.00392 Std: 0.00043 Erro: 0.00019\n",
      "Rmse Geral:  459.82315 Std: 62.53129 Erro: 27.96484\n"
     ]
    }
   ],
   "source": [
    "lr = 0.09497877675572056\n",
    "max_depth = 10\n",
    "n_estimators = 700\n",
    "  \n",
    "model = LGBMRegressor(learning_rate=lr, num_leaves=2 ** max_depth, max_depth=max_depth, \n",
    "                         n_estimators=n_estimators, random_state=40, \n",
    "                         n_jobs=6)\n",
    "\n",
    "vetor_MAPE2,vetor_MSLR2,vetor_RMSE2  = validation1(X,Y,'sales','normal',Date,model)"
   ]
  },
  {
   "cell_type": "code",
   "execution_count": null,
   "metadata": {
    "colab": {
     "base_uri": "https://localhost:8080/"
    },
    "executionInfo": {
     "elapsed": 927843,
     "status": "ok",
     "timestamp": 1646849145622,
     "user": {
      "displayName": "Antonio Junior",
      "photoUrl": "https://lh3.googleusercontent.com/a/default-user=s64",
      "userId": "09175545212585676126"
     },
     "user_tz": 180
    },
    "id": "W77pWXPWsXjg",
    "outputId": "ea5004ce-20ed-4783-a80e-1d0c3b1cf04a"
   },
   "outputs": [
    {
     "name": "stdout",
     "output_type": "stream",
     "text": [
      "Data do inicio do treinamento: 2013-01-03 Data do final do treinamento : 2014-12-31\n",
      "Data do inicio do Validação  : 2015-01-01 Data do final do Validação   : 2015-02-12\n"
     ]
    }
   ],
   "source": [
    "lr = 0.09497877675572056\n",
    "max_depth = 10\n",
    "n_estimators = 1000\n",
    "  \n",
    "model = LGBMRegressor(learning_rate=lr, num_leaves=2 ** max_depth, max_depth=max_depth, \n",
    "                         n_estimators=n_estimators, random_state=40, \n",
    "                         n_jobs=6)\n",
    "\n",
    "\n",
    "vetor_MAPE2,vetor_MSLR2,vetor_RMSE2  = validation1(X,Y,'sales','normal',Date,model)"
   ]
  },
  {
   "cell_type": "markdown",
   "metadata": {
    "id": "Q9_9cuk7zqtg"
   },
   "source": [
    "# Avaliando os melhores resultados\n"
   ]
  },
  {
   "cell_type": "markdown",
   "metadata": {
    "id": "sBGPTJX-zpmV"
   },
   "source": [
    "### Avaliando os valores gerais\n",
    "* Legenda:\n",
    "  * v0 -> Random Forest.\n",
    "  * v1 -> Lgbm\n",
    "  * v2 -> Xgbm\n",
    "---\n",
    "---\n",
    "* Mape Geral v0:  5.79653 Std: 0.93450 Erro: 0.41792\n",
    "* Mape Geral v1:  4.86666 Std: 0.22444 Erro: 0.10037\n",
    "* Mape Geral v2:  4.82975 Std: 0.27000 Erro: 0.12075\n",
    "---\n",
    "---\n",
    "* Rmsle Geral v0:  0.00574 Std: 0.00181 Erro: 0.00081\n",
    "* Rmsle Geral v1:  0.00411 Std: 0.00049 Erro: 0.00022\n",
    "* Rmsle Geral v2:  0.00395 Std: 0.00050 Erro: 0.00022\n",
    "---\n",
    "---\n",
    "* Rmse Geral v0: 597.23134 Std: 157.7021 Erro: 70.52655\n",
    "* Rmse Geral v1: 482.44171 Std: 73.00971 Erro: 32.65094\n",
    "* Rmse Geral v2: 476.00876 Std: 73.06339 Erro: 32.67494\n",
    "---\n",
    "---\n",
    "\n"
   ]
  },
  {
   "cell_type": "markdown",
   "metadata": {
    "id": "D3S-6IUwn0cv"
   },
   "source": [
    "### Conclusão.\n",
    " \n",
    "* Nessa etapa foi treinado e validado o modelo Random Forest, XGBM e LGBM. Entre as suas performances com os dados de validação os valores de MAPE obtidos foram os seguintes:\n",
    " * Random forest:   5.79653 % Std: 0.93450 % Error: 0.41792 %\n",
    " * LGBM:            4.86666 % Std: 0.22444 % Error: 0.10037 %\n",
    " * XGBM:            4.82975 % Std: 0.27000 % Error: 0.12075 %\n",
    " \n",
    "* Nas outras métricas o modelo XGBM também apresentou o melhor resultado. Mas ao observar a medida de erro de todas as medidas é visto que o desempenho do XGBM e LGBM são bem próximos. No caso essa diferença pode estar acontecendo por causa da flutuação estatística.\n"
   ]
  },
  {
   "cell_type": "code",
   "execution_count": null,
   "metadata": {
    "id": "d2ExeBjYqxKg"
   },
   "outputs": [],
   "source": []
  }
 ],
 "metadata": {
  "colab": {
   "authorship_tag": "ABX9TyOAGOD8oJ6JaTpMz2JlmzSt",
   "collapsed_sections": [],
   "name": "models.ipynb",
   "provenance": [],
   "toc_visible": true
  },
  "kernelspec": {
   "display_name": "Python 3 (ipykernel)",
   "language": "python",
   "name": "python3"
  },
  "language_info": {
   "codemirror_mode": {
    "name": "ipython",
    "version": 3
   },
   "file_extension": ".py",
   "mimetype": "text/x-python",
   "name": "python",
   "nbconvert_exporter": "python",
   "pygments_lexer": "ipython3",
   "version": "3.7.6"
  }
 },
 "nbformat": 4,
 "nbformat_minor": 1
}
