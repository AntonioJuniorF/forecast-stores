{
  "cells": [
    {
      "cell_type": "markdown",
      "metadata": {
        "id": "qZMicFVemSTr"
      },
      "source": [
        "# Introdução.\n",
        "\n",
        "* A Rossmann opera mais de 3.000 drogarias em 7 países europeus. Atualmente, os gerentes de loja da Rossmann têm a tarefa de prever suas vendas diárias com até seis semanas de antecedência. As vendas da loja são influenciadas por muitos fatores, incluindo promoções, competição, feriados escolares e estaduais, sazonalidade e localidade. Com milhares de gerentes individuais prevendo vendas com base em suas circunstâncias únicas, a precisão dos resultados pode ser bastante variada."
      ]
    },
    {
      "cell_type": "markdown",
      "metadata": {
        "id": "-6PeQjj_71UH"
      },
      "source": [
        "# Descrição do projeto\n",
        "\n",
        "\n",
        "\n",
        "# Descrição do projeto\n",
        " \n",
        " \n",
        " \n",
        "* Nesta parte será encontrado a melhor maneira de representar as variáveis discretas.\n",
        "* A estratégia que será utilizada vai adotar os seguintes passos:\n",
        "* Definindo um modelo padrão de machine learning.\n",
        "* Separa os dados em Teste e Validação.\n",
        " * Validação: 2013/01/01 - 2015/06/18.\n",
        " * Teste: 2015/06/19 - 2015/07/31.\n",
        " * Os dados de validação serão utilizados para encontrar a maneira de representar as variáveis discretas. O método utilizado para avaliar esses dados foi através da validação prequential Expanding.\n",
        " * Os dados de teste serão empregados para simular o ambiente real no qual o modelo de machine learning será aplicado. Logo, o seu uso só será utilizado no final do projeto para avaliar os pontos fortes e fracos do modelo.\n",
        " * A validação será avaliada pelas seguintes métricas:\n",
        "   * MAPE - Erro médio Absoluto Percentual.\n",
        "   * RMSLE - Raiz do erro médio quadrático considerando o log.\n",
        "   * RMSE - Raiz do erro médio quadrático.\n",
        " \n",
        " \n",
        " \n",
        " \n",
        " \n"
      ]
    },
    {
      "cell_type": "markdown",
      "metadata": {
        "id": "3BOYHf-57muv"
      },
      "source": [
        "# Descrição dos dados."
      ]
    },
    {
      "cell_type": "markdown",
      "metadata": {
        "id": "liFd78zRmSVo"
      },
      "source": [
        "* Os dados foram obtidos do kaggle: \n",
        "  * https://www.kaggle.com/c/rossmann-store-sales\n",
        "\n",
        "\n",
        "* Descrição dos arquivos utilizados :\n",
        " \n",
        " * **train.csv** - historical data including Sales\n",
        " * **test.csv** - historical data excluding Sales\n",
        " * **store.csv** - supplemental information about the stores\n",
        " \n",
        "* **Os dados utilizados veio do tratamento feito nos arquivos train,test,store**. \n",
        "\n",
        "* Legenda:\n",
        "  * **[T]** - Dados veio do arquivo Train.\n",
        "  * **[S]** - Dados veio do arquivo do Store.\n",
        "  * **[C]** - Criado pelo notebook Tratamento dos dados.\n",
        "  * **[D]** - Criado pelo notebook pela Descrição dos dados.\n",
        "\n",
        "* Descrição dos dados.\n",
        " \n",
        " * **day_of_week [T]** - Day of week.\n",
        " * **date [T]** - days the data was acquired. \n",
        " * **store [T]** - a unique Id for each store\n",
        " * **sales [T]** - the turnover for any given day (this is what you are predicting)\n",
        " * **customers [T]** - the number of customers on a given day\n",
        " * **state_holiday [T]** - indicates a state holiday. Normally all stores, with few exceptions, are closed on state holidays. Note that all schools are closed on public holidays and weekends. a = public holiday, b = Easter holiday, c = Christmas, 0 = None\n",
        " * **school_holiday [T]** - indicates if the (Store, Date) was affected by the closure of public schools\n",
        " * **store_type [S]** - differentiates between 4 different store models: a, b, c, d\n",
        " * **Assortment [S]** - describes an assortment level: a = basic, b = extra, c = extended\n",
        " * **competition_distance [S]** - distance in meters to the nearest competitor store\n",
        " * **competition_open_since_month [S]** - gives the approximate month of the time the nearest competitor was opened.\n",
        " * **competition_open_since_year [S]** - gives the approximate year of the time the nearest competitor was opened\n",
        " * **Promo [T]** - indicates whether a store is running a promo on that day\n",
        " * **Promo2 [S]** - Promo2 is a continuing and consecutive promotion for some stores: 0 = store is not participating, 1 = store is participating\n",
        " * **promo2_since_week [S]** - describes the calendar week when the store started participating in Promo2.\n",
        "\n",
        " * **promo2_since_year [S]** - describes the year  when the store started participating in Promo2.\n",
        "\n",
        " * **is_promo [S]** - describes the consecutive intervals Promo2 is started, naming the months the promotion is started anew. E.g. \"Feb,May,Aug,Nov\" means each round starts in February, May, August, November of any given year for that store.\n",
        " * **year [C]** - year the data died.\n",
        " * **month [C]**  - month the data died.\n",
        " * **day [C]**  - day the data died.\n",
        " * **week_year [C]**  - calendar week  the data died.\n",
        " * **competition_time_month [C]** - time difference in months between sample and competitor opening.\n",
        " * **without_competition [C]** - Store has competition.\n",
        " * **promo_time_week [C]** - Time the store works without the promotion.\n",
        " * **Sales_raiz[D]** square root applied to Target data.\n",
        " * **Sales_raiz[D]** log10 applied to Target data."
      ]
    },
    {
      "cell_type": "markdown",
      "metadata": {
        "id": "88tAI0gMp5jS"
      },
      "source": [
        "# Funções"
      ]
    },
    {
      "cell_type": "code",
      "execution_count": null,
      "metadata": {
        "id": "r6jPx_NDp8bB"
      },
      "outputs": [],
      "source": [
        "\n",
        "\n",
        "def MAPE(y_pred,Y_teste):\n",
        "  return np.mean(100*np.abs(y_pred - Y_teste)/np.abs(Y_teste))\n",
        "\n",
        "def label_encoder(d,col):\n",
        "  enc      = LabelEncoder()\n",
        "  enc      = enc.fit(d[col])\n",
        "  inteiros = enc.fit_transform(d[col])\n",
        "  d[col]   = inteiros\n",
        "  return d\n",
        "\n",
        "def dummies_var(dados,coluna):\n",
        "  df_aux = dados\n",
        "  df_aux = df_aux.join(pd.get_dummies(df_aux[coluna], prefix=coluna))\n",
        "  df_aux = df_aux.drop(columns=coluna)\n",
        "  return df_aux\n",
        "\n",
        "\n",
        "def validation(X,Y,coluna,flag,Date):\n",
        "  vetor_MAPE = np.zeros(5) \n",
        "  vetor_MSLR = np.zeros(5)\n",
        "  vetor_RMSE = np.zeros(5)\n",
        "  Y_pred = []\n",
        "  Y_val  = []\n",
        "  for i in range(5):\n",
        "    # Dados de treinamento\n",
        "    print('Data do inicio do treinamento:', Date[X['Total_dias'] < 689 + 6*7*i].dt.date.values[0],\n",
        "          'Data do final do treinamento :',Date[X['Total_dias'] < 689 + 6*7*i].dt.date.values[-1])\n",
        "  \n",
        "    \n",
        "    X_t = X[X['Total_dias']  < 689 + 6*7*i]\n",
        "    y_t = Y[coluna][Y['Total_dias']  < 689 + 6*7*i]\n",
        "    X_t = X_t.drop(columns = ['Total_dias'])\n",
        "    \n",
        "    # Dados de validação\n",
        "    print('Data do inicio do Validação  :', Date[(X['Total_dias'] >= 689 + 6*7*i) & (X['Total_dias'] <= 689 + 6*7*(i+1))].dt.date.values[0],\n",
        "          'Data do final do Validação   :',Date[(X['Total_dias'] >= 689 + 6*7*i) & (X['Total_dias'] <= 689 + 6*7*(i+1))].dt.date.values[-1])\n",
        "\n",
        "    X_v = X[(X['Total_dias'] >= 689 + 6*7*i) & (X['Total_dias'] <= 689 + 6*7*(i+1))]\n",
        "    y_v = Y[coluna][(Y['Total_dias'] >= 689 + 6*7*i) & (Y['Total_dias'] <= 689 + 6*7*(i+1))]\n",
        "    X_v = X_v.drop(columns = ['Total_dias'])\n",
        "    \n",
        "    md        = model.fit(X_t, y_t)\n",
        "    y_pred    = md.predict(X_v)\n",
        "    \n",
        "    if flag == 'log':\n",
        "      y_pred = np.round(10**y_pred - 1)  # eliminar o ruído provocado pelo computados atravez dou round\n",
        "      y_v    = np.round(10**y_v - 1)\n",
        "    if flag == 'sqrt':\n",
        "      y_pred = np.round(y_pred**2)\n",
        "      y_v    = np.round(y_v**2)\n",
        "    if flag == 'normal':\n",
        "      y_pred = y_pred\n",
        "      y_v    = y_v\n",
        "    \n",
        "  \n",
        "    \n",
        "    mape = MAPE(y_v,y_pred)\n",
        "    mslr = mean_squared_log_error(y_v,y_pred)\n",
        "    rmse = mean_squared_error(y_v,y_pred,squared =False)\n",
        "    vetor_MAPE[i] = mape\n",
        "    vetor_MSLR[i] = mslr\n",
        "    vetor_RMSE[i] = rmse\n",
        "  \n",
        "    print('MAPE: ',np.format_float_positional(mape,5))\n",
        "    print('RMSLE:',np.format_float_positional(mslr,5))\n",
        "    print('RMSE: ',np.format_float_positional(rmse,5))\n",
        "     \n",
        "   \n",
        "  print('Mape Geral: ',np.format_float_positional(np.mean(vetor_MAPE),5),'Std:',np.format_float_positional(np.std(vetor_MAPE),5),'Erro:',np.format_float_positional(np.std(vetor_MAPE)/np.sqrt(5),5))\n",
        "  print('Rmsle Geral:',np.format_float_positional(np.mean(vetor_MSLR),5),'Std:',np.format_float_positional(np.std(vetor_MSLR),5),'Erro:',np.format_float_positional(np.std(vetor_MSLR)/np.sqrt(5),5))\n",
        "  print('Rmse Geral: ',np.format_float_positional(np.mean(vetor_RMSE),5),'Std:',np.format_float_positional(np.std(vetor_RMSE),5),'Erro:',np.format_float_positional(np.std(vetor_RMSE)/np.sqrt(5),5))\n",
        "  return vetor_MAPE,vetor_MSLR,vetor_RMSE"
      ]
    },
    {
      "cell_type": "markdown",
      "metadata": {
        "id": "a823mMjFp17R"
      },
      "source": [
        "# Biblioteca"
      ]
    },
    {
      "cell_type": "code",
      "execution_count": null,
      "metadata": {
        "colab": {
          "base_uri": "https://localhost:8080/"
        },
        "id": "9EyI47h3mJyD",
        "outputId": "e9fb4d0f-a1fb-4387-e08e-88981b806170"
      },
      "outputs": [
        {
          "output_type": "stream",
          "name": "stdout",
          "text": [
            "Mounted at /content/drive\n"
          ]
        },
        {
          "output_type": "stream",
          "name": "stderr",
          "text": [
            "/usr/local/lib/python3.7/dist-packages/statsmodels/tools/_testing.py:19: FutureWarning: pandas.util.testing is deprecated. Use the functions in the public API at pandas.testing instead.\n",
            "  import pandas.util.testing as tm\n"
          ]
        }
      ],
      "source": [
        "import pandas as pd\n",
        "from google.colab import drive\n",
        "drive.mount('/content/drive')\n",
        "import numpy as np\n",
        "import matplotlib.pyplot as plt\n",
        "import seaborn as sns\n",
        "sns.set_style(\"whitegrid\")\n",
        "import statsmodels.api as sm\n",
        "from sklearn.preprocessing import LabelEncoder\n",
        "from sklearn.ensemble import RandomForestRegressor\n",
        "from sklearn.metrics import mean_squared_log_error,mean_squared_error"
      ]
    },
    {
      "cell_type": "markdown",
      "metadata": {
        "id": "UE20E-wpqDU2"
      },
      "source": [
        "# Importando os dados."
      ]
    },
    {
      "cell_type": "code",
      "execution_count": null,
      "metadata": {
        "id": "8_UsiKO4qCPp"
      },
      "outputs": [],
      "source": [
        "df = pd.read_csv('/content/drive/My Drive/dados/time series/dados_novos1.csv')"
      ]
    },
    {
      "cell_type": "code",
      "execution_count": null,
      "metadata": {
        "colab": {
          "base_uri": "https://localhost:8080/",
          "height": 404
        },
        "id": "KWxKSgeTTmaO",
        "outputId": "09df52a4-578c-4dd5-ea86-94dde3bdc668"
      },
      "outputs": [
        {
          "output_type": "execute_result",
          "data": {
            "text/plain": [
              "   Unnamed: 0  store  day_of_week        date  sales  customers  promo  \\\n",
              "0           0      1            5  2015-07-31   5263        555      1   \n",
              "1           1      2            5  2015-07-31   6064        625      1   \n",
              "2           2      3            5  2015-07-31   8314        821      1   \n",
              "3           3      4            5  2015-07-31  13995       1498      1   \n",
              "4           4      5            5  2015-07-31   4822        559      1   \n",
              "\n",
              "  state_holiday  school_holiday store_type  ... without_competition  is_promo  \\\n",
              "0   regular_day               1          c  ...                 1.0         0   \n",
              "1   regular_day               1          a  ...                 1.0         1   \n",
              "2   regular_day               1          a  ...                 1.0         1   \n",
              "3   regular_day               1          c  ...                 1.0         0   \n",
              "4   regular_day               1          a  ...                 1.0         0   \n",
              "\n",
              "   year  month  day  week_year  competition_time_month  promo_time_week  \\\n",
              "0  2015      7   31         31                      84                0   \n",
              "1  2015      7   31         31                      94              279   \n",
              "2  2015      7   31         31                     105              226   \n",
              "3  2015      7   31         31                      71                0   \n",
              "4  2015      7   31         31                       4                0   \n",
              "\n",
              "   Sales_raiz  Sales_log10  \n",
              "0   72.546537     3.721316  \n",
              "1   77.871689     3.782831  \n",
              "2   91.181138     3.919862  \n",
              "3  118.300465     4.146004  \n",
              "4   69.440622     3.683317  \n",
              "\n",
              "[5 rows x 27 columns]"
            ],
            "text/html": [
              "\n",
              "  <div id=\"df-63b46a6c-02d2-47f5-b83c-35448ed297ad\">\n",
              "    <div class=\"colab-df-container\">\n",
              "      <div>\n",
              "<style scoped>\n",
              "    .dataframe tbody tr th:only-of-type {\n",
              "        vertical-align: middle;\n",
              "    }\n",
              "\n",
              "    .dataframe tbody tr th {\n",
              "        vertical-align: top;\n",
              "    }\n",
              "\n",
              "    .dataframe thead th {\n",
              "        text-align: right;\n",
              "    }\n",
              "</style>\n",
              "<table border=\"1\" class=\"dataframe\">\n",
              "  <thead>\n",
              "    <tr style=\"text-align: right;\">\n",
              "      <th></th>\n",
              "      <th>Unnamed: 0</th>\n",
              "      <th>store</th>\n",
              "      <th>day_of_week</th>\n",
              "      <th>date</th>\n",
              "      <th>sales</th>\n",
              "      <th>customers</th>\n",
              "      <th>promo</th>\n",
              "      <th>state_holiday</th>\n",
              "      <th>school_holiday</th>\n",
              "      <th>store_type</th>\n",
              "      <th>...</th>\n",
              "      <th>without_competition</th>\n",
              "      <th>is_promo</th>\n",
              "      <th>year</th>\n",
              "      <th>month</th>\n",
              "      <th>day</th>\n",
              "      <th>week_year</th>\n",
              "      <th>competition_time_month</th>\n",
              "      <th>promo_time_week</th>\n",
              "      <th>Sales_raiz</th>\n",
              "      <th>Sales_log10</th>\n",
              "    </tr>\n",
              "  </thead>\n",
              "  <tbody>\n",
              "    <tr>\n",
              "      <th>0</th>\n",
              "      <td>0</td>\n",
              "      <td>1</td>\n",
              "      <td>5</td>\n",
              "      <td>2015-07-31</td>\n",
              "      <td>5263</td>\n",
              "      <td>555</td>\n",
              "      <td>1</td>\n",
              "      <td>regular_day</td>\n",
              "      <td>1</td>\n",
              "      <td>c</td>\n",
              "      <td>...</td>\n",
              "      <td>1.0</td>\n",
              "      <td>0</td>\n",
              "      <td>2015</td>\n",
              "      <td>7</td>\n",
              "      <td>31</td>\n",
              "      <td>31</td>\n",
              "      <td>84</td>\n",
              "      <td>0</td>\n",
              "      <td>72.546537</td>\n",
              "      <td>3.721316</td>\n",
              "    </tr>\n",
              "    <tr>\n",
              "      <th>1</th>\n",
              "      <td>1</td>\n",
              "      <td>2</td>\n",
              "      <td>5</td>\n",
              "      <td>2015-07-31</td>\n",
              "      <td>6064</td>\n",
              "      <td>625</td>\n",
              "      <td>1</td>\n",
              "      <td>regular_day</td>\n",
              "      <td>1</td>\n",
              "      <td>a</td>\n",
              "      <td>...</td>\n",
              "      <td>1.0</td>\n",
              "      <td>1</td>\n",
              "      <td>2015</td>\n",
              "      <td>7</td>\n",
              "      <td>31</td>\n",
              "      <td>31</td>\n",
              "      <td>94</td>\n",
              "      <td>279</td>\n",
              "      <td>77.871689</td>\n",
              "      <td>3.782831</td>\n",
              "    </tr>\n",
              "    <tr>\n",
              "      <th>2</th>\n",
              "      <td>2</td>\n",
              "      <td>3</td>\n",
              "      <td>5</td>\n",
              "      <td>2015-07-31</td>\n",
              "      <td>8314</td>\n",
              "      <td>821</td>\n",
              "      <td>1</td>\n",
              "      <td>regular_day</td>\n",
              "      <td>1</td>\n",
              "      <td>a</td>\n",
              "      <td>...</td>\n",
              "      <td>1.0</td>\n",
              "      <td>1</td>\n",
              "      <td>2015</td>\n",
              "      <td>7</td>\n",
              "      <td>31</td>\n",
              "      <td>31</td>\n",
              "      <td>105</td>\n",
              "      <td>226</td>\n",
              "      <td>91.181138</td>\n",
              "      <td>3.919862</td>\n",
              "    </tr>\n",
              "    <tr>\n",
              "      <th>3</th>\n",
              "      <td>3</td>\n",
              "      <td>4</td>\n",
              "      <td>5</td>\n",
              "      <td>2015-07-31</td>\n",
              "      <td>13995</td>\n",
              "      <td>1498</td>\n",
              "      <td>1</td>\n",
              "      <td>regular_day</td>\n",
              "      <td>1</td>\n",
              "      <td>c</td>\n",
              "      <td>...</td>\n",
              "      <td>1.0</td>\n",
              "      <td>0</td>\n",
              "      <td>2015</td>\n",
              "      <td>7</td>\n",
              "      <td>31</td>\n",
              "      <td>31</td>\n",
              "      <td>71</td>\n",
              "      <td>0</td>\n",
              "      <td>118.300465</td>\n",
              "      <td>4.146004</td>\n",
              "    </tr>\n",
              "    <tr>\n",
              "      <th>4</th>\n",
              "      <td>4</td>\n",
              "      <td>5</td>\n",
              "      <td>5</td>\n",
              "      <td>2015-07-31</td>\n",
              "      <td>4822</td>\n",
              "      <td>559</td>\n",
              "      <td>1</td>\n",
              "      <td>regular_day</td>\n",
              "      <td>1</td>\n",
              "      <td>a</td>\n",
              "      <td>...</td>\n",
              "      <td>1.0</td>\n",
              "      <td>0</td>\n",
              "      <td>2015</td>\n",
              "      <td>7</td>\n",
              "      <td>31</td>\n",
              "      <td>31</td>\n",
              "      <td>4</td>\n",
              "      <td>0</td>\n",
              "      <td>69.440622</td>\n",
              "      <td>3.683317</td>\n",
              "    </tr>\n",
              "  </tbody>\n",
              "</table>\n",
              "<p>5 rows × 27 columns</p>\n",
              "</div>\n",
              "      <button class=\"colab-df-convert\" onclick=\"convertToInteractive('df-63b46a6c-02d2-47f5-b83c-35448ed297ad')\"\n",
              "              title=\"Convert this dataframe to an interactive table.\"\n",
              "              style=\"display:none;\">\n",
              "        \n",
              "  <svg xmlns=\"http://www.w3.org/2000/svg\" height=\"24px\"viewBox=\"0 0 24 24\"\n",
              "       width=\"24px\">\n",
              "    <path d=\"M0 0h24v24H0V0z\" fill=\"none\"/>\n",
              "    <path d=\"M18.56 5.44l.94 2.06.94-2.06 2.06-.94-2.06-.94-.94-2.06-.94 2.06-2.06.94zm-11 1L8.5 8.5l.94-2.06 2.06-.94-2.06-.94L8.5 2.5l-.94 2.06-2.06.94zm10 10l.94 2.06.94-2.06 2.06-.94-2.06-.94-.94-2.06-.94 2.06-2.06.94z\"/><path d=\"M17.41 7.96l-1.37-1.37c-.4-.4-.92-.59-1.43-.59-.52 0-1.04.2-1.43.59L10.3 9.45l-7.72 7.72c-.78.78-.78 2.05 0 2.83L4 21.41c.39.39.9.59 1.41.59.51 0 1.02-.2 1.41-.59l7.78-7.78 2.81-2.81c.8-.78.8-2.07 0-2.86zM5.41 20L4 18.59l7.72-7.72 1.47 1.35L5.41 20z\"/>\n",
              "  </svg>\n",
              "      </button>\n",
              "      \n",
              "  <style>\n",
              "    .colab-df-container {\n",
              "      display:flex;\n",
              "      flex-wrap:wrap;\n",
              "      gap: 12px;\n",
              "    }\n",
              "\n",
              "    .colab-df-convert {\n",
              "      background-color: #E8F0FE;\n",
              "      border: none;\n",
              "      border-radius: 50%;\n",
              "      cursor: pointer;\n",
              "      display: none;\n",
              "      fill: #1967D2;\n",
              "      height: 32px;\n",
              "      padding: 0 0 0 0;\n",
              "      width: 32px;\n",
              "    }\n",
              "\n",
              "    .colab-df-convert:hover {\n",
              "      background-color: #E2EBFA;\n",
              "      box-shadow: 0px 1px 2px rgba(60, 64, 67, 0.3), 0px 1px 3px 1px rgba(60, 64, 67, 0.15);\n",
              "      fill: #174EA6;\n",
              "    }\n",
              "\n",
              "    [theme=dark] .colab-df-convert {\n",
              "      background-color: #3B4455;\n",
              "      fill: #D2E3FC;\n",
              "    }\n",
              "\n",
              "    [theme=dark] .colab-df-convert:hover {\n",
              "      background-color: #434B5C;\n",
              "      box-shadow: 0px 1px 3px 1px rgba(0, 0, 0, 0.15);\n",
              "      filter: drop-shadow(0px 1px 2px rgba(0, 0, 0, 0.3));\n",
              "      fill: #FFFFFF;\n",
              "    }\n",
              "  </style>\n",
              "\n",
              "      <script>\n",
              "        const buttonEl =\n",
              "          document.querySelector('#df-63b46a6c-02d2-47f5-b83c-35448ed297ad button.colab-df-convert');\n",
              "        buttonEl.style.display =\n",
              "          google.colab.kernel.accessAllowed ? 'block' : 'none';\n",
              "\n",
              "        async function convertToInteractive(key) {\n",
              "          const element = document.querySelector('#df-63b46a6c-02d2-47f5-b83c-35448ed297ad');\n",
              "          const dataTable =\n",
              "            await google.colab.kernel.invokeFunction('convertToInteractive',\n",
              "                                                     [key], {});\n",
              "          if (!dataTable) return;\n",
              "\n",
              "          const docLinkHtml = 'Like what you see? Visit the ' +\n",
              "            '<a target=\"_blank\" href=https://colab.research.google.com/notebooks/data_table.ipynb>data table notebook</a>'\n",
              "            + ' to learn more about interactive tables.';\n",
              "          element.innerHTML = '';\n",
              "          dataTable['output_type'] = 'display_data';\n",
              "          await google.colab.output.renderOutput(dataTable, element);\n",
              "          const docLink = document.createElement('div');\n",
              "          docLink.innerHTML = docLinkHtml;\n",
              "          element.appendChild(docLink);\n",
              "        }\n",
              "      </script>\n",
              "    </div>\n",
              "  </div>\n",
              "  "
            ]
          },
          "metadata": {},
          "execution_count": 4
        }
      ],
      "source": [
        "df.head() # vendo os dados"
      ]
    },
    {
      "cell_type": "code",
      "execution_count": null,
      "metadata": {
        "id": "AVu4WZfRq4BH"
      },
      "outputs": [],
      "source": [
        "df = df.drop(columns = ['Unnamed: 0'])"
      ]
    },
    {
      "cell_type": "code",
      "execution_count": null,
      "metadata": {
        "colab": {
          "base_uri": "https://localhost:8080/"
        },
        "id": "Ie9KTJgwq81Q",
        "outputId": "f43716bb-36f8-40fa-ef6d-6617b2d6446a"
      },
      "outputs": [
        {
          "output_type": "execute_result",
          "data": {
            "text/plain": [
              "0"
            ]
          },
          "metadata": {},
          "execution_count": 13
        }
      ],
      "source": [
        "np.sum(df.sales == 0)"
      ]
    },
    {
      "cell_type": "markdown",
      "metadata": {
        "id": "4ETZUwdCp05m"
      },
      "source": [
        "* Olhando os dados de Target antes de prosseguir com o projeto."
      ]
    },
    {
      "cell_type": "code",
      "execution_count": null,
      "metadata": {
        "colab": {
          "base_uri": "https://localhost:8080/",
          "height": 242
        },
        "id": "vW1x0SCrqCIw",
        "outputId": "c4a70245-87b9-41c7-fd99-7a229d82ddde"
      },
      "outputs": [
        {
          "output_type": "display_data",
          "data": {
            "text/plain": [
              "<Figure size 2592x432 with 3 Axes>"
            ],
            "image/png": "[encoded data removed]"
          },
          "metadata": {}
        }
      ],
      "source": [
        "plt.rc('ytick', labelsize=12)\n",
        "plt.rc('xtick', labelsize=12)\n",
        "plt.figure(figsize=(36,6))\n",
        "plt.subplot(1,3,1)\n",
        "plt.title('Vendas por feriados',size=18,fontweight= 'bold')\n",
        "sns.histplot(x='sales', data=df)\n",
        "plt.xlabel('Vendas', fontsize = 14,fontweight= 'bold')\n",
        "plt.ylabel('Contagem', fontsize = 14,fontweight= 'bold')\n",
        "plt.semilogy()\n",
        "plt.subplot(1,3,2)\n",
        "plt.title('Vendas por feriados',size=18,fontweight= 'bold')\n",
        "sns.histplot(x='Sales_raiz', data=df)\n",
        "plt.xlabel('Vendas', fontsize = 14,fontweight= 'bold')\n",
        "plt.ylabel('Contagem', fontsize = 14,fontweight= 'bold')\n",
        "plt.semilogy()\n",
        "plt.subplot(1,3,3)\n",
        "plt.title('Vendas por feriados',size=18,fontweight= 'bold')\n",
        "sns.histplot(x='Sales_log10', data=df)\n",
        "plt.xlabel('Vendas', fontsize = 14,fontweight= 'bold')\n",
        "plt.ylabel('Contagem', fontsize = 14,fontweight= 'bold')\n",
        "plt.semilogy()\n",
        "plt.show()"
      ]
    },
    {
      "cell_type": "markdown",
      "metadata": {
        "id": "ySnLil2tALcu"
      },
      "source": [
        "* Verificando a tranformação inversa."
      ]
    },
    {
      "cell_type": "code",
      "execution_count": null,
      "metadata": {
        "colab": {
          "base_uri": "https://localhost:8080/"
        },
        "id": "z6TqJmHTAQA2",
        "outputId": "0ae6cf73-61b9-460e-adea-2b339511039b"
      },
      "outputs": [
        {
          "data": {
            "text/plain": [
              "(731432, (731432, 26))"
            ]
          },
          "execution_count": 15,
          "metadata": {},
          "output_type": "execute_result"
        }
      ],
      "source": [
        "np.sum(np.round((10**df['Sales_log10'] - 1)) - df['sales'] == 0),df.shape"
      ]
    },
    {
      "cell_type": "code",
      "execution_count": null,
      "metadata": {
        "colab": {
          "base_uri": "https://localhost:8080/"
        },
        "id": "xjbWNEPfAqKp",
        "outputId": "2d12d4c5-43da-4c13-aa40-53596f44be0a"
      },
      "outputs": [
        {
          "data": {
            "text/plain": [
              "(731432, (731432, 26))"
            ]
          },
          "execution_count": 16,
          "metadata": {},
          "output_type": "execute_result"
        }
      ],
      "source": [
        "np.sum(np.round(df['Sales_raiz']**2) - df['sales'] == 0),df.shape"
      ]
    },
    {
      "cell_type": "markdown",
      "metadata": {
        "id": "_MhMtcUHPWX6"
      },
      "source": [
        "* Contagem de dias"
      ]
    },
    {
      "cell_type": "code",
      "execution_count": null,
      "metadata": {
        "id": "1FO9kpGyP97N"
      },
      "outputs": [],
      "source": [
        "df['date'] = pd.to_datetime(df['date'])"
      ]
    },
    {
      "cell_type": "code",
      "execution_count": null,
      "metadata": {
        "id": "otlWSy7aPZDT"
      },
      "outputs": [],
      "source": [
        "dias_mes = []\n",
        "for i in range(1,13):\n",
        "  dias_mes.append(np.max(df['date'].dt.day[df['date'].dt.month == i]))\n",
        "\n",
        "soma_dias = []\n",
        "\n",
        "for i in range(1,13):\n",
        "  soma_dias.append(np.sum(dias_mes[:i]))\n",
        "\n",
        "vetor = np.zeros(df.shape[0])\n",
        "\n",
        "for i in range(2,13):\n",
        "  vetor[df['date'].dt.month == i] = soma_dias[i -2]\n",
        "\n",
        "df['Total_dias']= vetor + df['date'].dt.day "
      ]
    },
    {
      "cell_type": "code",
      "execution_count": null,
      "metadata": {
        "colab": {
          "base_uri": "https://localhost:8080/"
        },
        "id": "J1XK5p-SeZAR",
        "outputId": "c2bd0b33-02ba-4f82-dbcd-aabb17c9f525"
      },
      "outputs": [
        {
          "name": "stderr",
          "output_type": "stream",
          "text": [
            "/usr/local/lib/python3.7/dist-packages/ipykernel_launcher.py:1: SettingWithCopyWarning: \n",
            "A value is trying to be set on a copy of a slice from a DataFrame\n",
            "\n",
            "See the caveats in the documentation: https://pandas.pydata.org/pandas-docs/stable/user_guide/indexing.html#returning-a-view-versus-a-copy\n",
            "  \"\"\"Entry point for launching an IPython kernel.\n",
            "/usr/local/lib/python3.7/dist-packages/ipykernel_launcher.py:2: SettingWithCopyWarning: \n",
            "A value is trying to be set on a copy of a slice from a DataFrame\n",
            "\n",
            "See the caveats in the documentation: https://pandas.pydata.org/pandas-docs/stable/user_guide/indexing.html#returning-a-view-versus-a-copy\n",
            "  \n"
          ]
        }
      ],
      "source": [
        "df['Total_dias'][df['year'] == 2014] = df['Total_dias'][df['year'] == 2014] +  df['Total_dias'][df['year'] == 2013].unique()[0]\n",
        "df['Total_dias'][df['year'] == 2015] = df['Total_dias'][df['year'] == 2015] +   df['Total_dias'][df['year'] == 2014].unique()[0]"
      ]
    },
    {
      "cell_type": "code",
      "execution_count": null,
      "metadata": {
        "colab": {
          "base_uri": "https://localhost:8080/"
        },
        "id": "oic18ZPWeZCk",
        "outputId": "a244192c-57bd-4130-f964-0a7fae0a6498"
      },
      "outputs": [
        {
          "data": {
            "text/plain": [
              "array([nan,  0., -1.])"
            ]
          },
          "execution_count": 20,
          "metadata": {},
          "output_type": "execute_result"
        }
      ],
      "source": [
        "df['Total_dias'].diff().unique()"
      ]
    },
    {
      "cell_type": "code",
      "execution_count": null,
      "metadata": {
        "id": "OxA-mzG83nHI"
      },
      "outputs": [],
      "source": [
        "df = df.reindex(index=df.index[::-1])\n",
        "df.index = np.arange(df.shape[0])"
      ]
    },
    {
      "cell_type": "markdown",
      "metadata": {
        "id": "2jUOwO7krJWU"
      },
      "source": [
        "# Separando os dados de Teste e Validação."
      ]
    },
    {
      "cell_type": "code",
      "execution_count": null,
      "metadata": {
        "id": "1Thzx0QarrlI"
      },
      "outputs": [],
      "source": [
        "val   = df.copy()\n",
        "test  = df.copy()"
      ]
    },
    {
      "cell_type": "code",
      "execution_count": null,
      "metadata": {
        "id": "jm6L7ax2rPEk"
      },
      "outputs": [],
      "source": [
        "val  = val[val['date'] < '2015-06-19']     # Dados de validação\n",
        "test = test[test['date'] >= '2015-06-19']  # Dados de teste"
      ]
    },
    {
      "cell_type": "markdown",
      "metadata": {
        "id": "G0uOOFg3TFI1"
      },
      "source": [
        "# Dados strings.\n",
        "\n",
        "* Codificando os dados string."
      ]
    },
    {
      "cell_type": "code",
      "execution_count": null,
      "metadata": {
        "colab": {
          "base_uri": "https://localhost:8080/"
        },
        "id": "-TbxIiEhqjxw",
        "outputId": "d5b56f0d-1e4c-4830-87f8-19e7326fb2d5"
      },
      "outputs": [
        {
          "name": "stdout",
          "output_type": "stream",
          "text": [
            "Dados de Validação\n",
            "Dados únicos state holiday ['regular_day' 'public_holiday' 'easter_holiday' 'christmas']\n",
            "Dados únicos store type ['d' 'a' 'c' 'b']\n",
            "Dados únicos assortment ['extended' 'basic' 'extra']\n"
          ]
        }
      ],
      "source": [
        "print('Dados de Validação')\n",
        "print('Dados únicos state holiday',val['state_holiday'].unique())\n",
        "print('Dados únicos store type',val['store_type'].unique())\n",
        "print('Dados únicos assortment',val['assortment'].unique())"
      ]
    },
    {
      "cell_type": "code",
      "execution_count": null,
      "metadata": {
        "colab": {
          "base_uri": "https://localhost:8080/"
        },
        "id": "0d3s8GvMqj1B",
        "outputId": "da6985cb-c532-4664-aa69-a0cd97271dfe"
      },
      "outputs": [
        {
          "name": "stdout",
          "output_type": "stream",
          "text": [
            "Dados de teste\n",
            "Dados únicos state holiday ['regular_day']\n",
            "Dados únicos store type ['d' 'a' 'c' 'b']\n",
            "Dados únicos assortment ['extended' 'basic' 'extra']\n"
          ]
        }
      ],
      "source": [
        "print('Dados de teste')\n",
        "print('Dados únicos state holiday',test['state_holiday'].unique())\n",
        "print('Dados únicos store type',test['store_type'].unique())\n",
        "print('Dados únicos assortment',test['assortment'].unique())"
      ]
    },
    {
      "cell_type": "markdown",
      "metadata": {
        "id": "cO_wbhRDsm-_"
      },
      "source": [
        "* Será criado cópias do dataset para poder ficar mais fácil de trabalhar.\n",
        "* Logo, temos os seguintes datasets:\n",
        "* Dataset df1.\n",
        "  - state_holiday -> get_dummies.\n",
        "  - store_type    -> get_dummies.\n",
        "  - assortment    -> get_dummies.\n",
        "* Dataset df2.\n",
        "  - state_holiday -> get_dummies.\n",
        "  - store_type    -> Labelencoder.\n",
        "  - assortment    -> get_dummies.\n",
        "* Dataset df3.\n",
        "  - state_holiday -> get_dummies.\n",
        "  - store_type    -> get_dummies.\n",
        "  - assortment    -> Labelencoder.\n",
        "* Dataset df4.\n",
        "  - state_holiday -> get_dummies.\n",
        "  - store_type    -> Labelencoder.\n",
        "  - assortment    -> Labelencoder.\n",
        "* Dataset df5.\n",
        "  - state_holiday -> Labelencoder.\n",
        "  - store_type    -> Labelencoder.\n",
        "  - assortment    -> Labelencoder.\n",
        " \n",
        " \n",
        " \n",
        " \n"
      ]
    },
    {
      "cell_type": "code",
      "execution_count": null,
      "metadata": {
        "id": "zLEh7MgPxI4K"
      },
      "outputs": [],
      "source": [
        "df1 = val.copy() \n",
        "df2 = val.copy() \n",
        "df3 = val.copy() \n",
        "df4 = val.copy() \n",
        "df5 = val.copy() "
      ]
    },
    {
      "cell_type": "code",
      "execution_count": null,
      "metadata": {
        "id": "OenOqhv7x_0m"
      },
      "outputs": [],
      "source": [
        "col = ['state_holiday','store_type','assortment']"
      ]
    },
    {
      "cell_type": "code",
      "execution_count": null,
      "metadata": {
        "id": "50HyXBEvqj4a"
      },
      "outputs": [],
      "source": [
        "# Codficando df1\n",
        "df1 = dummies_var(df1,col)\n",
        "\n",
        "# codificando df2\n",
        "df2 = dummies_var(df2,[col[0],col[2]])\n",
        "df2 = label_encoder(df2,col[1])\n",
        "\n",
        "# codificando df3\n",
        "df3 = dummies_var(df3,[col[0],col[1]])\n",
        "df3 = label_encoder(df3,col[2])\n",
        "\n",
        "# codificando df4\n",
        "df4 = dummies_var(df4,col[0])\n",
        "df4 = label_encoder(df4,col[1])\n",
        "df4 = label_encoder(df4,col[2])\n",
        "\n",
        "# codificando df5\n",
        "df5 = label_encoder(df5,col[0])\n",
        "df5 = label_encoder(df5,col[1])\n",
        "df5 = label_encoder(df5,col[2])\n"
      ]
    },
    {
      "cell_type": "code",
      "execution_count": null,
      "metadata": {
        "id": "5xszG_jAqj88"
      },
      "outputs": [],
      "source": [
        "# Modelo padrão\n",
        "model    = RandomForestRegressor(n_estimators = 10,random_state = 10) "
      ]
    },
    {
      "cell_type": "code",
      "execution_count": null,
      "metadata": {
        "id": "844u-0Aey0ws"
      },
      "outputs": [],
      "source": [
        "#np.log2(30)"
      ]
    },
    {
      "cell_type": "code",
      "execution_count": null,
      "metadata": {
        "id": "iTZEQzFH0zai"
      },
      "outputs": [],
      "source": [
        "Date = val['date']"
      ]
    },
    {
      "cell_type": "code",
      "execution_count": null,
      "metadata": {
        "id": "WYGoEREAS2la"
      },
      "outputs": [],
      "source": [
        "df1.index = np.arange(df1.shape[0])\n",
        "X1   = df1.drop(columns = ['date','sales','Sales_raiz','Sales_log10'])\n",
        "Y1_n = df1[['sales','Total_dias']]\n",
        "Y1_r = df1[['Sales_raiz','Total_dias']]\n",
        "Y1_l = df1[['Sales_log10','Total_dias']]\n",
        "\n",
        "df2.index = np.arange(df2.shape[0])\n",
        "X2   = df2.drop(columns = ['date','sales','Sales_raiz','Sales_log10'])\n",
        "Y2_n = df2[['sales','Total_dias']]\n",
        "Y2_r = df2[['Sales_raiz','Total_dias']]\n",
        "Y2_l = df2[['Sales_log10','Total_dias']]\n",
        "\n",
        "df3.index = np.arange(df3.shape[0])\n",
        "X3   = df3.drop(columns = ['date','sales','Sales_raiz','Sales_log10'])\n",
        "Y3_n = df3[['sales','Total_dias']]\n",
        "Y3_r = df3[['Sales_raiz','Total_dias']]\n",
        "Y3_l = df3[['Sales_log10','Total_dias']]\n",
        "\n",
        "df4.index = np.arange(df4.shape[0])\n",
        "X4   = df4.drop(columns = ['date','sales','Sales_raiz','Sales_log10'])\n",
        "Y4_n = df4[['sales','Total_dias']]\n",
        "Y4_r = df4[['Sales_raiz','Total_dias']]\n",
        "Y4_l = df4[['Sales_log10','Total_dias']]\n",
        "\n",
        "df5.index = np.arange(df5.shape[0])\n",
        "X5        = df5.drop(columns = ['date','sales','Sales_raiz','Sales_log10'])\n",
        "Y5_n      = df5[['sales','Total_dias']]\n",
        "Y5_r      = df5[['Sales_raiz','Total_dias']]\n",
        "Y5_l      = df5[['Sales_log10','Total_dias']]"
      ]
    },
    {
      "cell_type": "code",
      "execution_count": null,
      "metadata": {
        "id": "ODy1sSX5mTR5"
      },
      "outputs": [],
      "source": [
        "#flag = 'normal'"
      ]
    },
    {
      "cell_type": "code",
      "execution_count": null,
      "metadata": {
        "colab": {
          "base_uri": "https://localhost:8080/",
          "height": 300
        },
        "id": "NoGl7PA5QJWt",
        "outputId": "93991401-23ca-444f-b873-8398cec7d85d"
      },
      "outputs": [
        {
          "data": {
            "text/html": [
              "\n",
              "  <div id=\"df-a9c00d3d-8b17-4b64-b9bc-63725fdf6292\">\n",
              "    <div class=\"colab-df-container\">\n",
              "      <div>\n",
              "<style scoped>\n",
              "    .dataframe tbody tr th:only-of-type {\n",
              "        vertical-align: middle;\n",
              "    }\n",
              "\n",
              "    .dataframe tbody tr th {\n",
              "        vertical-align: top;\n",
              "    }\n",
              "\n",
              "    .dataframe thead th {\n",
              "        text-align: right;\n",
              "    }\n",
              "</style>\n",
              "<table border=\"1\" class=\"dataframe\">\n",
              "  <thead>\n",
              "    <tr style=\"text-align: right;\">\n",
              "      <th></th>\n",
              "      <th>store</th>\n",
              "      <th>day_of_week</th>\n",
              "      <th>customers</th>\n",
              "      <th>promo</th>\n",
              "      <th>school_holiday</th>\n",
              "      <th>assortment</th>\n",
              "      <th>competition_distance</th>\n",
              "      <th>competition_open_since_month</th>\n",
              "      <th>competition_open_since_year</th>\n",
              "      <th>promo2</th>\n",
              "      <th>...</th>\n",
              "      <th>promo_time_week</th>\n",
              "      <th>Total_dias</th>\n",
              "      <th>state_holiday_christmas</th>\n",
              "      <th>state_holiday_easter_holiday</th>\n",
              "      <th>state_holiday_public_holiday</th>\n",
              "      <th>state_holiday_regular_day</th>\n",
              "      <th>store_type_a</th>\n",
              "      <th>store_type_b</th>\n",
              "      <th>store_type_c</th>\n",
              "      <th>store_type_d</th>\n",
              "    </tr>\n",
              "  </thead>\n",
              "  <tbody>\n",
              "    <tr>\n",
              "      <th>0</th>\n",
              "      <td>1115</td>\n",
              "      <td>4</td>\n",
              "      <td>300</td>\n",
              "      <td>0</td>\n",
              "      <td>1</td>\n",
              "      <td>1</td>\n",
              "      <td>5350.0</td>\n",
              "      <td>1</td>\n",
              "      <td>2013</td>\n",
              "      <td>1</td>\n",
              "      <td>...</td>\n",
              "      <td>32</td>\n",
              "      <td>3.0</td>\n",
              "      <td>0</td>\n",
              "      <td>0</td>\n",
              "      <td>0</td>\n",
              "      <td>1</td>\n",
              "      <td>0</td>\n",
              "      <td>0</td>\n",
              "      <td>0</td>\n",
              "      <td>1</td>\n",
              "    </tr>\n",
              "    <tr>\n",
              "      <th>1</th>\n",
              "      <td>1114</td>\n",
              "      <td>4</td>\n",
              "      <td>3211</td>\n",
              "      <td>0</td>\n",
              "      <td>1</td>\n",
              "      <td>1</td>\n",
              "      <td>870.0</td>\n",
              "      <td>1</td>\n",
              "      <td>2013</td>\n",
              "      <td>0</td>\n",
              "      <td>...</td>\n",
              "      <td>0</td>\n",
              "      <td>3.0</td>\n",
              "      <td>0</td>\n",
              "      <td>0</td>\n",
              "      <td>0</td>\n",
              "      <td>1</td>\n",
              "      <td>1</td>\n",
              "      <td>0</td>\n",
              "      <td>0</td>\n",
              "      <td>0</td>\n",
              "    </tr>\n",
              "    <tr>\n",
              "      <th>2</th>\n",
              "      <td>1113</td>\n",
              "      <td>4</td>\n",
              "      <td>718</td>\n",
              "      <td>0</td>\n",
              "      <td>1</td>\n",
              "      <td>1</td>\n",
              "      <td>9260.0</td>\n",
              "      <td>1</td>\n",
              "      <td>2013</td>\n",
              "      <td>0</td>\n",
              "      <td>...</td>\n",
              "      <td>0</td>\n",
              "      <td>3.0</td>\n",
              "      <td>0</td>\n",
              "      <td>0</td>\n",
              "      <td>0</td>\n",
              "      <td>1</td>\n",
              "      <td>1</td>\n",
              "      <td>0</td>\n",
              "      <td>0</td>\n",
              "      <td>0</td>\n",
              "    </tr>\n",
              "    <tr>\n",
              "      <th>3</th>\n",
              "      <td>1112</td>\n",
              "      <td>4</td>\n",
              "      <td>809</td>\n",
              "      <td>0</td>\n",
              "      <td>1</td>\n",
              "      <td>1</td>\n",
              "      <td>1880.0</td>\n",
              "      <td>4</td>\n",
              "      <td>2006</td>\n",
              "      <td>0</td>\n",
              "      <td>...</td>\n",
              "      <td>0</td>\n",
              "      <td>3.0</td>\n",
              "      <td>0</td>\n",
              "      <td>0</td>\n",
              "      <td>0</td>\n",
              "      <td>1</td>\n",
              "      <td>0</td>\n",
              "      <td>0</td>\n",
              "      <td>1</td>\n",
              "      <td>0</td>\n",
              "    </tr>\n",
              "    <tr>\n",
              "      <th>4</th>\n",
              "      <td>1111</td>\n",
              "      <td>4</td>\n",
              "      <td>444</td>\n",
              "      <td>0</td>\n",
              "      <td>1</td>\n",
              "      <td>0</td>\n",
              "      <td>1900.0</td>\n",
              "      <td>6</td>\n",
              "      <td>2014</td>\n",
              "      <td>1</td>\n",
              "      <td>...</td>\n",
              "      <td>-30</td>\n",
              "      <td>3.0</td>\n",
              "      <td>0</td>\n",
              "      <td>0</td>\n",
              "      <td>0</td>\n",
              "      <td>1</td>\n",
              "      <td>1</td>\n",
              "      <td>0</td>\n",
              "      <td>0</td>\n",
              "      <td>0</td>\n",
              "    </tr>\n",
              "  </tbody>\n",
              "</table>\n",
              "<p>5 rows × 29 columns</p>\n",
              "</div>\n",
              "      <button class=\"colab-df-convert\" onclick=\"convertToInteractive('df-a9c00d3d-8b17-4b64-b9bc-63725fdf6292')\"\n",
              "              title=\"Convert this dataframe to an interactive table.\"\n",
              "              style=\"display:none;\">\n",
              "        \n",
              "  <svg xmlns=\"http://www.w3.org/2000/svg\" height=\"24px\"viewBox=\"0 0 24 24\"\n",
              "       width=\"24px\">\n",
              "    <path d=\"M0 0h24v24H0V0z\" fill=\"none\"/>\n",
              "    <path d=\"M18.56 5.44l.94 2.06.94-2.06 2.06-.94-2.06-.94-.94-2.06-.94 2.06-2.06.94zm-11 1L8.5 8.5l.94-2.06 2.06-.94-2.06-.94L8.5 2.5l-.94 2.06-2.06.94zm10 10l.94 2.06.94-2.06 2.06-.94-2.06-.94-.94-2.06-.94 2.06-2.06.94z\"/><path d=\"M17.41 7.96l-1.37-1.37c-.4-.4-.92-.59-1.43-.59-.52 0-1.04.2-1.43.59L10.3 9.45l-7.72 7.72c-.78.78-.78 2.05 0 2.83L4 21.41c.39.39.9.59 1.41.59.51 0 1.02-.2 1.41-.59l7.78-7.78 2.81-2.81c.8-.78.8-2.07 0-2.86zM5.41 20L4 18.59l7.72-7.72 1.47 1.35L5.41 20z\"/>\n",
              "  </svg>\n",
              "      </button>\n",
              "      \n",
              "  <style>\n",
              "    .colab-df-container {\n",
              "      display:flex;\n",
              "      flex-wrap:wrap;\n",
              "      gap: 12px;\n",
              "    }\n",
              "\n",
              "    .colab-df-convert {\n",
              "      background-color: #E8F0FE;\n",
              "      border: none;\n",
              "      border-radius: 50%;\n",
              "      cursor: pointer;\n",
              "      display: none;\n",
              "      fill: #1967D2;\n",
              "      height: 32px;\n",
              "      padding: 0 0 0 0;\n",
              "      width: 32px;\n",
              "    }\n",
              "\n",
              "    .colab-df-convert:hover {\n",
              "      background-color: #E2EBFA;\n",
              "      box-shadow: 0px 1px 2px rgba(60, 64, 67, 0.3), 0px 1px 3px 1px rgba(60, 64, 67, 0.15);\n",
              "      fill: #174EA6;\n",
              "    }\n",
              "\n",
              "    [theme=dark] .colab-df-convert {\n",
              "      background-color: #3B4455;\n",
              "      fill: #D2E3FC;\n",
              "    }\n",
              "\n",
              "    [theme=dark] .colab-df-convert:hover {\n",
              "      background-color: #434B5C;\n",
              "      box-shadow: 0px 1px 3px 1px rgba(0, 0, 0, 0.15);\n",
              "      filter: drop-shadow(0px 1px 2px rgba(0, 0, 0, 0.3));\n",
              "      fill: #FFFFFF;\n",
              "    }\n",
              "  </style>\n",
              "\n",
              "      <script>\n",
              "        const buttonEl =\n",
              "          document.querySelector('#df-a9c00d3d-8b17-4b64-b9bc-63725fdf6292 button.colab-df-convert');\n",
              "        buttonEl.style.display =\n",
              "          google.colab.kernel.accessAllowed ? 'block' : 'none';\n",
              "\n",
              "        async function convertToInteractive(key) {\n",
              "          const element = document.querySelector('#df-a9c00d3d-8b17-4b64-b9bc-63725fdf6292');\n",
              "          const dataTable =\n",
              "            await google.colab.kernel.invokeFunction('convertToInteractive',\n",
              "                                                     [key], {});\n",
              "          if (!dataTable) return;\n",
              "\n",
              "          const docLinkHtml = 'Like what you see? Visit the ' +\n",
              "            '<a target=\"_blank\" href=https://colab.research.google.com/notebooks/data_table.ipynb>data table notebook</a>'\n",
              "            + ' to learn more about interactive tables.';\n",
              "          element.innerHTML = '';\n",
              "          dataTable['output_type'] = 'display_data';\n",
              "          await google.colab.output.renderOutput(dataTable, element);\n",
              "          const docLink = document.createElement('div');\n",
              "          docLink.innerHTML = docLinkHtml;\n",
              "          element.appendChild(docLink);\n",
              "        }\n",
              "      </script>\n",
              "    </div>\n",
              "  </div>\n",
              "  "
            ],
            "text/plain": [
              "   store  day_of_week  customers  promo  school_holiday  assortment  \\\n",
              "0   1115            4        300      0               1           1   \n",
              "1   1114            4       3211      0               1           1   \n",
              "2   1113            4        718      0               1           1   \n",
              "3   1112            4        809      0               1           1   \n",
              "4   1111            4        444      0               1           0   \n",
              "\n",
              "   competition_distance  competition_open_since_month  \\\n",
              "0                5350.0                             1   \n",
              "1                 870.0                             1   \n",
              "2                9260.0                             1   \n",
              "3                1880.0                             4   \n",
              "4                1900.0                             6   \n",
              "\n",
              "   competition_open_since_year  promo2  ...  promo_time_week  Total_dias  \\\n",
              "0                         2013       1  ...               32         3.0   \n",
              "1                         2013       0  ...                0         3.0   \n",
              "2                         2013       0  ...                0         3.0   \n",
              "3                         2006       0  ...                0         3.0   \n",
              "4                         2014       1  ...              -30         3.0   \n",
              "\n",
              "   state_holiday_christmas  state_holiday_easter_holiday  \\\n",
              "0                        0                             0   \n",
              "1                        0                             0   \n",
              "2                        0                             0   \n",
              "3                        0                             0   \n",
              "4                        0                             0   \n",
              "\n",
              "   state_holiday_public_holiday  state_holiday_regular_day  store_type_a  \\\n",
              "0                             0                          1             0   \n",
              "1                             0                          1             1   \n",
              "2                             0                          1             1   \n",
              "3                             0                          1             0   \n",
              "4                             0                          1             1   \n",
              "\n",
              "   store_type_b  store_type_c  store_type_d  \n",
              "0             0             0             1  \n",
              "1             0             0             0  \n",
              "2             0             0             0  \n",
              "3             0             1             0  \n",
              "4             0             0             0  \n",
              "\n",
              "[5 rows x 29 columns]"
            ]
          },
          "execution_count": 34,
          "metadata": {},
          "output_type": "execute_result"
        }
      ],
      "source": [
        "X3.head()"
      ]
    },
    {
      "cell_type": "code",
      "execution_count": null,
      "metadata": {
        "colab": {
          "base_uri": "https://localhost:8080/"
        },
        "id": "M0q37q_7dSsh",
        "outputId": "70b397f9-90a1-48c8-b1e9-88482b05c830"
      },
      "outputs": [
        {
          "name": "stdout",
          "output_type": "stream",
          "text": [
            "target Normal\n",
            "Data do inicio do treinamento: 2013-01-03 Data do final do treinamento : 2014-11-19\n",
            "Data do inicio do Validação  : 2014-11-20 Data do final do Validação   : 2015-01-01\n",
            "MAPE:  7.72047\n",
            "RMSLE: 0.00942\n",
            "RMSE:  876.23745\n",
            "Data do inicio do treinamento: 2013-01-03 Data do final do treinamento : 2014-12-31\n",
            "Data do inicio do Validação  : 2015-01-01 Data do final do Validação   : 2015-02-12\n",
            "MAPE:  5.53011\n",
            "RMSLE: 0.00548\n",
            "RMSE:  529.54456\n",
            "Data do inicio do treinamento: 2013-01-03 Data do final do treinamento : 2015-02-11\n",
            "Data do inicio do Validação  : 2015-02-12 Data do final do Validação   : 2015-03-26\n",
            "MAPE:  4.89414\n",
            "RMSLE: 0.00398\n",
            "RMSE:  417.11663\n",
            "Data do inicio do treinamento: 2013-01-03 Data do final do treinamento : 2015-03-25\n",
            "Data do inicio do Validação  : 2015-03-26 Data do final do Validação   : 2015-05-07\n",
            "MAPE:  5.89704\n",
            "RMSLE: 0.00590\n",
            "RMSE:  677.54737\n",
            "Data do inicio do treinamento: 2013-01-03 Data do final do treinamento : 2015-05-06\n",
            "Data do inicio do Validação  : 2015-05-07 Data do final do Validação   : 2015-06-18\n",
            "MAPE:  5.23625\n",
            "RMSLE: 0.00454\n",
            "RMSE:  507.40426\n",
            "Mape Geral:  5.85560 Std: 0.98928 Erro: 0.44242\n",
            "Rmsle Geral: 0.00586 Std: 0.00190 Erro: 0.00085\n",
            "Rmse Geral:  601.57006 Std: 160.80589 Erro: 71.91458\n",
            "\n",
            "\n",
            "Sqrt no target\n",
            "Data do inicio do treinamento: 2013-01-03 Data do final do treinamento : 2014-11-19\n",
            "Data do inicio do Validação  : 2014-11-20 Data do final do Validação   : 2015-01-01\n",
            "MAPE:  7.86092\n",
            "RMSLE: 0.00955\n",
            "RMSE:  884.7322\n",
            "Data do inicio do treinamento: 2013-01-03 Data do final do treinamento : 2014-12-31\n",
            "Data do inicio do Validação  : 2015-01-01 Data do final do Validação   : 2015-02-12\n",
            "MAPE:  5.47962\n",
            "RMSLE: 0.00525\n",
            "RMSE:  516.57701\n",
            "Data do inicio do treinamento: 2013-01-03 Data do final do treinamento : 2015-02-11\n",
            "Data do inicio do Validação  : 2015-02-12 Data do final do Validação   : 2015-03-26\n",
            "MAPE:  4.91235\n",
            "RMSLE: 0.00401\n",
            "RMSE:  417.83753\n",
            "Data do inicio do treinamento: 2013-01-03 Data do final do treinamento : 2015-03-25\n",
            "Data do inicio do Validação  : 2015-03-26 Data do final do Validação   : 2015-05-07\n",
            "MAPE:  5.91598\n",
            "RMSLE: 0.00585\n",
            "RMSE:  675.39022\n",
            "Data do inicio do treinamento: 2013-01-03 Data do final do treinamento : 2015-05-06\n",
            "Data do inicio do Validação  : 2015-05-07 Data do final do Validação   : 2015-06-18\n",
            "MAPE:  5.29934\n",
            "RMSLE: 0.00455\n",
            "RMSE:  502.57137\n",
            "Mape Geral:  5.89364 Std: 1.03520 Erro: 0.46296\n",
            "Rmsle Geral: 0.00584 Std: 0.00196 Erro: 0.00088\n",
            "Rmse Geral:  599.42166 Std: 165.16013 Erro: 73.86185\n",
            "\n",
            "\n",
            "log no target\n",
            "Data do inicio do treinamento: 2013-01-03 Data do final do treinamento : 2014-11-19\n",
            "Data do inicio do Validação  : 2014-11-20 Data do final do Validação   : 2015-01-01\n",
            "MAPE:  8.01321\n",
            "RMSLE: 0.00988\n",
            "RMSE:  903.06188\n",
            "Data do inicio do treinamento: 2013-01-03 Data do final do treinamento : 2014-12-31\n",
            "Data do inicio do Validação  : 2015-01-01 Data do final do Validação   : 2015-02-12\n",
            "MAPE:  5.51366\n",
            "RMSLE: 0.00529\n",
            "RMSE:  525.74376\n",
            "Data do inicio do treinamento: 2013-01-03 Data do final do treinamento : 2015-02-11\n",
            "Data do inicio do Validação  : 2015-02-12 Data do final do Validação   : 2015-03-26\n",
            "MAPE:  4.9541\n",
            "RMSLE: 0.00406\n",
            "RMSE:  419.65043\n",
            "Data do inicio do treinamento: 2013-01-03 Data do final do treinamento : 2015-03-25\n",
            "Data do inicio do Validação  : 2015-03-26 Data do final do Validação   : 2015-05-07\n",
            "MAPE:  5.95904\n",
            "RMSLE: 0.00597\n",
            "RMSE:  683.56832\n",
            "Data do inicio do treinamento: 2013-01-03 Data do final do treinamento : 2015-05-06\n",
            "Data do inicio do Validação  : 2015-05-07 Data do final do Validação   : 2015-06-18\n",
            "MAPE:  5.30144\n",
            "RMSLE: 0.00455\n",
            "RMSE:  506.19739\n",
            "Mape Geral:  5.94829 Std: 1.08257 Erro: 0.48414\n",
            "Rmsle Geral: 0.00595 Std: 0.00207 Erro: 0.00093\n",
            "Rmse Geral:  607.64436 Std: 170.51503 Erro: 76.25664\n"
          ]
        }
      ],
      "source": [
        "print('target Normal')\n",
        "vetor_MAPE1_n,vetor_MSLR1_n,vetor_RMSE1_n = validation(X1,Y1_n,'sales','normal',Date)\n",
        "print('\\n')\n",
        "print('Sqrt no target')\n",
        "vetor_MAPE1_r,vetor_MSLR1_r,vetor_RMSE1_r = validation(X1,Y1_r,'Sales_raiz','sqrt',Date)\n",
        "print('\\n')\n",
        "print('log no target')\n",
        "vetor_MAPE1_l,vetor_MSLR1_l,vetor_RMSE1_l = validation(X1,Y1_l,'Sales_log10','log',Date)"
      ]
    },
    {
      "cell_type": "code",
      "execution_count": null,
      "metadata": {
        "id": "NVw_IFSO48oS"
      },
      "outputs": [],
      "source": [
        "#normal\n",
        "#Mape Geral:  5.85560 Std: 0.98928 Erro: 0.44242\n",
        "#Rmsle Geral: 0.00586 Std: 0.00190 Erro: 0.00085\n",
        "#Rmse Geral:  601.57006 Std: 160.80589 Erro: 71.91458\n",
        "\n",
        "#sqrt\n",
        "#Mape Geral:  5.89364 Std: 1.03520 Erro: 0.46296\n",
        "#Rmsle Geral: 0.00584 Std: 0.00196 Erro: 0.00088\n",
        "#Rmse Geral:  599.42166 Std: 165.16013 Erro: 73.86185\n",
        "\n",
        "#log\n",
        "#Mape Geral:  5.94829 Std: 1.08257 Erro: 0.48414\n",
        "#Rmsle Geral: 0.00595 Std: 0.00207 Erro: 0.00093\n",
        "#Rmse Geral:  607.64436 Std: 170.51503 Erro: 76.25664"
      ]
    },
    {
      "cell_type": "code",
      "execution_count": null,
      "metadata": {
        "colab": {
          "background_save": true,
          "base_uri": "https://localhost:8080/"
        },
        "id": "VTLV_FnYjhar",
        "outputId": "2d76698b-9bbd-4117-dd51-5ed1934c1853"
      },
      "outputs": [
        {
          "name": "stdout",
          "output_type": "stream",
          "text": [
            "target Normal\n",
            "Data do inicio do treinamento: 2013-01-03 Data do final do treinamento : 2014-11-19\n",
            "Data do inicio do Validação  : 2014-11-20 Data do final do Validação   : 2015-01-01\n",
            "MAPE:  7.70367\n",
            "RMSLE: 0.00937\n",
            "RMSE:  874.87413\n",
            "Data do inicio do treinamento: 2013-01-03 Data do final do treinamento : 2014-12-31\n",
            "Data do inicio do Validação  : 2015-01-01 Data do final do Validação   : 2015-02-12\n",
            "MAPE:  5.52009\n",
            "RMSLE: 0.00543\n",
            "RMSE:  528.56466\n",
            "Data do inicio do treinamento: 2013-01-03 Data do final do treinamento : 2015-02-11\n",
            "Data do inicio do Validação  : 2015-02-12 Data do final do Validação   : 2015-03-26\n",
            "MAPE:  4.90230\n",
            "RMSLE: 0.00401\n",
            "RMSE:  417.97532\n",
            "Data do inicio do treinamento: 2013-01-03 Data do final do treinamento : 2015-03-25\n",
            "Data do inicio do Validação  : 2015-03-26 Data do final do Validação   : 2015-05-07\n",
            "MAPE:  5.89672\n",
            "RMSLE: 0.00591\n",
            "RMSE:  679.73003\n",
            "Data do inicio do treinamento: 2013-01-03 Data do final do treinamento : 2015-05-06\n",
            "Data do inicio do Validação  : 2015-05-07 Data do final do Validação   : 2015-06-18\n",
            "MAPE:  5.23553\n",
            "RMSLE: 0.00454\n",
            "RMSE:  509.02098\n",
            "Mape Geral:  5.85166 Std: 0.98212 Erro: 0.43922\n",
            "Rmsle Geral: 0.00585 Std: 0.00188 Erro: 0.00084\n",
            "Rmse Geral:  602.03302 Std: 160.25303 Erro: 71.66734\n",
            "\n",
            "\n",
            "Sqrt no target\n",
            "Data do inicio do treinamento: 2013-01-03 Data do final do treinamento : 2014-11-19\n",
            "Data do inicio do Validação  : 2014-11-20 Data do final do Validação   : 2015-01-01\n",
            "MAPE:  7.86948\n",
            "RMSLE: 0.00963\n",
            "RMSE:  886.90232\n",
            "Data do inicio do treinamento: 2013-01-03 Data do final do treinamento : 2014-12-31\n",
            "Data do inicio do Validação  : 2015-01-01 Data do final do Validação   : 2015-02-12\n",
            "MAPE:  5.46078\n",
            "RMSLE: 0.00520\n",
            "RMSE:  514.57947\n",
            "Data do inicio do treinamento: 2013-01-03 Data do final do treinamento : 2015-02-11\n",
            "Data do inicio do Validação  : 2015-02-12 Data do final do Validação   : 2015-03-26\n",
            "MAPE:  4.91772\n",
            "RMSLE: 0.00401\n",
            "RMSE:  417.42234\n",
            "Data do inicio do treinamento: 2013-01-03 Data do final do treinamento : 2015-03-25\n",
            "Data do inicio do Validação  : 2015-03-26 Data do final do Validação   : 2015-05-07\n",
            "MAPE:  5.90092\n",
            "RMSLE: 0.00582\n",
            "RMSE:  674.00364\n",
            "Data do inicio do treinamento: 2013-01-03 Data do final do treinamento : 2015-05-06\n",
            "Data do inicio do Validação  : 2015-05-07 Data do final do Validação   : 2015-06-18\n",
            "MAPE:  5.30117\n",
            "RMSLE: 0.00454\n",
            "RMSE:  502.38546\n",
            "Mape Geral:  5.89001 Std: 1.03872 Erro: 0.46453\n",
            "Rmsle Geral: 0.00584 Std: 0.00199 Erro: 0.00089\n",
            "Rmse Geral:  599.05865 Std: 166.09932 Erro: 74.28187\n",
            "\n",
            "\n",
            "log no target\n",
            "Data do inicio do treinamento: 2013-01-03 Data do final do treinamento : 2014-11-19\n",
            "Data do inicio do Validação  : 2014-11-20 Data do final do Validação   : 2015-01-01\n",
            "MAPE:  8.02455\n",
            "RMSLE: 0.00992\n",
            "RMSE:  906.87956\n",
            "Data do inicio do treinamento: 2013-01-03 Data do final do treinamento : 2014-12-31\n",
            "Data do inicio do Validação  : 2015-01-01 Data do final do Validação   : 2015-02-12\n",
            "MAPE:  5.51281\n",
            "RMSLE: 0.00528\n",
            "RMSE:  526.41058\n",
            "Data do inicio do treinamento: 2013-01-03 Data do final do treinamento : 2015-02-11\n",
            "Data do inicio do Validação  : 2015-02-12 Data do final do Validação   : 2015-03-26\n",
            "MAPE:  4.95251\n",
            "RMSLE: 0.00406\n",
            "RMSE:  420.45200\n",
            "Data do inicio do treinamento: 2013-01-03 Data do final do treinamento : 2015-03-25\n",
            "Data do inicio do Validação  : 2015-03-26 Data do final do Validação   : 2015-05-07\n",
            "MAPE:  5.95192\n",
            "RMSLE: 0.00593\n",
            "RMSE:  682.17204\n",
            "Data do inicio do treinamento: 2013-01-03 Data do final do treinamento : 2015-05-06\n",
            "Data do inicio do Validação  : 2015-05-07 Data do final do Validação   : 2015-06-18\n",
            "MAPE:  5.29809\n",
            "RMSLE: 0.00457\n",
            "RMSE:  510.51042\n",
            "Mape Geral:  5.94798 Std: 1.08764 Erro: 0.48641\n",
            "Rmsle Geral: 0.00595 Std: 0.00208 Erro: 0.00093\n",
            "Rmse Geral:  609.28492 Std: 170.97224 Erro: 76.46111\n"
          ]
        }
      ],
      "source": [
        "print('target Normal')\n",
        "vetor_MAPE2_n,vetor_MSLR2_n,vetor_RMSE2_n  = validation(X2,Y2_n,'sales','normal',Date)\n",
        "print('\\n')\n",
        "print('Sqrt no target')\n",
        "vetor_MAPE2_r,vetor_MSLR2_r,vetor_RMSE2_r = validation(X2,Y2_r,'Sales_raiz','sqrt',Date)\n",
        "print('\\n')\n",
        "print('log no target')\n",
        "vetor_MAPE2_l,vetor_MSLR2_l,vetor_RMSE2_l = validation(X2,Y2_l,'Sales_log10','log',Date)"
      ]
    },
    {
      "cell_type": "code",
      "execution_count": null,
      "metadata": {
        "colab": {
          "background_save": true
        },
        "id": "rAFwx6K7UvsL"
      },
      "outputs": [],
      "source": [
        "#Mape Geral:  5.85166 Std: 0.98212 Erro: 0.43922\n",
        "#Rmsle Geral: 0.00585 Std: 0.00188 Erro: 0.00084\n",
        "#Rmse Geral:  602.03302 Std: 160.25303 Erro: 71.66734\n",
        "\n",
        "\n",
        "#Mape Geral:  5.89001 Std: 1.03872 Erro: 0.46453\n",
        "#Rmsle Geral: 0.00584 Std: 0.00199 Erro: 0.00089\n",
        "#Rmse Geral:  599.05865 Std: 166.09932 Erro: 74.28187\n",
        "\n",
        "\n",
        "#Mape Geral:  5.94798 Std: 1.08764 Erro: 0.48641\n",
        "#Rmsle Geral: 0.00595 Std: 0.00208 Erro: 0.00093\n",
        "#Rmse Geral:  609.28492 Std: 170.97224 Erro: 76.46111"
      ]
    },
    {
      "cell_type": "code",
      "execution_count": null,
      "metadata": {
        "colab": {
          "background_save": true
        },
        "id": "DUn-aG3ZNk09",
        "outputId": "772f5024-ae56-4fdb-f573-1cfcc8ef7281"
      },
      "outputs": [
        {
          "name": "stdout",
          "output_type": "stream",
          "text": [
            "target Normal\n",
            "Data do inicio do treinamento: 2013-01-03 Data do final do treinamento : 2014-11-19\n",
            "Data do inicio do Validação  : 2014-11-20 Data do final do Validação   : 2015-01-01\n",
            "MAPE:  7.72585\n",
            "RMSLE: 0.00940\n",
            "RMSE:  877.14688\n",
            "Data do inicio do treinamento: 2013-01-03 Data do final do treinamento : 2014-12-31\n",
            "Data do inicio do Validação  : 2015-01-01 Data do final do Validação   : 2015-02-12\n",
            "MAPE:  5.53585\n",
            "RMSLE: 0.00548\n",
            "RMSE:  529.76708\n",
            "Data do inicio do treinamento: 2013-01-03 Data do final do treinamento : 2015-02-11\n",
            "Data do inicio do Validação  : 2015-02-12 Data do final do Validação   : 2015-03-26\n",
            "MAPE:  4.89461\n",
            "RMSLE: 0.00398\n",
            "RMSE:  416.84675\n",
            "Data do inicio do treinamento: 2013-01-03 Data do final do treinamento : 2015-03-25\n",
            "Data do inicio do Validação  : 2015-03-26 Data do final do Validação   : 2015-05-07\n",
            "MAPE:  5.89474\n",
            "RMSLE: 0.00591\n",
            "RMSE:  679.9734\n",
            "Data do inicio do treinamento: 2013-01-03 Data do final do treinamento : 2015-05-06\n",
            "Data do inicio do Validação  : 2015-05-07 Data do final do Validação   : 2015-06-18\n",
            "MAPE:  5.23162\n",
            "RMSLE: 0.00454\n",
            "RMSE:  507.73906\n",
            "Mape Geral:  5.85654 Std: 0.99141 Erro: 0.44337\n",
            "Rmsle Geral: 0.00586 Std: 0.00189 Erro: 0.00085\n",
            "Rmse Geral:  602.29463 Std: 161.35034 Erro: 72.15807\n",
            "\n",
            "\n",
            "Sqrt no target\n",
            "Data do inicio do treinamento: 2013-01-03 Data do final do treinamento : 2014-11-19\n",
            "Data do inicio do Validação  : 2014-11-20 Data do final do Validação   : 2015-01-01\n",
            "MAPE:  7.88749\n",
            "RMSLE: 0.00960\n",
            "RMSE:  888.13485\n",
            "Data do inicio do treinamento: 2013-01-03 Data do final do treinamento : 2014-12-31\n",
            "Data do inicio do Validação  : 2015-01-01 Data do final do Validação   : 2015-02-12\n",
            "MAPE:  5.47179\n",
            "RMSLE: 0.00523\n",
            "RMSE:  516.28214\n",
            "Data do inicio do treinamento: 2013-01-03 Data do final do treinamento : 2015-02-11\n",
            "Data do inicio do Validação  : 2015-02-12 Data do final do Validação   : 2015-03-26\n",
            "MAPE:  4.91511\n",
            "RMSLE: 0.00401\n",
            "RMSE:  417.10444\n",
            "Data do inicio do treinamento: 2013-01-03 Data do final do treinamento : 2015-03-25\n",
            "Data do inicio do Validação  : 2015-03-26 Data do final do Validação   : 2015-05-07\n",
            "MAPE:  5.90399\n",
            "RMSLE: 0.00583\n",
            "RMSE:  674.63121\n",
            "Data do inicio do treinamento: 2013-01-03 Data do final do treinamento : 2015-05-06\n",
            "Data do inicio do Validação  : 2015-05-07 Data do final do Validação   : 2015-06-18\n",
            "MAPE:  5.29613\n",
            "RMSLE: 0.00453\n",
            "RMSE:  502.28844\n",
            "Mape Geral:  5.89490 Std: 1.04576 Erro: 0.46768\n",
            "Rmsle Geral: 0.00584 Std: 0.00198 Erro: 0.00089\n",
            "Rmse Geral:  599.68822 Std: 166.49207 Erro: 74.45752\n",
            "\n",
            "\n",
            "log no target\n",
            "Data do inicio do treinamento: 2013-01-03 Data do final do treinamento : 2014-11-19\n",
            "Data do inicio do Validação  : 2014-11-20 Data do final do Validação   : 2015-01-01\n",
            "MAPE:  8.01449\n",
            "RMSLE: 0.00989\n",
            "RMSE:  902.66747\n",
            "Data do inicio do treinamento: 2013-01-03 Data do final do treinamento : 2014-12-31\n",
            "Data do inicio do Validação  : 2015-01-01 Data do final do Validação   : 2015-02-12\n",
            "MAPE:  5.52414\n",
            "RMSLE: 0.00531\n",
            "RMSE:  527.01477\n",
            "Data do inicio do treinamento: 2013-01-03 Data do final do treinamento : 2015-02-11\n",
            "Data do inicio do Validação  : 2015-02-12 Data do final do Validação   : 2015-03-26\n",
            "MAPE:  4.96105\n",
            "RMSLE: 0.00406\n",
            "RMSE:  420.45374\n",
            "Data do inicio do treinamento: 2013-01-03 Data do final do treinamento : 2015-03-25\n",
            "Data do inicio do Validação  : 2015-03-26 Data do final do Validação   : 2015-05-07\n",
            "MAPE:  5.95099\n",
            "RMSLE: 0.00591\n",
            "RMSE:  680.98860\n",
            "Data do inicio do treinamento: 2013-01-03 Data do final do treinamento : 2015-05-06\n",
            "Data do inicio do Validação  : 2015-05-07 Data do final do Validação   : 2015-06-18\n",
            "MAPE:  5.30299\n",
            "RMSLE: 0.00457\n",
            "RMSE:  507.75009\n",
            "Mape Geral:  5.95073 Std: 1.08075 Erro: 0.48333\n",
            "Rmsle Geral: 0.00595 Std: 0.00207 Erro: 0.00093\n",
            "Rmse Geral:  607.77493 Std: 169.66924 Erro: 75.87839\n"
          ]
        }
      ],
      "source": [
        "print('target Normal')\n",
        "vetor_MAPE3_n,vetor_MSLR3_n,vetor_RMSE3_n  = validation(X3,Y3_n,'sales','normal',Date)\n",
        "print('\\n')\n",
        "print('Sqrt no target')\n",
        "vetor_MAPE3_r,vetor_MSLR3_r,vetor_RMSE3_r = validation(X3,Y3_r,'Sales_raiz','sqrt',Date)\n",
        "print('\\n')\n",
        "print('log no target')\n",
        "vetor_MAPE3_l,vetor_MSLR3_l,vetor_RMSE3_l = validation(X3,Y3_l,'Sales_log10','log',Date)"
      ]
    },
    {
      "cell_type": "code",
      "execution_count": null,
      "metadata": {
        "colab": {
          "background_save": true
        },
        "id": "R3qAjZ0lYSjT"
      },
      "outputs": [],
      "source": [
        "#Mape Geral:  5.85654 Std: 0.99141 Erro: 0.44337\n",
        "#Rmsle Geral: 0.00586 Std: 0.00189 Erro: 0.00085\n",
        "#Rmse Geral:  602.29463 Std: 161.35034 Erro: 72.15807\n",
        "\n",
        "#Mape Geral:  5.89490 Std: 1.04576 Erro: 0.46768\n",
        "#Rmsle Geral: 0.00584 Std: 0.00198 Erro: 0.00089\n",
        "#Rmse Geral:  599.68822 Std: 166.49207 Erro: 74.45752\n",
        "\n",
        "\n",
        "#Mape Geral:  5.95073 Std: 1.08075 Erro: 0.48333\n",
        "#Rmsle Geral: 0.00595 Std: 0.00207 Erro: 0.00093\n",
        "#Rmse Geral:  607.77493 Std: 169.66924 Erro: 75.87839"
      ]
    },
    {
      "cell_type": "code",
      "execution_count": null,
      "metadata": {
        "colab": {
          "background_save": true
        },
        "id": "MDb80CKiNk3Q",
        "outputId": "b60cdd83-4c46-46a9-9619-30c9036234d0"
      },
      "outputs": [
        {
          "name": "stdout",
          "output_type": "stream",
          "text": [
            "target Normal\n",
            "Data do inicio do treinamento: 2013-01-03 Data do final do treinamento : 2014-11-19\n",
            "Data do inicio do Validação  : 2014-11-20 Data do final do Validação   : 2015-01-01\n",
            "MAPE:  7.72101\n",
            "RMSLE: 0.00939\n",
            "RMSE:  876.97366\n",
            "Data do inicio do treinamento: 2013-01-03 Data do final do treinamento : 2014-12-31\n",
            "Data do inicio do Validação  : 2015-01-01 Data do final do Validação   : 2015-02-12\n",
            "MAPE:  5.52542\n",
            "RMSLE: 0.00544\n",
            "RMSE:  526.70644\n",
            "Data do inicio do treinamento: 2013-01-03 Data do final do treinamento : 2015-02-11\n",
            "Data do inicio do Validação  : 2015-02-12 Data do final do Validação   : 2015-03-26\n",
            "MAPE:  4.89654\n",
            "RMSLE: 0.004\n",
            "RMSE:  417.13825\n",
            "Data do inicio do treinamento: 2013-01-03 Data do final do treinamento : 2015-03-25\n",
            "Data do inicio do Validação  : 2015-03-26 Data do final do Validação   : 2015-05-07\n",
            "MAPE:  5.90137\n",
            "RMSLE: 0.00592\n",
            "RMSE:  681.67414\n",
            "Data do inicio do treinamento: 2013-01-03 Data do final do treinamento : 2015-05-06\n",
            "Data do inicio do Validação  : 2015-05-07 Data do final do Validação   : 2015-06-18\n",
            "MAPE:  5.23657\n",
            "RMSLE: 0.00455\n",
            "RMSE:  508.23187\n",
            "Mape Geral:  5.85618 Std: 0.98933 Erro: 0.44244\n",
            "Rmsle Geral: 0.00586 Std: 0.00189 Erro: 0.00084\n",
            "Rmse Geral:  602.14487 Std: 161.61301 Erro: 72.27554\n",
            "\n",
            "\n",
            "Sqrt no target\n",
            "Data do inicio do treinamento: 2013-01-03 Data do final do treinamento : 2014-11-19\n",
            "Data do inicio do Validação  : 2014-11-20 Data do final do Validação   : 2015-01-01\n",
            "MAPE:  7.86266\n",
            "RMSLE: 0.0096\n",
            "RMSE:  886.65016\n",
            "Data do inicio do treinamento: 2013-01-03 Data do final do treinamento : 2014-12-31\n",
            "Data do inicio do Validação  : 2015-01-01 Data do final do Validação   : 2015-02-12\n",
            "MAPE:  5.46496\n",
            "RMSLE: 0.00524\n",
            "RMSE:  517.91391\n",
            "Data do inicio do treinamento: 2013-01-03 Data do final do treinamento : 2015-02-11\n",
            "Data do inicio do Validação  : 2015-02-12 Data do final do Validação   : 2015-03-26\n",
            "MAPE:  4.91014\n",
            "RMSLE: 0.00401\n",
            "RMSE:  417.24407\n",
            "Data do inicio do treinamento: 2013-01-03 Data do final do treinamento : 2015-03-25\n",
            "Data do inicio do Validação  : 2015-03-26 Data do final do Validação   : 2015-05-07\n",
            "MAPE:  5.90942\n",
            "RMSLE: 0.00584\n",
            "RMSE:  676.48463\n",
            "Data do inicio do treinamento: 2013-01-03 Data do final do treinamento : 2015-05-06\n",
            "Data do inicio do Validação  : 2015-05-07 Data do final do Validação   : 2015-06-18\n",
            "MAPE:  5.30013\n",
            "RMSLE: 0.00454\n",
            "RMSE:  503.25356\n",
            "Mape Geral:  5.88946 Std: 1.03735 Erro: 0.46392\n",
            "Rmsle Geral: 0.00585 Std: 0.00197 Erro: 0.00088\n",
            "Rmse Geral:  600.30927 Std: 165.84056 Erro: 74.16616\n",
            "\n",
            "\n",
            "log no target\n",
            "Data do inicio do treinamento: 2013-01-03 Data do final do treinamento : 2014-11-19\n",
            "Data do inicio do Validação  : 2014-11-20 Data do final do Validação   : 2015-01-01\n",
            "MAPE:  8.00981\n",
            "RMSLE: 0.00985\n",
            "RMSE:  903.24581\n",
            "Data do inicio do treinamento: 2013-01-03 Data do final do treinamento : 2014-12-31\n",
            "Data do inicio do Validação  : 2015-01-01 Data do final do Validação   : 2015-02-12\n",
            "MAPE:  5.50761\n",
            "RMSLE: 0.00527\n",
            "RMSE:  525.11316\n",
            "Data do inicio do treinamento: 2013-01-03 Data do final do treinamento : 2015-02-11\n",
            "Data do inicio do Validação  : 2015-02-12 Data do final do Validação   : 2015-03-26\n",
            "MAPE:  4.95658\n",
            "RMSLE: 0.00407\n",
            "RMSE:  420.88045\n",
            "Data do inicio do treinamento: 2013-01-03 Data do final do treinamento : 2015-03-25\n",
            "Data do inicio do Validação  : 2015-03-26 Data do final do Validação   : 2015-05-07\n",
            "MAPE:  5.93921\n",
            "RMSLE: 0.00592\n",
            "RMSE:  682.88069\n",
            "Data do inicio do treinamento: 2013-01-03 Data do final do treinamento : 2015-05-06\n",
            "Data do inicio do Validação  : 2015-05-07 Data do final do Validação   : 2015-06-18\n",
            "MAPE:  5.30081\n",
            "RMSLE: 0.00456\n",
            "RMSE:  508.87142\n",
            "Mape Geral:  5.94280 Std: 1.08136 Erro: 0.4836\n",
            "Rmsle Geral: 0.00593 Std: 0.00205 Erro: 0.00092\n",
            "Rmse Geral:  608.19831 Std: 169.99261 Erro: 76.02301\n"
          ]
        }
      ],
      "source": [
        "print('target Normal')\n",
        "vetor_MAPE4_n,vetor_MSLR4_n,vetor_RMSE4_n  = validation(X4,Y4_n,'sales','normal',Date)\n",
        "print('\\n')\n",
        "print('Sqrt no target')\n",
        "vetor_MAPE4_r,vetor_MSLR4_r,vetor_RMSE4_r = validation(X4,Y4_r,'Sales_raiz','sqrt',Date)\n",
        "print('\\n')\n",
        "print('log no target')\n",
        "vetor_MAPE4_l,vetor_MSLR4_l,vetor_RMSE4_l = validation(X4,Y4_l,'Sales_log10','log',Date)"
      ]
    },
    {
      "cell_type": "code",
      "execution_count": null,
      "metadata": {
        "colab": {
          "background_save": true
        },
        "id": "4e3XY9KGaPB1"
      },
      "outputs": [],
      "source": [
        "#Mape Geral:  5.85618 Std: 0.98933 Erro: 0.44244\n",
        "#Rmsle Geral: 0.00586 Std: 0.00189 Erro: 0.00084\n",
        "#Rmse Geral:  602.14487 Std: 161.61301 Erro: 72.27554\n",
        "\n",
        "#Mape Geral:  5.88946 Std: 1.03735 Erro: 0.46392\n",
        "#Rmsle Geral: 0.00585 Std: 0.00197 Erro: 0.00088\n",
        "#Rmse Geral:  600.30927 Std: 165.84056 Erro: 74.16616\n",
        "\n",
        "#Mape Geral:  5.94280 Std: 1.08136 Erro: 0.4836\n",
        "#Rmsle Geral: 0.00593 Std: 0.00205 Erro: 0.00092\n",
        "#Rmse Geral:  608.19831 Std: 169.99261 Erro: 76.02301"
      ]
    },
    {
      "cell_type": "code",
      "execution_count": null,
      "metadata": {
        "colab": {
          "background_save": true
        },
        "id": "Kx2976O7iIZa",
        "outputId": "6a034b0f-5bc7-4de2-d0e1-10fadf01385c"
      },
      "outputs": [
        {
          "name": "stdout",
          "output_type": "stream",
          "text": [
            "target Normal\n",
            "Data do inicio do treinamento: 2013-01-03 Data do final do treinamento : 2014-11-19\n",
            "Data do inicio do Validação  : 2014-11-20 Data do final do Validação   : 2015-01-01\n",
            "MAPE:  7.70669\n",
            "RMSLE: 0.00941\n",
            "RMSE:  876.08359\n",
            "Data do inicio do treinamento: 2013-01-03 Data do final do treinamento : 2014-12-31\n",
            "Data do inicio do Validação  : 2015-01-01 Data do final do Validação   : 2015-02-12\n",
            "MAPE:  5.53609\n",
            "RMSLE: 0.00549\n",
            "RMSE:  530.80334\n",
            "Data do inicio do treinamento: 2013-01-03 Data do final do treinamento : 2015-02-11\n",
            "Data do inicio do Validação  : 2015-02-12 Data do final do Validação   : 2015-03-26\n",
            "MAPE:  4.91206\n",
            "RMSLE: 0.00402\n",
            "RMSE:  419.57765\n",
            "Data do inicio do treinamento: 2013-01-03 Data do final do treinamento : 2015-03-25\n",
            "Data do inicio do Validação  : 2015-03-26 Data do final do Validação   : 2015-05-07\n",
            "MAPE:  5.89726\n",
            "RMSLE: 0.00591\n",
            "RMSE:  680.49949\n",
            "Data do inicio do treinamento: 2013-01-03 Data do final do treinamento : 2015-05-06\n",
            "Data do inicio do Validação  : 2015-05-07 Data do final do Validação   : 2015-06-18\n",
            "MAPE:  5.25037\n",
            "RMSLE: 0.00457\n",
            "RMSE:  509.51522\n",
            "Mape Geral:  5.86049 Std: 0.97845 Erro: 0.43758\n",
            "Rmsle Geral: 0.00588 Std: 0.00189 Erro: 0.00084\n",
            "Rmse Geral:  603.29586 Std: 160.1099 Erro: 71.60332\n",
            "\n",
            "\n",
            "Sqrt no target\n",
            "Data do inicio do treinamento: 2013-01-03 Data do final do treinamento : 2014-11-19\n",
            "Data do inicio do Validação  : 2014-11-20 Data do final do Validação   : 2015-01-01\n",
            "MAPE:  7.87893\n",
            "RMSLE: 0.00963\n",
            "RMSE:  890.32011\n",
            "Data do inicio do treinamento: 2013-01-03 Data do final do treinamento : 2014-12-31\n",
            "Data do inicio do Validação  : 2015-01-01 Data do final do Validação   : 2015-02-12\n",
            "MAPE:  5.48849\n",
            "RMSLE: 0.00529\n",
            "RMSE:  519.61828\n",
            "Data do inicio do treinamento: 2013-01-03 Data do final do treinamento : 2015-02-11\n",
            "Data do inicio do Validação  : 2015-02-12 Data do final do Validação   : 2015-03-26\n",
            "MAPE:  4.91077\n",
            "RMSLE: 0.00401\n",
            "RMSE:  417.05754\n",
            "Data do inicio do treinamento: 2013-01-03 Data do final do treinamento : 2015-03-25\n",
            "Data do inicio do Validação  : 2015-03-26 Data do final do Validação   : 2015-05-07\n",
            "MAPE:  5.90382\n",
            "RMSLE: 0.00583\n",
            "RMSE:  674.52449\n",
            "Data do inicio do treinamento: 2013-01-03 Data do final do treinamento : 2015-05-06\n",
            "Data do inicio do Validação  : 2015-05-07 Data do final do Validação   : 2015-06-18\n",
            "MAPE:  5.30081\n",
            "RMSLE: 0.00453\n",
            "RMSE:  502.9464\n",
            "Mape Geral:  5.89656 Std: 1.04145 Erro: 0.46575\n",
            "Rmsle Geral: 0.00586 Std: 0.00199 Erro: 0.00089\n",
            "Rmse Geral:  600.89337 Std: 166.84379 Erro: 74.61481\n",
            "\n",
            "\n",
            "log no target\n",
            "Data do inicio do treinamento: 2013-01-03 Data do final do treinamento : 2014-11-19\n",
            "Data do inicio do Validação  : 2014-11-20 Data do final do Validação   : 2015-01-01\n",
            "MAPE:  8.03048\n",
            "RMSLE: 0.00988\n",
            "RMSE:  905.76454\n",
            "Data do inicio do treinamento: 2013-01-03 Data do final do treinamento : 2014-12-31\n",
            "Data do inicio do Validação  : 2015-01-01 Data do final do Validação   : 2015-02-12\n",
            "MAPE:  5.51094\n",
            "RMSLE: 0.00529\n",
            "RMSE:  526.36794\n",
            "Data do inicio do treinamento: 2013-01-03 Data do final do treinamento : 2015-02-11\n",
            "Data do inicio do Validação  : 2015-02-12 Data do final do Validação   : 2015-03-26\n",
            "MAPE:  4.96391\n",
            "RMSLE: 0.00406\n",
            "RMSE:  420.1601\n",
            "Data do inicio do treinamento: 2013-01-03 Data do final do treinamento : 2015-03-25\n",
            "Data do inicio do Validação  : 2015-03-26 Data do final do Validação   : 2015-05-07\n",
            "MAPE:  5.95404\n",
            "RMSLE: 0.00595\n",
            "RMSE:  684.70426\n",
            "Data do inicio do treinamento: 2013-01-03 Data do final do treinamento : 2015-05-06\n",
            "Data do inicio do Validação  : 2015-05-07 Data do final do Validação   : 2015-06-18\n",
            "MAPE:  5.30166\n",
            "RMSLE: 0.00456\n",
            "RMSE:  508.64852\n",
            "Mape Geral:  5.95221 Std: 1.08756 Erro: 0.48637\n",
            "Rmsle Geral: 0.00595 Std: 0.00207 Erro: 0.00093\n",
            "Rmse Geral:  609.12907 Std: 171.09017 Erro: 76.51385\n"
          ]
        }
      ],
      "source": [
        "print('target Normal')\n",
        "vetor_MAPE5_n,vetor_MSLR5_n,vetor_RMSE5_n  = validation(X5,Y5_n,'sales','normal',Date)\n",
        "print('\\n')\n",
        "print('Sqrt no target')\n",
        "vetor_MAPE5_r,vetor_MSLR5_r,vetor_RMSE5_r = validation(X5,Y5_r,'Sales_raiz','sqrt',Date)\n",
        "print('\\n')\n",
        "print('log no target')\n",
        "vetor_MAPE5_l,vetor_MSLR5_l,vetor_RMSE5_l = validation(X5,Y5_l,'Sales_log10','log',Date)"
      ]
    },
    {
      "cell_type": "code",
      "execution_count": null,
      "metadata": {
        "colab": {
          "background_save": true
        },
        "id": "Wm81slhgTgRQ"
      },
      "outputs": [],
      "source": [
        "#Mape Geral:  5.86049 Std: 0.97845 Erro: 0.43758\n",
        "#Rmsle Geral: 0.00588 Std: 0.00189 Erro: 0.00084\n",
        "#Rmse Geral:  603.29586 Std: 160.1099 Erro: 71.60332\n",
        "\n",
        "#Mape Geral:  5.89656 Std: 1.04145 Erro: 0.46575\n",
        "#Rmsle Geral: 0.00586 Std: 0.00199 Erro: 0.00089\n",
        "#Rmse Geral:  600.89337 Std: 166.84379 Erro: 74.61481\n",
        "\n",
        "\n",
        "#Mape Geral:  5.95221 Std: 1.08756 Erro: 0.48637\n",
        "#Rmsle Geral: 0.00595 Std: 0.00207 Erro: 0.00093\n",
        "#Rmse Geral:  609.12907 Std: 171.09017 Erro: 76.51385"
      ]
    },
    {
      "cell_type": "markdown",
      "metadata": {
        "id": "OeRisNluv7QI"
      },
      "source": [
        "#Analisando os valores gerais obtidos.\n",
        " \n",
        "###Valores de MAPE:\n",
        "---\n",
        "---\n",
        "* Mape Geral df1  - Normal:  5.85560 Std: 0.98928 Erro: 0.44242 [2]\n",
        "* Mape Geral df2  - Normal:  5.85166 Std: 0.98212 Erro: 0.43922 [1]\n",
        "* Mape Geral df3  - Normal:  5.85654 Std: 0.99141 Erro: 0.44337 [4]\n",
        "* Mape Geral df4  - Normal:  5.85618 Std: 0.98933 Erro: 0.44244 [3]\n",
        "* Mape Geral df5  - Normal:  5.86049 Std: 0.97845 Erro: 0.43758 [5]\n",
        "---\n",
        "---\n",
        "* Mape Geral df1  - Sqrt  :  5.94829 Std: 1.08257 Erro: 0.48414\n",
        "* Mape Geral df2  - Sqrt  :  5.89001 Std: 1.03872 Erro: 0.46453\n",
        "* Mape Geral df3  - Sqrt  :  5.89490 Std: 1.04576 Erro: 0.46768\n",
        "* Mape Geral df4  - Sqrt  :  5.88946 Std: 1.03735 Erro: 0.46392\n",
        "* Mape Geral df5  - Sqrt  :  5.89656 Std: 1.04145 Erro: 0.46575\n",
        "---\n",
        "---\n",
        " \n",
        "* Mape Geral df1  - Log10 :  5.94829 Std: 1.08257 Erro: 0.48414\n",
        "* Mape Geral df2  - Log10 :  5.94798 Std: 1.08764 Erro: 0.48641\n",
        "* Mape Geral df3  - Log10 :  5.95073 Std: 1.08075 Erro: 0.48333\n",
        "* Mape Geral df4  - Log10 :  5.94280 Std: 1.08136 Erro: 0.4836\n",
        "* Mape Geral df5  - Log10 :  5.95221 Std: 1.08756 Erro: 0.48637\n",
        "---\n",
        "---\n",
        "###Valores de RMSEL:\n",
        "---\n",
        "---\n",
        "* Rmsle Geral df1 - Normal : 0.00586 Std: 0.00190 Erro: 0.00085 [2,2]\n",
        "* Rmsle Geral df2 - Normal : 0.00585 Std: 0.00188 Erro: 0.00084 [1,1]\n",
        "* Rmsle Geral df3 - Normal : 0.00586 Std: 0.00189 Erro: 0.00085 [4,2]\n",
        "* Rmsle Geral df4 - Normal : 0.00586 Std: 0.00189 Erro: 0.00084 [3,2]\n",
        "* Rmsle Geral df5 - Normal : 0.00588 Std: 0.00189 Erro: 0.00084 [5,5]\n",
        "---\n",
        "---\n",
        "* Rmsle Geral df1 - Sqrt : 0.00595 Std: 0.00207 Erro: 0.00093\n",
        "* Rmsle Geral df2 - Sqrt : 0.00584 Std: 0.00199 Erro: 0.00089\n",
        "* Rmsle Geral df3 - Sqrt : 0.00584 Std: 0.00198 Erro: 0.00089\n",
        "* Rmsle Geral df4 - Sqrt : 0.00585 Std: 0.00197 Erro: 0.00088\n",
        "* Rmsle Geral df5 - Sqrt : 0.00586 Std: 0.00199 Erro: 0.00089\n",
        " \n",
        "---\n",
        "---\n",
        "* Rmsle Geral df1 - Log10 : 0.00592 Std: 0.00206 Erro: 0.00092\n",
        "* Rmsle Geral df2 - Log10 : 0.00595 Std: 0.00208 Erro: 0.00093\n",
        "* Rmsle Geral df3 - Log10 : 0.00595 Std: 0.00207 Erro: 0.00093\n",
        "* Rmsle Geral df4 - Log10 : 0.00593 Std: 0.00205 Erro: 0.00092\n",
        "* Rmsle Geral df5 - Log10 : 0.00595 Std: 0.00207 Erro: 0.00093\n",
        "---\n",
        "---\n",
        " \n",
        "### Valores de RMSE.\n",
        "---\n",
        "---\n",
        " \n",
        "* Rmse Geral df1 - Normal:  601.57006 Std: 160.80589 Erro: 71.91458 [2,1,1]\n",
        "* Rmse Geral df2 - Normal:  602.03302 Std: 160.25303 Erro: 71.66734 [1,1,2]\n",
        "* Rmse Geral df3 - Normal:  602.29463 Std: 161.35034 Erro: 72.15807 [4,2,4]\n",
        "* Rmse Geral df4 - Normal:  602.14487 Std: 161.61301 Erro: 72.27554 [3,2,3]\n",
        "* Rmse Geral df5 - Normal:  603.29586 Std: 160.1099 Erro: 71.60332 [5,5,5]\n",
        "---\n",
        "---\n",
        "* Rmse Geral df1 - Sqrt:  607.64436 Std: 170.51503 Erro: 76.25664\n",
        "* Rmse Geral df2 - Sqrt:  599.05865 Std: 166.09932 Erro: 74.28187\n",
        "* Rmse Geral df3 - Sqrt:  599.68822 Std: 166.49207 Erro: 74.45752\n",
        "* Rmse Geral df4 - Sqrt:  600.30927 Std: 165.84056 Erro: 74.16616\n",
        "* Rmse Geral df5 - Sqrt:  600.89337 Std: 166.84379 Erro: 74.61481\n",
        "---\n",
        "---\n",
        "* Rmse Geral df1 - Log10:  607.64436 Std: 170.51503 Erro: 76.25664\n",
        "* Rmse Geral df2 - Log10:  609.28492 Std: 170.97224 Erro: 76.46111\n",
        "* Rmse Geral df3 - Log10:  607.77493 Std: 169.66924 Erro: 75.87839\n",
        "* Rmse Geral df4 - Log10:  608.19831 Std: 169.99261 Erro: 76.02301\n",
        "* Rmse Geral df5 - Log10:  609.12907 Std: 171.09017 Erro: 76.51385\n",
        "---\n",
        "---\n",
        " \n",
        "* Os melhores resultados obtidos foram aqueles que não foram aplicados nenhuma transformação nos dados de target. Mas todas as configurações dos dataset obteve valores muitos pertos, talvez essa variação seja causada pela flutuação estatística.\n",
        "* Logo, o dataset que será utilizado é o primeiro. Devido que foi ele que apresentou o menor número de variáveis.\n",
        " \n",
        " \n",
        " \n",
        " \n",
        " \n",
        " \n"
      ]
    },
    {
      "cell_type": "markdown",
      "metadata": {
        "id": "oSHB5LjCFd_9"
      },
      "source": [
        "# Primeira seleção de variáveis\n",
        " \n",
        "* Remoção de variáveis colineares.\n",
        " * Variáveis com alta correlação.\n",
        " * Valores altos de correlação.\n",
        "   * maior que 0.9 e menor que -0.9.\n",
        " \n",
        "\n"
      ]
    },
    {
      "cell_type": "code",
      "execution_count": null,
      "metadata": {
        "colab": {
          "background_save": true
        },
        "id": "Vy8UQMAUKE1i"
      },
      "outputs": [],
      "source": [
        "df1 = df.copy()"
      ]
    },
    {
      "cell_type": "code",
      "execution_count": null,
      "metadata": {
        "colab": {
          "background_save": true
        },
        "id": "53UHRlkhMach"
      },
      "outputs": [],
      "source": [
        "df1 = df1.drop(columns = ['date','Sales_log10','sales'])\n",
        "df1 = df1.drop(columns = col)"
      ]
    },
    {
      "cell_type": "code",
      "execution_count": null,
      "metadata": {
        "colab": {
          "background_save": true
        },
        "id": "bscmNnoUMpvO",
        "outputId": "e74a77fa-53be-4a41-c270-5fb388ee75ab"
      },
      "outputs": [
        {
          "data": {
            "text/html": [
              "\n",
              "  <div id=\"df-2569b711-6351-440e-be51-323ad5e891a0\">\n",
              "    <div class=\"colab-df-container\">\n",
              "      <div>\n",
              "<style scoped>\n",
              "    .dataframe tbody tr th:only-of-type {\n",
              "        vertical-align: middle;\n",
              "    }\n",
              "\n",
              "    .dataframe tbody tr th {\n",
              "        vertical-align: top;\n",
              "    }\n",
              "\n",
              "    .dataframe thead th {\n",
              "        text-align: right;\n",
              "    }\n",
              "</style>\n",
              "<table border=\"1\" class=\"dataframe\">\n",
              "  <thead>\n",
              "    <tr style=\"text-align: right;\">\n",
              "      <th></th>\n",
              "      <th>store</th>\n",
              "      <th>day_of_week</th>\n",
              "      <th>customers</th>\n",
              "      <th>promo</th>\n",
              "      <th>school_holiday</th>\n",
              "      <th>competition_distance</th>\n",
              "      <th>competition_open_since_month</th>\n",
              "      <th>competition_open_since_year</th>\n",
              "      <th>promo2</th>\n",
              "      <th>promo2_since_week</th>\n",
              "      <th>...</th>\n",
              "      <th>without_competition</th>\n",
              "      <th>is_promo</th>\n",
              "      <th>year</th>\n",
              "      <th>month</th>\n",
              "      <th>day</th>\n",
              "      <th>week_year</th>\n",
              "      <th>competition_time_month</th>\n",
              "      <th>promo_time_week</th>\n",
              "      <th>Sales_raiz</th>\n",
              "      <th>Total_dias</th>\n",
              "    </tr>\n",
              "  </thead>\n",
              "  <tbody>\n",
              "    <tr>\n",
              "      <th>0</th>\n",
              "      <td>1115</td>\n",
              "      <td>4</td>\n",
              "      <td>300</td>\n",
              "      <td>0</td>\n",
              "      <td>1</td>\n",
              "      <td>5350.0</td>\n",
              "      <td>1</td>\n",
              "      <td>2013</td>\n",
              "      <td>1</td>\n",
              "      <td>22</td>\n",
              "      <td>...</td>\n",
              "      <td>0.0</td>\n",
              "      <td>0</td>\n",
              "      <td>2013</td>\n",
              "      <td>1</td>\n",
              "      <td>3</td>\n",
              "      <td>1</td>\n",
              "      <td>0</td>\n",
              "      <td>32</td>\n",
              "      <td>65.551506</td>\n",
              "      <td>3.0</td>\n",
              "    </tr>\n",
              "    <tr>\n",
              "      <th>1</th>\n",
              "      <td>1114</td>\n",
              "      <td>4</td>\n",
              "      <td>3211</td>\n",
              "      <td>0</td>\n",
              "      <td>1</td>\n",
              "      <td>870.0</td>\n",
              "      <td>1</td>\n",
              "      <td>2013</td>\n",
              "      <td>0</td>\n",
              "      <td>1</td>\n",
              "      <td>...</td>\n",
              "      <td>0.0</td>\n",
              "      <td>0</td>\n",
              "      <td>2013</td>\n",
              "      <td>1</td>\n",
              "      <td>3</td>\n",
              "      <td>1</td>\n",
              "      <td>0</td>\n",
              "      <td>0</td>\n",
              "      <td>135.878622</td>\n",
              "      <td>3.0</td>\n",
              "    </tr>\n",
              "    <tr>\n",
              "      <th>2</th>\n",
              "      <td>1113</td>\n",
              "      <td>4</td>\n",
              "      <td>718</td>\n",
              "      <td>0</td>\n",
              "      <td>1</td>\n",
              "      <td>9260.0</td>\n",
              "      <td>1</td>\n",
              "      <td>2013</td>\n",
              "      <td>0</td>\n",
              "      <td>1</td>\n",
              "      <td>...</td>\n",
              "      <td>0.0</td>\n",
              "      <td>0</td>\n",
              "      <td>2013</td>\n",
              "      <td>1</td>\n",
              "      <td>3</td>\n",
              "      <td>1</td>\n",
              "      <td>0</td>\n",
              "      <td>0</td>\n",
              "      <td>74.585521</td>\n",
              "      <td>3.0</td>\n",
              "    </tr>\n",
              "    <tr>\n",
              "      <th>3</th>\n",
              "      <td>1112</td>\n",
              "      <td>4</td>\n",
              "      <td>809</td>\n",
              "      <td>0</td>\n",
              "      <td>1</td>\n",
              "      <td>1880.0</td>\n",
              "      <td>4</td>\n",
              "      <td>2006</td>\n",
              "      <td>0</td>\n",
              "      <td>1</td>\n",
              "      <td>...</td>\n",
              "      <td>1.0</td>\n",
              "      <td>0</td>\n",
              "      <td>2013</td>\n",
              "      <td>1</td>\n",
              "      <td>3</td>\n",
              "      <td>1</td>\n",
              "      <td>82</td>\n",
              "      <td>0</td>\n",
              "      <td>93.359520</td>\n",
              "      <td>3.0</td>\n",
              "    </tr>\n",
              "    <tr>\n",
              "      <th>4</th>\n",
              "      <td>1111</td>\n",
              "      <td>4</td>\n",
              "      <td>444</td>\n",
              "      <td>0</td>\n",
              "      <td>1</td>\n",
              "      <td>1900.0</td>\n",
              "      <td>6</td>\n",
              "      <td>2014</td>\n",
              "      <td>1</td>\n",
              "      <td>31</td>\n",
              "      <td>...</td>\n",
              "      <td>1.0</td>\n",
              "      <td>1</td>\n",
              "      <td>2013</td>\n",
              "      <td>1</td>\n",
              "      <td>3</td>\n",
              "      <td>1</td>\n",
              "      <td>-18</td>\n",
              "      <td>-30</td>\n",
              "      <td>67.668309</td>\n",
              "      <td>3.0</td>\n",
              "    </tr>\n",
              "  </tbody>\n",
              "</table>\n",
              "<p>5 rows × 21 columns</p>\n",
              "</div>\n",
              "      <button class=\"colab-df-convert\" onclick=\"convertToInteractive('df-2569b711-6351-440e-be51-323ad5e891a0')\"\n",
              "              title=\"Convert this dataframe to an interactive table.\"\n",
              "              style=\"display:none;\">\n",
              "        \n",
              "  <svg xmlns=\"http://www.w3.org/2000/svg\" height=\"24px\"viewBox=\"0 0 24 24\"\n",
              "       width=\"24px\">\n",
              "    <path d=\"M0 0h24v24H0V0z\" fill=\"none\"/>\n",
              "    <path d=\"M18.56 5.44l.94 2.06.94-2.06 2.06-.94-2.06-.94-.94-2.06-.94 2.06-2.06.94zm-11 1L8.5 8.5l.94-2.06 2.06-.94-2.06-.94L8.5 2.5l-.94 2.06-2.06.94zm10 10l.94 2.06.94-2.06 2.06-.94-2.06-.94-.94-2.06-.94 2.06-2.06.94z\"/><path d=\"M17.41 7.96l-1.37-1.37c-.4-.4-.92-.59-1.43-.59-.52 0-1.04.2-1.43.59L10.3 9.45l-7.72 7.72c-.78.78-.78 2.05 0 2.83L4 21.41c.39.39.9.59 1.41.59.51 0 1.02-.2 1.41-.59l7.78-7.78 2.81-2.81c.8-.78.8-2.07 0-2.86zM5.41 20L4 18.59l7.72-7.72 1.47 1.35L5.41 20z\"/>\n",
              "  </svg>\n",
              "      </button>\n",
              "      \n",
              "  <style>\n",
              "    .colab-df-container {\n",
              "      display:flex;\n",
              "      flex-wrap:wrap;\n",
              "      gap: 12px;\n",
              "    }\n",
              "\n",
              "    .colab-df-convert {\n",
              "      background-color: #E8F0FE;\n",
              "      border: none;\n",
              "      border-radius: 50%;\n",
              "      cursor: pointer;\n",
              "      display: none;\n",
              "      fill: #1967D2;\n",
              "      height: 32px;\n",
              "      padding: 0 0 0 0;\n",
              "      width: 32px;\n",
              "    }\n",
              "\n",
              "    .colab-df-convert:hover {\n",
              "      background-color: #E2EBFA;\n",
              "      box-shadow: 0px 1px 2px rgba(60, 64, 67, 0.3), 0px 1px 3px 1px rgba(60, 64, 67, 0.15);\n",
              "      fill: #174EA6;\n",
              "    }\n",
              "\n",
              "    [theme=dark] .colab-df-convert {\n",
              "      background-color: #3B4455;\n",
              "      fill: #D2E3FC;\n",
              "    }\n",
              "\n",
              "    [theme=dark] .colab-df-convert:hover {\n",
              "      background-color: #434B5C;\n",
              "      box-shadow: 0px 1px 3px 1px rgba(0, 0, 0, 0.15);\n",
              "      filter: drop-shadow(0px 1px 2px rgba(0, 0, 0, 0.3));\n",
              "      fill: #FFFFFF;\n",
              "    }\n",
              "  </style>\n",
              "\n",
              "      <script>\n",
              "        const buttonEl =\n",
              "          document.querySelector('#df-2569b711-6351-440e-be51-323ad5e891a0 button.colab-df-convert');\n",
              "        buttonEl.style.display =\n",
              "          google.colab.kernel.accessAllowed ? 'block' : 'none';\n",
              "\n",
              "        async function convertToInteractive(key) {\n",
              "          const element = document.querySelector('#df-2569b711-6351-440e-be51-323ad5e891a0');\n",
              "          const dataTable =\n",
              "            await google.colab.kernel.invokeFunction('convertToInteractive',\n",
              "                                                     [key], {});\n",
              "          if (!dataTable) return;\n",
              "\n",
              "          const docLinkHtml = 'Like what you see? Visit the ' +\n",
              "            '<a target=\"_blank\" href=https://colab.research.google.com/notebooks/data_table.ipynb>data table notebook</a>'\n",
              "            + ' to learn more about interactive tables.';\n",
              "          element.innerHTML = '';\n",
              "          dataTable['output_type'] = 'display_data';\n",
              "          await google.colab.output.renderOutput(dataTable, element);\n",
              "          const docLink = document.createElement('div');\n",
              "          docLink.innerHTML = docLinkHtml;\n",
              "          element.appendChild(docLink);\n",
              "        }\n",
              "      </script>\n",
              "    </div>\n",
              "  </div>\n",
              "  "
            ],
            "text/plain": [
              "   store  day_of_week  customers  promo  school_holiday  competition_distance  \\\n",
              "0   1115            4        300      0               1                5350.0   \n",
              "1   1114            4       3211      0               1                 870.0   \n",
              "2   1113            4        718      0               1                9260.0   \n",
              "3   1112            4        809      0               1                1880.0   \n",
              "4   1111            4        444      0               1                1900.0   \n",
              "\n",
              "   competition_open_since_month  competition_open_since_year  promo2  \\\n",
              "0                             1                         2013       1   \n",
              "1                             1                         2013       0   \n",
              "2                             1                         2013       0   \n",
              "3                             4                         2006       0   \n",
              "4                             6                         2014       1   \n",
              "\n",
              "   promo2_since_week  ...  without_competition  is_promo  year  month  day  \\\n",
              "0                 22  ...                  0.0         0  2013      1    3   \n",
              "1                  1  ...                  0.0         0  2013      1    3   \n",
              "2                  1  ...                  0.0         0  2013      1    3   \n",
              "3                  1  ...                  1.0         0  2013      1    3   \n",
              "4                 31  ...                  1.0         1  2013      1    3   \n",
              "\n",
              "   week_year  competition_time_month  promo_time_week  Sales_raiz  Total_dias  \n",
              "0          1                       0               32   65.551506         3.0  \n",
              "1          1                       0                0  135.878622         3.0  \n",
              "2          1                       0                0   74.585521         3.0  \n",
              "3          1                      82                0   93.359520         3.0  \n",
              "4          1                     -18              -30   67.668309         3.0  \n",
              "\n",
              "[5 rows x 21 columns]"
            ]
          },
          "execution_count": null,
          "metadata": {},
          "output_type": "execute_result"
        }
      ],
      "source": [
        "df1.head()"
      ]
    },
    {
      "cell_type": "code",
      "execution_count": null,
      "metadata": {
        "colab": {
          "background_save": true
        },
        "id": "EBBxukanKIua"
      },
      "outputs": [],
      "source": [
        "corr  = df1.corr()"
      ]
    },
    {
      "cell_type": "code",
      "execution_count": null,
      "metadata": {
        "colab": {
          "background_save": true
        },
        "id": "n1vV-56_dkIO",
        "outputId": "4e464368-42cb-4c9c-9424-fc653955a241"
      },
      "outputs": [
        {
          "name": "stdout",
          "output_type": "stream",
          "text": [
            "month Index(['week_year'], dtype='object')\n",
            "week_year Index(['month'], dtype='object')\n"
          ]
        }
      ],
      "source": [
        "for i in range(len(df1.columns)):\n",
        "  corr_suport = corr[df1.columns[i]][corr[df1.columns[i]] < 1]\n",
        "  if np.sum(corr_suport > 0.95)>0:\n",
        "    print(df1.columns[i],corr_suport.index[corr_suport >0.95])"
      ]
    },
    {
      "cell_type": "code",
      "execution_count": null,
      "metadata": {
        "colab": {
          "background_save": true
        },
        "id": "QPCT237yFiFI",
        "outputId": "4ee40877-929c-4bd3-b293-2b874a1c9a9c"
      },
      "outputs": [
        {
          "name": "stdout",
          "output_type": "stream",
          "text": [
            "competition_open_since_year Index(['competition_time_month'], dtype='object')\n",
            "competition_time_month Index(['competition_open_since_year'], dtype='object')\n"
          ]
        }
      ],
      "source": [
        "for i in range(len(df1.columns)):\n",
        "  corr_suport = corr[df1.columns[i]][corr[df1.columns[i]] < 1]\n",
        "  if np.sum(corr_suport < -0.95)>0:\n",
        "    print(df1.columns[i],corr_suport.index[corr_suport <-0.95])"
      ]
    },
    {
      "cell_type": "code",
      "execution_count": null,
      "metadata": {
        "colab": {
          "background_save": true
        },
        "id": "V_mA4qi2OpSD"
      },
      "outputs": [],
      "source": [
        "del df1"
      ]
    },
    {
      "cell_type": "markdown",
      "metadata": {
        "id": "CCX-FrD-Obyi"
      },
      "source": [
        "* Testes de remoções"
      ]
    },
    {
      "cell_type": "code",
      "execution_count": null,
      "metadata": {
        "colab": {
          "background_save": true
        },
        "id": "HHTJRyoUOucY"
      },
      "outputs": [],
      "source": [
        "col1 = ['month','week_year'] "
      ]
    },
    {
      "cell_type": "code",
      "execution_count": null,
      "metadata": {
        "colab": {
          "background_save": true
        },
        "id": "B6DRupOZgClQ",
        "outputId": "464f611e-2340-4002-d88f-49bb8921057e"
      },
      "outputs": [
        {
          "name": "stdout",
          "output_type": "stream",
          "text": [
            "Coluna removida: month\n",
            "Data do inicio do treinamento: 2013-01-03 Data do final do treinamento : 2014-11-19\n",
            "Data do inicio do Validação  : 2014-11-20 Data do final do Validação   : 2015-01-01\n",
            "MAPE:  7.76439\n",
            "RMSLE: 0.00948\n",
            "RMSE:  879.05921\n",
            "Data do inicio do treinamento: 2013-01-03 Data do final do treinamento : 2014-12-31\n",
            "Data do inicio do Validação  : 2015-01-01 Data do final do Validação   : 2015-02-12\n",
            "MAPE:  5.51524\n",
            "RMSLE: 0.00544\n",
            "RMSE:  526.40359\n",
            "Data do inicio do treinamento: 2013-01-03 Data do final do treinamento : 2015-02-11\n",
            "Data do inicio do Validação  : 2015-02-12 Data do final do Validação   : 2015-03-26\n",
            "MAPE:  4.88689\n",
            "RMSLE: 0.00398\n",
            "RMSE:  416.93048\n",
            "Data do inicio do treinamento: 2013-01-03 Data do final do treinamento : 2015-03-25\n",
            "Data do inicio do Validação  : 2015-03-26 Data do final do Validação   : 2015-05-07\n",
            "MAPE:  5.87150\n",
            "RMSLE: 0.00583\n",
            "RMSE:  674.15561\n",
            "Data do inicio do treinamento: 2013-01-03 Data do final do treinamento : 2015-05-06\n",
            "Data do inicio do Validação  : 2015-05-07 Data do final do Validação   : 2015-06-18\n",
            "MAPE:  5.22799\n",
            "RMSLE: 0.00453\n",
            "RMSE:  507.37953\n",
            "Mape Geral:  5.85320 Std: 1.00914 Erro: 0.45130\n",
            "Rmsle Geral: 0.00585 Std: 0.00193 Erro: 0.00086\n",
            "Rmse Geral:  600.78569 Std: 161.78964 Erro: 72.35453\n",
            "\n",
            "\n",
            "Coluna removida: week_year\n",
            "Data do inicio do treinamento: 2013-01-03 Data do final do treinamento : 2014-11-19\n",
            "Data do inicio do Validação  : 2014-11-20 Data do final do Validação   : 2015-01-01\n",
            "MAPE:  7.82866\n",
            "RMSLE: 0.00960\n",
            "RMSE:  889.53630\n",
            "Data do inicio do treinamento: 2013-01-03 Data do final do treinamento : 2014-12-31\n",
            "Data do inicio do Validação  : 2015-01-01 Data do final do Validação   : 2015-02-12\n",
            "MAPE:  5.51855\n",
            "RMSLE: 0.00547\n",
            "RMSE:  530.23228\n",
            "Data do inicio do treinamento: 2013-01-03 Data do final do treinamento : 2015-02-11\n",
            "Data do inicio do Validação  : 2015-02-12 Data do final do Validação   : 2015-03-26\n",
            "MAPE:  4.88695\n",
            "RMSLE: 0.00397\n",
            "RMSE:  416.16704\n",
            "Data do inicio do treinamento: 2013-01-03 Data do final do treinamento : 2015-03-25\n",
            "Data do inicio do Validação  : 2015-03-26 Data do final do Validação   : 2015-05-07\n",
            "MAPE:  5.86271\n",
            "RMSLE: 0.00584\n",
            "RMSE:  674.31964\n",
            "Data do inicio do treinamento: 2013-01-03 Data do final do treinamento : 2015-05-06\n",
            "Data do inicio do Validação  : 2015-05-07 Data do final do Validação   : 2015-06-18\n",
            "MAPE:  5.24371\n",
            "RMSLE: 0.00457\n",
            "RMSE:  507.91016\n",
            "Mape Geral:  5.86812 Std: 1.03136 Erro: 0.46124\n",
            "Rmsle Geral: 0.00589 Std: 0.00197 Erro: 0.00088\n",
            "Rmse Geral:  603.63308 Std: 165.18554 Erro: 73.87322\n",
            "\n",
            "\n"
          ]
        }
      ],
      "source": [
        "for i in range(len(col1)):\n",
        "  X1_c =X1.copy() \n",
        "  print('Coluna removida:',col1[i])\n",
        "  vetor_MAPE1_n_r,vetor_MSLR1_n_r,vetor_RMSE1_n_r = validation(X1_c.drop(columns = col1[i]),Y1_n,'sales','normal',Date)\n",
        "  print('\\n')\n",
        "  del X1_c"
      ]
    },
    {
      "cell_type": "code",
      "execution_count": null,
      "metadata": {
        "colab": {
          "background_save": true
        },
        "id": "yOSKK_Fci2CU"
      },
      "outputs": [],
      "source": [
        "#Mape Geral:  5.85320 Std: 1.00914 Erro: 0.45130\n",
        "#Rmsle Geral: 0.00585 Std: 0.00193 Erro: 0.00086\n",
        "#Rmse Geral:  600.78569 Std: 161.78964 Erro: 72.35453\n",
        "\n",
        "#Mape Geral:  5.86812 Std: 1.03136 Erro: 0.46124\n",
        "#Rmsle Geral: 0.00589 Std: 0.00197 Erro: 0.00088\n",
        "#Rmse Geral:  603.63308 Std: 165.18554 Erro: 73.87322\n",
        "\n",
        "\n",
        "#Mape Geral:  5.85560 Std: 0.98928 Erro: 0.44242\n",
        "#Rmsle Geral: 0.00586 Std: 0.00190 Erro: 0.00085\n",
        "#Rmse Geral:  601.57006 Std: 160.80589 Erro: 71.91458\n"
      ]
    },
    {
      "cell_type": "markdown",
      "metadata": {
        "id": "3LmR8HbWSmmw"
      },
      "source": [
        "### Avaliando os valores:\n",
        " \n",
        "--- \n",
        "---\n",
        " * Mape Geral v0 :  5.85560 Std: 0.98928 Erro: 0.44242\n",
        " * Mape Geral v1 :  5.85320 Std: 1.00914 Erro: 0.45130\n",
        " * Mape Geral v2 :  5.86812 Std: 1.03136 Erro: 0.46124\n",
        "---\n",
        "---\n",
        " * Rmsle Geral v0 : 0.00586 Std: 0.00190 Erro: 0.00085\n",
        " * Rmsle Geral v1 : 0.00585 Std: 0.00193 Erro: 0.00086\n",
        " * Rmsle Geral v2 : 0.00589 Std: 0.00197 Erro: 0.00088\n",
        "---\n",
        "---   \n",
        " * Rmse Geral v0 :  601.57006 Std: 160.80589 Erro: 71.91458\n",
        " * Rmse Geral v1 :  600.78569 Std: 161.78964 Erro: 72.35453\n",
        " * Rmse Geral v2 :  603.63308 Std: 165.18554 Erro: 73.87322\n",
        "---\n",
        "---\n",
        " \n",
        " \n",
        " \n",
        "* Quando a variável month foi excluída do dataset o desempenho do modelo não sofreu praticamente nenhum impacto no seu resultado. Isso mostra que essa informação é irrelevante, por esse motivo ela será excluida. \n",
        " \n",
        " \n",
        " \n",
        " \n",
        " \n",
        " \n"
      ]
    },
    {
      "cell_type": "markdown",
      "metadata": {
        "id": "CgvN5sbYSmow"
      },
      "source": [
        "### Testando as outras variáveis"
      ]
    },
    {
      "cell_type": "code",
      "execution_count": null,
      "metadata": {
        "colab": {
          "background_save": true
        },
        "id": "6qAphKKYLush"
      },
      "outputs": [],
      "source": [
        "X1 = X1.drop(columns = ['month'])"
      ]
    },
    {
      "cell_type": "code",
      "execution_count": null,
      "metadata": {
        "colab": {
          "background_save": true
        },
        "id": "CryJLGGVJZov"
      },
      "outputs": [],
      "source": [
        "col1 = ['competition_open_since_year','competition_time_month'] "
      ]
    },
    {
      "cell_type": "code",
      "execution_count": null,
      "metadata": {
        "id": "cSj3a3M1JcRj"
      },
      "outputs": [],
      "source": [
        "for i in range(len(col1)):\n",
        "  X1_c =X1.copy() \n",
        "  print('Coluna removida:',col1[i])\n",
        "  vetor_MAPE1_n_r,vetor_MSLR1_n_r,vetor_RMSE1_n_r = validation(X1_c.drop(columns = col1[i]),Y1_n,'sales','normal',Date)\n",
        "  print('\\n')\n",
        "  del X1_c"
      ]
    },
    {
      "cell_type": "code",
      "execution_count": null,
      "metadata": {
        "id": "dBcBQLkwv3rr"
      },
      "outputs": [],
      "source": [
        "#Mape Geral:  5.92249 Std: 1.01530 Erro: 0.45406\n",
        "#Rmsle Geral: 0.00598 Std: 0.00195 Erro: 0.00087\n",
        "#Rmse Geral:  607.93114 Std: 163.73713 Erro: 73.22547\n",
        "\n",
        "#Mape Geral:  5.86092 Std: 0.96943 Erro: 0.43354\n",
        "#Rmsle Geral: 0.00583 Std: 0.00187 Erro: 0.00084\n",
        "#Rmse Geral:  600.18430 Std: 159.75639 Erro: 71.44523"
      ]
    },
    {
      "cell_type": "markdown",
      "metadata": {
        "id": "QekaF7535hWs"
      },
      "source": [
        "### Avaliando os valores\n",
        "\n",
        "---\n",
        "---\n",
        "* Mape Geral v0:  5.85320 Std: 1.00914 Erro: 0.45130\n",
        "* Mape Geral v1:  5.92249 Std: 1.01530 Erro: 0.45406\n",
        "* Mape Geral v2:  5.86092 Std: 0.96943 Erro: 0.43354\n",
        "---\n",
        "---\n",
        "* Rmsle Geral v0:  0.00586 Std: 0.00190 Erro: 0.00085\n",
        "* Rmsle Geral v1:  0.00585 Std: 0.00193 Erro: 0.00086\n",
        "* Rmsle Geral v2:  0.00583 Std: 0.00187 Erro: 0.00084\n",
        "---\n",
        "---\n",
        "* Rmse Geral v0: 600.78569 Std: 161.78964 Erro: 72.35453\n",
        "* Rmse Geral v1: 607.93114 Std: 163.73713 Erro: 73.22547\n",
        "* Rmse Geral v2: 600.18430 Std: 159.75639 Erro: 71.44523\n",
        "---\n",
        "---\n",
        "\n",
        "\n",
        "\n",
        "\n",
        "\n"
      ]
    },
    {
      "cell_type": "markdown",
      "metadata": {
        "id": "OF-jbTGxzFes"
      },
      "source": [
        "### Avaliando os valores\n",
        " \n",
        "---\n",
        "---\n",
        "* Mape Geral v0:  5.85320 Std: 1.00914 Erro: 0.45130\n",
        "* Mape Geral v1:  5.92249 Std: 1.01530 Erro: 0.45406\n",
        "* Mape Geral v2:  5.86092 Std: 0.96943 Erro: 0.43354\n",
        "---\n",
        "---\n",
        "* Rmsle Geral v0:  0.00586 Std: 0.00190 Erro: 0.00085\n",
        "* Rmsle Geral v1:  0.00585 Std: 0.00193 Erro: 0.00086\n",
        "* Rmsle Geral v2:  0.00583 Std: 0.00187 Erro: 0.00084\n",
        "---\n",
        "---\n",
        "* Rmse Geral v0: 600.78569 Std: 161.78964 Erro: 72.35453\n",
        "* Rmse Geral v1: 607.93114 Std: 163.73713 Erro: 73.22547\n",
        "* Rmse Geral v2: 600.18430 Std: 159.75639 Erro: 71.44523\n",
        "---\n",
        "---\n",
        " \n",
        " \n",
        " \n",
        " \n",
        " \n",
        " \n",
        "* Quando a variável competition_time_month decorreu de ser \n",
        "excluída do dataset o desempenho do modelo não sofreu praticamente nenhum impacto no seu resultado. Por esse motivo essa variável será excluída.\n",
        " \n"
      ]
    },
    {
      "cell_type": "markdown",
      "metadata": {
        "id": "0gnUltQV9mb6"
      },
      "source": [
        "# Conclusão.\n",
        " \n",
        "* Os resultados mostraram que a melhor maneira encontrada de codificar as variáveis strings foi feita através do label enconder.   \n",
        " \n",
        "* As variáveis mont e competition_time_month apresentaram informações irrelevantes para o modelo. \n",
        " \n",
        "* As transformadas aplicadas nos dados de target não sofreu nenhuma melhora na previsão dos valores. \n",
        " \n",
        " \n"
      ]
    },
    {
      "cell_type": "code",
      "execution_count": null,
      "metadata": {
        "id": "FN8cxQZe-MeR"
      },
      "outputs": [],
      "source": [
        "#df.to_csv('/content/drive/My Drive/dados/time series/dados_novos2.csv')"
      ]
    },
    {
      "cell_type": "code",
      "execution_count": null,
      "metadata": {
        "id": "aukW09ZpBKiy"
      },
      "outputs": [],
      "source": [
        ""
      ]
    },
    {
      "cell_type": "code",
      "execution_count": null,
      "metadata": {
        "id": "K6rf-DamaIjE"
      },
      "outputs": [],
      "source": [
        ""
      ]
    }
  ],
  "metadata": {
    "colab": {
      "collapsed_sections": [],
      "name": "parte 1 Modification dataset.ipynb",
      "provenance": []
    },
    "kernelspec": {
      "display_name": "Python 3",
      "name": "python3"
    },
    "language_info": {
      "name": "python"
    }
  },
  "nbformat": 4,
  "nbformat_minor": 0
}